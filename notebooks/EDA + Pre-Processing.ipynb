{
 "cells": [
  {
   "cell_type": "markdown",
   "id": "c57d84af-e21e-4d12-a95c-731c5290d42e",
   "metadata": {},
   "source": [
    "<div style=\"padding: 15px; border: 1px solid #d4edda; background-color: #d4edda; color: #155724; border-radius: 5px; font-size: 30px;\">\n",
    "\n",
    "  <strong>EDA + Pre-Processing </strong>\n",
    "</div>\n",
    "\n"
   ]
  },
  {
   "cell_type": "markdown",
   "id": "b1da6043-706c-4dcc-b17f-563516272d5e",
   "metadata": {},
   "source": [
    "# **1.** **Imports**"
   ]
  },
  {
   "cell_type": "code",
   "execution_count": 49,
   "id": "1788f5f2-ca05-498f-a7e5-a9e4c8a4c8e7",
   "metadata": {},
   "outputs": [],
   "source": [
    "#!pip install ftfy\n",
    "#!pip install emoji"
   ]
  },
  {
   "cell_type": "code",
   "execution_count": 50,
   "id": "7bb9c2a3-8f48-43c5-aaf0-288f1a209576",
   "metadata": {},
   "outputs": [],
   "source": [
    "#nltk.download('punkt')\n",
    "#nltk.download('punkt_tab')\n",
    "#nltk.download('wordnet')\n",
    "#nltk.download('omw-1.4')\n",
    "#nltk.download('stopwords')\n",
    "#nltk.download('wordnet')\n",
    "from sklearn.model_selection import train_test_split\n",
    "from utils import *\n",
    "import pickle\n"
   ]
  },
  {
   "cell_type": "markdown",
   "id": "3f10e12f",
   "metadata": {},
   "source": [
    "# **2.** **Data**"
   ]
  },
  {
   "cell_type": "code",
   "execution_count": 51,
   "id": "6b957db4-5212-4f8a-a648-e51336494a80",
   "metadata": {},
   "outputs": [],
   "source": [
    "train_df = pd.read_csv('../data/train.csv')\n",
    "test_df = pd.read_csv('../data/test.csv')"
   ]
  },
  {
   "cell_type": "code",
   "execution_count": 52,
   "id": "0b8d3cc7-50d0-4f4f-8d7d-f70145a5413a",
   "metadata": {},
   "outputs": [
    {
     "data": {
      "text/html": [
       "<div>\n",
       "<style scoped>\n",
       "    .dataframe tbody tr th:only-of-type {\n",
       "        vertical-align: middle;\n",
       "    }\n",
       "\n",
       "    .dataframe tbody tr th {\n",
       "        vertical-align: top;\n",
       "    }\n",
       "\n",
       "    .dataframe thead th {\n",
       "        text-align: right;\n",
       "    }\n",
       "</style>\n",
       "<table border=\"1\" class=\"dataframe\">\n",
       "  <thead>\n",
       "    <tr style=\"text-align: right;\">\n",
       "      <th></th>\n",
       "      <th>text</th>\n",
       "      <th>label</th>\n",
       "    </tr>\n",
       "  </thead>\n",
       "  <tbody>\n",
       "    <tr>\n",
       "      <th>0</th>\n",
       "      <td>$BYND - JPMorgan reels in expectations on Beyo...</td>\n",
       "      <td>0</td>\n",
       "    </tr>\n",
       "    <tr>\n",
       "      <th>1</th>\n",
       "      <td>$CCL $RCL - Nomura points to bookings weakness...</td>\n",
       "      <td>0</td>\n",
       "    </tr>\n",
       "    <tr>\n",
       "      <th>2</th>\n",
       "      <td>$CX - Cemex cut at Credit Suisse, J.P. Morgan ...</td>\n",
       "      <td>0</td>\n",
       "    </tr>\n",
       "    <tr>\n",
       "      <th>3</th>\n",
       "      <td>$ESS: BTIG Research cuts to Neutral https://t....</td>\n",
       "      <td>0</td>\n",
       "    </tr>\n",
       "    <tr>\n",
       "      <th>4</th>\n",
       "      <td>$FNKO - Funko slides after Piper Jaffray PT cu...</td>\n",
       "      <td>0</td>\n",
       "    </tr>\n",
       "  </tbody>\n",
       "</table>\n",
       "</div>"
      ],
      "text/plain": [
       "                                                text  label\n",
       "0  $BYND - JPMorgan reels in expectations on Beyo...      0\n",
       "1  $CCL $RCL - Nomura points to bookings weakness...      0\n",
       "2  $CX - Cemex cut at Credit Suisse, J.P. Morgan ...      0\n",
       "3  $ESS: BTIG Research cuts to Neutral https://t....      0\n",
       "4  $FNKO - Funko slides after Piper Jaffray PT cu...      0"
      ]
     },
     "execution_count": 52,
     "metadata": {},
     "output_type": "execute_result"
    }
   ],
   "source": [
    "train_df.head()"
   ]
  },
  {
   "cell_type": "code",
   "execution_count": 53,
   "id": "5b80c908-9035-4eab-bb45-d0e56c22f04d",
   "metadata": {},
   "outputs": [
    {
     "data": {
      "text/plain": [
       "(9543, 2)"
      ]
     },
     "execution_count": 53,
     "metadata": {},
     "output_type": "execute_result"
    }
   ],
   "source": [
    "train_df.shape #9543 rows, 2 columns"
   ]
  },
  {
   "cell_type": "code",
   "execution_count": 54,
   "id": "3d83084a-6c6e-4694-9af8-4637db8baef5",
   "metadata": {},
   "outputs": [
    {
     "data": {
      "text/plain": [
       "text     object\n",
       "label     int64\n",
       "dtype: object"
      ]
     },
     "execution_count": 54,
     "metadata": {},
     "output_type": "execute_result"
    }
   ],
   "source": [
    "train_df.dtypes"
   ]
  },
  {
   "cell_type": "markdown",
   "id": "7df92e42",
   "metadata": {},
   "source": [
    "<span style=\"background-color: lightblue\"> Everything seems ok with the data types </span>"
   ]
  },
  {
   "cell_type": "markdown",
   "id": "3286119c-6877-4e88-8c2c-35268dbb41fa",
   "metadata": {},
   "source": [
    "# **3.** **Exploratory Analysis**"
   ]
  },
  {
   "cell_type": "markdown",
   "id": "a54af83e-8d60-4ecb-8833-f214095a360a",
   "metadata": {},
   "source": [
    "## **3.1** Label (Dependent feature)"
   ]
  },
  {
   "cell_type": "code",
   "execution_count": 55,
   "id": "4791cf84-180c-43eb-b6a4-cec3287c3dc0",
   "metadata": {},
   "outputs": [
    {
     "data": {
      "text/plain": [
       "array([0, 1, 2])"
      ]
     },
     "execution_count": 55,
     "metadata": {},
     "output_type": "execute_result"
    }
   ],
   "source": [
    "train_df['label'].unique()"
   ]
  },
  {
   "cell_type": "markdown",
   "id": "fe10327f",
   "metadata": {},
   "source": [
    "<span style=\"background-color: lightblue\"> We have 3 labels: 0, 1 and 2. They represent a Bearish (0), Bullish (1), or Neutral (2) attitude. </span>\n"
   ]
  },
  {
   "cell_type": "code",
   "execution_count": 56,
   "id": "1e7de2dc-c249-4690-a231-41790ebc2b17",
   "metadata": {},
   "outputs": [
    {
     "data": {
      "text/plain": [
       "count    9543.000000\n",
       "mean        1.496280\n",
       "std         0.743139\n",
       "min         0.000000\n",
       "25%         1.000000\n",
       "50%         2.000000\n",
       "75%         2.000000\n",
       "max         2.000000\n",
       "Name: label, dtype: float64"
      ]
     },
     "execution_count": 56,
     "metadata": {},
     "output_type": "execute_result"
    }
   ],
   "source": [
    "train_df['label'].describe()"
   ]
  },
  {
   "cell_type": "code",
   "execution_count": 57,
   "id": "a3b6aa01-673c-4de3-bf2a-135bd8801908",
   "metadata": {},
   "outputs": [
    {
     "data": {
      "text/plain": [
       "label\n",
       "2    6178\n",
       "1    1923\n",
       "0    1442\n",
       "Name: count, dtype: int64"
      ]
     },
     "execution_count": 57,
     "metadata": {},
     "output_type": "execute_result"
    }
   ],
   "source": [
    "train_df['label'].value_counts()"
   ]
  },
  {
   "cell_type": "code",
   "execution_count": 58,
   "id": "e60047e0-936e-4cfb-99b4-6f7937fbd49d",
   "metadata": {},
   "outputs": [
    {
     "data": {
      "text/plain": [
       "label\n",
       "2    0.647386\n",
       "1    0.201509\n",
       "0    0.151106\n",
       "Name: proportion, dtype: float64"
      ]
     },
     "execution_count": 58,
     "metadata": {},
     "output_type": "execute_result"
    }
   ],
   "source": [
    "train_df['label'].value_counts(normalize=True)"
   ]
  },
  {
   "cell_type": "code",
   "execution_count": 59,
   "id": "cfbc4122-fc30-4f35-924b-8585075c1fb7",
   "metadata": {},
   "outputs": [
    {
     "data": {
      "image/png": "[encoded data removed]",
      "text/plain": [
       "<Figure size 640x480 with 1 Axes>"
      ]
     },
     "metadata": {},
     "output_type": "display_data"
    }
   ],
   "source": [
    "# Visualizing the distribution of the label values\n",
    "sns.countplot(data=train_df, x='label', color='navy')\n",
    "plt.title(\"Distribution of Label Values\", fontsize=14, weight='bold')\n",
    "plt.xlabel(\"Label\", fontsize=12)\n",
    "plt.ylabel(\"Count\", fontsize=12)\n",
    "plt.xticks(fontsize=10)\n",
    "plt.yticks(fontsize=10)\n",
    "plt.tight_layout()\n",
    "plt.show()"
   ]
  },
  {
   "cell_type": "markdown",
   "id": "45825741-84fc-43e2-8e96-15929a5a38d0",
   "metadata": {},
   "source": [
    " <span style=\"background-color: lightblue\"> **Note:** Data Imbalance - Label 2 has almost 6 times more observations than the other 2 labels, it represents around 65% of the dataset. The Neutral attitude is the most predominant. This imbalance could bias the classifier towards predicting the dominant class. <span>"
   ]
  },
  {
   "cell_type": "code",
   "execution_count": 60,
   "id": "f66241af-72bd-4f93-a7c1-6942b7741cbc",
   "metadata": {},
   "outputs": [
    {
     "data": {
      "text/plain": [
       "0"
      ]
     },
     "execution_count": 60,
     "metadata": {},
     "output_type": "execute_result"
    }
   ],
   "source": [
    "train_df['label'].isna().sum() #no missing values"
   ]
  },
  {
   "cell_type": "markdown",
   "id": "0f368e92-c83f-45ad-8cd7-d937f8527415",
   "metadata": {},
   "source": [
    "## **3.2** Text (Independent features)"
   ]
  },
  {
   "cell_type": "markdown",
   "id": "2d76eab5",
   "metadata": {},
   "source": [
    "### **3.2.1** Coherence Check"
   ]
  },
  {
   "cell_type": "code",
   "execution_count": 61,
   "id": "ad4a349c-4139-4a72-9c09-ad46c07200d5",
   "metadata": {},
   "outputs": [
    {
     "data": {
      "text/plain": [
       "'$NCBS: Hovde Group cuts to Market Perform'"
      ]
     },
     "execution_count": 61,
     "metadata": {},
     "output_type": "execute_result"
    }
   ],
   "source": [
    "#Checking a random text\n",
    "train_df['text'][20]"
   ]
  },
  {
   "cell_type": "code",
   "execution_count": 62,
   "id": "afcdb600-77fe-47ca-b24f-a5852168de09",
   "metadata": {},
   "outputs": [
    {
     "data": {
      "text/plain": [
       "0"
      ]
     },
     "execution_count": 62,
     "metadata": {},
     "output_type": "execute_result"
    }
   ],
   "source": [
    "train_df['text'].isna().sum() #no missing values"
   ]
  },
  {
   "cell_type": "code",
   "execution_count": 63,
   "id": "f4c85bdc",
   "metadata": {},
   "outputs": [
    {
     "data": {
      "text/plain": [
       "0"
      ]
     },
     "execution_count": 63,
     "metadata": {},
     "output_type": "execute_result"
    }
   ],
   "source": [
    "train_df['text'].duplicated().sum() #no duplicates"
   ]
  },
  {
   "cell_type": "code",
   "execution_count": 64,
   "id": "cca75ae3",
   "metadata": {},
   "outputs": [
    {
     "data": {
      "text/plain": [
       "array([0, 1, 2])"
      ]
     },
     "execution_count": 64,
     "metadata": {},
     "output_type": "execute_result"
    }
   ],
   "source": [
    "train_df['label'].unique()"
   ]
  },
  {
   "cell_type": "markdown",
   "id": "ce862d30-3ba1-486c-8ebc-bee23d524475",
   "metadata": {},
   "source": [
    "### **3.2.2** Word Count"
   ]
  },
  {
   "cell_type": "code",
   "execution_count": 65,
   "id": "050b7a07-3599-4947-9a11-68fe16f10ad1",
   "metadata": {},
   "outputs": [
    {
     "data": {
      "text/html": [
       "<div>\n",
       "<style scoped>\n",
       "    .dataframe tbody tr th:only-of-type {\n",
       "        vertical-align: middle;\n",
       "    }\n",
       "\n",
       "    .dataframe tbody tr th {\n",
       "        vertical-align: top;\n",
       "    }\n",
       "\n",
       "    .dataframe thead th {\n",
       "        text-align: right;\n",
       "    }\n",
       "</style>\n",
       "<table border=\"1\" class=\"dataframe\">\n",
       "  <thead>\n",
       "    <tr style=\"text-align: right;\">\n",
       "      <th></th>\n",
       "      <th>text</th>\n",
       "      <th>word_count</th>\n",
       "    </tr>\n",
       "  </thead>\n",
       "  <tbody>\n",
       "    <tr>\n",
       "      <th>0</th>\n",
       "      <td>$BYND - JPMorgan reels in expectations on Beyo...</td>\n",
       "      <td>10</td>\n",
       "    </tr>\n",
       "    <tr>\n",
       "      <th>1</th>\n",
       "      <td>$CCL $RCL - Nomura points to bookings weakness...</td>\n",
       "      <td>14</td>\n",
       "    </tr>\n",
       "    <tr>\n",
       "      <th>2</th>\n",
       "      <td>$CX - Cemex cut at Credit Suisse, J.P. Morgan ...</td>\n",
       "      <td>14</td>\n",
       "    </tr>\n",
       "    <tr>\n",
       "      <th>3</th>\n",
       "      <td>$ESS: BTIG Research cuts to Neutral https://t....</td>\n",
       "      <td>7</td>\n",
       "    </tr>\n",
       "    <tr>\n",
       "      <th>4</th>\n",
       "      <td>$FNKO - Funko slides after Piper Jaffray PT cu...</td>\n",
       "      <td>10</td>\n",
       "    </tr>\n",
       "  </tbody>\n",
       "</table>\n",
       "</div>"
      ],
      "text/plain": [
       "                                                text  word_count\n",
       "0  $BYND - JPMorgan reels in expectations on Beyo...          10\n",
       "1  $CCL $RCL - Nomura points to bookings weakness...          14\n",
       "2  $CX - Cemex cut at Credit Suisse, J.P. Morgan ...          14\n",
       "3  $ESS: BTIG Research cuts to Neutral https://t....           7\n",
       "4  $FNKO - Funko slides after Piper Jaffray PT cu...          10"
      ]
     },
     "execution_count": 65,
     "metadata": {},
     "output_type": "execute_result"
    }
   ],
   "source": [
    "train_df['word_count']  = train_df['text'].apply(lambda x: len(str(x).split(\" \")))\n",
    "train_df[['text','word_count']].head()"
   ]
  },
  {
   "cell_type": "markdown",
   "id": "d4e3ee1b-cc5d-4b03-a754-9ea0a12fe167",
   "metadata": {},
   "source": [
    "#### **3.2.2.1** Descriptive Statistics of word count"
   ]
  },
  {
   "cell_type": "code",
   "execution_count": 66,
   "id": "1014a610-b125-43cf-a15f-dbceeac4d8e9",
   "metadata": {},
   "outputs": [
    {
     "data": {
      "text/plain": [
       "count    9543.000000\n",
       "mean       12.168081\n",
       "std         4.651245\n",
       "min         1.000000\n",
       "25%         9.000000\n",
       "50%        11.000000\n",
       "75%        15.000000\n",
       "max        31.000000\n",
       "Name: word_count, dtype: float64"
      ]
     },
     "execution_count": 66,
     "metadata": {},
     "output_type": "execute_result"
    }
   ],
   "source": [
    "train_df.word_count.describe()"
   ]
  },
  {
   "cell_type": "markdown",
   "id": "4240c84a",
   "metadata": {},
   "source": [
    "<span style=\"background-color: lightblue\">  On average, each tweet contains approximately 12 words, with 75% of them having 15 words or fewer. The maximum tweet length is 31 words, which falls within a reasonable range for Twitter data.\n",
    "However, a noteworthy observation is the presence of very short tweets, with some containing as few as 1 word. These outliers may lack sufficient context for reliable sentiment prediction and could introduce noise into the model. It may be worth considering their removal or separate treatment during preprocessing. <span>"
   ]
  },
  {
   "cell_type": "code",
   "execution_count": 67,
   "id": "a9fdc08d-f053-401c-b74e-de3ea64d4896",
   "metadata": {},
   "outputs": [
    {
     "data": {
      "image/png": "[encoded data removed]",
      "text/plain": [
       "<Figure size 640x480 with 1 Axes>"
      ]
     },
     "metadata": {},
     "output_type": "display_data"
    }
   ],
   "source": [
    "#Plot distribution of text length\n",
    "sns.histplot(data=train_df['word_count'], bins=20, color='navy')\n",
    "plt.title(\"Distribution of Text Lengths (raw text)\")\n",
    "plt.xlabel(\"Length of text\")\n",
    "plt.ylabel(\"Frequency\")\n",
    "plt.xticks(fontsize=10)\n",
    "plt.yticks(fontsize=10)\n",
    "plt.tight_layout()\n",
    "plt.show()\n"
   ]
  },
  {
   "cell_type": "code",
   "execution_count": 68,
   "id": "80dfb896-f330-46dd-be8d-f4b4da1c77c1",
   "metadata": {},
   "outputs": [
    {
     "data": {
      "text/plain": [
       "to     2332\n",
       "the    1820\n",
       "of     1464\n",
       "-      1390\n",
       "in     1361\n",
       "on     1136\n",
       "for    1032\n",
       "a       970\n",
       "and     898\n",
       "The     663\n",
       "Name: count, dtype: int64"
      ]
     },
     "execution_count": 68,
     "metadata": {},
     "output_type": "execute_result"
    }
   ],
   "source": [
    "all_words = ' '.join(train_df['text']).split()\n",
    "freq = pd.Series(all_words).value_counts()\n",
    "freq.sort_values(ascending=False)[0:10]"
   ]
  },
  {
   "cell_type": "code",
   "execution_count": 69,
   "id": "25fbfecc-a5f3-49e5-bbc5-ef263d50e5b0",
   "metadata": {},
   "outputs": [
    {
     "data": {
      "image/png": "[encoded data removed]",
      "text/plain": [
       "<Figure size 640x480 with 1 Axes>"
      ]
     },
     "metadata": {},
     "output_type": "display_data"
    }
   ],
   "source": [
    "x_labels = freq.index[0:10]\n",
    "values = freq[:10]\n",
    "plt.bar(x_labels, values, align='center', alpha=0.5, color='navy')\n",
    "plt.xticks(x_labels)\n",
    "plt.ylabel('Frequencies')\n",
    "plt.title('Words')\n",
    "plt.xticks(rotation=0)\n",
    "plt.show()"
   ]
  },
  {
   "cell_type": "code",
   "execution_count": 70,
   "id": "64e2d5ef-b9c1-466d-9d8f-eed923630778",
   "metadata": {},
   "outputs": [
    {
     "data": {
      "image/png": "[encoded data removed]",
      "text/plain": [
       "<Figure size 640x480 with 1 Axes>"
      ]
     },
     "metadata": {},
     "output_type": "display_data"
    }
   ],
   "source": [
    "# Create a word cloud from the raw text\n",
    "raw_text = ' '.join(train_df['text'].fillna('')).lower()\n",
    "raw_wc = WordCloud(width=800, height=400, background_color='white').generate(raw_text)\n",
    "plt.imshow(raw_wc, interpolation='bilinear')\n",
    "plt.axis('off')\n",
    "plt.title('Word Cloud (Raw Text)')\n",
    "plt.show()"
   ]
  },
  {
   "cell_type": "code",
   "execution_count": 71,
   "id": "7895b004",
   "metadata": {},
   "outputs": [
    {
     "data": {
      "application/vnd.plotly.v1+json": {
       "config": {
        "plotlyServerURL": "https://plot.ly"
       },
       "data": [
        {
         "branchvalues": "total",
         "customdata": [
          [
           "Neutral"
          ],
          [
           "Bullish"
          ],
          [
           "Bearish"
          ],
          [
           "Bullish"
          ],
          [
           "Neutral"
          ],
          [
           "Bullish"
          ],
          [
           "Bearish"
          ],
          [
           "Bullish"
          ],
          [
           "Bearish"
          ],
          [
           "Neutral"
          ],
          [
           "Bearish"
          ],
          [
           "Neutral"
          ],
          [
           "Neutral"
          ],
          [
           "Bearish"
          ],
          [
           "Bullish"
          ],
          [
           "Bullish"
          ],
          [
           "Neutral"
          ],
          [
           "Neutral"
          ],
          [
           "Neutral"
          ],
          [
           "Bearish"
          ],
          [
           "Bullish"
          ],
          [
           "Neutral"
          ],
          [
           "Bearish"
          ],
          [
           "Bullish"
          ],
          [
           "Bearish"
          ],
          [
           "Bullish"
          ],
          [
           "Neutral"
          ],
          [
           "Bearish"
          ],
          [
           "Bearish"
          ],
          [
           "Neutral"
          ],
          [
           "Bearish"
          ],
          [
           "Neutral"
          ],
          [
           "Bullish"
          ],
          [
           "Neutral"
          ],
          [
           "Bearish"
          ],
          [
           "Bullish"
          ],
          [
           "Bearish"
          ],
          [
           "Neutral"
          ],
          [
           "Bullish"
          ],
          [
           "Bearish"
          ],
          [
           "Neutral"
          ],
          [
           "Bearish"
          ],
          [
           "Neutral"
          ],
          [
           "Bearish"
          ],
          [
           "Neutral"
          ],
          [
           "Neutral"
          ],
          [
           "Bearish"
          ],
          [
           "Bullish"
          ],
          [
           "Bearish"
          ],
          [
           "Bullish"
          ],
          [
           "Bearish"
          ],
          [
           "Bullish"
          ],
          [
           "Bullish"
          ],
          [
           "Bearish"
          ],
          [
           "Neutral"
          ],
          [
           "Bullish"
          ],
          [
           "Bearish"
          ],
          [
           "Neutral"
          ],
          [
           "Neutral"
          ],
          [
           "Bullish"
          ],
          [
           "Bullish"
          ],
          [
           "Neutral"
          ],
          [
           "Bearish"
          ],
          [
           "Bullish"
          ],
          [
           "Bearish"
          ],
          [
           "Bullish"
          ],
          [
           "Bullish"
          ],
          [
           "Neutral"
          ],
          [
           "Bullish"
          ],
          [
           "Bearish"
          ],
          [
           "Neutral"
          ],
          [
           "Bullish"
          ],
          [
           "Bearish"
          ],
          [
           "Bullish"
          ],
          [
           "Neutral"
          ],
          [
           "Bearish"
          ],
          [
           "Bullish"
          ],
          [
           "Neutral"
          ]
         ],
         "domain": {
          "x": [
           0,
           1
          ],
          "y": [
           0,
           1
          ]
         },
         "hovertemplate": "labels=%{label}<br>freq=%{value}<br>parent=%{parent}<br>id=%{id}<br>label_name=%{customdata[0]}<extra></extra>",
         "ids": [
          "Neutral/#stock",
          "Bullish/by",
          "Bearish/by",
          "Bullish/beats",
          "Neutral/at",
          "Bullish/at",
          "Bearish/at",
          "Bullish/as",
          "Bearish/as",
          "Neutral/are",
          "Bearish/are",
          "Neutral/and",
          "Neutral/as",
          "Bearish/and",
          "Bullish/and",
          "Bullish/-",
          "Neutral/-",
          "Neutral/2019",
          "Neutral/:",
          "Bearish/-",
          "Bullish/a",
          "Neutral/a",
          "Bearish/after",
          "Bullish/after",
          "Bearish/a",
          "Bullish/is",
          "Neutral/is",
          "Bearish/market",
          "Bearish/misses",
          "Neutral/more",
          "Bearish/of",
          "Neutral/new",
          "Bullish/of",
          "Neutral/of",
          "Bearish/oil",
          "Bullish/new",
          "Bearish/is",
          "Neutral/in",
          "Bullish/in",
          "Bearish/coronavirus",
          "Neutral/dividend",
          "Bearish/down",
          "Neutral/earnings",
          "Bearish/for",
          "Neutral/by",
          "Neutral/for",
          "Bearish/from",
          "Bullish/from",
          "Bearish/in",
          "Bullish/for",
          "Bearish/the",
          "Bullish/up",
          "Bullish/u.s.",
          "Bearish/u.s.",
          "Neutral/to",
          "Bullish/to",
          "Bearish/to",
          "Neutral/this",
          "Neutral/the",
          "Bullish/the",
          "Bullish/target",
          "Neutral/results",
          "Bearish/stock",
          "Bullish/shares",
          "Bearish/shares",
          "Bullish/revenue",
          "Bullish/with",
          "Neutral/reports",
          "Bullish/price",
          "Bearish/price",
          "Neutral/on",
          "Bullish/on",
          "Bearish/on",
          "Bullish/stock",
          "Neutral/with",
          "Bearish",
          "Bullish",
          "Neutral"
         ],
         "labels": [
          "#stock",
          "by",
          "by",
          "beats",
          "at",
          "at",
          "at",
          "as",
          "as",
          "are",
          "are",
          "and",
          "as",
          "and",
          "and",
          "-",
          "-",
          "2019",
          ":",
          "-",
          "a",
          "a",
          "after",
          "after",
          "a",
          "is",
          "is",
          "market",
          "misses",
          "more",
          "of",
          "new",
          "of",
          "of",
          "oil",
          "new",
          "is",
          "in",
          "in",
          "coronavirus",
          "dividend",
          "down",
          "earnings",
          "for",
          "by",
          "for",
          "from",
          "from",
          "in",
          "for",
          "the",
          "up",
          "u.s.",
          "u.s.",
          "to",
          "to",
          "to",
          "this",
          "the",
          "the",
          "target",
          "results",
          "stock",
          "shares",
          "shares",
          "revenue",
          "with",
          "reports",
          "price",
          "price",
          "on",
          "on",
          "on",
          "stock",
          "with",
          "Bearish",
          "Bullish",
          "Neutral"
         ],
         "marker": {
          "colors": [
           "rgb(141,211,199)",
           "rgb(255,255,179)",
           "rgb(190,186,218)",
           "rgb(255,255,179)",
           "rgb(141,211,199)",
           "rgb(255,255,179)",
           "rgb(190,186,218)",
           "rgb(255,255,179)",
           "rgb(190,186,218)",
           "rgb(141,211,199)",
           "rgb(190,186,218)",
           "rgb(141,211,199)",
           "rgb(141,211,199)",
           "rgb(190,186,218)",
           "rgb(255,255,179)",
           "rgb(255,255,179)",
           "rgb(141,211,199)",
           "rgb(141,211,199)",
           "rgb(141,211,199)",
           "rgb(190,186,218)",
           "rgb(255,255,179)",
           "rgb(141,211,199)",
           "rgb(190,186,218)",
           "rgb(255,255,179)",
           "rgb(190,186,218)",
           "rgb(255,255,179)",
           "rgb(141,211,199)",
           "rgb(190,186,218)",
           "rgb(190,186,218)",
           "rgb(141,211,199)",
           "rgb(190,186,218)",
           "rgb(141,211,199)",
           "rgb(255,255,179)",
           "rgb(141,211,199)",
           "rgb(190,186,218)",
           "rgb(255,255,179)",
           "rgb(190,186,218)",
           "rgb(141,211,199)",
           "rgb(255,255,179)",
           "rgb(190,186,218)",
           "rgb(141,211,199)",
           "rgb(190,186,218)",
           "rgb(141,211,199)",
           "rgb(190,186,218)",
           "rgb(141,211,199)",
           "rgb(141,211,199)",
           "rgb(190,186,218)",
           "rgb(255,255,179)",
           "rgb(190,186,218)",
           "rgb(255,255,179)",
           "rgb(190,186,218)",
           "rgb(255,255,179)",
           "rgb(255,255,179)",
           "rgb(190,186,218)",
           "rgb(141,211,199)",
           "rgb(255,255,179)",
           "rgb(190,186,218)",
           "rgb(141,211,199)",
           "rgb(141,211,199)",
           "rgb(255,255,179)",
           "rgb(255,255,179)",
           "rgb(141,211,199)",
           "rgb(190,186,218)",
           "rgb(255,255,179)",
           "rgb(190,186,218)",
           "rgb(255,255,179)",
           "rgb(255,255,179)",
           "rgb(141,211,199)",
           "rgb(255,255,179)",
           "rgb(190,186,218)",
           "rgb(141,211,199)",
           "rgb(255,255,179)",
           "rgb(190,186,218)",
           "rgb(255,255,179)",
           "rgb(141,211,199)",
           "rgb(190,186,218)",
           "rgb(255,255,179)",
           "rgb(141,211,199)"
          ]
         },
         "name": "",
         "parents": [
          "Neutral",
          "Bullish",
          "Bearish",
          "Bullish",
          "Neutral",
          "Bullish",
          "Bearish",
          "Bullish",
          "Bearish",
          "Neutral",
          "Bearish",
          "Neutral",
          "Neutral",
          "Bearish",
          "Bullish",
          "Bullish",
          "Neutral",
          "Neutral",
          "Neutral",
          "Bearish",
          "Bullish",
          "Neutral",
          "Bearish",
          "Bullish",
          "Bearish",
          "Bullish",
          "Neutral",
          "Bearish",
          "Bearish",
          "Neutral",
          "Bearish",
          "Neutral",
          "Bullish",
          "Neutral",
          "Bearish",
          "Bullish",
          "Bearish",
          "Neutral",
          "Bullish",
          "Bearish",
          "Neutral",
          "Bearish",
          "Neutral",
          "Bearish",
          "Neutral",
          "Neutral",
          "Bearish",
          "Bullish",
          "Bearish",
          "Bullish",
          "Bearish",
          "Bullish",
          "Bullish",
          "Bearish",
          "Neutral",
          "Bullish",
          "Bearish",
          "Neutral",
          "Neutral",
          "Bullish",
          "Bullish",
          "Neutral",
          "Bearish",
          "Bullish",
          "Bearish",
          "Bullish",
          "Bullish",
          "Neutral",
          "Bullish",
          "Bearish",
          "Neutral",
          "Bullish",
          "Bearish",
          "Bullish",
          "Neutral",
          "",
          "",
          ""
         ],
         "type": "treemap",
         "values": [
          283,
          125,
          93,
          161,
          294,
          208,
          140,
          170,
          174,
          246,
          92,
          740,
          261,
          121,
          150,
          317,
          863,
          225,
          343,
          210,
          222,
          923,
          171,
          165,
          166,
          105,
          655,
          63,
          85,
          233,
          232,
          282,
          189,
          1239,
          67,
          95,
          102,
          1017,
          298,
          72,
          224,
          127,
          239,
          130,
          235,
          872,
          102,
          126,
          263,
          209,
          316,
          255,
          106,
          79,
          1759,
          488,
          378,
          244,
          1836,
          344,
          116,
          307,
          130,
          110,
          61,
          102,
          92,
          222,
          132,
          63,
          747,
          386,
          222,
          231,
          363,
          3659,
          4902,
          14652
         ]
        }
       ],
       "layout": {
        "legend": {
         "tracegroupgap": 0
        },
        "margin": {
         "t": 60
        },
        "template": {
         "data": {
          "bar": [
           {
            "error_x": {
             "color": "#2a3f5f"
            },
            "error_y": {
             "color": "#2a3f5f"
            },
            "marker": {
             "line": {
              "color": "#E5ECF6",
              "width": 0.5
             },
             "pattern": {
              "fillmode": "overlay",
              "size": 10,
              "solidity": 0.2
             }
            },
            "type": "bar"
           }
          ],
          "barpolar": [
           {
            "marker": {
             "line": {
              "color": "#E5ECF6",
              "width": 0.5
             },
             "pattern": {
              "fillmode": "overlay",
              "size": 10,
              "solidity": 0.2
             }
            },
            "type": "barpolar"
           }
          ],
          "carpet": [
           {
            "aaxis": {
             "endlinecolor": "#2a3f5f",
             "gridcolor": "white",
             "linecolor": "white",
             "minorgridcolor": "white",
             "startlinecolor": "#2a3f5f"
            },
            "baxis": {
             "endlinecolor": "#2a3f5f",
             "gridcolor": "white",
             "linecolor": "white",
             "minorgridcolor": "white",
             "startlinecolor": "#2a3f5f"
            },
            "type": "carpet"
           }
          ],
          "choropleth": [
           {
            "colorbar": {
             "outlinewidth": 0,
             "ticks": ""
            },
            "type": "choropleth"
           }
          ],
          "contour": [
           {
            "colorbar": {
             "outlinewidth": 0,
             "ticks": ""
            },
            "colorscale": [
             [
              0,
              "#0d0887"
             ],
             [
              0.1111111111111111,
              "#46039f"
             ],
             [
              0.2222222222222222,
              "#7201a8"
             ],
             [
              0.3333333333333333,
              "#9c179e"
             ],
             [
              0.4444444444444444,
              "#bd3786"
             ],
             [
              0.5555555555555556,
              "#d8576b"
             ],
             [
              0.6666666666666666,
              "#ed7953"
             ],
             [
              0.7777777777777778,
              "#fb9f3a"
             ],
             [
              0.8888888888888888,
              "#fdca26"
             ],
             [
              1,
              "#f0f921"
             ]
            ],
            "type": "contour"
           }
          ],
          "contourcarpet": [
           {
            "colorbar": {
             "outlinewidth": 0,
             "ticks": ""
            },
            "type": "contourcarpet"
           }
          ],
          "heatmap": [
           {
            "colorbar": {
             "outlinewidth": 0,
             "ticks": ""
            },
            "colorscale": [
             [
              0,
              "#0d0887"
             ],
             [
              0.1111111111111111,
              "#46039f"
             ],
             [
              0.2222222222222222,
              "#7201a8"
             ],
             [
              0.3333333333333333,
              "#9c179e"
             ],
             [
              0.4444444444444444,
              "#bd3786"
             ],
             [
              0.5555555555555556,
              "#d8576b"
             ],
             [
              0.6666666666666666,
              "#ed7953"
             ],
             [
              0.7777777777777778,
              "#fb9f3a"
             ],
             [
              0.8888888888888888,
              "#fdca26"
             ],
             [
              1,
              "#f0f921"
             ]
            ],
            "type": "heatmap"
           }
          ],
          "heatmapgl": [
           {
            "colorbar": {
             "outlinewidth": 0,
             "ticks": ""
            },
            "colorscale": [
             [
              0,
              "#0d0887"
             ],
             [
              0.1111111111111111,
              "#46039f"
             ],
             [
              0.2222222222222222,
              "#7201a8"
             ],
             [
              0.3333333333333333,
              "#9c179e"
             ],
             [
              0.4444444444444444,
              "#bd3786"
             ],
             [
              0.5555555555555556,
              "#d8576b"
             ],
             [
              0.6666666666666666,
              "#ed7953"
             ],
             [
              0.7777777777777778,
              "#fb9f3a"
             ],
             [
              0.8888888888888888,
              "#fdca26"
             ],
             [
              1,
              "#f0f921"
             ]
            ],
            "type": "heatmapgl"
           }
          ],
          "histogram": [
           {
            "marker": {
             "pattern": {
              "fillmode": "overlay",
              "size": 10,
              "solidity": 0.2
             }
            },
            "type": "histogram"
           }
          ],
          "histogram2d": [
           {
            "colorbar": {
             "outlinewidth": 0,
             "ticks": ""
            },
            "colorscale": [
             [
              0,
              "#0d0887"
             ],
             [
              0.1111111111111111,
              "#46039f"
             ],
             [
              0.2222222222222222,
              "#7201a8"
             ],
             [
              0.3333333333333333,
              "#9c179e"
             ],
             [
              0.4444444444444444,
              "#bd3786"
             ],
             [
              0.5555555555555556,
              "#d8576b"
             ],
             [
              0.6666666666666666,
              "#ed7953"
             ],
             [
              0.7777777777777778,
              "#fb9f3a"
             ],
             [
              0.8888888888888888,
              "#fdca26"
             ],
             [
              1,
              "#f0f921"
             ]
            ],
            "type": "histogram2d"
           }
          ],
          "histogram2dcontour": [
           {
            "colorbar": {
             "outlinewidth": 0,
             "ticks": ""
            },
            "colorscale": [
             [
              0,
              "#0d0887"
             ],
             [
              0.1111111111111111,
              "#46039f"
             ],
             [
              0.2222222222222222,
              "#7201a8"
             ],
             [
              0.3333333333333333,
              "#9c179e"
             ],
             [
              0.4444444444444444,
              "#bd3786"
             ],
             [
              0.5555555555555556,
              "#d8576b"
             ],
             [
              0.6666666666666666,
              "#ed7953"
             ],
             [
              0.7777777777777778,
              "#fb9f3a"
             ],
             [
              0.8888888888888888,
              "#fdca26"
             ],
             [
              1,
              "#f0f921"
             ]
            ],
            "type": "histogram2dcontour"
           }
          ],
          "mesh3d": [
           {
            "colorbar": {
             "outlinewidth": 0,
             "ticks": ""
            },
            "type": "mesh3d"
           }
          ],
          "parcoords": [
           {
            "line": {
             "colorbar": {
              "outlinewidth": 0,
              "ticks": ""
             }
            },
            "type": "parcoords"
           }
          ],
          "pie": [
           {
            "automargin": true,
            "type": "pie"
           }
          ],
          "scatter": [
           {
            "fillpattern": {
             "fillmode": "overlay",
             "size": 10,
             "solidity": 0.2
            },
            "type": "scatter"
           }
          ],
          "scatter3d": [
           {
            "line": {
             "colorbar": {
              "outlinewidth": 0,
              "ticks": ""
             }
            },
            "marker": {
             "colorbar": {
              "outlinewidth": 0,
              "ticks": ""
             }
            },
            "type": "scatter3d"
           }
          ],
          "scattercarpet": [
           {
            "marker": {
             "colorbar": {
              "outlinewidth": 0,
              "ticks": ""
             }
            },
            "type": "scattercarpet"
           }
          ],
          "scattergeo": [
           {
            "marker": {
             "colorbar": {
              "outlinewidth": 0,
              "ticks": ""
             }
            },
            "type": "scattergeo"
           }
          ],
          "scattergl": [
           {
            "marker": {
             "colorbar": {
              "outlinewidth": 0,
              "ticks": ""
             }
            },
            "type": "scattergl"
           }
          ],
          "scattermapbox": [
           {
            "marker": {
             "colorbar": {
              "outlinewidth": 0,
              "ticks": ""
             }
            },
            "type": "scattermapbox"
           }
          ],
          "scatterpolar": [
           {
            "marker": {
             "colorbar": {
              "outlinewidth": 0,
              "ticks": ""
             }
            },
            "type": "scatterpolar"
           }
          ],
          "scatterpolargl": [
           {
            "marker": {
             "colorbar": {
              "outlinewidth": 0,
              "ticks": ""
             }
            },
            "type": "scatterpolargl"
           }
          ],
          "scatterternary": [
           {
            "marker": {
             "colorbar": {
              "outlinewidth": 0,
              "ticks": ""
             }
            },
            "type": "scatterternary"
           }
          ],
          "surface": [
           {
            "colorbar": {
             "outlinewidth": 0,
             "ticks": ""
            },
            "colorscale": [
             [
              0,
              "#0d0887"
             ],
             [
              0.1111111111111111,
              "#46039f"
             ],
             [
              0.2222222222222222,
              "#7201a8"
             ],
             [
              0.3333333333333333,
              "#9c179e"
             ],
             [
              0.4444444444444444,
              "#bd3786"
             ],
             [
              0.5555555555555556,
              "#d8576b"
             ],
             [
              0.6666666666666666,
              "#ed7953"
             ],
             [
              0.7777777777777778,
              "#fb9f3a"
             ],
             [
              0.8888888888888888,
              "#fdca26"
             ],
             [
              1,
              "#f0f921"
             ]
            ],
            "type": "surface"
           }
          ],
          "table": [
           {
            "cells": {
             "fill": {
              "color": "#EBF0F8"
             },
             "line": {
              "color": "white"
             }
            },
            "header": {
             "fill": {
              "color": "#C8D4E3"
             },
             "line": {
              "color": "white"
             }
            },
            "type": "table"
           }
          ]
         },
         "layout": {
          "annotationdefaults": {
           "arrowcolor": "#2a3f5f",
           "arrowhead": 0,
           "arrowwidth": 1
          },
          "autotypenumbers": "strict",
          "coloraxis": {
           "colorbar": {
            "outlinewidth": 0,
            "ticks": ""
           }
          },
          "colorscale": {
           "diverging": [
            [
             0,
             "#8e0152"
            ],
            [
             0.1,
             "#c51b7d"
            ],
            [
             0.2,
             "#de77ae"
            ],
            [
             0.3,
             "#f1b6da"
            ],
            [
             0.4,
             "#fde0ef"
            ],
            [
             0.5,
             "#f7f7f7"
            ],
            [
             0.6,
             "#e6f5d0"
            ],
            [
             0.7,
             "#b8e186"
            ],
            [
             0.8,
             "#7fbc41"
            ],
            [
             0.9,
             "#4d9221"
            ],
            [
             1,
             "#276419"
            ]
           ],
           "sequential": [
            [
             0,
             "#0d0887"
            ],
            [
             0.1111111111111111,
             "#46039f"
            ],
            [
             0.2222222222222222,
             "#7201a8"
            ],
            [
             0.3333333333333333,
             "#9c179e"
            ],
            [
             0.4444444444444444,
             "#bd3786"
            ],
            [
             0.5555555555555556,
             "#d8576b"
            ],
            [
             0.6666666666666666,
             "#ed7953"
            ],
            [
             0.7777777777777778,
             "#fb9f3a"
            ],
            [
             0.8888888888888888,
             "#fdca26"
            ],
            [
             1,
             "#f0f921"
            ]
           ],
           "sequentialminus": [
            [
             0,
             "#0d0887"
            ],
            [
             0.1111111111111111,
             "#46039f"
            ],
            [
             0.2222222222222222,
             "#7201a8"
            ],
            [
             0.3333333333333333,
             "#9c179e"
            ],
            [
             0.4444444444444444,
             "#bd3786"
            ],
            [
             0.5555555555555556,
             "#d8576b"
            ],
            [
             0.6666666666666666,
             "#ed7953"
            ],
            [
             0.7777777777777778,
             "#fb9f3a"
            ],
            [
             0.8888888888888888,
             "#fdca26"
            ],
            [
             1,
             "#f0f921"
            ]
           ]
          },
          "colorway": [
           "#636efa",
           "#EF553B",
           "#00cc96",
           "#ab63fa",
           "#FFA15A",
           "#19d3f3",
           "#FF6692",
           "#B6E880",
           "#FF97FF",
           "#FECB52"
          ],
          "font": {
           "color": "#2a3f5f"
          },
          "geo": {
           "bgcolor": "white",
           "lakecolor": "white",
           "landcolor": "#E5ECF6",
           "showlakes": true,
           "showland": true,
           "subunitcolor": "white"
          },
          "hoverlabel": {
           "align": "left"
          },
          "hovermode": "closest",
          "mapbox": {
           "style": "light"
          },
          "paper_bgcolor": "white",
          "plot_bgcolor": "#E5ECF6",
          "polar": {
           "angularaxis": {
            "gridcolor": "white",
            "linecolor": "white",
            "ticks": ""
           },
           "bgcolor": "#E5ECF6",
           "radialaxis": {
            "gridcolor": "white",
            "linecolor": "white",
            "ticks": ""
           }
          },
          "scene": {
           "xaxis": {
            "backgroundcolor": "#E5ECF6",
            "gridcolor": "white",
            "gridwidth": 2,
            "linecolor": "white",
            "showbackground": true,
            "ticks": "",
            "zerolinecolor": "white"
           },
           "yaxis": {
            "backgroundcolor": "#E5ECF6",
            "gridcolor": "white",
            "gridwidth": 2,
            "linecolor": "white",
            "showbackground": true,
            "ticks": "",
            "zerolinecolor": "white"
           },
           "zaxis": {
            "backgroundcolor": "#E5ECF6",
            "gridcolor": "white",
            "gridwidth": 2,
            "linecolor": "white",
            "showbackground": true,
            "ticks": "",
            "zerolinecolor": "white"
           }
          },
          "shapedefaults": {
           "line": {
            "color": "#2a3f5f"
           }
          },
          "ternary": {
           "aaxis": {
            "gridcolor": "white",
            "linecolor": "white",
            "ticks": ""
           },
           "baxis": {
            "gridcolor": "white",
            "linecolor": "white",
            "ticks": ""
           },
           "bgcolor": "#E5ECF6",
           "caxis": {
            "gridcolor": "white",
            "linecolor": "white",
            "ticks": ""
           }
          },
          "title": {
           "x": 0.05
          },
          "xaxis": {
           "automargin": true,
           "gridcolor": "white",
           "linecolor": "white",
           "ticks": "",
           "title": {
            "standoff": 15
           },
           "zerolinecolor": "white",
           "zerolinewidth": 2
          },
          "yaxis": {
           "automargin": true,
           "gridcolor": "white",
           "linecolor": "white",
           "ticks": "",
           "title": {
            "standoff": 15
           },
           "zerolinecolor": "white",
           "zerolinewidth": 2
          }
         }
        },
        "title": {
         "text": "Treemap of Frequent Words per Label"
        },
        "treemapcolorway": [
         "rgb(141,211,199)",
         "rgb(255,255,179)",
         "rgb(190,186,218)",
         "rgb(251,128,114)",
         "rgb(128,177,211)",
         "rgb(253,180,98)",
         "rgb(179,222,105)",
         "rgb(252,205,229)",
         "rgb(217,217,217)",
         "rgb(188,128,189)",
         "rgb(204,235,197)",
         "rgb(255,237,111)"
        ]
       }
      }
     },
     "metadata": {},
     "output_type": "display_data"
    }
   ],
   "source": [
    "# Calculating the top words by class\n",
    "word_freq = get_top_words_by_class(train_df, 'label', 'text', top_criteria=25)\n",
    "label_map = {0: 'Bearish', 1: 'Bullish', 2: 'Neutral'}\n",
    "word_freq['label_name'] = word_freq['label'].map(label_map)\n",
    "\n",
    "fig = px.treemap(word_freq, path=['label_name', 'word'], values='freq',\n",
    "                 color='label_name', color_discrete_sequence=px.colors.qualitative.Set3)\n",
    "fig.update_layout(title='Treemap of Frequent Words per Label')\n",
    "fig.show()"
   ]
  },
  {
   "cell_type": "markdown",
   "id": "392ba70b",
   "metadata": {},
   "source": [
    "<span style=\"background-color: lightblue\"> We cannot draw insights that are useful since the text is still full of stop words. We will repeat this analysis later on. <span>"
   ]
  },
  {
   "cell_type": "markdown",
   "id": "aecc6568-d0ff-48d5-bfd3-a39a5343598f",
   "metadata": {},
   "source": [
    "### **3.2.3** Encoding Problems Check"
   ]
  },
  {
   "cell_type": "code",
   "execution_count": 72,
   "id": "050a5706-1b93-4129-a7c3-3963080b78bc",
   "metadata": {},
   "outputs": [
    {
     "data": {
      "text/html": [
       "<div>\n",
       "<style scoped>\n",
       "    .dataframe tbody tr th:only-of-type {\n",
       "        vertical-align: middle;\n",
       "    }\n",
       "\n",
       "    .dataframe tbody tr th {\n",
       "        vertical-align: top;\n",
       "    }\n",
       "\n",
       "    .dataframe thead th {\n",
       "        text-align: right;\n",
       "    }\n",
       "</style>\n",
       "<table border=\"1\" class=\"dataframe\">\n",
       "  <thead>\n",
       "    <tr style=\"text-align: right;\">\n",
       "      <th></th>\n",
       "      <th>text</th>\n",
       "      <th>label</th>\n",
       "      <th>word_count</th>\n",
       "    </tr>\n",
       "  </thead>\n",
       "  <tbody>\n",
       "    <tr>\n",
       "      <th>715</th>\n",
       "      <td>The stricken Bank of Jinzhou will unload $21 b...</td>\n",
       "      <td>2</td>\n",
       "      <td>23</td>\n",
       "    </tr>\n",
       "    <tr>\n",
       "      <th>2385</th>\n",
       "      <td>ItaÃƒÂº Unibanco S A : Payment of Dividends an...</td>\n",
       "      <td>2</td>\n",
       "      <td>17</td>\n",
       "    </tr>\n",
       "    <tr>\n",
       "      <th>2560</th>\n",
       "      <td>$MGDDF - Compagnie GÃƒÂ©nÃƒÂ©rale des Ãƒâ€°tab...</td>\n",
       "      <td>2</td>\n",
       "      <td>11</td>\n",
       "    </tr>\n",
       "    <tr>\n",
       "      <th>3879</th>\n",
       "      <td>�� Here's why one great whale offers more in t...</td>\n",
       "      <td>2</td>\n",
       "      <td>19</td>\n",
       "    </tr>\n",
       "    <tr>\n",
       "      <th>3880</th>\n",
       "      <td>�� Here's why Trump Tower is now one of the le...</td>\n",
       "      <td>2</td>\n",
       "      <td>16</td>\n",
       "    </tr>\n",
       "    <tr>\n",
       "      <th>5153</th>\n",
       "      <td>The £3bn hole in the Tory manifesto https://t....</td>\n",
       "      <td>2</td>\n",
       "      <td>8</td>\n",
       "    </tr>\n",
       "    <tr>\n",
       "      <th>5270</th>\n",
       "      <td>'There is more to Europe than the EU.' On #Bre...</td>\n",
       "      <td>2</td>\n",
       "      <td>20</td>\n",
       "    </tr>\n",
       "    <tr>\n",
       "      <th>5271</th>\n",
       "      <td>'There is more to Europe than the EU.' On #Bre...</td>\n",
       "      <td>2</td>\n",
       "      <td>20</td>\n",
       "    </tr>\n",
       "    <tr>\n",
       "      <th>5526</th>\n",
       "      <td>��Yes! We have no bananas.🎶 Watch the full vid...</td>\n",
       "      <td>2</td>\n",
       "      <td>19</td>\n",
       "    </tr>\n",
       "    <tr>\n",
       "      <th>5544</th>\n",
       "      <td>��🌍🌏Wind speeds are up globally. That's good n...</td>\n",
       "      <td>2</td>\n",
       "      <td>12</td>\n",
       "    </tr>\n",
       "    <tr>\n",
       "      <th>5695</th>\n",
       "      <td>JABÃ‚Â Adds Goldman Sachs to Lead Banks on Cof...</td>\n",
       "      <td>2</td>\n",
       "      <td>10</td>\n",
       "    </tr>\n",
       "    <tr>\n",
       "      <th>5741</th>\n",
       "      <td>Credit Suisse faces £68m lawsuit from banker a...</td>\n",
       "      <td>0</td>\n",
       "      <td>11</td>\n",
       "    </tr>\n",
       "    <tr>\n",
       "      <th>5785</th>\n",
       "      <td>UK Regulator Names, Shames And Imposes £1.9m F...</td>\n",
       "      <td>0</td>\n",
       "      <td>15</td>\n",
       "    </tr>\n",
       "    <tr>\n",
       "      <th>6202</th>\n",
       "      <td>Dubai's Jobs Vanish at the Fastest Pace in a D...</td>\n",
       "      <td>0</td>\n",
       "      <td>10</td>\n",
       "    </tr>\n",
       "    <tr>\n",
       "      <th>7461</th>\n",
       "      <td>What is driving Sinn FÃƒÂ©in's electoral surge...</td>\n",
       "      <td>2</td>\n",
       "      <td>10</td>\n",
       "    </tr>\n",
       "    <tr>\n",
       "      <th>7469</th>\n",
       "      <td>��🇰 Hong Kong’s pro-democracy candidates won a...</td>\n",
       "      <td>2</td>\n",
       "      <td>18</td>\n",
       "    </tr>\n",
       "    <tr>\n",
       "      <th>9436</th>\n",
       "      <td>Tesla stock rises on Shanghai factory optimism...</td>\n",
       "      <td>1</td>\n",
       "      <td>14</td>\n",
       "    </tr>\n",
       "  </tbody>\n",
       "</table>\n",
       "</div>"
      ],
      "text/plain": [
       "                                                   text  label  word_count\n",
       "715   The stricken Bank of Jinzhou will unload $21 b...      2          23\n",
       "2385  ItaÃƒÂº Unibanco S A : Payment of Dividends an...      2          17\n",
       "2560  $MGDDF - Compagnie GÃƒÂ©nÃƒÂ©rale des Ãƒâ€°tab...      2          11\n",
       "3879  �� Here's why one great whale offers more in t...      2          19\n",
       "3880  �� Here's why Trump Tower is now one of the le...      2          16\n",
       "5153  The £3bn hole in the Tory manifesto https://t....      2           8\n",
       "5270  'There is more to Europe than the EU.' On #Bre...      2          20\n",
       "5271  'There is more to Europe than the EU.' On #Bre...      2          20\n",
       "5526  ��Yes! We have no bananas.🎶 Watch the full vid...      2          19\n",
       "5544  ��🌍🌏Wind speeds are up globally. That's good n...      2          12\n",
       "5695  JABÃ‚Â Adds Goldman Sachs to Lead Banks on Cof...      2          10\n",
       "5741  Credit Suisse faces £68m lawsuit from banker a...      0          11\n",
       "5785  UK Regulator Names, Shames And Imposes £1.9m F...      0          15\n",
       "6202  Dubai's Jobs Vanish at the Fastest Pace in a D...      0          10\n",
       "7461  What is driving Sinn FÃƒÂ©in's electoral surge...      2          10\n",
       "7469  ��🇰 Hong Kong’s pro-democracy candidates won a...      2          18\n",
       "9436  Tesla stock rises on Shanghai factory optimism...      1          14"
      ]
     },
     "execution_count": 72,
     "metadata": {},
     "output_type": "execute_result"
    }
   ],
   "source": [
    "#checking the existence of encoding problems\n",
    "encoding_issues = train_df.apply(lambda row: row.astype(str).str.contains(r'[�Ã©Ã£ÃªÃ¢Ã¡Ã³Ã§]').any(), axis=1)\n",
    "train_df[encoding_issues]"
   ]
  },
  {
   "cell_type": "markdown",
   "id": "78580a98-9f8a-4c72-9d1c-e9536a8650b1",
   "metadata": {},
   "source": [
    "**Preprocessing step:** We need to handle encoding problems"
   ]
  },
  {
   "cell_type": "code",
   "execution_count": 73,
   "id": "bac4aaa8-cdcf-4de7-ba8e-c6b321bced7a",
   "metadata": {},
   "outputs": [
    {
     "name": "stdout",
     "output_type": "stream",
     "text": [
      "                                                   text  label  word_count\n",
      "451   eib: #MustRead➡️EIB Bank Lending #Survey for #...      2          16\n",
      "1388  Costco is selling special avocados that stay r...      2          20\n",
      "3812  ⚡️ Wind speeds are up globally. That's good ne...      1          13\n",
      "3972  ☀️ Cranberry farmers turn to solar power for e...      2          11\n",
      "3973  ❄@GitHub is storing open source code in an Arc...      2          18\n",
      "3974  ⚡️ @sussexuni scientists have developed hologr...      2          18\n",
      "3975  ⚡️ Iman, the last Sumatran rhinoceros in Malay...      2          17\n",
      "3976  ⚡️ Today is the International Day for the Elim...      2          20\n",
      "3993  3 key pillars to ensure school infrastructure ...      2          16\n",
      "4700  If your iPhone updated to the latest iOS, you ...      2          18\n"
     ]
    }
   ],
   "source": [
    "#checking the existence of emojis\n",
    "emoji_pattern = re.compile(\n",
    "    \"[\"\n",
    "    u\"\\U0001F600-\\U0001F64F\"  # Codes that identify specific types of emojis\n",
    "    u\"\\U0001F300-\\U0001F5FF\" \n",
    "    u\"\\U0001F680-\\U0001F6FF\"  \n",
    "    u\"\\U0001F1E0-\\U0001F1FF\"  \n",
    "    u\"\\U00002700-\\U000027BF\"  \n",
    "    u\"\\U0001F900-\\U0001F9FF\"  \n",
    "    u\"\\U00002600-\\U000026FF\"  \n",
    "    \"]+\", flags=re.UNICODE\n",
    ")\n",
    "\n",
    "# Filter rows with emojis\n",
    "rows_with_emojis = train_df[train_df['text'].apply(lambda x: bool(emoji_pattern.search(str(x))))]\n",
    "\n",
    "print(rows_with_emojis.head(10))"
   ]
  },
  {
   "cell_type": "markdown",
   "id": "65da1d6f-c136-4d8b-b284-f004edc48fd4",
   "metadata": {},
   "source": [
    "**Preprocessing step:** We need to remove emojis"
   ]
  },
  {
   "cell_type": "markdown",
   "id": "c64fa9b0-3acc-4c05-a8ec-403c548f3c22",
   "metadata": {},
   "source": [
    "# **4.** **Train-Test split**"
   ]
  },
  {
   "cell_type": "code",
   "execution_count": 74,
   "id": "63e27597-52ba-4cd9-985c-fe397aed7eb0",
   "metadata": {},
   "outputs": [],
   "source": [
    "x_train, x_val, y_train, y_val = train_test_split(train_df['text'], train_df['label'], test_size=0.20, random_state=42, stratify=train_df['label'])"
   ]
  },
  {
   "cell_type": "code",
   "execution_count": 75,
   "id": "821fe607-2a0f-4a8f-8cca-b4da897c95ca",
   "metadata": {},
   "outputs": [
    {
     "data": {
      "text/plain": [
       "(7634, 1909, 7634, 1909)"
      ]
     },
     "execution_count": 75,
     "metadata": {},
     "output_type": "execute_result"
    }
   ],
   "source": [
    "len(x_train), len(x_val), len(y_train), len(y_val)"
   ]
  },
  {
   "cell_type": "code",
   "execution_count": 76,
   "id": "7656c433",
   "metadata": {},
   "outputs": [
    {
     "data": {
      "text/plain": [
       "2186            Nasdaq prices 600M of 0.875% senior notes\n",
       "6819                   Futures up https://t.co/diz7v5lmVb\n",
       "6157    $ECONX: November Nonfarm Private Payrolls 125K...\n",
       "2462    Twitter users explain why Kohl's stock just go...\n",
       "4097    Agilysys : Restaurants Find Sustainable Method...\n",
       "                              ...                        \n",
       "2807                     Japan Tobacco reports FY results\n",
       "704     The Fed's Emergence as a Power Player Poses Ne...\n",
       "990     How the Rise of At-Home Fitness Services Could...\n",
       "4362          Daniel Loeb's Top 5 Buys in the 3rd Quarter\n",
       "7664    Zee Entertainment’s Subhash Chandra Resigns As...\n",
       "Name: text, Length: 7634, dtype: object"
      ]
     },
     "execution_count": 76,
     "metadata": {},
     "output_type": "execute_result"
    }
   ],
   "source": [
    "x_train"
   ]
  },
  {
   "cell_type": "markdown",
   "id": "67869481-b264-47b3-8c92-82fce3b1a148",
   "metadata": {},
   "source": [
    "**Note:** After the split, the train dataset has `7634 rows` and the validation dataset has `1909 rows`"
   ]
  },
  {
   "cell_type": "markdown",
   "id": "dbb71555-fe6b-4db9-a3f0-df23f076adf4",
   "metadata": {},
   "source": [
    "# **5. Preprocessing**"
   ]
  },
  {
   "cell_type": "code",
   "execution_count": 77,
   "id": "d76df437-aa18-4eae-8b9e-a59457ba1e6a",
   "metadata": {},
   "outputs": [
    {
     "name": "stderr",
     "output_type": "stream",
     "text": [
      "100%|██████████| 7634/7634 [00:00<00:00, 9803.65it/s]\n",
      "100%|██████████| 1909/1909 [00:00<00:00, 8137.15it/s]\n"
     ]
    }
   ],
   "source": [
    "x_train_cleaned = clean_text(x_train, lemmatize = True, stem = False)\n",
    "x_val_cleaned = clean_text(x_val, lemmatize = True, stem = False)"
   ]
  },
  {
   "cell_type": "code",
   "execution_count": 78,
   "id": "5fabcb32-fffc-404f-89ab-d5227847293d",
   "metadata": {},
   "outputs": [
    {
     "name": "stdout",
     "output_type": "stream",
     "text": [
      "\n",
      "Index: 3\n",
      "Before cleaning: Twitter users explain why Kohl's stock just got obliterated after reporting earnings https://t.co/RnxmSz4Au1 by… https://t.co/F7B1rYCmPf\n",
      "After cleaning: twitter user explain kohl stock got obliterated reporting earnings\n",
      "\n",
      "Index: 8\n",
      "Before cleaning: Manchester United Plc Announces Second Quarter Fiscal 2020 Earnings Report Date\n",
      "After cleaning: manchester united plc announces second quarter fiscal earnings report date\n",
      "\n",
      "Index: 18\n",
      "Before cleaning: Top Earnings Mon 11/25 Aft: $A $AMBA $ARWR $BECN $CAL $HPE $MNR $MTSC $NAT $NTNX $PANW $PVH $SR\n",
      "After cleaning: top earnings mon aft TICKER_a TICKER_amba TICKER_arwr TICKER_becn TICKER_cal TICKER_hpe TICKER_mnr TICKER_mtsc TICKER_nat TICKER_ntnx TICKER_panw TICKER_pvh TICKER_sr\n",
      "\n",
      "Index: 58\n",
      "Before cleaning: Edited Transcript of NANO.OL earnings conference call or presentation 19-Nov-19 7:30am GMT\n",
      "After cleaning: edited transcript nano ol earnings conference call presentation nov gmt\n",
      "\n",
      "Index: 67\n",
      "Before cleaning: Earnings Update: electroCore, Inc. Just Reported And Analysts Are Trimming Their Forecasts\n",
      "After cleaning: earnings update electrocore inc reported analyst trimming forecast\n",
      "\n",
      "Index: 73\n",
      "Before cleaning: Edited Transcript of BREW earnings conference call or presentation 13-Nov-19 4:30pm GMT\n",
      "After cleaning: edited transcript brew earnings conference call presentation nov pm gmt\n",
      "\n",
      "Index: 77\n",
      "Before cleaning: Added $STNE , $GSX and $BKE to the #PowerEarningsGap list \n",
      "\n",
      "These 3 names look very promising going forward! Look f… https://t.co/yABsTNVDIO\n",
      "After cleaning: added powerearningsgap list name look promising going forward look f TICKER_stne TICKER_gsx TICKER_bke\n",
      "\n",
      "Index: 86\n",
      "Before cleaning: Cedar Realty Trust Inc (CDR) Q4 2019 Earnings Call Transcript\n",
      "After cleaning: cedar realty trust inc cdr quarter earnings call transcript\n",
      "\n",
      "Index: 98\n",
      "Before cleaning: Old Dominion Freight Line Reports Fourth Quarter 2019 Earnings Per Diluted Share Of $1.80\n",
      "After cleaning: old dominion freight line report fourth quarter earnings per diluted share TICKER_1\n",
      "\n",
      "Index: 100\n",
      "Before cleaning: $BWAY - Brainsway Ltd. (BWAY) CEO David Zacut on Q3 2019 Results - Earnings Call Transcript. Continue reading:… https://t.co/LfgDeAMECr\n",
      "After cleaning: brainsway ltd bway ceo david zacut quarter result earnings call transcript continue reading TICKER_bway\n",
      "\n",
      "Index: 135\n",
      "Before cleaning: Edited Transcript of HI earnings conference call or presentation 14-Nov-19 1:00pm GMT\n",
      "After cleaning: edited transcript hi earnings conference call presentation nov pm gmt\n",
      "\n",
      "Index: 168\n",
      "Before cleaning: Dave & Buster's $PLAY reports earnings: \n",
      "Total revenues increased 6.1% to $299.4 million from $282.1 million\n",
      "Net EP… https://t.co/cx64XEzhCw\n",
      "After cleaning: dave buster report earnings total revenue increased percent percent million million net ep TICKER_play TICKER_299 TICKER_282\n",
      "\n",
      "Index: 178\n",
      "Before cleaning: Uber ready to join FANG after earnings - RBC\n",
      "After cleaning: uber ready join fang earnings rbc\n",
      "\n",
      "Index: 196\n",
      "Before cleaning: Apparel stocks tumble after a pair of disappointing earnings https://t.co/qAD1ECHinA @business https://t.co/WuwTQCOCOL\n",
      "After cleaning: apparel stock tumble pair disappointing earnings business\n",
      "\n",
      "Index: 229\n",
      "Before cleaning: Earnings Update: Here's Why Analysts Just Lifted Their Aemetis, Inc. Price Target To US$2.25\n",
      "After cleaning: earnings update analyst lifted aemetis inc price target USA TICKER_2\n",
      "\n",
      "Index: 231\n",
      "Before cleaning: I Ran A Stock Scan For Earnings Growth And DMC Global (NASDAQ:BOOM) Passed With Ease\n",
      "After cleaning: ran stock scan earnings growth dmc global nasdaq boom passed ease\n",
      "\n",
      "Index: 300\n",
      "Before cleaning: Not So Happy Holidays for Kohl’s After Earnings\n",
      "After cleaning: happy holiday kohl earnings\n",
      "\n",
      "Index: 316\n",
      "Before cleaning: GDS Holdings Limited Just Released Its Third-Quarter Earnings: Here's What Analysts Think\n",
      "After cleaning: gd holding limited released third quarter earnings analyst think\n",
      "\n",
      "Index: 337\n",
      "Before cleaning: Scandinavian Tobacco Group A/S Earnings Missed Analyst Estimates: Here's What Analysts Are Forecasting Now\n",
      "After cleaning: scandinavian tobacco group earnings missed analyst estimate analyst forecasting\n",
      "\n",
      "Index: 340\n",
      "Before cleaning: $JOUT - Johnson Outdoors Inc. (JOUT) CEO Helen Johnson-Leipold on Q1 2020 Results - Earnings Call Transcript.... https://t.co/P2zTCJsYcf\n",
      "After cleaning: johnson outdoors inc jout ceo helen johnson leipold quarter result earnings call transcript TICKER_jout\n",
      "\n",
      "Index: 358\n",
      "Before cleaning: Twitter users explain why Kohl's stock just got obliterated after reporting earnings\n",
      "After cleaning: twitter user explain kohl stock got obliterated reporting earnings\n",
      "\n",
      "Index: 376\n",
      "Before cleaning: Edited Transcript of DCM.TO earnings conference call or presentation 18-Nov-19 4:00pm GMT\n",
      "After cleaning: edited transcript dcm earnings conference call presentation nov pm gmt\n",
      "\n",
      "Index: 413\n",
      "Before cleaning: Edited Transcript of ABEO earnings conference call or presentation 13-Nov-19 3:00pm GMT\n",
      "After cleaning: edited transcript abeo earnings conference call presentation nov pm gmt\n",
      "\n",
      "Index: 448\n",
      "Before cleaning: $DCMYY $NTDMF - NTT Docomo, Inc. (DCMYY) on Q3 2019 Results - Earnings Call Transcript. https://t.co/VC2Llx6MgG… https://t.co/wmv2tC4u3Z\n",
      "After cleaning: ntt docomo inc dcmyy quarter result earnings call transcript TICKER_dcmyy TICKER_ntdmf\n",
      "\n",
      "Index: 453\n",
      "Before cleaning: Edited Transcript of MFA earnings conference call or presentation 6-Nov-19 3:00pm GMT\n",
      "After cleaning: edited transcript mfa earnings conference call presentation nov pm gmt\n",
      "\n",
      "Index: 471\n",
      "Before cleaning: Pinterest Stock Soars 17% on Earnings Beat and Rosy Outlook\n",
      "After cleaning: pinterest stock soar percent percent earnings beat rosy outlook\n",
      "\n",
      "Index: 532\n",
      "Before cleaning: Kohl's shares tank on earnings miss, retailer cuts fiscal 2019 earnings outlook\n",
      "After cleaning: kohl share tank earnings miss retailer cut fiscal earnings outlook\n",
      "\n",
      "Index: 586\n",
      "Before cleaning: $FRAN - Francesca's Holdings Corporation (FRAN) Q3 2019 Results - Earnings Call Transcript. Get more updates here:… https://t.co/zaK0iQ10G8\n",
      "After cleaning: francesca holding corporation fran quarter result earnings call transcript get update TICKER_fran\n",
      "\n",
      "Index: 618\n",
      "Before cleaning: Edited Transcript of OHL.MC earnings conference call or presentation 14-Nov-19 5:00pm GMT\n",
      "After cleaning: edited transcript ohl mc earnings conference call presentation nov pm gmt\n",
      "\n",
      "Index: 691\n",
      "Before cleaning: Penn National Gaming -4% after earnings\n",
      "After cleaning: penn national gaming PCT DECREASE percent earnings\n",
      "\n",
      "Index: 731\n",
      "Before cleaning: Pinterest shares surge after earnings beat\n",
      "After cleaning: pinterest share surge earnings beat\n",
      "\n",
      "Index: 754\n",
      "Before cleaning: Macy's lowers fiscal 2019 sales and earnings guidance\n",
      "After cleaning: macy lower fiscal sale earnings guidance\n",
      "\n",
      "Index: 762\n",
      "Before cleaning: Edited Transcript of NGVC earnings conference call or presentation 14-Nov-19 9:30pm GMT\n",
      "After cleaning: edited transcript ngvc earnings conference call presentation nov pm gmt\n",
      "\n",
      "Index: 785\n",
      "Before cleaning: $SUMRX: Gapping up/down: QSR +3%, CNA +3% and AVYA +1% after earnings, TSLA +7% after M&A speculation, FDA +2% and.… https://t.co/H9cE7tsuwE\n",
      "After cleaning: gapping up down qsr PCT INCREASE percent cna PCT INCREASE percent avya PCT INCREASE percent earnings tsla PCT INCREASE percent speculation fda PCT INCREASE percent TICKER_sumrx\n",
      "\n",
      "Index: 806\n",
      "Before cleaning: Edited Transcript of FTT.TO earnings conference call or presentation 5-Nov-19 4:00pm GMT\n",
      "After cleaning: edited transcript ftt earnings conference call presentation nov pm gmt\n",
      "\n",
      "Index: 809\n",
      "Before cleaning: The Manitowoc Company, Inc. Just Reported Earnings, And Analysts Cut Their Target Price\n",
      "After cleaning: manitowoc company inc reported earnings analyst cut target price\n",
      "\n",
      "Index: 819\n",
      "Before cleaning: Edited Transcript of CB earnings conference call or presentation 5-Feb-20 1:30pm GMT\n",
      "After cleaning: edited transcript cb earnings conference call presentation feb pm gmt\n",
      "\n",
      "Index: 893\n",
      "Before cleaning: Amkor Technology (AMKR) Surpasses Q4 Earnings and Revenue Estimates\n",
      "After cleaning: amkor technology amkr surpasses quarter earnings revenue estimate\n",
      "\n",
      "Index: 934\n",
      "Before cleaning: Martin Marietta Materials Q4 2019 Earnings Preview\n",
      "After cleaning: martin marietta material quarter earnings preview\n",
      "\n",
      "Index: 941\n",
      "Before cleaning: Energy Up Ahead Of Exxon Earnings -- Energy Roundup #economy #MarketScreener https://t.co/jVOrgnxqff https://t.co/kdZ4Hep8kI\n",
      "After cleaning: energy up ahead exxon earnings energy roundup economy marketscreener\n",
      "\n",
      "Index: 980\n",
      "Before cleaning: More on Worthington Q2 earnings\n",
      "After cleaning: worthington quarter earnings\n",
      "\n",
      "Index: 988\n",
      "Before cleaning: Edited Transcript of APT.AX earnings conference call or presentation 28-Aug-19 12:30am GMT\n",
      "After cleaning: edited transcript apt ax earnings conference call presentation aug gmt\n",
      "\n",
      "Index: 1102\n",
      "Before cleaning: Market bounce is an 'aftershock' with 'pretty horrific' earnings to come, Citi analyst says https://t.co/GyG0DStncb\n",
      "After cleaning: market bounce aftershock pretty horrific earnings come citi analyst say\n",
      "\n",
      "Index: 1121\n",
      "Before cleaning: Edited Transcript of AKBA earnings conference call or presentation 12-Nov-19 2:00pm GMT\n",
      "After cleaning: edited transcript akba earnings conference call presentation nov pm gmt\n",
      "\n",
      "Index: 1126\n",
      "Before cleaning: $MAN - ManpowerGroup Inc. 2019 Q4 - Results - Earnings Call Presentation. https://t.co/pu3a98qlcw #stocks #finance #investing\n",
      "After cleaning: manpowergroup inc quarter result earnings call presentation stock finance investing TICKER_man\n",
      "\n",
      "Index: 1194\n",
      "Before cleaning: Home Depot's stock rises toward record high ahead of earnings report\n",
      "After cleaning: home depot stock rise toward record high ahead earnings report\n",
      "\n",
      "Index: 1210\n",
      "Before cleaning: Access LIVE #market #analysis, exclusive #investingideas, #earnings coverage and more. Take a #FreeTrial of Briefin… https://t.co/JI3Cin6xFZ\n",
      "After cleaning: access live market analysis exclusive investingideas earnings coverage take freetrial briefin\n",
      "\n",
      "Index: 1224\n",
      "Before cleaning: Edited Transcript of PTN earnings conference call or presentation 13-Nov-19 4:00pm GMT\n",
      "After cleaning: edited transcript ptn earnings conference call presentation nov pm gmt\n",
      "\n",
      "Index: 1314\n",
      "Before cleaning: Lattice Semiconductor Q4 Earnings Preview\n",
      "After cleaning: lattice semiconductor quarter earnings preview\n",
      "\n",
      "Index: 1363\n",
      "Before cleaning: $GT - Goodyear Tire & Rubber Q4 2019 Earnings Preview https://t.co/435GSK0ybQ\n",
      "After cleaning: goodyear tire rubber quarter earnings preview TICKER_gt\n",
      "\n",
      "Index: 1396\n",
      "Before cleaning: Mohawk Industries, Inc.'s (NYSE:MHK) Earnings Dropped -19%, Did Its Industry Show Weakness Too?\n",
      "After cleaning: mohawk industry inc nyse mhk earnings dropped PCT DECREASE percent industry show weakness\n",
      "\n",
      "Index: 1398\n",
      "Before cleaning: $MMYT - MakeMyTrip Q3 2020 Earnings Preview https://t.co/20fDRwWdKl\n",
      "After cleaning: makemytrip quarter earnings preview TICKER_mmyt\n",
      "\n",
      "Index: 1421\n",
      "Before cleaning: Edited Transcript of ALIM earnings conference call or presentation 30-Oct-19 1:00pm GMT\n",
      "After cleaning: edited transcript alim earnings conference call presentation oct pm gmt\n",
      "\n",
      "Index: 1566\n",
      "Before cleaning: Commonwealth Bank of Australia : Capital, Margins in Focus -- Earnings Preview #CommonwealthBankofAustralia #Stock… https://t.co/L8gy222ZI6\n",
      "After cleaning: commonwealth bank australia capital margin focus earnings preview commonwealthbankofaustralia stock\n",
      "\n",
      "Index: 1577\n",
      "Before cleaning: $DCP - DCP Midstream Q4 Earnings Preview https://t.co/rI5XC0IjgG\n",
      "After cleaning: dcp midstream quarter earnings preview TICKER_dcp\n",
      "\n",
      "Index: 1597\n",
      "Before cleaning: $SUMRX: Earnings Out Next Week https://t.co/XuQiwG02aI\n",
      "After cleaning: earnings next week TICKER_sumrx\n",
      "\n",
      "Index: 1699\n",
      "Before cleaning: Edited Transcript of RRR earnings conference call or presentation 4-Feb-20 9:30pm GMT\n",
      "After cleaning: edited transcript rrr earnings conference call presentation feb pm gmt\n",
      "\n",
      "Index: 1716\n",
      "Before cleaning: Roku jumps as optimism builds for earnings\n",
      "After cleaning: roku jump optimism build earnings\n",
      "\n",
      "Index: 1717\n",
      "Before cleaning: $HTH - Hilltop Holdings, Inc. (HTH) CEO Jeremy Ford on Q4 2019 Results - Earnings Call Transcript.... https://t.co/xXYAYCsXLg\n",
      "After cleaning: hilltop holding inc hth ceo jeremy ford quarter result earnings call transcript TICKER_hth\n",
      "\n",
      "Index: 1735\n",
      "Before cleaning: $FFIC - Flushing Financial Corporation (FFIC) CEO John Buran on Q4 2019 Results - Earnings Call Transcript.... https://t.co/G93Ec3q0wA\n",
      "After cleaning: flushing financial corporation ffic ceo john buran quarter result earnings call transcript TICKER_ffic\n",
      "\n",
      "Index: 1738\n",
      "Before cleaning: Edited Transcript of YRD earnings conference call or presentation 15-Nov-19 12:00am GMT\n",
      "After cleaning: edited transcript yrd earnings conference call presentation nov gmt\n",
      "\n",
      "Index: 1747\n",
      "Before cleaning: The Good Business Portfolio: 2019 3rd Quarter Earnings And Performance Review. Read more: https://t.co/9WKWX8bl6Y… https://t.co/AZRuZIp4as\n",
      "After cleaning: good business portfolio rd quarter earnings performance review read\n",
      "\n",
      "Index: 1748\n",
      "Before cleaning: $XPO - XPO Logistics tops Q4 earnings view, hires Wyshner as new CFO https://t.co/W9cZlaz0KV\n",
      "After cleaning: xpo logistics top quarter earnings view hire wyshner new cfo TICKER_xpo\n",
      "\n",
      "Index: 1751\n",
      "Before cleaning: Edited Transcript of ESE earnings conference call or presentation 19-Nov-19 10:00pm GMT\n",
      "After cleaning: edited transcript ese earnings conference call presentation nov pm gmt\n",
      "\n",
      "Index: 1776\n",
      "Before cleaning: Cameco on the move after Q4 earnings topper\n",
      "After cleaning: cameco move quarter earnings topper\n",
      "\n",
      "Index: 1793\n",
      "Before cleaning: $DO - Diamond Offshore: Q4 2019 Earnings And Fleet Status Report Analysis. https://t.co/x1f9ZcqA1v #business #stocks #investing\n",
      "After cleaning: diamond offshore quarter earnings fleet status report analysis business stock investing TICKER_do\n",
      "\n",
      "Index: 1818\n",
      "Before cleaning: Macy's -6% as hard hats come out for earnings\n",
      "After cleaning: macy PCT DECREASE percent hard hat come earnings\n",
      "\n",
      "Index: 1837\n",
      "Before cleaning: Edited Transcript of MSG earnings conference call or presentation 8-Nov-19 3:00pm GMT\n",
      "After cleaning: edited transcript msg earnings conference call presentation nov pm gmt\n",
      "\n",
      "Index: 1891\n",
      "Before cleaning: Fed decision, Lululemon earnings, inflation gauge: 3 things to watch for Wednesday https://t.co/QbjlIImrfD\n",
      "After cleaning: fed decision lululemon earnings inflation gauge thing watch wednesday\n",
      "\n",
      "Index: 1896\n",
      "Before cleaning: Earnings Miss: Neurocrine Biosciences, Inc. Missed EPS By 52% And Analysts Are Revising Their Forecasts\n",
      "After cleaning: earnings miss neurocrine bioscience inc missed eps percent percent analyst revising forecast\n",
      "\n",
      "Index: 1905\n",
      "Before cleaning: Healthpeak Properties Q4 Earnings Preview\n",
      "After cleaning: healthpeak property quarter earnings preview\n",
      "\n",
      "Index: 1946\n",
      "Before cleaning: $SQNS - Sequans Communications S.A. (SQNS) CEO Georges Karam on Q4 2019 Results - Earnings Call Transcript.…Â https://t.co/Gowb7wv4QM\n",
      "After cleaning: sequans communication sqns ceo george karam quarter result earnings call transcript TICKER_sqns\n",
      "\n",
      "Index: 2054\n",
      "Before cleaning: Edited Transcript of SBPH earnings conference call or presentation 11-Nov-19 9:30pm GMT\n",
      "After cleaning: edited transcript sbph earnings conference call presentation nov pm gmt\n",
      "\n",
      "Index: 2126\n",
      "Before cleaning: $JEC - Jacobs Engineering Q4 2019 Earnings Preview https://t.co/ktdTe05cWt\n",
      "After cleaning: jacob engineering quarter earnings preview TICKER_jec\n",
      "\n",
      "Index: 2128\n",
      "Before cleaning: $CVX - Chevron Corporation 2019 Q4 - Results - Earnings Call Presentation. https://t.co/KnX6FK9iql #trading #stockmarket #finance\n",
      "After cleaning: chevron corporation quarter result earnings call presentation trading stockmarket finance TICKER_cvx\n",
      "\n",
      "Index: 2140\n",
      "Before cleaning: $PHR - Phreesia, Inc. (PHR) CEO Chaim Indig on Q3 2020 Results - Earnings Call Transcript. Get more updates here:… https://t.co/uqRww6R1sF\n",
      "After cleaning: phreesia inc phr ceo chaim indig quarter result earnings call transcript get update TICKER_phr\n",
      "\n",
      "Index: 2214\n",
      "Before cleaning: $DOMO - Domo, Inc. (DOMO) CEO Josh James on Q3 2020 Results - Earnings Call Transcript. Continue reading:… https://t.co/tsF1E3NOu3\n",
      "After cleaning: domo inc domo ceo josh james quarter result earnings call transcript continue reading TICKER_domo\n",
      "\n",
      "Index: 2224\n",
      "Before cleaning: $GEOS - Geospace Technologies Corporation (GEOS) CEO Rick Wheeler on Q4 2019 Results - Earnings Call Transcript. Co… https://t.co/P3gGg2tEUX\n",
      "After cleaning: geospace technology corporation geos ceo rick wheeler quarter result earnings call transcript co TICKER_geos\n",
      "\n",
      "Index: 2299\n",
      "Before cleaning: AutoNation Q4 2019 Earnings Preview\n",
      "After cleaning: autonation quarter earnings preview\n",
      "\n",
      "Index: 2316\n",
      "Before cleaning: Full Earnings Calendar via @eWhispers https://t.co/MzxVJgdx1b\n",
      "\n",
      "Upgrades/Downgrades via @Benzinga https://t.co/OWRZDcp9Dn\n",
      "After cleaning: full earnings calendar via ewhispers upgrade downgrade via benzinga\n",
      "\n",
      "Index: 2322\n",
      "Before cleaning: Edited Transcript of ASPN earnings conference call or presentation 31-Oct-19 9:00pm GMT\n",
      "After cleaning: edited transcript aspn earnings conference call presentation oct pm gmt\n",
      "\n",
      "Index: 2361\n",
      "Before cleaning: Rak Bank CEO on Earnings, Margins, M&A\n",
      "After cleaning: rak bank ceo earnings margin\n",
      "\n",
      "Index: 2382\n",
      "Before cleaning: MSC Industrial Direct Co., Inc. (NYSE:MSM): Should The Recent Earnings Drop Worry You?\n",
      "After cleaning: msc industrial direct co inc nyse msm recent earnings drop worry\n",
      "\n",
      "Index: 2411\n",
      "Before cleaning: Stock Market Update: Edgewell Personal Care spikes after earnings\n",
      "After cleaning: stock market update edgewell personal care spike earnings\n",
      "\n",
      "Index: 2419\n",
      "Before cleaning: $OKTA - Okta, Inc. (OKTA) CEO Todd McKinnon on Q3 2020 Results - Earnings Call Transcript. Read more:… https://t.co/SkcCRSQTGI\n",
      "After cleaning: okta inc okta ceo todd mckinnon quarter result earnings call transcript read TICKER_okta\n",
      "\n",
      "Index: 2453\n",
      "Before cleaning: Earnings Preview: What To Expect From Macy’s On Thursday\n",
      "After cleaning: earnings preview expect macy thursday\n",
      "\n",
      "Index: 2454\n",
      "Before cleaning: Edited Transcript of RLGT earnings conference call or presentation 12-Nov-19 9:30pm GMT\n",
      "After cleaning: edited transcript rlgt earnings conference call presentation nov pm gmt\n",
      "\n",
      "Index: 2468\n",
      "Before cleaning: $LITB - LightInTheBox Holding Co., Ltd. (LITB) CEO Jian He on Q3 2019 Results - Earnings Call Transcript. Sign up f… https://t.co/og3mYDA7y2\n",
      "After cleaning: lightinthebox holding co ltd litb ceo jian quarter result earnings call transcript sign up f TICKER_litb\n",
      "\n",
      "Index: 2496\n",
      "Before cleaning: $PEAK - Healthpeak Properties Q4 Earnings Preview https://t.co/T6Srtu0I0j\n",
      "After cleaning: healthpeak property quarter earnings preview TICKER_peak\n",
      "\n",
      "Index: 2502\n",
      "Before cleaning: Total tops Q4 earnings outlook as production climbs 8%\n",
      "After cleaning: total top quarter earnings outlook production climb percent percent\n",
      "\n",
      "Index: 2525\n",
      "Before cleaning: $CONN - Conn's, Inc. 2020 Q3 - Results - Earnings Call Presentation. Read more and sign up for updates:… https://t.co/oX40naqXia\n",
      "After cleaning: conn inc quarter result earnings call presentation read sign up update TICKER_conn\n",
      "\n",
      "Index: 2572\n",
      "Before cleaning: $PD - PagerDuty, Inc. (PD) CEO Jennifer Tejada on Q3 2020 Results - Earnings Call Transcript. Get more updates here… https://t.co/XzWKTWTrRk\n",
      "After cleaning: pagerduty inc pd ceo jennifer tejada quarter result earnings call transcript get update TICKER_pd\n",
      "\n",
      "Index: 2579\n",
      "Before cleaning: Logansport Financial Corp. Reports Earnings for the Three and Twelve Months Ended December 31, 2019  https://t.co/x3JcYjmxkS\n",
      "After cleaning: logansport financial corp report earnings three twelve month ended december\n",
      "\n",
      "Index: 2599\n",
      "Before cleaning: S&P 500, Nasdaq touch records as stocks close higher on solid earnings\n",
      "After cleaning: sp nasdaq touch record stock close higher solid earnings\n",
      "\n",
      "Index: 2617\n",
      "Before cleaning: Kentucky First Federal Bancorp Releases Earnings  https://t.co/PnRPHfyNwU\n",
      "After cleaning: kentucky first federal bancorp release earnings\n",
      "\n",
      "Index: 2670\n",
      "Before cleaning: Edited Transcript of PRI earnings conference call or presentation 7-Nov-19 3:00pm GMT\n",
      "After cleaning: edited transcript pri earnings conference call presentation nov pm gmt\n",
      "\n",
      "Index: 2717\n",
      "Before cleaning: $ST - Sensata Technologies Q4 2019 Earnings Preview https://t.co/TA4X2PNtgq\n",
      "After cleaning: sensata technology quarter earnings preview TICKER_st\n",
      "\n",
      "Index: 2778\n",
      "Before cleaning: Edited Transcript of ASND earnings conference call or presentation 18-Nov-19 9:30pm GMT\n",
      "After cleaning: edited transcript asnd earnings conference call presentation nov pm gmt\n",
      "\n",
      "Index: 2793\n",
      "Before cleaning: Edited Transcript of 2882.TW earnings conference call or presentation 18-Nov-19 9:00am GMT\n",
      "After cleaning: edited transcript tw earnings conference call presentation nov gmt\n",
      "\n",
      "Index: 2819\n",
      "Before cleaning: Results: Digi International Inc. Beat Earnings Expectations And Analysts Now Have New Forecasts\n",
      "After cleaning: result digi international inc beat earnings expectation analyst new forecast\n",
      "\n",
      "Index: 2849\n",
      "Before cleaning: Funko Stock Decimated Ahead of Massive Earnings Miss\n",
      "After cleaning: funko stock decimated ahead massive earnings miss\n",
      "\n",
      "Index: 2862\n",
      "Before cleaning: Edited Transcript of GGAL.BA earnings conference call or presentation 12-Nov-19 4:00pm GMT\n",
      "After cleaning: edited transcript ggal ba earnings conference call presentation nov pm gmt\n",
      "\n",
      "Index: 2874\n",
      "Before cleaning: $BPIRY - Piraeus Bank S.A. (BPIRY) CEO Christos Megalou on Q3 2019 Results - Earnings Call Transcript. Read more:… https://t.co/mYOxjqK3fQ\n",
      "After cleaning: piraeus bank bpiry ceo christos megalou quarter result earnings call transcript read TICKER_bpiry\n",
      "\n",
      "Index: 2879\n",
      "Before cleaning: Home Depot’s Lower Sales Growth Forecast Highlights The Lack Of Growth In U.S. Corporate Earnings\n",
      "After cleaning: home depot lower sale growth forecast highlight lack growth USA corporate earnings\n",
      "\n",
      "Index: 2881\n",
      "Before cleaning: Edited Transcript of EKTA B.ST earnings conference call or presentation 15-Nov-19 10:00am GMT\n",
      "After cleaning: edited transcript ekta b st earnings conference call presentation nov gmt\n",
      "\n",
      "Index: 2911\n",
      "Before cleaning: MakeMyTrip Q3 2020 Earnings Preview\n",
      "After cleaning: makemytrip quarter earnings preview\n",
      "\n",
      "Index: 2916\n",
      "Before cleaning: China market opens, Iowa caucuses, Alphabet earnings: 3 things to watch for on Monday https://t.co/nZDp3smBbK\n",
      "After cleaning: china market open iowa caucus alphabet earnings thing watch monday\n",
      "\n",
      "Index: 2934\n",
      "Before cleaning: $GEC - Great Elm Capital Group, Inc. (GEC) CEO Peter Reed on Q2 2020 Results - Earnings Call Transcript.… https://t.co/n0DXFRwUcF\n",
      "After cleaning: great elm capital group inc gec ceo peter reed quarter result earnings call transcript TICKER_gec\n",
      "\n",
      "Index: 2943\n",
      "Before cleaning: $WU - Western Union Q4 2019 Earnings Preview https://t.co/peFQmNJdnG\n",
      "After cleaning: western union quarter earnings preview TICKER_wu\n",
      "\n",
      "Index: 2947\n",
      "Before cleaning: $VREX - Varex Imaging Q1 2020 Earnings Preview https://t.co/AWMo0muWZd\n",
      "After cleaning: varex imaging quarter earnings preview TICKER_vrex\n",
      "\n",
      "Index: 2950\n",
      "Before cleaning: $A - Agilent Q4 2019 Earnings Preview https://t.co/vq1J1JWZHB\n",
      "After cleaning: agilent quarter earnings preview TICKER_a\n",
      "\n",
      "Index: 2967\n",
      "Before cleaning: $SOL - ReneSola Ltd 2019 Q3 - Results - Earnings Call Presentation. Keep reading: https://t.co/UyX9TmRvsQ #markets #finance #economy\n",
      "After cleaning: renesola ltd quarter result earnings call presentation keep reading market finance economy TICKER_sol\n",
      "\n",
      "Index: 2991\n",
      "Before cleaning: AG Mortgage Investment Trust, Inc. Schedules Fourth Quarter 2019 Earnings Release and Conference Call\n",
      "After cleaning: ag mortgage investment trust inc schedule fourth quarter earnings release conference call\n",
      "\n",
      "Index: 3005\n",
      "Before cleaning: Coca-Cola's Earnings: Outperforming Its Peers\n",
      "After cleaning: coca cola earnings outperforming peer\n",
      "\n",
      "Index: 3016\n",
      "Before cleaning: Edited Transcript of NHI earnings conference call or presentation 7-Nov-19 5:00pm GMT\n",
      "After cleaning: edited transcript nhi earnings conference call presentation nov pm gmt\n",
      "\n",
      "Index: 3026\n",
      "Before cleaning: Edited Transcript of CTSH earnings conference call or presentation 5-Feb-20 10:00pm GMT\n",
      "After cleaning: edited transcript ctsh earnings conference call presentation feb pm gmt\n",
      "\n",
      "Index: 3091\n",
      "Before cleaning: $NYCB - New York Community Bancorp, Inc. 2019 Q4 - Results - Earnings Call Presentation. https://t.co/wXqi8TCrS7 #business #markets #finance\n",
      "After cleaning: new york community bancorp inc quarter result earnings call presentation business market finance TICKER_nycb\n",
      "\n",
      "Index: 3128\n",
      "Before cleaning: Top Earnings Tu 11/26 Pre: $ADI $AMWD $ANF $BBY $BITA $BNS $BURL $CBRL $CHS $CTRN $DCIX $DKS $DLTR $DY $ESLT $EV… https://t.co/EJqBKFvyrT\n",
      "After cleaning: top earnings tu pre TICKER_adi TICKER_amwd TICKER_anf TICKER_bby TICKER_bita TICKER_bns TICKER_burl TICKER_cbrl TICKER_chs TICKER_ctrn TICKER_dcix TICKER_dks TICKER_dltr TICKER_dy TICKER_eslt TICKER_ev\n",
      "\n",
      "Index: 3167\n",
      "Before cleaning: $AMCR - Amcor 1H 2020 Earnings Preview https://t.co/nMWDLzQhJn\n",
      "After cleaning: amcor h earnings preview TICKER_amcr\n",
      "\n",
      "Index: 3173\n",
      "Before cleaning: $LSCC - Lattice Semiconductor Q4 Earnings Preview https://t.co/JlIlzccfFu\n",
      "After cleaning: lattice semiconductor quarter earnings preview TICKER_lscc\n",
      "\n",
      "Index: 3178\n",
      "Before cleaning: Q1 Earnings Outlook For Tyson Foods\n",
      "After cleaning: quarter earnings outlook tyson food\n",
      "\n",
      "Index: 3216\n",
      "Before cleaning: $JOUT - Johnson Outdoors Inc. (JOUT) CEO Helen Johnson-Leipold on Q4 2019 Results - Earnings Call Transcript. Follo… https://t.co/zO645AeLXI\n",
      "After cleaning: johnson outdoors inc jout ceo helen johnson leipold quarter result earnings call transcript follo TICKER_jout\n",
      "\n",
      "Index: 3244\n",
      "Before cleaning: Edited Transcript of LEVE3.SA earnings conference call or presentation 18-Nov-19 3:00pm GMT\n",
      "After cleaning: edited transcript leve sa earnings conference call presentation nov pm gmt\n",
      "\n",
      "Index: 3255\n",
      "Before cleaning: Edited Transcript of TIPT earnings conference call or presentation 7-Nov-19 2:00pm GMT\n",
      "After cleaning: edited transcript tipt earnings conference call presentation nov pm gmt\n",
      "\n",
      "Index: 3274\n",
      "Before cleaning: Hexagon AB (publ) (STO:HEXA B): Should The Recent Earnings Drop Worry You?\n",
      "After cleaning: hexagon ab publ sto hexa b recent earnings drop worry\n",
      "\n",
      "Index: 3320\n",
      "Before cleaning: $JLL - Jones Lang Lasalle Q4 2019 Earnings Preview https://t.co/IcOiAG4vWH\n",
      "After cleaning: jones lang lasalle quarter earnings preview TICKER_jll\n",
      "\n",
      "Index: 3324\n",
      "Before cleaning: $ONDK - OnDeck Capital Q4 2019 Earnings Preview https://t.co/hIN45Q7wRI\n",
      "After cleaning: ondeck capital quarter earnings preview TICKER_ondk\n",
      "\n",
      "Index: 3357\n",
      "Before cleaning: $PRI - Primerica Q4 2019 Earnings Preview https://t.co/DOLPm6gGki\n",
      "After cleaning: primerica quarter earnings preview TICKER_pri\n",
      "\n",
      "Index: 3373\n",
      "Before cleaning: Pinduoduo stock sinks on heavy volume after earnings\n",
      "After cleaning: pinduoduo stock sink heavy volume earnings\n",
      "\n",
      "Index: 3384\n",
      "Before cleaning: $CRTO - Criteo S.A. Q4 2019 Earnings Preview https://t.co/1vo5pEBBfs\n",
      "After cleaning: criteo quarter earnings preview TICKER_crto\n",
      "\n",
      "Index: 3405\n",
      "Before cleaning: Nokia Shares Surge As Q4 Earnings Beat Analyst Estimates\n",
      "After cleaning: nokia share surge quarter earnings beat analyst estimate\n",
      "\n",
      "Index: 3413\n",
      "Before cleaning: HEICO Q4 2019 Earnings Preview\n",
      "After cleaning: heico quarter earnings preview\n",
      "\n",
      "Index: 3479\n",
      "Before cleaning: Edited Transcript of ZTO.N earnings conference call or presentation 19-Nov-19 1:00am GMT\n",
      "After cleaning: edited transcript zto n earnings conference call presentation nov gmt\n",
      "\n",
      "Index: 3499\n",
      "Before cleaning: More stockmarket volatility, less buying the dip, and slower earnings per share growth ahead, Goldman Sachs says https://t.co/pbocwzzG48\n",
      "After cleaning: stockmarket volatility less buying dip slower earnings per share growth ahead goldman sachs say\n",
      "\n",
      "Index: 3518\n",
      "Before cleaning: Edited Transcript of YGYI earnings conference call or presentation 18-Nov-19 9:15pm GMT\n",
      "After cleaning: edited transcript ygyi earnings conference call presentation nov pm gmt\n",
      "\n",
      "Index: 3519\n",
      "Before cleaning: Edited Transcript of MMS earnings conference call or presentation 19-Nov-19 2:00pm GMT\n",
      "After cleaning: edited transcript mm earnings conference call presentation nov pm gmt\n",
      "\n",
      "Index: 3540\n",
      "Before cleaning: 3 Stocks With Fast-Growing Earnings\n",
      "After cleaning: stock fast growing earnings\n",
      "\n",
      "Index: 3588\n",
      "Before cleaning: Edited Transcript of GLUU earnings conference call or presentation 5-Feb-20 10:00pm GMT\n",
      "After cleaning: edited transcript gluu earnings conference call presentation feb pm gmt\n",
      "\n",
      "Index: 3659\n",
      "Before cleaning: $SPLK gapped up on earnings, up 10.77% on almost 7x average volume. It is coming up near the top of a 38-week long… https://t.co/OPXiKuRLsW\n",
      "After cleaning: gapped up earnings up percent percent almost x average volume coming up near top week long TICKER_splk\n",
      "\n",
      "Index: 3699\n",
      "Before cleaning: Edited Transcript of CPA earnings conference call or presentation 14-Nov-19 4:00pm GMT\n",
      "After cleaning: edited transcript cpa earnings conference call presentation nov pm gmt\n",
      "\n",
      "Index: 3718\n",
      "Before cleaning: $USFD - US Foods Q4 2019 Earnings Preview https://t.co/bBrEejXdYb\n",
      "After cleaning: USA food quarter earnings preview TICKER_usfd\n",
      "\n",
      "Index: 3747\n",
      "Before cleaning: $SUMRX: Earnings Out This Afternoon/Tomorrow Morning https://t.co/B2W4dNxP3t\n",
      "After cleaning: earnings afternoon tomorrow morning TICKER_sumrx\n",
      "\n",
      "Index: 3752\n",
      "Before cleaning: Prospect Capital (PSEC) Meets Q2 Earnings Estimates\n",
      "After cleaning: prospect capital psec meet quarter earnings estimate\n",
      "\n",
      "Index: 3760\n",
      "Before cleaning: Edited Transcript of VK.PA earnings conference call or presentation 14-Nov-19 5:30pm GMT\n",
      "After cleaning: edited transcript vk pa earnings conference call presentation nov pm gmt\n",
      "\n",
      "Index: 3761\n",
      "Before cleaning: Q3 Earnings Outlook For TJX Companies\n",
      "After cleaning: quarter earnings outlook tjx company\n",
      "\n",
      "Index: 3774\n",
      "Before cleaning: Unlock our LIVE #market #analysis, exclusive #investingideas, #earnings coverage and more. Test drive Briefing In P… https://t.co/vCa6SQG7LZ\n",
      "After cleaning: unlock live market analysis exclusive investingideas earnings coverage test drive briefing p\n",
      "\n",
      "Index: 3806\n",
      "Before cleaning: Medigene AG Just Missed Earnings With A Surprise Loss - Here Are Analysts Latest Forecasts\n",
      "After cleaning: medigene ag missed earnings surprise loss analyst latest forecast\n",
      "\n",
      "Index: 3832\n",
      "Before cleaning: Vallourec S.A. Just Released Its Third-Quarter Earnings: Here's What Analysts Think\n",
      "After cleaning: vallourec released third quarter earnings analyst think\n",
      "\n",
      "Index: 3838\n",
      "Before cleaning: 4 Things to Look For When General Mills Reports Earnings\n",
      "After cleaning: thing look general mill report earnings\n",
      "\n",
      "Index: 3841\n",
      "Before cleaning: Did IDEX Corporation's (NYSE:IEX) Recent Earnings Growth Beat The Trend?\n",
      "After cleaning: idex corporation nyse iex recent earnings growth beat trend\n",
      "\n",
      "Index: 3885\n",
      "Before cleaning: $HLT - Hilton Worldwide Q4 2019 Earnings Preview https://t.co/g90OWIqPrV\n",
      "After cleaning: hilton worldwide quarter earnings preview TICKER_hlt\n",
      "\n",
      "Index: 3900\n",
      "Before cleaning: Edited Transcript of NVMI earnings conference call or presentation 7-Nov-19 2:00pm GMT\n",
      "After cleaning: edited transcript nvmi earnings conference call presentation nov pm gmt\n",
      "\n",
      "Index: 3902\n",
      "Before cleaning: Stock Market Update: Uber leads earnings gainers, while Take-Two drops\n",
      "After cleaning: stock market update uber lead earnings gainer take two drop\n",
      "\n",
      "Index: 3972\n",
      "Before cleaning: Sirius XM Holdings Inc. Just Released Its Annual Earnings: Here's What Analysts Think\n",
      "After cleaning: sirius xm holding inc released annual earnings analyst think\n",
      "\n",
      "Index: 4061\n",
      "Before cleaning: $INGR - Ingredion Q4 2019 Earnings Preview https://t.co/5CN4AkUiUD\n",
      "After cleaning: ingredion quarter earnings preview TICKER_ingr\n",
      "\n",
      "Index: 4066\n",
      "Before cleaning: $BRBR - BellRing Brands, Inc. (BRBR) CEO Darcy Davenport on Q4 2019 Results - Earnings Call Transcript. Read more a… https://t.co/DvmncSF3OI\n",
      "After cleaning: bellring brand inc brbr ceo darcy davenport quarter result earnings call transcript read TICKER_brbr\n",
      "\n",
      "Index: 4088\n",
      "Before cleaning: Nvidia +3.7% as RBC sees earnings upside\n",
      "After cleaning: nvidia percent percent rbc see earnings upside\n",
      "\n",
      "Index: 4100\n",
      "Before cleaning: Edited Transcript of TDG earnings conference call or presentation 19-Nov-19 4:00pm GMT\n",
      "After cleaning: edited transcript tdg earnings conference call presentation nov pm gmt\n",
      "\n",
      "Index: 4114\n",
      "Before cleaning: TA Page SetUps: Slack $WORK: Dip-buying post-earnings could be an early read into a possible supply/demand shift-- https://t.co/v6W481eUIm\n",
      "After cleaning: ta page setup slack dip buying post earnings could early read possible supply demand shift TICKER_work\n",
      "\n",
      "Index: 4119\n",
      "Before cleaning: Earnings Scheduled For December 12, 2019\n",
      "After cleaning: earnings scheduled december\n",
      "\n",
      "Index: 4238\n",
      "Before cleaning: Amazon's market value tops $1 trillion following the company's strong earnings report  https://t.co/AhgLGqh4nl\n",
      "After cleaning: amazon market value top trillion following company strong earnings report TICKER_1\n",
      "\n",
      "Index: 4269\n",
      "Before cleaning: RingCentral (RNG) Q4 Earnings and Revenues Beat Estimates\n",
      "After cleaning: ringcentral rng quarter earnings revenue beat estimate\n",
      "\n",
      "Index: 4320\n",
      "Before cleaning: $CE - Celanese Corp (CE) CEO Lori Ryerkerk on Q4 2019 Results - Earnings Call Transcript. https://t.co/StWqqqPHTu... https://t.co/qJD3HkIzEo\n",
      "After cleaning: celanese corp ce ceo lori ryerkerk quarter result earnings call transcript TICKER_ce\n",
      "\n",
      "Index: 4377\n",
      "Before cleaning: Österreichische Post AG's (VIE:POST) Earnings Dropped -16%, How Did It Fare Against The Industry?\n",
      "After cleaning: sterreichische post ag vie post earnings dropped PCT DECREASE percent fare industry\n",
      "\n",
      "Index: 4384\n",
      "Before cleaning: $VRNS - Varonis Systems, Inc. 2019 Q4 - Results - Earnings Call Presentation. https://t.co/nyoAzUyvoP #finance #stockmarket #economy\n",
      "After cleaning: varonis system inc quarter result earnings call presentation finance stockmarket economy TICKER_vrns\n",
      "\n",
      "Index: 4398\n",
      "Before cleaning: Ted Baker Chairman David Bernstein and CEO Lindsay Page are quitting after the British retailer slashed its full-year earnings… https://t.co/41jQ6Ni4ME\n",
      "After cleaning: ted baker chairman david bernstein ceo lindsay page quitting british retailer slashed full year earnings\n",
      "\n",
      "Index: 4414\n",
      "Before cleaning: Viper Energy Q4 2019 Earnings Preview\n",
      "After cleaning: viper energy quarter earnings preview\n",
      "\n",
      "Index: 4433\n",
      "Before cleaning: Edited Transcript of ALPHA.AT earnings conference call or presentation 19-Nov-19 4:30pm GMT\n",
      "After cleaning: edited transcript alpha earnings conference call presentation nov pm gmt\n",
      "\n",
      "Index: 4449\n",
      "Before cleaning: Why Target Earnings Are Phenomenal\n",
      "After cleaning: target earnings phenomenal\n",
      "\n",
      "Index: 4492\n",
      "Before cleaning: Omnicom Q4 2019 Earnings Preview\n",
      "After cleaning: omnicom quarter earnings preview\n",
      "\n",
      "Index: 4496\n",
      "Before cleaning: Edited Transcript of GTS earnings conference call or presentation 7-Nov-19 1:30pm GMT\n",
      "After cleaning: edited transcript gts earnings conference call presentation nov pm gmt\n",
      "\n",
      "Index: 4500\n",
      "Before cleaning: Edited Transcript of ESTE earnings conference call or presentation 7-Nov-19 5:00pm GMT\n",
      "After cleaning: edited transcript este earnings conference call presentation nov pm gmt\n",
      "\n",
      "Index: 4520\n",
      "Before cleaning: Conn's did not CONNect on earnings today as comps were weak https://t.co/z6yrORwrby $CONN\n",
      "After cleaning: conn connect earnings today comp weak TICKER_conn\n",
      "\n",
      "Index: 4539\n",
      "Before cleaning: Off-price retailer TJX shares rise after earnings and sales beat expectations\n",
      "After cleaning: price retailer tjx share rise earnings sale beat expectation\n",
      "\n",
      "Index: 4593\n",
      "Before cleaning: Do FDC's (NSE:FDC) Earnings Warrant Your Attention?\n",
      "After cleaning: fdc nse fdc earnings warrant attention\n",
      "\n",
      "Index: 4596\n",
      "Before cleaning: Vitasoy International Holdings Limited Earnings Missed Analyst Estimates: Here's What Analysts Are Forecasting Now\n",
      "After cleaning: vitasoy international holding limited earnings missed analyst estimate analyst forecasting\n",
      "\n",
      "Index: 4604\n",
      "Before cleaning: #HOLIDAY #SPECIALOFFER: Take 33% OFF streaming #market intelligence, #earnings #news coverage, sophisticated… https://t.co/Uq9axnEBQT\n",
      "After cleaning: holiday specialoffer take percent percent streaming market intelligence earnings news coverage sophisticated\n",
      "\n",
      "Index: 4660\n",
      "Before cleaning: CNA Financial Corp (CNA) Q4 2019 Earnings Call Transcript\n",
      "After cleaning: cna financial corp cna quarter earnings call transcript\n",
      "\n",
      "Index: 4683\n",
      "Before cleaning: Edited Transcript of GLOG earnings conference call or presentation 6-Feb-20 1:30pm GMT\n",
      "After cleaning: edited transcript glog earnings conference call presentation feb pm gmt\n",
      "\n",
      "Index: 4693\n",
      "Before cleaning: $PVG - Pretium Resources Q4 2019 Earnings Preview https://t.co/OVxJegx0zA\n",
      "After cleaning: pretium resource quarter earnings preview TICKER_pvg\n",
      "\n",
      "Index: 4709\n",
      "Before cleaning: Edited Transcript of LINC earnings conference call or presentation 14-Nov-19 3:00pm GMT\n",
      "After cleaning: edited transcript linc earnings conference call presentation nov pm gmt\n",
      "\n",
      "Index: 4741\n",
      "Before cleaning: $MAS - Masco Q4 2019 Earnings Preview https://t.co/udUM6KiMYT\n",
      "After cleaning: masco quarter earnings preview TICKER_mas\n",
      "\n",
      "Index: 4790\n",
      "Before cleaning: Earnings Update: Here's Why Analysts Just Lifted Their Milestone Scientific Inc. Price Target To US$2.00\n",
      "After cleaning: earnings update analyst lifted milestone scientific inc price target USA TICKER_2\n",
      "\n",
      "Index: 4829\n",
      "Before cleaning: Norsk Hydro reports lower Q4 earnings on weak aluminum prices\n",
      "After cleaning: norsk hydro report lower quarter earnings weak aluminum price\n",
      "\n",
      "Index: 4869\n",
      "Before cleaning: $IESC - IES Holdings, Inc. 2019 Q4 - Results - Earnings Call Presentation. Follow this and any other stock on Seeki… https://t.co/vgFgOd2BRC\n",
      "After cleaning: y holding inc quarter result earnings call presentation follow stock seeki TICKER_iesc\n",
      "\n",
      "Index: 4906\n",
      "Before cleaning: 6 Guru Stocks Expanding Earnings\n",
      "After cleaning: guru stock expanding earnings\n",
      "\n",
      "Index: 4916\n",
      "Before cleaning: 3M Stock Is a Toxic Stock After Earnings\n",
      "After cleaning: stock toxic stock earnings\n",
      "\n",
      "Index: 5006\n",
      "Before cleaning: Edited Transcript of ASH.N earnings conference call or presentation 19-Nov-19 2:00pm GMT\n",
      "After cleaning: edited transcript ash n earnings conference call presentation nov pm gmt\n",
      "\n",
      "Index: 5014\n",
      "Before cleaning: $SJM - The J. M. Smucker Company 2019 Q2 - Results - Earnings Call Presentation. Get more info on Seeking Alpha:… https://t.co/T6Qjirn2N4\n",
      "After cleaning: j smucker company quarter result earnings call presentation get info seeking alpha TICKER_sjm\n",
      "\n",
      "Index: 5024\n",
      "Before cleaning: $DVA - DaVita Q4 earnings up 51%; shares up 4% after hours https://t.co/CDXnnSXb3d\n",
      "After cleaning: davita quarter earnings up percent percent share up percent percent hour TICKER_dva\n",
      "\n",
      "Index: 5147\n",
      "Before cleaning: $AKAM - Akamai Q4 2019 Earnings Preview https://t.co/coM9VnoTwQ\n",
      "After cleaning: akamai quarter earnings preview TICKER_akam\n",
      "\n",
      "Index: 5155\n",
      "Before cleaning: $TGNA - TEGNA Q4 2019 Earnings Preview https://t.co/bT6mu0WSeg\n",
      "After cleaning: tegna quarter earnings preview TICKER_tgna\n",
      "\n",
      "Index: 5165\n",
      "Before cleaning: Amazon hits $1 trillion on blowout earnings beat what the pros are watching now $AMZN (via @TradingNation) https://t.co/RCmE2HVjcC\n",
      "After cleaning: amazon hit trillion blowout earnings beat pro watching via tradingnation TICKER_1 TICKER_amzn\n",
      "\n",
      "Index: 5189\n",
      "Before cleaning: Edited Transcript of NE earnings conference call or presentation 31-Oct-19 1:00pm GMT\n",
      "After cleaning: edited transcript ne earnings conference call presentation oct pm gmt\n",
      "\n",
      "Index: 5215\n",
      "Before cleaning: #SpecialOffer 33% OFF live streaming #market #analysis of #earnings #economic #news https://t.co/8b7VdvjsxW #stocks… https://t.co/uBvoEDB0I9\n",
      "After cleaning: specialoffer percent percent live streaming market analysis earnings economic news stock\n",
      "\n",
      "Index: 5248\n",
      "Before cleaning: American Water Announces 10 Year Capital Spending Plan, Sets Long Term Growth Targets and Announces 2020 Earnings G… https://t.co/4g2Cerj27y\n",
      "After cleaning: american water announces year capital spending plan set long term growth target announces earnings g\n",
      "\n",
      "Index: 5251\n",
      "Before cleaning: Edited Transcript of PLZ.UN.TO earnings conference call or presentation 7-Nov-19 7:00pm GMT\n",
      "After cleaning: edited transcript plz un earnings conference call presentation nov pm gmt\n",
      "\n",
      "Index: 5310\n",
      "Before cleaning: Edited Transcript of TWOU earnings conference call or presentation 6-Feb-20 9:30pm GMT\n",
      "After cleaning: edited transcript twou earnings conference call presentation feb pm gmt\n",
      "\n",
      "Index: 5315\n",
      "Before cleaning: $TGH - Textainer Group Holdings Q4 2019 Earnings Preview https://t.co/QLltw7YV5t\n",
      "After cleaning: textainer group holding quarter earnings preview TICKER_tgh\n",
      "\n",
      "Index: 5322\n",
      "Before cleaning: Edited Transcript of NG.L earnings conference call or presentation 14-Nov-19 9:15am GMT\n",
      "After cleaning: edited transcript ng l earnings conference call presentation nov gmt\n",
      "\n",
      "Index: 5355\n",
      "Before cleaning: $STMP - https://t.co/wOfhBECRjc Inc. 2019 Q3 - Results - Earnings Call Presentation. Get more updates here:… https://t.co/goFXNQ6vEb\n",
      "After cleaning: inc quarter result earnings call presentation get update TICKER_stmp\n",
      "\n",
      "Index: 5369\n",
      "Before cleaning: $LKQ \n",
      "Beautiful setup for next week from the #PowerEarningsGap list!\n",
      "I'd love to see it chop sideways for 1 or 2 mo… https://t.co/R7Wn7EZ5ur\n",
      "After cleaning: beautiful setup next week powerearningsgap list love see chop sideways mo TICKER_lkq\n",
      "\n",
      "Index: 5371\n",
      "Before cleaning: Dragonfly Capital Premium is open to all. An Open House! Earnings trade, short term scans, Macro Review and Sunday… https://t.co/L04c3VJTN7\n",
      "After cleaning: dragonfly capital premium open open house earnings trade short term scan macro review sunday\n",
      "\n",
      "Index: 5405\n",
      "Before cleaning: $GPS - Assessing If Gap's Earnings Beat Can Launch Shares Higher. Get more info on Seeking Alpha:… https://t.co/gWXJlDmGXU\n",
      "After cleaning: assessing gap earnings beat launch share higher get info seeking alpha TICKER_gps\n",
      "\n",
      "Index: 5413\n",
      "Before cleaning: Target shares surge after company crushes earnings and raises forecast\n",
      "After cleaning: target share surge company crush earnings raise forecast\n",
      "\n",
      "Index: 5435\n",
      "Before cleaning: Opera Limited Just Beat Earnings Expectations: Here's What Analysts Think Will Happen Next\n",
      "After cleaning: opera limited beat earnings expectation analyst think happen next\n",
      "\n",
      "Index: 5473\n",
      "Before cleaning: Qualcomm Shares Dip Even After Q1 Earnings Beat Over China Coronavirus Outlook\n",
      "After cleaning: qualcomm share dip even quarter earnings beat china coronavirus outlook\n",
      "\n",
      "Index: 5491\n",
      "Before cleaning: AbbVie Reports Estimate-Beating Fourth-Quarter Earnings Results\n",
      "After cleaning: abbvie report estimate beating fourth quarter earnings result\n",
      "\n",
      "Index: 5498\n",
      "Before cleaning: $JCI - Johnson Controls International plc 2019 Q4 - Results - Earnings Call Presentation. https://t.co/9JpjY6ZVyT... https://t.co/EFozmcxpOa\n",
      "After cleaning: johnson control international plc quarter result earnings call presentation TICKER_jci\n",
      "\n",
      "Index: 5512\n",
      "Before cleaning: $RMR - The RMR Group Inc. (RMR) CEO Adam Portnoy on Q4 2019 Results - Earnings Call Transcript. Continue reading:… https://t.co/b3afpuHMD7\n",
      "After cleaning: rmr group inc rmr ceo adam portnoy quarter result earnings call transcript continue reading TICKER_rmr\n",
      "\n",
      "Index: 5554\n",
      "Before cleaning: $MRLN - Marlin Business Services Corp. (MRLN) CEO Jeff Hilzinger on Q4 2019 Results - Earnings Call Transcript.... https://t.co/FKhxTotwyn\n",
      "After cleaning: marlin business service corp mrln ceo jeff hilzinger quarter result earnings call transcript TICKER_mrln\n",
      "\n",
      "Index: 5581\n",
      "Before cleaning: Edited Transcript of PIRS earnings conference call or presentation 11-Nov-19 1:00pm GMT\n",
      "After cleaning: edited transcript pirs earnings conference call presentation nov pm gmt\n",
      "\n",
      "Index: 5685\n",
      "Before cleaning: Edited Transcript of BMY earnings conference call or presentation 31-Oct-19 12:30pm GMT\n",
      "After cleaning: edited transcript bmy earnings conference call presentation oct pm gmt\n",
      "\n",
      "Index: 5716\n",
      "Before cleaning: $TBBK - Bancorp, Inc. (TBBK) CEO Damian Kozlowski on Q4 2019 Results - Earnings Call Transcript.... https://t.co/ORnVCSrAvN\n",
      "After cleaning: bancorp inc tbbk ceo damian kozlowski quarter result earnings call transcript TICKER_tbbk\n",
      "\n",
      "Index: 5728\n",
      "Before cleaning: Edited Transcript of VLA.PA earnings conference call or presentation 31-Oct-19 1:00pm GMT\n",
      "After cleaning: edited transcript vla pa earnings conference call presentation oct pm gmt\n",
      "\n",
      "Index: 5745\n",
      "Before cleaning: $ITP Entry 1.05 @here Tissue Paper News Played it once already now going for new highs, has news saying earnings go… https://t.co/HyZvPnbOn5\n",
      "After cleaning: entry tissue paper news played already going new high news saying earnings go TICKER_itp\n",
      "\n",
      "Index: 5749\n",
      "Before cleaning: S&P 500 earnings upside in 2020 will ‘primarily depend’ on U.S.-China trade deal, says JP Morgan https://t.co/CZBvuUZvJW\n",
      "After cleaning: sp earnings upside primarily depend USA china trade deal say jp morgan\n",
      "\n",
      "Index: 5750\n",
      "Before cleaning: NMC Health Plc (LON:NMC): Has Recent Earnings Growth Beaten Long-Term Trend?\n",
      "After cleaning: nmc health plc lon nmc recent earnings growth beaten long term trend\n",
      "\n",
      "Index: 5756\n",
      "Before cleaning: $KLBAY - Klabin S.A. (KLBAY) CEO Cristiano Teixeira on Q4 2019 Results - Earnings Call Transcript.… https://t.co/MaVUWFrm1b\n",
      "After cleaning: klabin klbay ceo cristiano teixeira quarter result earnings call transcript TICKER_klbay\n",
      "\n",
      "Index: 5781\n",
      "Before cleaning: Edited Transcript of LXP earnings conference call or presentation 6-Nov-19 1:30pm GMT\n",
      "After cleaning: edited transcript lxp earnings conference call presentation nov pm gmt\n",
      "\n",
      "Index: 5895\n",
      "Before cleaning: Edited Transcript of ADN.TO earnings conference call or presentation 31-Oct-19 5:00pm GMT\n",
      "After cleaning: edited transcript adn earnings conference call presentation oct pm gmt\n",
      "\n",
      "Index: 5914\n",
      "Before cleaning: Edited Transcript of MGP earnings conference call or presentation 5-Nov-19 5:30pm GMT\n",
      "After cleaning: edited transcript mgp earnings conference call presentation nov pm gmt\n",
      "\n",
      "Index: 5915\n",
      "Before cleaning: $HD is down 10% to $213 a share since Nov. 18, just before the company beat expectations on third-quarter earnings… https://t.co/jSqHG82RCz\n",
      "After cleaning: down percent percent share since nov company beat expectation third quarter earnings TICKER_hd TICKER_213\n",
      "\n",
      "Index: 5927\n",
      "Before cleaning: $LYFT - Lyft Q4 2019 Earnings Preview https://t.co/L5wp8VZjnZ\n",
      "After cleaning: lyft quarter earnings preview TICKER_lyft\n",
      "\n",
      "Index: 5945\n",
      "Before cleaning: Edited Transcript of CTK.N earnings conference call or presentation 18-Nov-19 1:00pm GMT\n",
      "After cleaning: edited transcript ctk n earnings conference call presentation nov pm gmt\n",
      "\n",
      "Index: 5968\n",
      "Before cleaning: Edited Transcript of NEW.N earnings conference call or presentation 18-Nov-19 1:00pm GMT\n",
      "After cleaning: edited transcript new n earnings conference call presentation nov pm gmt\n",
      "\n",
      "Index: 6033\n",
      "Before cleaning: Pretium Resources Q4 2019 Earnings Preview\n",
      "After cleaning: pretium resource quarter earnings preview\n",
      "\n",
      "Index: 6078\n",
      "Before cleaning: $MATW - Matthews International Corporation (MATW) CEO Joseph Bartolacci on Q1 2020 Results - Earnings Call Transcri... https://t.co/qgAPkOK63r\n",
      "After cleaning: matthew international corporation matw ceo joseph bartolacci quarter result earnings call transcri TICKER_matw\n",
      "\n",
      "Index: 6095\n",
      "Before cleaning: RingCentral : Q4 2019 Earnings Presentation #RingCentral #Stock #MarketScreener https://t.co/GA95YZmZ6f https://t.co/ZQ1KQ4GaIz\n",
      "After cleaning: ringcentral quarter earnings presentation ringcentral stock marketscreener\n",
      "\n",
      "Index: 6180\n",
      "Before cleaning: GameStop $GME reports earnings: \n",
      "Net sales: $1.38 billion; decrease of 25.7% \n",
      "Diluted loss per share of $1.02\n",
      "After cleaning: gamestop report earnings net sale billion decrease percent percent diluted loss per share TICKER_gme TICKER_1 TICKER_1\n",
      "\n",
      "Index: 6217\n",
      "Before cleaning: Results: KLA Corporation Beat Earnings Expectations And Analysts Now Have New Forecasts\n",
      "After cleaning: result kla corporation beat earnings expectation analyst new forecast\n",
      "\n",
      "Index: 6224\n",
      "Before cleaning: Edited Transcript of NCM.AX earnings conference call or presentation 16-Aug-19 12:00am GMT\n",
      "After cleaning: edited transcript ncm ax earnings conference call presentation aug gmt\n",
      "\n",
      "Index: 6279\n",
      "Before cleaning: $IVC - Invacare Corporation 2019 Q4 - Results - Earnings Call Presentation. https://t.co/Am1vTFsiTa #business #trading #finance\n",
      "After cleaning: invacare corporation quarter result earnings call presentation business trading finance TICKER_ivc\n",
      "\n",
      "Index: 6311\n",
      "Before cleaning: $FL - Foot Locker, Inc. (FL) CEO Richard Johnson on Q3 2019 Results - Earnings Call Transcript. Continue reading:… https://t.co/q4CT5B2xb9\n",
      "After cleaning: foot locker inc fl ceo richard johnson quarter result earnings call transcript continue reading TICKER_fl\n",
      "\n",
      "Index: 6332\n",
      "Before cleaning: $LEVI - Levi Strauss +4% after earnings topper, update on China https://t.co/OPiFbkjYwV\n",
      "After cleaning: levi strauss PCT INCREASE percent earnings topper update china TICKER_levi\n",
      "\n",
      "Index: 6351\n",
      "Before cleaning: Edited Transcript of BDX earnings conference call or presentation 6-Feb-20 1:00pm GMT\n",
      "After cleaning: edited transcript bdx earnings conference call presentation feb pm gmt\n",
      "\n",
      "Index: 6381\n",
      "Before cleaning: $NTNX - Nutanix Q1 2020 Earnings Preview https://t.co/vJFHtoIEH1\n",
      "After cleaning: nutanix quarter earnings preview TICKER_ntnx\n",
      "\n",
      "Index: 6383\n",
      "Before cleaning: Edited Transcript of GTX.N earnings conference call or presentation 8-Nov-19 1:30pm GMT\n",
      "After cleaning: edited transcript gtx n earnings conference call presentation nov pm gmt\n",
      "\n",
      "Index: 6406\n",
      "Before cleaning: Lowe's +5% on raising adjusted operating margin and earnings outlook for FY2019\n",
      "After cleaning: lowe PCT INCREASE percent raising adjusted operating margin earnings outlook fy\n",
      "\n",
      "Index: 6438\n",
      "Before cleaning: Selvaag Bolig ASA Just Beat Earnings Expectations: Here's What Analysts Think Will Happen Next\n",
      "After cleaning: selvaag bolig asa beat earnings expectation analyst think happen next\n",
      "\n",
      "Index: 6463\n",
      "Before cleaning: Edited Transcript of JKS earnings conference call or presentation 19-Nov-19 12:30pm GMT\n",
      "After cleaning: edited transcript jks earnings conference call presentation nov pm gmt\n",
      "\n",
      "Index: 6540\n",
      "Before cleaning: $CHTR - Charter Communications, Inc. 2019 Q4 - Results - Earnings Call Presentation. https://t.co/bhq3LLp2Io #markets #finance #trading\n",
      "After cleaning: charter communication inc quarter result earnings call presentation market finance trading TICKER_chtr\n",
      "\n",
      "Index: 6549\n",
      "Before cleaning: Edited Transcript of CNO earnings conference call or presentation 6-Nov-19 4:00pm GMT\n",
      "After cleaning: edited transcript cno earnings conference call presentation nov pm gmt\n",
      "\n",
      "Index: 6568\n",
      "Before cleaning: $DXLG - Destination XL Group, Inc. (DXLG) CEO Harvey Kanter on Q3 2019 Results - Earnings Call Transcript. Read mor… https://t.co/mKWMebKyjD\n",
      "After cleaning: destination xl group inc dxlg ceo harvey kanter quarter result earnings call transcript read mor TICKER_dxlg\n",
      "\n",
      "Index: 6577\n",
      "Before cleaning: $PNNT - PennantPark Investment's (PNNT) CEO Art Penn on Q4 2019 Results - Earnings Call Transcript. Get more info o… https://t.co/CBeG6lJRGw\n",
      "After cleaning: pennantpark investment pnnt ceo art penn quarter result earnings call transcript get info TICKER_pnnt\n",
      "\n",
      "Index: 6612\n",
      "Before cleaning: Earnings Preview: What To Expect From Home Depot On Tuesday\n",
      "After cleaning: earnings preview expect home depot tuesday\n",
      "\n",
      "Index: 6635\n",
      "Before cleaning: Xylem Reports Fourth Quarter and Full-year 2019 Earnings\n",
      "After cleaning: xylem report fourth quarter full year earnings\n",
      "\n",
      "Index: 6686\n",
      "Before cleaning: $PROSY $PROSF - Prosus N.V. 2020 Q2 - Results - Earnings Call Presentation. Keep reading: https://t.co/vbvV19xsPV… https://t.co/Bb2gAWDkUc\n",
      "After cleaning: prosus n v quarter result earnings call presentation keep reading TICKER_prosy TICKER_prosf\n",
      "\n",
      "Index: 6696\n",
      "Before cleaning: Edited Transcript of MANU earnings conference call or presentation 18-Nov-19 1:00pm GMT\n",
      "After cleaning: edited transcript manu earnings conference call presentation nov pm gmt\n",
      "\n",
      "Index: 6783\n",
      "Before cleaning: Edited Transcript of PPC earnings conference call or presentation 31-Oct-19 1:00pm GMT\n",
      "After cleaning: edited transcript ppc earnings conference call presentation oct pm gmt\n",
      "\n",
      "Index: 6792\n",
      "Before cleaning: Edited Transcript of ATKR earnings conference call or presentation 22-Nov-19 1:00pm GMT\n",
      "After cleaning: edited transcript atkr earnings conference call presentation nov pm gmt\n",
      "\n",
      "Index: 6846\n",
      "Before cleaning: Twitter shares soar after reporting strong user numbers and miss on earnings\n",
      "After cleaning: twitter share soar reporting strong user number miss earnings\n",
      "\n",
      "Index: 6872\n",
      "Before cleaning: JPMorgan positive on Five Below into earnings\n",
      "After cleaning: jpmorgan positive five earnings\n",
      "\n",
      "Index: 6876\n",
      "Before cleaning: Edited Transcript of GFF earnings conference call or presentation 13-Nov-19 9:30pm GMT\n",
      "After cleaning: edited transcript gff earnings conference call presentation nov pm gmt\n",
      "\n",
      "Index: 6896\n",
      "Before cleaning: $LQDT - Liquidity Services, Inc. (LQDT) CEO Bill Angrick on Q4 2019 Results - Earnings Call Transcript. Read more a… https://t.co/eNAf5o0hp4\n",
      "After cleaning: liquidity service inc lqdt ceo bill angrick quarter result earnings call transcript read TICKER_lqdt\n",
      "\n",
      "Index: 6909\n",
      "Before cleaning: Ambarella's Q3 Earnings Preview\n",
      "After cleaning: ambarella quarter earnings preview\n",
      "\n",
      "Index: 6927\n",
      "Before cleaning: Stocks close mostly lower on earnings concerns\n",
      "After cleaning: stock close mostly lower earnings concern\n",
      "\n",
      "Index: 6953\n",
      "Before cleaning: $PIPR - Piper Sandler Companies (PIPR) CEO Chad Abraham on Q4 2019 Results - Earnings Call Transcript.... https://t.co/NWjzIorGVT\n",
      "After cleaning: piper sandler company pipr ceo chad abraham quarter result earnings call transcript TICKER_pipr\n",
      "\n",
      "Index: 7016\n",
      "Before cleaning: Upcoming #earnings reports https://t.co/iuOOhFSK6t $JEC $A $AMBA $BECN $CAL $GBDC $HPE $MTSC $NTNX $PANW $PVH $SR… https://t.co/6QBMgOkBiv\n",
      "After cleaning: upcoming earnings report TICKER_jec TICKER_a TICKER_amba TICKER_becn TICKER_cal TICKER_gbdc TICKER_hpe TICKER_mtsc TICKER_ntnx TICKER_panw TICKER_pvh TICKER_sr\n",
      "\n",
      "Index: 7018\n",
      "Before cleaning: Edited Transcript of LEE earnings conference call or presentation 12-Dec-19 3:00pm GMT\n",
      "After cleaning: edited transcript lee earnings conference call presentation dec pm gmt\n",
      "\n",
      "Index: 7019\n",
      "Before cleaning: Edited Transcript of KWR earnings conference call or presentation 13-Nov-19 1:30pm GMT\n",
      "After cleaning: edited transcript kwr earnings conference call presentation nov pm gmt\n",
      "\n",
      "Index: 7021\n",
      "Before cleaning: Madison Square Garden blows past Q4 earnings estimates\n",
      "After cleaning: madison square garden blow past quarter earnings estimate\n",
      "\n",
      "Index: 7025\n",
      "Before cleaning: Edited Transcript of VNET earnings conference call or presentation 19-Nov-19 1:00am GMT\n",
      "After cleaning: edited transcript vnet earnings conference call presentation nov gmt\n",
      "\n",
      "Index: 7026\n",
      "Before cleaning: Here's What to Like About Lannett's Q2 Earnings Results\n",
      "After cleaning: like lannett quarter earnings result\n",
      "\n",
      "Index: 7064\n",
      "Before cleaning: Earnings Miss: Village Farms International, Inc. Missed EPS And Analysts Are Revising Their Forecasts\n",
      "After cleaning: earnings miss village farm international inc missed eps analyst revising forecast\n",
      "\n",
      "Index: 7088\n",
      "Before cleaning: $OLLI - Ollie's higher after earnings topper https://t.co/0kWQfm6beU\n",
      "After cleaning: ollie higher earnings topper TICKER_olli\n",
      "\n",
      "Index: 7098\n",
      "Before cleaning: Lyft breaks out ahead of earnings as ride sharing sentiment improves (LYFT)    \n",
      "https://t.co/apMBzsImcc $LYFT\n",
      "After cleaning: lyft break ahead earnings ride sharing sentiment improves lyft TICKER_lyft\n",
      "\n",
      "Index: 7104\n",
      "Before cleaning: Dow futures pare gains as Home Depot's stock sinks 5% after third-quarter earnings\n",
      "After cleaning: dow future pare gain home depot stock sink percent percent third quarter earnings\n",
      "\n",
      "Index: 7133\n",
      "Before cleaning: $JEC - Jacobs Engineering Group Inc. 2019 Q4 - Results - Earnings Call Presentation. Sign up for updates on Seeking… https://t.co/76wx5N18v7\n",
      "After cleaning: jacob engineering group inc quarter result earnings call presentation sign up update seeking TICKER_jec\n",
      "\n",
      "Index: 7220\n",
      "Before cleaning: $BXMT - Blackstone Mortgage Trust Q4 Earnings Preview https://t.co/2QnMnGYB1E\n",
      "After cleaning: blackstone mortgage trust quarter earnings preview TICKER_bxmt\n",
      "\n",
      "Index: 7245\n",
      "Before cleaning: DaVita HealthCare (DVA) Tops Q4 Earnings Estimates\n",
      "After cleaning: davita healthcare dva top quarter earnings estimate\n",
      "\n",
      "Index: 7258\n",
      "Before cleaning: $ACM - AECOM: Given Disappointing Earnings And No M&A News, ACM Is A Trading Sell. https://t.co/0QlOr3sV7h #stockmarket #markets #stocks\n",
      "After cleaning: aecom given disappointing earnings news acm trading sell stockmarket market stock TICKER_acm\n",
      "\n",
      "Index: 7263\n",
      "Before cleaning: $BL - BlackLine, Inc. 2019 Q3 - Results - Earnings Call Presentation. Follow this and any other stock on Seeking Al… https://t.co/IGN80h0kEh\n",
      "After cleaning: blackline inc quarter result earnings call presentation follow stock seeking al TICKER_bl\n",
      "\n",
      "Index: 7266\n",
      "Before cleaning: Premium Earnings 2-10-20: Mercadolibre and Under Armour, on the blog and here https://t.co/XccXiIk8le\n",
      "After cleaning: premium earnings mercadolibre armour blog\n",
      "\n",
      "Index: 7298\n",
      "Before cleaning: Edited Transcript of NSPR earnings conference call or presentation 12-Nov-19 1:30pm GMT\n",
      "After cleaning: edited transcript nspr earnings conference call presentation nov pm gmt\n",
      "\n",
      "Index: 7383\n",
      "Before cleaning: Hasbro upgraded on earnings growth potential from Entertainment One acquisition\n",
      "After cleaning: hasbro upgraded earnings growth potential entertainment one acquisition\n",
      "\n",
      "Index: 7398\n",
      "Before cleaning: Edited Transcript of OTEL earnings conference call or presentation 6-Nov-19 4:30pm GMT\n",
      "After cleaning: edited transcript otel earnings conference call presentation nov pm gmt\n",
      "\n",
      "Index: 7487\n",
      "Before cleaning: $HPE - Hewlett Packard Enterprise Q4 2019 Earnings Preview https://t.co/edNcM1ZoyL\n",
      "After cleaning: hewlett packard enterprise quarter earnings preview TICKER_hpe\n",
      "\n",
      "Index: 7523\n",
      "Before cleaning: WeWork chairman tells employees the plan is to have positive adjusted earnings by 2021 https://t.co/B4ZfxiJXI8\n",
      "After cleaning: wework chairman tell employee plan positive adjusted earnings\n",
      "\n",
      "Index: 7564\n",
      "Before cleaning: $SEE - Sealed Air Q4 2019 Earnings Preview https://t.co/YTyryqPuwW\n",
      "After cleaning: sealed air quarter earnings preview TICKER_see\n",
      "\n",
      "Index: 7590\n",
      "Before cleaning: Edited Transcript of SLF.TO earnings conference call or presentation 7-Nov-19 3:00pm GMT\n",
      "After cleaning: edited transcript slf earnings conference call presentation nov pm gmt\n"
     ]
    }
   ],
   "source": [
    "#Comparing before and after the cleaning\n",
    "for i, text in enumerate(x_train):\n",
    "    if \"earnings\" in text.lower():\n",
    "        print(f\"\\nIndex: {i}\")\n",
    "        print(\"Before cleaning:\", text)\n",
    "        print(\"After cleaning:\", x_train_cleaned[i])"
   ]
  },
  {
   "cell_type": "code",
   "execution_count": 79,
   "id": "c6932c9b-84ca-4faa-9d47-0b2448b1e9a2",
   "metadata": {},
   "outputs": [],
   "source": [
    "x_train_cleaned_df = pd.DataFrame(x_train_cleaned, columns=['text'], index=x_train.index) #convert the list to a Dataframe"
   ]
  },
  {
   "cell_type": "code",
   "execution_count": 80,
   "id": "858f8610",
   "metadata": {},
   "outputs": [],
   "source": [
    "x_val_cleaned_df = pd.DataFrame(x_val_cleaned, columns=['text'], index=x_val.index) #convert the list to a Dataframe"
   ]
  },
  {
   "cell_type": "code",
   "execution_count": 81,
   "id": "24a6bbc6-0e8d-482d-9afd-07dbcce2707c",
   "metadata": {},
   "outputs": [
    {
     "data": {
      "text/plain": [
       "(7634,)"
      ]
     },
     "execution_count": 81,
     "metadata": {},
     "output_type": "execute_result"
    }
   ],
   "source": [
    "x_train.shape #checking the number of rows originally"
   ]
  },
  {
   "cell_type": "code",
   "execution_count": 82,
   "id": "fa9207fe-840c-4484-a43c-b22b01b44974",
   "metadata": {},
   "outputs": [
    {
     "data": {
      "text/plain": [
       "(7634, 1)"
      ]
     },
     "execution_count": 82,
     "metadata": {},
     "output_type": "execute_result"
    }
   ],
   "source": [
    "x_train_cleaned_df.shape #checking the number of rows after cleaning, no row was completely eliminated"
   ]
  },
  {
   "cell_type": "markdown",
   "id": "a903ab56-c394-4c64-9ee8-a449fd5327c1",
   "metadata": {},
   "source": [
    "**Note:** `Lemmatize` was chosen because stemming may produce words that do not exist and is less accurate"
   ]
  },
  {
   "cell_type": "code",
   "execution_count": 83,
   "id": "4f93a94c-2fa2-42f2-9f99-7a3af54967ca",
   "metadata": {},
   "outputs": [
    {
     "data": {
      "text/html": [
       "<div>\n",
       "<style scoped>\n",
       "    .dataframe tbody tr th:only-of-type {\n",
       "        vertical-align: middle;\n",
       "    }\n",
       "\n",
       "    .dataframe tbody tr th {\n",
       "        vertical-align: top;\n",
       "    }\n",
       "\n",
       "    .dataframe thead th {\n",
       "        text-align: right;\n",
       "    }\n",
       "</style>\n",
       "<table border=\"1\" class=\"dataframe\">\n",
       "  <thead>\n",
       "    <tr style=\"text-align: right;\">\n",
       "      <th></th>\n",
       "      <th>text</th>\n",
       "    </tr>\n",
       "  </thead>\n",
       "  <tbody>\n",
       "    <tr>\n",
       "      <th>2186</th>\n",
       "      <td>nasdaq price percent percent senior note</td>\n",
       "    </tr>\n",
       "    <tr>\n",
       "      <th>6819</th>\n",
       "      <td>future up</td>\n",
       "    </tr>\n",
       "    <tr>\n",
       "      <th>6157</th>\n",
       "      <td>november nonfarm private payroll k v k consens...</td>\n",
       "    </tr>\n",
       "    <tr>\n",
       "      <th>2462</th>\n",
       "      <td>twitter user explain kohl stock got obliterate...</td>\n",
       "    </tr>\n",
       "    <tr>\n",
       "      <th>4097</th>\n",
       "      <td>agilysys restaurant find sustainable method li...</td>\n",
       "    </tr>\n",
       "  </tbody>\n",
       "</table>\n",
       "</div>"
      ],
      "text/plain": [
       "                                                   text\n",
       "2186           nasdaq price percent percent senior note\n",
       "6819                                          future up\n",
       "6157  november nonfarm private payroll k v k consens...\n",
       "2462  twitter user explain kohl stock got obliterate...\n",
       "4097  agilysys restaurant find sustainable method li..."
      ]
     },
     "execution_count": 83,
     "metadata": {},
     "output_type": "execute_result"
    }
   ],
   "source": [
    "x_train_cleaned_df.head()"
   ]
  },
  {
   "cell_type": "code",
   "execution_count": 84,
   "id": "6fda0d53",
   "metadata": {},
   "outputs": [
    {
     "data": {
      "text/html": [
       "<div>\n",
       "<style scoped>\n",
       "    .dataframe tbody tr th:only-of-type {\n",
       "        vertical-align: middle;\n",
       "    }\n",
       "\n",
       "    .dataframe tbody tr th {\n",
       "        vertical-align: top;\n",
       "    }\n",
       "\n",
       "    .dataframe thead th {\n",
       "        text-align: right;\n",
       "    }\n",
       "</style>\n",
       "<table border=\"1\" class=\"dataframe\">\n",
       "  <thead>\n",
       "    <tr style=\"text-align: right;\">\n",
       "      <th></th>\n",
       "      <th>text</th>\n",
       "    </tr>\n",
       "  </thead>\n",
       "  <tbody>\n",
       "    <tr>\n",
       "      <th>2186</th>\n",
       "      <td>nasdaq price percent percent senior note</td>\n",
       "    </tr>\n",
       "    <tr>\n",
       "      <th>6819</th>\n",
       "      <td>future up</td>\n",
       "    </tr>\n",
       "    <tr>\n",
       "      <th>6157</th>\n",
       "      <td>november nonfarm private payroll k v k consens...</td>\n",
       "    </tr>\n",
       "    <tr>\n",
       "      <th>2462</th>\n",
       "      <td>twitter user explain kohl stock got obliterate...</td>\n",
       "    </tr>\n",
       "    <tr>\n",
       "      <th>4097</th>\n",
       "      <td>agilysys restaurant find sustainable method li...</td>\n",
       "    </tr>\n",
       "    <tr>\n",
       "      <th>...</th>\n",
       "      <td>...</td>\n",
       "    </tr>\n",
       "    <tr>\n",
       "      <th>2807</th>\n",
       "      <td>japan tobacco report fy result</td>\n",
       "    </tr>\n",
       "    <tr>\n",
       "      <th>704</th>\n",
       "      <td>fed emergence power player pose new risk indep...</td>\n",
       "    </tr>\n",
       "    <tr>\n",
       "      <th>990</th>\n",
       "      <td>rise home fitness service could benefit lulule...</td>\n",
       "    </tr>\n",
       "    <tr>\n",
       "      <th>4362</th>\n",
       "      <td>daniel loeb top buy rd quarter</td>\n",
       "    </tr>\n",
       "    <tr>\n",
       "      <th>7664</th>\n",
       "      <td>zee entertainment subhash chandra resigns chai...</td>\n",
       "    </tr>\n",
       "  </tbody>\n",
       "</table>\n",
       "<p>7634 rows × 1 columns</p>\n",
       "</div>"
      ],
      "text/plain": [
       "                                                   text\n",
       "2186           nasdaq price percent percent senior note\n",
       "6819                                          future up\n",
       "6157  november nonfarm private payroll k v k consens...\n",
       "2462  twitter user explain kohl stock got obliterate...\n",
       "4097  agilysys restaurant find sustainable method li...\n",
       "...                                                 ...\n",
       "2807                     japan tobacco report fy result\n",
       "704   fed emergence power player pose new risk indep...\n",
       "990   rise home fitness service could benefit lulule...\n",
       "4362                     daniel loeb top buy rd quarter\n",
       "7664  zee entertainment subhash chandra resigns chai...\n",
       "\n",
       "[7634 rows x 1 columns]"
      ]
     },
     "execution_count": 84,
     "metadata": {},
     "output_type": "execute_result"
    }
   ],
   "source": [
    "x_train_cleaned_df"
   ]
  },
  {
   "cell_type": "code",
   "execution_count": 85,
   "id": "ea2566e6",
   "metadata": {},
   "outputs": [],
   "source": [
    "train_cleaned_df = pd.DataFrame({\n",
    "    'text': x_train_cleaned,\n",
    "    'label': y_train\n",
    "}, index=x_train.index)"
   ]
  },
  {
   "cell_type": "code",
   "execution_count": 86,
   "id": "6d90e272",
   "metadata": {},
   "outputs": [],
   "source": [
    "with open('train_val_split.pkl', 'wb') as f:\n",
    "    pickle.dump({\n",
    "        'x_train': x_train_cleaned_df,\n",
    "        'x_val': x_val_cleaned_df,\n",
    "        'y_train': y_train,\n",
    "        'y_val': y_val\n",
    "    }, f)"
   ]
  },
  {
   "cell_type": "markdown",
   "id": "fc6cc916",
   "metadata": {},
   "source": [
    "# **6.** **Exploratory Analysis w/ clean data**"
   ]
  },
  {
   "cell_type": "markdown",
   "id": "6769138d-ea3a-47c1-bd9f-3aa010efc80d",
   "metadata": {},
   "source": [
    "## **6.1** Word Count in the cleaned dataset"
   ]
  },
  {
   "cell_type": "code",
   "execution_count": 87,
   "id": "853c7d75-d760-458f-a9b4-b8c6afeba128",
   "metadata": {},
   "outputs": [
    {
     "data": {
      "text/html": [
       "<div>\n",
       "<style scoped>\n",
       "    .dataframe tbody tr th:only-of-type {\n",
       "        vertical-align: middle;\n",
       "    }\n",
       "\n",
       "    .dataframe tbody tr th {\n",
       "        vertical-align: top;\n",
       "    }\n",
       "\n",
       "    .dataframe thead th {\n",
       "        text-align: right;\n",
       "    }\n",
       "</style>\n",
       "<table border=\"1\" class=\"dataframe\">\n",
       "  <thead>\n",
       "    <tr style=\"text-align: right;\">\n",
       "      <th></th>\n",
       "      <th>text</th>\n",
       "      <th>word_count</th>\n",
       "    </tr>\n",
       "  </thead>\n",
       "  <tbody>\n",
       "    <tr>\n",
       "      <th>2186</th>\n",
       "      <td>nasdaq price percent percent senior note</td>\n",
       "      <td>6</td>\n",
       "    </tr>\n",
       "    <tr>\n",
       "      <th>6819</th>\n",
       "      <td>future up</td>\n",
       "      <td>2</td>\n",
       "    </tr>\n",
       "    <tr>\n",
       "      <th>6157</th>\n",
       "      <td>november nonfarm private payroll k v k consens...</td>\n",
       "      <td>9</td>\n",
       "    </tr>\n",
       "    <tr>\n",
       "      <th>2462</th>\n",
       "      <td>twitter user explain kohl stock got obliterate...</td>\n",
       "      <td>9</td>\n",
       "    </tr>\n",
       "    <tr>\n",
       "      <th>4097</th>\n",
       "      <td>agilysys restaurant find sustainable method li...</td>\n",
       "      <td>11</td>\n",
       "    </tr>\n",
       "  </tbody>\n",
       "</table>\n",
       "</div>"
      ],
      "text/plain": [
       "                                                   text  word_count\n",
       "2186           nasdaq price percent percent senior note           6\n",
       "6819                                          future up           2\n",
       "6157  november nonfarm private payroll k v k consens...           9\n",
       "2462  twitter user explain kohl stock got obliterate...           9\n",
       "4097  agilysys restaurant find sustainable method li...          11"
      ]
     },
     "execution_count": 87,
     "metadata": {},
     "output_type": "execute_result"
    }
   ],
   "source": [
    "x_train_cleaned_df['word_count']  = x_train_cleaned_df['text'].apply(lambda x: len(str(x).split(\" \")))\n",
    "x_train_cleaned_df[['text','word_count']].head()"
   ]
  },
  {
   "cell_type": "markdown",
   "id": "69922ebf-1254-4fa3-b6bb-74e62b63b89c",
   "metadata": {},
   "source": [
    "### **6.1.1** Descriptive Statistics of word count"
   ]
  },
  {
   "cell_type": "code",
   "execution_count": 88,
   "id": "d7b5fa91-e746-4fc1-98fd-bb967adbd761",
   "metadata": {},
   "outputs": [
    {
     "data": {
      "text/plain": [
       "count    7634.000000\n",
       "mean        8.724653\n",
       "std         2.928047\n",
       "min         1.000000\n",
       "25%         7.000000\n",
       "50%         9.000000\n",
       "75%        11.000000\n",
       "max        30.000000\n",
       "Name: word_count, dtype: float64"
      ]
     },
     "execution_count": 88,
     "metadata": {},
     "output_type": "execute_result"
    }
   ],
   "source": [
    "x_train_cleaned_df.word_count.describe()"
   ]
  },
  {
   "cell_type": "code",
   "execution_count": 89,
   "id": "12c81ca2-346c-4e17-b563-f0573e59b3c1",
   "metadata": {},
   "outputs": [
    {
     "data": {
      "image/png": "[encoded data removed]",
      "text/plain": [
       "<Figure size 640x480 with 1 Axes>"
      ]
     },
     "metadata": {},
     "output_type": "display_data"
    }
   ],
   "source": [
    "#Plot distribution of text length\n",
    "sns.histplot(x_train_cleaned_df['word_count'], bins=20, color='navy')\n",
    "plt.title(\"Distribution of Text Lengths (cleaned text)\")\n",
    "plt.xlabel(\"Length of text\")\n",
    "plt.ylabel(\"Frequency\")\n",
    "plt.show()"
   ]
  },
  {
   "cell_type": "markdown",
   "id": "dbd52ffa",
   "metadata": {},
   "source": [
    "<span style=\"background-color: lightblue\">  The lenght of the text in tweets decreased after the pre-processing from an average of 12 words per tweet to 8 words per tweet. We continue to have tweets that have a single word. We still have some long tweets. <span>"
   ]
  },
  {
   "cell_type": "code",
   "execution_count": 90,
   "id": "cac5914b",
   "metadata": {},
   "outputs": [
    {
     "data": {
      "text/html": [
       "<div>\n",
       "<style scoped>\n",
       "    .dataframe tbody tr th:only-of-type {\n",
       "        vertical-align: middle;\n",
       "    }\n",
       "\n",
       "    .dataframe tbody tr th {\n",
       "        vertical-align: top;\n",
       "    }\n",
       "\n",
       "    .dataframe thead th {\n",
       "        text-align: right;\n",
       "    }\n",
       "</style>\n",
       "<table border=\"1\" class=\"dataframe\">\n",
       "  <thead>\n",
       "    <tr style=\"text-align: right;\">\n",
       "      <th></th>\n",
       "      <th>text</th>\n",
       "      <th>word_count</th>\n",
       "    </tr>\n",
       "  </thead>\n",
       "  <tbody>\n",
       "    <tr>\n",
       "      <th>342</th>\n",
       "      <td>upgrade TICKER_arwr TICKER_caci TICKER_cf TICK...</td>\n",
       "      <td>24</td>\n",
       "    </tr>\n",
       "    <tr>\n",
       "      <th>2903</th>\n",
       "      <td>top earnings mon aft TICKER_a TICKER_amba TICK...</td>\n",
       "      <td>17</td>\n",
       "    </tr>\n",
       "    <tr>\n",
       "      <th>9406</th>\n",
       "      <td>ross store up nearly percent percent pace larg...</td>\n",
       "      <td>16</td>\n",
       "    </tr>\n",
       "    <tr>\n",
       "      <th>3436</th>\n",
       "      <td>dave buster report earnings total revenue incr...</td>\n",
       "      <td>16</td>\n",
       "    </tr>\n",
       "    <tr>\n",
       "      <th>8515</th>\n",
       "      <td>dragonfly capital premium top equal weighted g...</td>\n",
       "      <td>17</td>\n",
       "    </tr>\n",
       "    <tr>\n",
       "      <th>...</th>\n",
       "      <td>...</td>\n",
       "      <td>...</td>\n",
       "    </tr>\n",
       "    <tr>\n",
       "      <th>3561</th>\n",
       "      <td>motorcar part america report quarter eps v p c...</td>\n",
       "      <td>19</td>\n",
       "    </tr>\n",
       "    <tr>\n",
       "      <th>7938</th>\n",
       "      <td>updated chart u guy bullish macd crossover hou...</td>\n",
       "      <td>19</td>\n",
       "    </tr>\n",
       "    <tr>\n",
       "      <th>6377</th>\n",
       "      <td>october consumer credit up percent percent rev...</td>\n",
       "      <td>17</td>\n",
       "    </tr>\n",
       "    <tr>\n",
       "      <th>3609</th>\n",
       "      <td>penn national gaming report fourth quarter rev...</td>\n",
       "      <td>21</td>\n",
       "    </tr>\n",
       "    <tr>\n",
       "      <th>4420</th>\n",
       "      <td>electronic manufacturing service industry proc...</td>\n",
       "      <td>18</td>\n",
       "    </tr>\n",
       "  </tbody>\n",
       "</table>\n",
       "<p>84 rows × 2 columns</p>\n",
       "</div>"
      ],
      "text/plain": [
       "                                                   text  word_count\n",
       "342   upgrade TICKER_arwr TICKER_caci TICKER_cf TICK...          24\n",
       "2903  top earnings mon aft TICKER_a TICKER_amba TICK...          17\n",
       "9406  ross store up nearly percent percent pace larg...          16\n",
       "3436  dave buster report earnings total revenue incr...          16\n",
       "8515  dragonfly capital premium top equal weighted g...          17\n",
       "...                                                 ...         ...\n",
       "3561  motorcar part america report quarter eps v p c...          19\n",
       "7938  updated chart u guy bullish macd crossover hou...          19\n",
       "6377  october consumer credit up percent percent rev...          17\n",
       "3609  penn national gaming report fourth quarter rev...          21\n",
       "4420  electronic manufacturing service industry proc...          18\n",
       "\n",
       "[84 rows x 2 columns]"
      ]
     },
     "execution_count": 90,
     "metadata": {},
     "output_type": "execute_result"
    }
   ],
   "source": [
    "x_train_cleaned_df[x_train_cleaned_df.word_count>15]"
   ]
  },
  {
   "cell_type": "code",
   "execution_count": 91,
   "id": "30654750-f3b4-418a-aacc-a37f2649f491",
   "metadata": {},
   "outputs": [
    {
     "data": {
      "text/plain": [
       "percent           1439\n",
       "stock             1077\n",
       "market             464\n",
       "quarter            463\n",
       "up                 412\n",
       "USA                410\n",
       "marketscreener     404\n",
       "report             335\n",
       "price              325\n",
       "new                316\n",
       "Name: count, dtype: int64"
      ]
     },
     "execution_count": 91,
     "metadata": {},
     "output_type": "execute_result"
    }
   ],
   "source": [
    "all_words = ' '.join(x_train_cleaned_df['text']).split()\n",
    "freq = pd.Series(all_words).value_counts()\n",
    "freq.sort_values(ascending=False)[0:10]"
   ]
  },
  {
   "cell_type": "code",
   "execution_count": 92,
   "id": "aeffc1bf-f62a-4870-a096-db6406ae09ee",
   "metadata": {},
   "outputs": [
    {
     "data": {
      "image/png": "[encoded data removed]",
      "text/plain": [
       "<Figure size 640x480 with 1 Axes>"
      ]
     },
     "metadata": {},
     "output_type": "display_data"
    }
   ],
   "source": [
    "x_labels = freq.index[0:10]\n",
    "values = freq[:10]\n",
    "plt.bar(x_labels, values, align='center', alpha=0.5)\n",
    "plt.xticks(x_labels)\n",
    "plt.ylabel('Frequencies')\n",
    "plt.title('Words')\n",
    "plt.xticks(rotation=90)\n",
    "plt.show()"
   ]
  },
  {
   "cell_type": "code",
   "execution_count": 93,
   "id": "ea8cd431-ab26-4e74-8d4b-4a39520b72b2",
   "metadata": {},
   "outputs": [
    {
     "data": {
      "image/png": "[encoded data removed]",
      "text/plain": [
       "<Figure size 640x480 with 1 Axes>"
      ]
     },
     "metadata": {},
     "output_type": "display_data"
    }
   ],
   "source": [
    "# Create a word cloud from the cleaned text\n",
    "cleaned_text = ' '.join(x_train_cleaned_df['text'].fillna('')).lower()\n",
    "cleaned_wc = WordCloud(width=800, height=400, background_color='white').generate(cleaned_text)\n",
    "plt.imshow(cleaned_wc, interpolation='bilinear')\n",
    "plt.axis('off')\n",
    "plt.title('Word Cloud (Cleaned Text)')\n",
    "plt.show()"
   ]
  },
  {
   "cell_type": "code",
   "execution_count": 94,
   "id": "b6cb58f6",
   "metadata": {},
   "outputs": [
    {
     "data": {
      "text/html": [
       "<div>\n",
       "<style scoped>\n",
       "    .dataframe tbody tr th:only-of-type {\n",
       "        vertical-align: middle;\n",
       "    }\n",
       "\n",
       "    .dataframe tbody tr th {\n",
       "        vertical-align: top;\n",
       "    }\n",
       "\n",
       "    .dataframe thead th {\n",
       "        text-align: right;\n",
       "    }\n",
       "</style>\n",
       "<table border=\"1\" class=\"dataframe\">\n",
       "  <thead>\n",
       "    <tr style=\"text-align: right;\">\n",
       "      <th></th>\n",
       "      <th>text</th>\n",
       "      <th>word_count</th>\n",
       "    </tr>\n",
       "  </thead>\n",
       "  <tbody>\n",
       "    <tr>\n",
       "      <th>2186</th>\n",
       "      <td>nasdaq price percent percent senior note</td>\n",
       "      <td>6</td>\n",
       "    </tr>\n",
       "    <tr>\n",
       "      <th>6819</th>\n",
       "      <td>future up</td>\n",
       "      <td>2</td>\n",
       "    </tr>\n",
       "    <tr>\n",
       "      <th>6157</th>\n",
       "      <td>november nonfarm private payroll k v k consens...</td>\n",
       "      <td>9</td>\n",
       "    </tr>\n",
       "    <tr>\n",
       "      <th>2462</th>\n",
       "      <td>twitter user explain kohl stock got obliterate...</td>\n",
       "      <td>9</td>\n",
       "    </tr>\n",
       "    <tr>\n",
       "      <th>4097</th>\n",
       "      <td>agilysys restaurant find sustainable method li...</td>\n",
       "      <td>11</td>\n",
       "    </tr>\n",
       "    <tr>\n",
       "      <th>...</th>\n",
       "      <td>...</td>\n",
       "      <td>...</td>\n",
       "    </tr>\n",
       "    <tr>\n",
       "      <th>2807</th>\n",
       "      <td>japan tobacco report fy result</td>\n",
       "      <td>5</td>\n",
       "    </tr>\n",
       "    <tr>\n",
       "      <th>704</th>\n",
       "      <td>fed emergence power player pose new risk indep...</td>\n",
       "      <td>10</td>\n",
       "    </tr>\n",
       "    <tr>\n",
       "      <th>990</th>\n",
       "      <td>rise home fitness service could benefit lulule...</td>\n",
       "      <td>8</td>\n",
       "    </tr>\n",
       "    <tr>\n",
       "      <th>4362</th>\n",
       "      <td>daniel loeb top buy rd quarter</td>\n",
       "      <td>6</td>\n",
       "    </tr>\n",
       "    <tr>\n",
       "      <th>7664</th>\n",
       "      <td>zee entertainment subhash chandra resigns chai...</td>\n",
       "      <td>6</td>\n",
       "    </tr>\n",
       "  </tbody>\n",
       "</table>\n",
       "<p>7634 rows × 2 columns</p>\n",
       "</div>"
      ],
      "text/plain": [
       "                                                   text  word_count\n",
       "2186           nasdaq price percent percent senior note           6\n",
       "6819                                          future up           2\n",
       "6157  november nonfarm private payroll k v k consens...           9\n",
       "2462  twitter user explain kohl stock got obliterate...           9\n",
       "4097  agilysys restaurant find sustainable method li...          11\n",
       "...                                                 ...         ...\n",
       "2807                     japan tobacco report fy result           5\n",
       "704   fed emergence power player pose new risk indep...          10\n",
       "990   rise home fitness service could benefit lulule...           8\n",
       "4362                     daniel loeb top buy rd quarter           6\n",
       "7664  zee entertainment subhash chandra resigns chai...           6\n",
       "\n",
       "[7634 rows x 2 columns]"
      ]
     },
     "execution_count": 94,
     "metadata": {},
     "output_type": "execute_result"
    }
   ],
   "source": [
    "x_train_cleaned_df"
   ]
  },
  {
   "cell_type": "code",
   "execution_count": 95,
   "id": "eb12783d",
   "metadata": {},
   "outputs": [
    {
     "data": {
      "application/vnd.plotly.v1+json": {
       "config": {
        "plotlyServerURL": "https://plot.ly"
       },
       "data": [
        {
         "branchvalues": "total",
         "customdata": [
          [
           "Neutral"
          ],
          [
           "Bearish"
          ],
          [
           "Bearish"
          ],
          [
           "Neutral"
          ],
          [
           "Bearish"
          ],
          [
           "Bullish"
          ],
          [
           "Bullish"
          ],
          [
           "Neutral"
          ],
          [
           "Bearish"
          ],
          [
           "Bullish"
          ],
          [
           "Bullish"
          ],
          [
           "Neutral"
          ],
          [
           "Bearish"
          ],
          [
           "Bullish"
          ],
          [
           "Bearish"
          ],
          [
           "Bearish"
          ],
          [
           "Neutral"
          ],
          [
           "Bullish"
          ],
          [
           "Bearish"
          ],
          [
           "Bullish"
          ],
          [
           "Bullish"
          ],
          [
           "Neutral"
          ],
          [
           "Bullish"
          ],
          [
           "Neutral"
          ],
          [
           "Neutral"
          ],
          [
           "Bearish"
          ],
          [
           "Bullish"
          ],
          [
           "Bearish"
          ],
          [
           "Bullish"
          ],
          [
           "Neutral"
          ],
          [
           "Neutral"
          ],
          [
           "Bearish"
          ],
          [
           "Neutral"
          ],
          [
           "Bearish"
          ],
          [
           "Bullish"
          ],
          [
           "Bullish"
          ],
          [
           "Bullish"
          ],
          [
           "Neutral"
          ],
          [
           "Bearish"
          ],
          [
           "Bearish"
          ],
          [
           "Neutral"
          ],
          [
           "Bullish"
          ],
          [
           "Bearish"
          ],
          [
           "Neutral"
          ],
          [
           "Bearish"
          ],
          [
           "Neutral"
          ],
          [
           "Bullish"
          ],
          [
           "Bearish"
          ],
          [
           "Bearish"
          ],
          [
           "Bullish"
          ],
          [
           "Neutral"
          ],
          [
           "Bearish"
          ],
          [
           "Bearish"
          ],
          [
           "Bullish"
          ],
          [
           "Bullish"
          ],
          [
           "Neutral"
          ],
          [
           "Neutral"
          ],
          [
           "Bullish"
          ],
          [
           "Neutral"
          ],
          [
           "Bearish"
          ],
          [
           "Neutral"
          ],
          [
           "Bearish"
          ],
          [
           "Neutral"
          ],
          [
           "Bearish"
          ],
          [
           "Neutral"
          ],
          [
           "Bullish"
          ],
          [
           "Bearish"
          ],
          [
           "Bullish"
          ],
          [
           "Neutral"
          ],
          [
           "Bullish"
          ],
          [
           "Bullish"
          ],
          [
           "Bullish"
          ],
          [
           "Neutral"
          ],
          [
           "Bearish"
          ],
          [
           "Neutral"
          ],
          [
           "Bearish"
          ],
          [
           "Bullish"
          ],
          [
           "Neutral"
          ]
         ],
         "domain": {
          "x": [
           0,
           1
          ],
          "y": [
           0,
           1
          ]
         },
         "hovertemplate": "labels=%{label}<br>freq=%{value}<br>parent=%{parent}<br>id=%{id}<br>label_name=%{customdata[0]}<extra></extra>",
         "ids": [
          "Neutral/year",
          "Bearish/sale",
          "Bearish/say",
          "Neutral/say",
          "Bearish/share",
          "Bullish/share",
          "Bullish/stock",
          "Neutral/stock",
          "Bearish/target",
          "Bullish/target",
          "Bullish/ticker_0",
          "Neutral/ticker_0",
          "Bearish/stock",
          "Bullish/trade",
          "Bearish/trade",
          "Bearish/year",
          "Neutral/usa",
          "Bullish/usa",
          "Bearish/usa",
          "Bullish/year",
          "Bullish/update",
          "Neutral/up",
          "Bullish/up",
          "Neutral/trump",
          "Neutral/update",
          "Bearish/price",
          "Bullish/price",
          "Bearish/quarter",
          "Bullish/quarter",
          "Neutral/quarter",
          "Neutral/report",
          "Bearish/report",
          "Neutral/result",
          "Bearish/revenue",
          "Bullish/revenue",
          "Bullish/raised",
          "Bullish/rise",
          "Neutral/percent",
          "Bearish/percent",
          "Bearish/oil",
          "Neutral/new",
          "Bullish/new",
          "Bearish/miss",
          "Neutral/marketscreener",
          "Bearish/marketscreener",
          "Neutral/market",
          "Bullish/market",
          "Bearish/market",
          "Bearish/lower",
          "Bullish/percent",
          "Neutral/deal",
          "Bearish/cut",
          "Bearish/coronavirus",
          "Bullish/china",
          "Bullish/beat",
          "Neutral/call",
          "Neutral/buy",
          "Bullish/buy",
          "Neutral/declares",
          "Bearish/china",
          "Neutral/dividend",
          "Bearish/fall",
          "Neutral/earnings",
          "Bearish/economy",
          "Neutral/economy",
          "Bullish/eps",
          "Bearish/fund",
          "Bullish/fund",
          "Neutral/fund",
          "Bullish/gain",
          "Bullish/high",
          "Bullish/higher",
          "Neutral/inc",
          "Bearish/down",
          "Neutral/bank",
          "Bearish",
          "Bullish",
          "Neutral"
         ],
         "labels": [
          "year",
          "sale",
          "say",
          "say",
          "share",
          "share",
          "stock",
          "stock",
          "target",
          "target",
          "ticker_0",
          "ticker_0",
          "stock",
          "trade",
          "trade",
          "year",
          "usa",
          "usa",
          "usa",
          "year",
          "update",
          "up",
          "up",
          "trump",
          "update",
          "price",
          "price",
          "quarter",
          "quarter",
          "quarter",
          "report",
          "report",
          "result",
          "revenue",
          "revenue",
          "raised",
          "rise",
          "percent",
          "percent",
          "oil",
          "new",
          "new",
          "miss",
          "marketscreener",
          "marketscreener",
          "market",
          "market",
          "market",
          "lower",
          "percent",
          "deal",
          "cut",
          "coronavirus",
          "china",
          "beat",
          "call",
          "buy",
          "buy",
          "declares",
          "china",
          "dividend",
          "fall",
          "earnings",
          "economy",
          "economy",
          "eps",
          "fund",
          "fund",
          "fund",
          "gain",
          "high",
          "higher",
          "inc",
          "down",
          "bank",
          "Bearish",
          "Bullish",
          "Neutral"
         ],
         "marker": {
          "colors": [
           "rgb(141,211,199)",
           "rgb(255,255,179)",
           "rgb(255,255,179)",
           "rgb(141,211,199)",
           "rgb(255,255,179)",
           "rgb(190,186,218)",
           "rgb(190,186,218)",
           "rgb(141,211,199)",
           "rgb(255,255,179)",
           "rgb(190,186,218)",
           "rgb(190,186,218)",
           "rgb(141,211,199)",
           "rgb(255,255,179)",
           "rgb(190,186,218)",
           "rgb(255,255,179)",
           "rgb(255,255,179)",
           "rgb(141,211,199)",
           "rgb(190,186,218)",
           "rgb(255,255,179)",
           "rgb(190,186,218)",
           "rgb(190,186,218)",
           "rgb(141,211,199)",
           "rgb(190,186,218)",
           "rgb(141,211,199)",
           "rgb(141,211,199)",
           "rgb(255,255,179)",
           "rgb(190,186,218)",
           "rgb(255,255,179)",
           "rgb(190,186,218)",
           "rgb(141,211,199)",
           "rgb(141,211,199)",
           "rgb(255,255,179)",
           "rgb(141,211,199)",
           "rgb(255,255,179)",
           "rgb(190,186,218)",
           "rgb(190,186,218)",
           "rgb(190,186,218)",
           "rgb(141,211,199)",
           "rgb(255,255,179)",
           "rgb(255,255,179)",
           "rgb(141,211,199)",
           "rgb(190,186,218)",
           "rgb(255,255,179)",
           "rgb(141,211,199)",
           "rgb(255,255,179)",
           "rgb(141,211,199)",
           "rgb(190,186,218)",
           "rgb(255,255,179)",
           "rgb(255,255,179)",
           "rgb(190,186,218)",
           "rgb(141,211,199)",
           "rgb(255,255,179)",
           "rgb(255,255,179)",
           "rgb(190,186,218)",
           "rgb(190,186,218)",
           "rgb(141,211,199)",
           "rgb(141,211,199)",
           "rgb(190,186,218)",
           "rgb(141,211,199)",
           "rgb(255,255,179)",
           "rgb(141,211,199)",
           "rgb(255,255,179)",
           "rgb(141,211,199)",
           "rgb(255,255,179)",
           "rgb(141,211,199)",
           "rgb(190,186,218)",
           "rgb(255,255,179)",
           "rgb(190,186,218)",
           "rgb(141,211,199)",
           "rgb(190,186,218)",
           "rgb(190,186,218)",
           "rgb(190,186,218)",
           "rgb(141,211,199)",
           "rgb(255,255,179)",
           "rgb(141,211,199)",
           "rgb(255,255,179)",
           "rgb(190,186,218)",
           "rgb(141,211,199)"
          ]
         },
         "name": "",
         "parents": [
          "Neutral",
          "Bearish",
          "Bearish",
          "Neutral",
          "Bearish",
          "Bullish",
          "Bullish",
          "Neutral",
          "Bearish",
          "Bullish",
          "Bullish",
          "Neutral",
          "Bearish",
          "Bullish",
          "Bearish",
          "Bearish",
          "Neutral",
          "Bullish",
          "Bearish",
          "Bullish",
          "Bullish",
          "Neutral",
          "Bullish",
          "Neutral",
          "Neutral",
          "Bearish",
          "Bullish",
          "Bearish",
          "Bullish",
          "Neutral",
          "Neutral",
          "Bearish",
          "Neutral",
          "Bearish",
          "Bullish",
          "Bullish",
          "Bullish",
          "Neutral",
          "Bearish",
          "Bearish",
          "Neutral",
          "Bullish",
          "Bearish",
          "Neutral",
          "Bearish",
          "Neutral",
          "Bullish",
          "Bearish",
          "Bearish",
          "Bullish",
          "Neutral",
          "Bearish",
          "Bearish",
          "Bullish",
          "Bullish",
          "Neutral",
          "Neutral",
          "Bullish",
          "Neutral",
          "Bearish",
          "Neutral",
          "Bearish",
          "Neutral",
          "Bearish",
          "Neutral",
          "Bullish",
          "Bearish",
          "Bullish",
          "Neutral",
          "Bullish",
          "Bullish",
          "Bullish",
          "Neutral",
          "Bearish",
          "Neutral",
          "",
          "",
          ""
         ],
         "type": "treemap",
         "values": [
          167,
          46,
          46,
          212,
          66,
          124,
          289,
          608,
          47,
          99,
          67,
          144,
          180,
          73,
          39,
          49,
          223,
          111,
          81,
          58,
          61,
          172,
          212,
          130,
          144,
          82,
          130,
          56,
          105,
          302,
          246,
          42,
          260,
          40,
          92,
          66,
          60,
          343,
          412,
          70,
          218,
          72,
          82,
          314,
          43,
          235,
          143,
          86,
          38,
          684,
          133,
          84,
          63,
          58,
          162,
          166,
          142,
          56,
          147,
          67,
          215,
          46,
          207,
          55,
          159,
          72,
          37,
          56,
          148,
          57,
          65,
          62,
          176,
          108,
          134,
          1965,
          3034,
          5345
         ]
        }
       ],
       "layout": {
        "legend": {
         "tracegroupgap": 0
        },
        "margin": {
         "t": 60
        },
        "template": {
         "data": {
          "bar": [
           {
            "error_x": {
             "color": "#2a3f5f"
            },
            "error_y": {
             "color": "#2a3f5f"
            },
            "marker": {
             "line": {
              "color": "#E5ECF6",
              "width": 0.5
             },
             "pattern": {
              "fillmode": "overlay",
              "size": 10,
              "solidity": 0.2
             }
            },
            "type": "bar"
           }
          ],
          "barpolar": [
           {
            "marker": {
             "line": {
              "color": "#E5ECF6",
              "width": 0.5
             },
             "pattern": {
              "fillmode": "overlay",
              "size": 10,
              "solidity": 0.2
             }
            },
            "type": "barpolar"
           }
          ],
          "carpet": [
           {
            "aaxis": {
             "endlinecolor": "#2a3f5f",
             "gridcolor": "white",
             "linecolor": "white",
             "minorgridcolor": "white",
             "startlinecolor": "#2a3f5f"
            },
            "baxis": {
             "endlinecolor": "#2a3f5f",
             "gridcolor": "white",
             "linecolor": "white",
             "minorgridcolor": "white",
             "startlinecolor": "#2a3f5f"
            },
            "type": "carpet"
           }
          ],
          "choropleth": [
           {
            "colorbar": {
             "outlinewidth": 0,
             "ticks": ""
            },
            "type": "choropleth"
           }
          ],
          "contour": [
           {
            "colorbar": {
             "outlinewidth": 0,
             "ticks": ""
            },
            "colorscale": [
             [
              0,
              "#0d0887"
             ],
             [
              0.1111111111111111,
              "#46039f"
             ],
             [
              0.2222222222222222,
              "#7201a8"
             ],
             [
              0.3333333333333333,
              "#9c179e"
             ],
             [
              0.4444444444444444,
              "#bd3786"
             ],
             [
              0.5555555555555556,
              "#d8576b"
             ],
             [
              0.6666666666666666,
              "#ed7953"
             ],
             [
              0.7777777777777778,
              "#fb9f3a"
             ],
             [
              0.8888888888888888,
              "#fdca26"
             ],
             [
              1,
              "#f0f921"
             ]
            ],
            "type": "contour"
           }
          ],
          "contourcarpet": [
           {
            "colorbar": {
             "outlinewidth": 0,
             "ticks": ""
            },
            "type": "contourcarpet"
           }
          ],
          "heatmap": [
           {
            "colorbar": {
             "outlinewidth": 0,
             "ticks": ""
            },
            "colorscale": [
             [
              0,
              "#0d0887"
             ],
             [
              0.1111111111111111,
              "#46039f"
             ],
             [
              0.2222222222222222,
              "#7201a8"
             ],
             [
              0.3333333333333333,
              "#9c179e"
             ],
             [
              0.4444444444444444,
              "#bd3786"
             ],
             [
              0.5555555555555556,
              "#d8576b"
             ],
             [
              0.6666666666666666,
              "#ed7953"
             ],
             [
              0.7777777777777778,
              "#fb9f3a"
             ],
             [
              0.8888888888888888,
              "#fdca26"
             ],
             [
              1,
              "#f0f921"
             ]
            ],
            "type": "heatmap"
           }
          ],
          "heatmapgl": [
           {
            "colorbar": {
             "outlinewidth": 0,
             "ticks": ""
            },
            "colorscale": [
             [
              0,
              "#0d0887"
             ],
             [
              0.1111111111111111,
              "#46039f"
             ],
             [
              0.2222222222222222,
              "#7201a8"
             ],
             [
              0.3333333333333333,
              "#9c179e"
             ],
             [
              0.4444444444444444,
              "#bd3786"
             ],
             [
              0.5555555555555556,
              "#d8576b"
             ],
             [
              0.6666666666666666,
              "#ed7953"
             ],
             [
              0.7777777777777778,
              "#fb9f3a"
             ],
             [
              0.8888888888888888,
              "#fdca26"
             ],
             [
              1,
              "#f0f921"
             ]
            ],
            "type": "heatmapgl"
           }
          ],
          "histogram": [
           {
            "marker": {
             "pattern": {
              "fillmode": "overlay",
              "size": 10,
              "solidity": 0.2
             }
            },
            "type": "histogram"
           }
          ],
          "histogram2d": [
           {
            "colorbar": {
             "outlinewidth": 0,
             "ticks": ""
            },
            "colorscale": [
             [
              0,
              "#0d0887"
             ],
             [
              0.1111111111111111,
              "#46039f"
             ],
             [
              0.2222222222222222,
              "#7201a8"
             ],
             [
              0.3333333333333333,
              "#9c179e"
             ],
             [
              0.4444444444444444,
              "#bd3786"
             ],
             [
              0.5555555555555556,
              "#d8576b"
             ],
             [
              0.6666666666666666,
              "#ed7953"
             ],
             [
              0.7777777777777778,
              "#fb9f3a"
             ],
             [
              0.8888888888888888,
              "#fdca26"
             ],
             [
              1,
              "#f0f921"
             ]
            ],
            "type": "histogram2d"
           }
          ],
          "histogram2dcontour": [
           {
            "colorbar": {
             "outlinewidth": 0,
             "ticks": ""
            },
            "colorscale": [
             [
              0,
              "#0d0887"
             ],
             [
              0.1111111111111111,
              "#46039f"
             ],
             [
              0.2222222222222222,
              "#7201a8"
             ],
             [
              0.3333333333333333,
              "#9c179e"
             ],
             [
              0.4444444444444444,
              "#bd3786"
             ],
             [
              0.5555555555555556,
              "#d8576b"
             ],
             [
              0.6666666666666666,
              "#ed7953"
             ],
             [
              0.7777777777777778,
              "#fb9f3a"
             ],
             [
              0.8888888888888888,
              "#fdca26"
             ],
             [
              1,
              "#f0f921"
             ]
            ],
            "type": "histogram2dcontour"
           }
          ],
          "mesh3d": [
           {
            "colorbar": {
             "outlinewidth": 0,
             "ticks": ""
            },
            "type": "mesh3d"
           }
          ],
          "parcoords": [
           {
            "line": {
             "colorbar": {
              "outlinewidth": 0,
              "ticks": ""
             }
            },
            "type": "parcoords"
           }
          ],
          "pie": [
           {
            "automargin": true,
            "type": "pie"
           }
          ],
          "scatter": [
           {
            "fillpattern": {
             "fillmode": "overlay",
             "size": 10,
             "solidity": 0.2
            },
            "type": "scatter"
           }
          ],
          "scatter3d": [
           {
            "line": {
             "colorbar": {
              "outlinewidth": 0,
              "ticks": ""
             }
            },
            "marker": {
             "colorbar": {
              "outlinewidth": 0,
              "ticks": ""
             }
            },
            "type": "scatter3d"
           }
          ],
          "scattercarpet": [
           {
            "marker": {
             "colorbar": {
              "outlinewidth": 0,
              "ticks": ""
             }
            },
            "type": "scattercarpet"
           }
          ],
          "scattergeo": [
           {
            "marker": {
             "colorbar": {
              "outlinewidth": 0,
              "ticks": ""
             }
            },
            "type": "scattergeo"
           }
          ],
          "scattergl": [
           {
            "marker": {
             "colorbar": {
              "outlinewidth": 0,
              "ticks": ""
             }
            },
            "type": "scattergl"
           }
          ],
          "scattermapbox": [
           {
            "marker": {
             "colorbar": {
              "outlinewidth": 0,
              "ticks": ""
             }
            },
            "type": "scattermapbox"
           }
          ],
          "scatterpolar": [
           {
            "marker": {
             "colorbar": {
              "outlinewidth": 0,
              "ticks": ""
             }
            },
            "type": "scatterpolar"
           }
          ],
          "scatterpolargl": [
           {
            "marker": {
             "colorbar": {
              "outlinewidth": 0,
              "ticks": ""
             }
            },
            "type": "scatterpolargl"
           }
          ],
          "scatterternary": [
           {
            "marker": {
             "colorbar": {
              "outlinewidth": 0,
              "ticks": ""
             }
            },
            "type": "scatterternary"
           }
          ],
          "surface": [
           {
            "colorbar": {
             "outlinewidth": 0,
             "ticks": ""
            },
            "colorscale": [
             [
              0,
              "#0d0887"
             ],
             [
              0.1111111111111111,
              "#46039f"
             ],
             [
              0.2222222222222222,
              "#7201a8"
             ],
             [
              0.3333333333333333,
              "#9c179e"
             ],
             [
              0.4444444444444444,
              "#bd3786"
             ],
             [
              0.5555555555555556,
              "#d8576b"
             ],
             [
              0.6666666666666666,
              "#ed7953"
             ],
             [
              0.7777777777777778,
              "#fb9f3a"
             ],
             [
              0.8888888888888888,
              "#fdca26"
             ],
             [
              1,
              "#f0f921"
             ]
            ],
            "type": "surface"
           }
          ],
          "table": [
           {
            "cells": {
             "fill": {
              "color": "#EBF0F8"
             },
             "line": {
              "color": "white"
             }
            },
            "header": {
             "fill": {
              "color": "#C8D4E3"
             },
             "line": {
              "color": "white"
             }
            },
            "type": "table"
           }
          ]
         },
         "layout": {
          "annotationdefaults": {
           "arrowcolor": "#2a3f5f",
           "arrowhead": 0,
           "arrowwidth": 1
          },
          "autotypenumbers": "strict",
          "coloraxis": {
           "colorbar": {
            "outlinewidth": 0,
            "ticks": ""
           }
          },
          "colorscale": {
           "diverging": [
            [
             0,
             "#8e0152"
            ],
            [
             0.1,
             "#c51b7d"
            ],
            [
             0.2,
             "#de77ae"
            ],
            [
             0.3,
             "#f1b6da"
            ],
            [
             0.4,
             "#fde0ef"
            ],
            [
             0.5,
             "#f7f7f7"
            ],
            [
             0.6,
             "#e6f5d0"
            ],
            [
             0.7,
             "#b8e186"
            ],
            [
             0.8,
             "#7fbc41"
            ],
            [
             0.9,
             "#4d9221"
            ],
            [
             1,
             "#276419"
            ]
           ],
           "sequential": [
            [
             0,
             "#0d0887"
            ],
            [
             0.1111111111111111,
             "#46039f"
            ],
            [
             0.2222222222222222,
             "#7201a8"
            ],
            [
             0.3333333333333333,
             "#9c179e"
            ],
            [
             0.4444444444444444,
             "#bd3786"
            ],
            [
             0.5555555555555556,
             "#d8576b"
            ],
            [
             0.6666666666666666,
             "#ed7953"
            ],
            [
             0.7777777777777778,
             "#fb9f3a"
            ],
            [
             0.8888888888888888,
             "#fdca26"
            ],
            [
             1,
             "#f0f921"
            ]
           ],
           "sequentialminus": [
            [
             0,
             "#0d0887"
            ],
            [
             0.1111111111111111,
             "#46039f"
            ],
            [
             0.2222222222222222,
             "#7201a8"
            ],
            [
             0.3333333333333333,
             "#9c179e"
            ],
            [
             0.4444444444444444,
             "#bd3786"
            ],
            [
             0.5555555555555556,
             "#d8576b"
            ],
            [
             0.6666666666666666,
             "#ed7953"
            ],
            [
             0.7777777777777778,
             "#fb9f3a"
            ],
            [
             0.8888888888888888,
             "#fdca26"
            ],
            [
             1,
             "#f0f921"
            ]
           ]
          },
          "colorway": [
           "#636efa",
           "#EF553B",
           "#00cc96",
           "#ab63fa",
           "#FFA15A",
           "#19d3f3",
           "#FF6692",
           "#B6E880",
           "#FF97FF",
           "#FECB52"
          ],
          "font": {
           "color": "#2a3f5f"
          },
          "geo": {
           "bgcolor": "white",
           "lakecolor": "white",
           "landcolor": "#E5ECF6",
           "showlakes": true,
           "showland": true,
           "subunitcolor": "white"
          },
          "hoverlabel": {
           "align": "left"
          },
          "hovermode": "closest",
          "mapbox": {
           "style": "light"
          },
          "paper_bgcolor": "white",
          "plot_bgcolor": "#E5ECF6",
          "polar": {
           "angularaxis": {
            "gridcolor": "white",
            "linecolor": "white",
            "ticks": ""
           },
           "bgcolor": "#E5ECF6",
           "radialaxis": {
            "gridcolor": "white",
            "linecolor": "white",
            "ticks": ""
           }
          },
          "scene": {
           "xaxis": {
            "backgroundcolor": "#E5ECF6",
            "gridcolor": "white",
            "gridwidth": 2,
            "linecolor": "white",
            "showbackground": true,
            "ticks": "",
            "zerolinecolor": "white"
           },
           "yaxis": {
            "backgroundcolor": "#E5ECF6",
            "gridcolor": "white",
            "gridwidth": 2,
            "linecolor": "white",
            "showbackground": true,
            "ticks": "",
            "zerolinecolor": "white"
           },
           "zaxis": {
            "backgroundcolor": "#E5ECF6",
            "gridcolor": "white",
            "gridwidth": 2,
            "linecolor": "white",
            "showbackground": true,
            "ticks": "",
            "zerolinecolor": "white"
           }
          },
          "shapedefaults": {
           "line": {
            "color": "#2a3f5f"
           }
          },
          "ternary": {
           "aaxis": {
            "gridcolor": "white",
            "linecolor": "white",
            "ticks": ""
           },
           "baxis": {
            "gridcolor": "white",
            "linecolor": "white",
            "ticks": ""
           },
           "bgcolor": "#E5ECF6",
           "caxis": {
            "gridcolor": "white",
            "linecolor": "white",
            "ticks": ""
           }
          },
          "title": {
           "x": 0.05
          },
          "xaxis": {
           "automargin": true,
           "gridcolor": "white",
           "linecolor": "white",
           "ticks": "",
           "title": {
            "standoff": 15
           },
           "zerolinecolor": "white",
           "zerolinewidth": 2
          },
          "yaxis": {
           "automargin": true,
           "gridcolor": "white",
           "linecolor": "white",
           "ticks": "",
           "title": {
            "standoff": 15
           },
           "zerolinecolor": "white",
           "zerolinewidth": 2
          }
         }
        },
        "title": {
         "text": "Treemap of Frequent Words per Label"
        },
        "treemapcolorway": [
         "rgb(141,211,199)",
         "rgb(255,255,179)",
         "rgb(190,186,218)",
         "rgb(251,128,114)",
         "rgb(128,177,211)",
         "rgb(253,180,98)",
         "rgb(179,222,105)",
         "rgb(252,205,229)",
         "rgb(217,217,217)",
         "rgb(188,128,189)",
         "rgb(204,235,197)",
         "rgb(255,237,111)"
        ]
       }
      }
     },
     "metadata": {},
     "output_type": "display_data"
    }
   ],
   "source": [
    "# Calculating the top words by class\n",
    "word_freq = get_top_words_by_class(train_cleaned_df, 'label', 'text', top_criteria=25)\n",
    "label_map = {0: 'Bearish', 1: 'Bullish', 2: 'Neutral'}\n",
    "word_freq['label_name'] = word_freq['label'].map(label_map)\n",
    "\n",
    "fig = px.treemap(word_freq, path=['label_name', 'word'], values='freq',\n",
    "                 color='label_name', color_discrete_sequence=px.colors.qualitative.Set3)\n",
    "fig.update_layout(title='Treemap of Frequent Words per Label')\n",
    "fig.show()"
   ]
  }
 ],
 "metadata": {
  "kernelspec": {
   "display_name": "base",
   "language": "python",
   "name": "python3"
  },
  "language_info": {
   "codemirror_mode": {
    "name": "ipython",
    "version": 3
   },
   "file_extension": ".py",
   "mimetype": "text/x-python",
   "name": "python",
   "nbconvert_exporter": "python",
   "pygments_lexer": "ipython3",
   "version": "3.12.8"
  }
 },
 "nbformat": 4,
 "nbformat_minor": 5
}
