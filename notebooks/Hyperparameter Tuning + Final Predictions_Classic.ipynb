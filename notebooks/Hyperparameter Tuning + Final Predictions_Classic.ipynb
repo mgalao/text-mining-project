<<<<<<< HEAD
{
 "cells": [
  {
   "cell_type": "markdown",
   "id": "40923621",
   "metadata": {},
   "source": [
    "<div class=\"alert alert-block alert-success\">\n",
    "\n",
    "# **1.** **Setup**\n",
    "\n",
    "<div>"
   ]
  },
  {
   "cell_type": "code",
   "execution_count": 1,
   "id": "1cefd779",
   "metadata": {},
   "outputs": [],
   "source": [
    "from utils import *\n",
    "from sklearn.model_selection import PredefinedSplit\n",
    "from sklearn.model_selection import GridSearchCV\n"
   ]
  },
  {
   "cell_type": "code",
   "execution_count": 2,
   "id": "b5f416d8",
   "metadata": {},
   "outputs": [],
   "source": [
    "# Set random seeds for reproducibility\n",
    "tf.random.set_seed(221)\n",
    "random.seed(221)\n",
    "np.random.seed(221)\n",
    "tf.random.set_seed(221)"
   ]
  },
  {
   "cell_type": "markdown",
   "id": "fbe1489a",
   "metadata": {},
   "source": [
    "## **1.1** Datasets"
   ]
  },
  {
   "cell_type": "code",
   "execution_count": 3,
   "id": "1f15595d",
   "metadata": {},
   "outputs": [],
   "source": [
    "# Load the train/val split data\n",
    "with open('train_val_split.pkl', 'rb') as f:\n",
    "    data = pickle.load(f)\n",
    "\n",
    "# Store the data in variables\n",
    "x_train = data['x_train']\n",
    "x_val = data['x_val']\n",
    "y_train = data['y_train']\n",
    "y_val = data['y_val']"
   ]
  },
  {
   "cell_type": "code",
   "execution_count": 4,
   "id": "1f7f5543",
   "metadata": {},
   "outputs": [],
   "source": [
    "# For EXTRA\n",
    "\n",
    "# Load the train/val split data without preprocessing\n",
    "with open('train_val_split_no_preproc.pkl', 'rb') as f:\n",
    "    data_no_preproc = pickle.load(f)\n",
    "\n",
    "# Convert DataFrames to list\n",
    "train_texts = data_no_preproc['x_train'].tolist()\n",
    "val_texts = data_no_preproc['x_val'].tolist()\n",
    "\n",
    "# Convert Series to list\n",
    "train_labels = data_no_preproc['y_train'].tolist()\n",
    "val_labels = data_no_preproc['y_val'].tolist()"
   ]
  },
  {
   "cell_type": "markdown",
   "id": "3262c5e3",
   "metadata": {},
   "source": [
    "## **1.2** Parameters"
   ]
  },
  {
   "cell_type": "code",
   "execution_count": 142,
   "id": "ab9ed8f8",
   "metadata": {},
   "outputs": [],
   "source": [
    "# ------- Parameters ------- \n",
    "# Glove\n",
    "emb_size = 200 # start small than increase to find the best value\n",
    "\n",
    "# TF-IDF\n",
    "max_df = 0.8 # we are removing terms that appear in >80% of tweets\n",
    "\n",
    "# Word2Vec\n",
    "window = 2         # context window size\n",
    "min_count = 1      # minimum word frequency to include"
   ]
  },
  {
   "cell_type": "markdown",
   "id": "5996a160",
   "metadata": {},
   "source": [
    "## **1.3** General"
   ]
  },
  {
   "cell_type": "code",
   "execution_count": 6,
   "id": "3198f952",
   "metadata": {},
   "outputs": [],
   "source": [
    "corpus = x_train['text']\n",
    "\n",
    "#get list with lenghts of sentences\n",
    "train_len = []\n",
    "for i in corpus:\n",
    "    train_len.append(len(i))\n",
    "\n",
    "vector_size = max(train_len)\n",
    "\n",
    "metrics_df = []"
   ]
  },
  {
   "cell_type": "code",
   "execution_count": 7,
   "id": "ed1d3995",
   "metadata": {},
   "outputs": [],
   "source": [
    "tokenized_train = [word_tokenize(tweet.lower()) for tweet in x_train['text']]\n",
    "max_seq_len = max(len(tokens) for tokens in tokenized_train)"
   ]
  },
  {
   "cell_type": "markdown",
   "id": "a3a2937c",
   "metadata": {},
   "source": [
    "## **1.4** Models"
   ]
  },
  {
   "cell_type": "markdown",
   "id": "a3dd7bc1",
   "metadata": {},
   "source": [
    "### Glove"
   ]
  },
  {
   "cell_type": "code",
   "execution_count": 143,
   "id": "4d2668b6",
   "metadata": {},
   "outputs": [
    {
     "name": "stdout",
     "output_type": "stream",
     "text": [
      "[==================================================] 100.0% 758.5/758.5MB downloaded\n"
     ]
    }
   ],
   "source": [
    "model_name = 'glove-twitter'\n",
    "glove_model = gensim.downloader.load(f'{model_name}-{emb_size}')"
   ]
  },
  {
   "cell_type": "markdown",
   "id": "3b42d87b",
   "metadata": {},
   "source": [
    "### Text Embeddings 3 Small"
   ]
  },
  {
   "cell_type": "code",
   "execution_count": 9,
   "id": "cf05a972",
   "metadata": {},
   "outputs": [
    {
     "name": "stdout",
     "output_type": "stream",
     "text": [
      "AZURE_OPENAI_ENDPOINT: https://novaimsplayground.openai.azure.com/\n"
     ]
    }
   ],
   "source": [
    "# EXTRA\n",
    "\n",
    "# Load variables from .env into environment\n",
    "load_dotenv()\n",
    "\n",
    "# Print environment variable\n",
    "print(\"AZURE_OPENAI_ENDPOINT:\", os.getenv(\"AZURE_OPENAI_ENDPOINT\"))\n",
    "\n",
    "# Initialize Azure OpenAI client\n",
    "client = AzureOpenAI(\n",
    "    api_key=os.getenv(\"AZURE_OPENAI_KEY\"),\n",
    "    api_version=\"2024-02-01\",\n",
    "    azure_endpoint=os.getenv(\"AZURE_OPENAI_ENDPOINT\")\n",
    ")\n",
    "\n",
    "# Define embedding model\n",
    "model = \"text-embedding-3-small\""
   ]
  },
  {
   "cell_type": "code",
   "execution_count": 10,
   "id": "2a00ad0b",
   "metadata": {},
   "outputs": [],
   "source": [
    "# Define embedding model text embedding\n",
    "model_te3s = \"text-embedding-3-small\""
   ]
  },
  {
   "cell_type": "markdown",
   "id": "e3a05b68",
   "metadata": {},
   "source": [
    "### Roberta"
   ]
  },
  {
   "cell_type": "code",
   "execution_count": 11,
   "id": "665a7d5d",
   "metadata": {},
   "outputs": [],
   "source": [
    "# Load the pre-trained model and tokenizer for roberta\n",
    "model_name = \"cardiffnlp/twitter-roberta-base\"\n",
    "tokenizer_roberta = AutoTokenizer.from_pretrained(model_name)\n",
    "model_roberta = AutoModel.from_pretrained(model_name)"
   ]
  },
  {
   "cell_type": "markdown",
   "id": "461b8bdd",
   "metadata": {},
   "source": [
    "### LSTM"
   ]
  },
  {
   "cell_type": "code",
   "execution_count": 12,
   "id": "db1231d9",
   "metadata": {},
   "outputs": [
    {
     "ename": "NameError",
     "evalue": "name 'units' is not defined",
     "output_type": "error",
     "traceback": [
      "\u001b[31m---------------------------------------------------------------------------\u001b[39m",
      "\u001b[31mNameError\u001b[39m                                 Traceback (most recent call last)",
      "\u001b[36mCell\u001b[39m\u001b[36m \u001b[39m\u001b[32mIn[12]\u001b[39m\u001b[32m, line 4\u001b[39m\n\u001b[32m      1\u001b[39m input_ = Input(shape=(max_seq_len, vector_size))\n\u001b[32m      3\u001b[39m x = Masking(mask_value=\u001b[32m0.0\u001b[39m)(input_)\n\u001b[32m----> \u001b[39m\u001b[32m4\u001b[39m x = Bidirectional(LSTM(units=\u001b[43munits\u001b[49m, return_sequences=\u001b[38;5;28;01mFalse\u001b[39;00m, dropout=dropout, recurrent_dropout=dropout))(x)\n\u001b[32m      5\u001b[39m x = Dropout(dropout)(x)\n\u001b[32m      6\u001b[39m output = Dense(num_class, activation=\u001b[33m'\u001b[39m\u001b[33msoftmax\u001b[39m\u001b[33m'\u001b[39m)(x)\n",
      "\u001b[31mNameError\u001b[39m: name 'units' is not defined"
     ]
    }
   ],
   "source": [
    "input_ = Input(shape=(max_seq_len, vector_size))\n",
    "\n",
    "x = Masking(mask_value=0.0)(input_)\n",
    "x = Bidirectional(LSTM(units=units, return_sequences=False, dropout=dropout, recurrent_dropout=dropout))(x)\n",
    "x = Dropout(dropout)(x)\n",
    "output = Dense(num_class, activation='softmax')(x)"
   ]
  },
  {
   "cell_type": "markdown",
   "id": "1020de10",
   "metadata": {},
   "source": [
    "<div class=\"alert alert-block alert-success\">\n",
    "\n",
    "# **2.** **Hyperparameter Tuning**\n",
    "\n",
    "<div>"
   ]
  },
  {
   "cell_type": "markdown",
   "id": "8a0888fa",
   "metadata": {},
   "source": [
    "## **2.1** LR with Text Embedding 3"
   ]
  },
  {
   "cell_type": "markdown",
   "id": "bdece002",
   "metadata": {},
   "source": [
    "### **2.1.1** Running Model"
   ]
  },
  {
   "cell_type": "code",
   "execution_count": 13,
   "id": "81517608",
   "metadata": {},
   "outputs": [],
   "source": [
    "model = LogisticRegression(max_iter=1000)"
   ]
  },
  {
   "cell_type": "code",
   "execution_count": 14,
   "id": "e13a7b2e",
   "metadata": {},
   "outputs": [
    {
     "name": "stdout",
     "output_type": "stream",
     "text": [
      "Loading embeddings from X_train_te3s_embeddings.pkl...\n",
      "Loading embeddings from X_val_te3s_embeddings.pkl...\n"
     ]
    }
   ],
   "source": [
    "X_train_te3s, X_val_te3s, y_train_pred_te3s, y_val_pred_te3s = embedding_te3s(\n",
    "    train_texts=train_texts,\n",
    "    train_labels=train_labels,\n",
    "    val_texts=val_texts, \n",
    "    cache_file_train=\"X_train_te3s_embeddings.pkl\", \n",
    "    cache_file_val=\"X_val_te3s_embeddings.pkl\",\n",
    "    client=client,\n",
    "    model_te3s=model_te3s,\n",
    "    batch_size=32,\n",
    "    model=model \n",
    ")\n"
   ]
  },
  {
   "cell_type": "code",
   "execution_count": 15,
   "id": "1e67936d",
   "metadata": {},
   "outputs": [],
   "source": [
    "X_combined = np.vstack([X_train_te3s, X_val_te3s])\n",
    "y_combined = np.concatenate([train_labels, val_labels])\n",
    "\n",
    "split_index = [-1]*len(X_train_te3s) + [0]*len(X_val_te3s)\n",
    "ps = PredefinedSplit(test_fold=split_index)"
   ]
  },
  {
   "cell_type": "code",
   "execution_count": 16,
   "id": "0102c405",
   "metadata": {},
   "outputs": [
    {
     "name": "stdout",
     "output_type": "stream",
     "text": [
      "Fitting 1 folds for each of 80 candidates, totalling 80 fits\n"
     ]
    },
    {
     "name": "stderr",
     "output_type": "stream",
     "text": [
      "/opt/anaconda3/lib/python3.12/site-packages/sklearn/linear_model/_logistic.py:1256: FutureWarning: 'multi_class' was deprecated in version 1.5 and will be removed in 1.7. Use OneVsRestClassifier(LogisticRegression(..)) instead. Leave it to its default value to avoid this warning.\n",
      "  warnings.warn(\n",
      "/opt/anaconda3/lib/python3.12/site-packages/sklearn/linear_model/_logistic.py:1247: FutureWarning: 'multi_class' was deprecated in version 1.5 and will be removed in 1.7. From then on, it will always use 'multinomial'. Leave it to its default value to avoid this warning.\n",
      "  warnings.warn(\n",
      "/opt/anaconda3/lib/python3.12/site-packages/sklearn/linear_model/_logistic.py:1256: FutureWarning: 'multi_class' was deprecated in version 1.5 and will be removed in 1.7. Use OneVsRestClassifier(LogisticRegression(..)) instead. Leave it to its default value to avoid this warning.\n",
      "  warnings.warn(\n",
      "/opt/anaconda3/lib/python3.12/site-packages/sklearn/linear_model/_logistic.py:1247: FutureWarning: 'multi_class' was deprecated in version 1.5 and will be removed in 1.7. From then on, it will always use 'multinomial'. Leave it to its default value to avoid this warning.\n",
      "  warnings.warn(\n",
      "/opt/anaconda3/lib/python3.12/site-packages/sklearn/linear_model/_logistic.py:1256: FutureWarning: 'multi_class' was deprecated in version 1.5 and will be removed in 1.7. Use OneVsRestClassifier(LogisticRegression(..)) instead. Leave it to its default value to avoid this warning.\n",
      "  warnings.warn(\n",
      "/opt/anaconda3/lib/python3.12/site-packages/sklearn/linear_model/_logistic.py:1256: FutureWarning: 'multi_class' was deprecated in version 1.5 and will be removed in 1.7. Use OneVsRestClassifier(LogisticRegression(..)) instead. Leave it to its default value to avoid this warning.\n",
      "  warnings.warn(\n",
      "/opt/anaconda3/lib/python3.12/site-packages/sklearn/linear_model/_logistic.py:1247: FutureWarning: 'multi_class' was deprecated in version 1.5 and will be removed in 1.7. From then on, it will always use 'multinomial'. Leave it to its default value to avoid this warning.\n",
      "  warnings.warn(\n",
      "/opt/anaconda3/lib/python3.12/site-packages/sklearn/linear_model/_logistic.py:1247: FutureWarning: 'multi_class' was deprecated in version 1.5 and will be removed in 1.7. From then on, it will always use 'multinomial'. Leave it to its default value to avoid this warning.\n",
      "  warnings.warn(\n"
     ]
    },
    {
     "name": "stdout",
     "output_type": "stream",
     "text": [
      "[CV] END C=0.01, class_weight=None, multi_class=multinomial, penalty=l1, solver=saga; total time=   1.5s\n",
      "[CV] END C=0.01, class_weight=None, multi_class=ovr, penalty=l1, solver=saga; total time=   1.6s\n"
     ]
    },
    {
     "name": "stderr",
     "output_type": "stream",
     "text": [
      "/opt/anaconda3/lib/python3.12/site-packages/sklearn/linear_model/_logistic.py:1256: FutureWarning: 'multi_class' was deprecated in version 1.5 and will be removed in 1.7. Use OneVsRestClassifier(LogisticRegression(..)) instead. Leave it to its default value to avoid this warning.\n",
      "  warnings.warn(\n",
      "/opt/anaconda3/lib/python3.12/site-packages/sklearn/linear_model/_logistic.py:1247: FutureWarning: 'multi_class' was deprecated in version 1.5 and will be removed in 1.7. From then on, it will always use 'multinomial'. Leave it to its default value to avoid this warning.\n",
      "  warnings.warn(\n"
     ]
    },
    {
     "name": "stdout",
     "output_type": "stream",
     "text": [
      "[CV] END C=0.01, class_weight=balanced, multi_class=ovr, penalty=l1, solver=saga; total time=   2.0s\n"
     ]
    },
    {
     "name": "stderr",
     "output_type": "stream",
     "text": [
      "/opt/anaconda3/lib/python3.12/site-packages/sklearn/linear_model/_logistic.py:1256: FutureWarning: 'multi_class' was deprecated in version 1.5 and will be removed in 1.7. Use OneVsRestClassifier(LogisticRegression(..)) instead. Leave it to its default value to avoid this warning.\n",
      "  warnings.warn(\n"
     ]
    },
    {
     "name": "stdout",
     "output_type": "stream",
     "text": [
      "[CV] END C=0.01, class_weight=balanced, multi_class=multinomial, penalty=l1, solver=saga; total time=   2.4s\n"
     ]
    },
    {
     "name": "stderr",
     "output_type": "stream",
     "text": [
      "/opt/anaconda3/lib/python3.12/site-packages/sklearn/linear_model/_logistic.py:1247: FutureWarning: 'multi_class' was deprecated in version 1.5 and will be removed in 1.7. From then on, it will always use 'multinomial'. Leave it to its default value to avoid this warning.\n",
      "  warnings.warn(\n"
     ]
    },
    {
     "name": "stdout",
     "output_type": "stream",
     "text": [
      "[CV] END C=0.1, class_weight=None, multi_class=ovr, penalty=l1, solver=saga; total time=   6.2s\n"
     ]
    },
    {
     "name": "stderr",
     "output_type": "stream",
     "text": [
      "/opt/anaconda3/lib/python3.12/site-packages/sklearn/linear_model/_logistic.py:1256: FutureWarning: 'multi_class' was deprecated in version 1.5 and will be removed in 1.7. Use OneVsRestClassifier(LogisticRegression(..)) instead. Leave it to its default value to avoid this warning.\n",
      "  warnings.warn(\n"
     ]
    },
    {
     "name": "stdout",
     "output_type": "stream",
     "text": [
      "[CV] END C=0.1, class_weight=balanced, multi_class=ovr, penalty=l1, solver=saga; total time=   6.3s\n"
     ]
    },
    {
     "name": "stderr",
     "output_type": "stream",
     "text": [
      "/opt/anaconda3/lib/python3.12/site-packages/sklearn/linear_model/_logistic.py:1247: FutureWarning: 'multi_class' was deprecated in version 1.5 and will be removed in 1.7. From then on, it will always use 'multinomial'. Leave it to its default value to avoid this warning.\n",
      "  warnings.warn(\n"
     ]
    },
    {
     "name": "stdout",
     "output_type": "stream",
     "text": [
      "[CV] END C=0.1, class_weight=balanced, multi_class=multinomial, penalty=l1, solver=saga; total time=   6.4s\n"
     ]
    },
    {
     "name": "stderr",
     "output_type": "stream",
     "text": [
      "/opt/anaconda3/lib/python3.12/site-packages/sklearn/linear_model/_logistic.py:1256: FutureWarning: 'multi_class' was deprecated in version 1.5 and will be removed in 1.7. Use OneVsRestClassifier(LogisticRegression(..)) instead. Leave it to its default value to avoid this warning.\n",
      "  warnings.warn(\n"
     ]
    },
    {
     "name": "stdout",
     "output_type": "stream",
     "text": [
      "[CV] END C=0.1, class_weight=None, multi_class=multinomial, penalty=l1, solver=saga; total time=   8.8s\n"
     ]
    },
    {
     "name": "stderr",
     "output_type": "stream",
     "text": [
      "/opt/anaconda3/lib/python3.12/site-packages/sklearn/linear_model/_logistic.py:1247: FutureWarning: 'multi_class' was deprecated in version 1.5 and will be removed in 1.7. From then on, it will always use 'multinomial'. Leave it to its default value to avoid this warning.\n",
      "  warnings.warn(\n"
     ]
    },
    {
     "name": "stdout",
     "output_type": "stream",
     "text": [
      "[CV] END C=1, class_weight=balanced, multi_class=ovr, penalty=l1, solver=saga; total time=  26.3s\n",
      "[CV] END C=1, class_weight=None, multi_class=ovr, penalty=l1, solver=saga; total time=  27.0s\n"
     ]
    },
    {
     "name": "stderr",
     "output_type": "stream",
     "text": [
      "/opt/anaconda3/lib/python3.12/site-packages/sklearn/linear_model/_logistic.py:1256: FutureWarning: 'multi_class' was deprecated in version 1.5 and will be removed in 1.7. Use OneVsRestClassifier(LogisticRegression(..)) instead. Leave it to its default value to avoid this warning.\n",
      "  warnings.warn(\n",
      "/opt/anaconda3/lib/python3.12/site-packages/sklearn/linear_model/_logistic.py:1247: FutureWarning: 'multi_class' was deprecated in version 1.5 and will be removed in 1.7. From then on, it will always use 'multinomial'. Leave it to its default value to avoid this warning.\n",
      "  warnings.warn(\n"
     ]
    },
    {
     "name": "stdout",
     "output_type": "stream",
     "text": [
      "[CV] END C=1, class_weight=None, multi_class=multinomial, penalty=l1, solver=saga; total time=  29.3s\n"
     ]
    },
    {
     "name": "stderr",
     "output_type": "stream",
     "text": [
      "/opt/anaconda3/lib/python3.12/site-packages/sklearn/linear_model/_logistic.py:1256: FutureWarning: 'multi_class' was deprecated in version 1.5 and will be removed in 1.7. Use OneVsRestClassifier(LogisticRegression(..)) instead. Leave it to its default value to avoid this warning.\n",
      "  warnings.warn(\n"
     ]
    },
    {
     "name": "stdout",
     "output_type": "stream",
     "text": [
      "[CV] END C=1, class_weight=balanced, multi_class=multinomial, penalty=l1, solver=saga; total time=  29.5s\n"
     ]
    },
    {
     "name": "stderr",
     "output_type": "stream",
     "text": [
      "/opt/anaconda3/lib/python3.12/site-packages/sklearn/linear_model/_logistic.py:1247: FutureWarning: 'multi_class' was deprecated in version 1.5 and will be removed in 1.7. From then on, it will always use 'multinomial'. Leave it to its default value to avoid this warning.\n",
      "  warnings.warn(\n"
     ]
    },
    {
     "name": "stdout",
     "output_type": "stream",
     "text": [
      "[CV] END C=0.01, class_weight=None, multi_class=ovr, penalty=l2, solver=saga; total time=   4.3s\n",
      "[CV] END C=0.01, class_weight=None, multi_class=multinomial, penalty=l2, solver=saga; total time=   4.3s\n"
     ]
    },
    {
     "name": "stderr",
     "output_type": "stream",
     "text": [
      "/opt/anaconda3/lib/python3.12/site-packages/sklearn/linear_model/_logistic.py:1256: FutureWarning: 'multi_class' was deprecated in version 1.5 and will be removed in 1.7. Use OneVsRestClassifier(LogisticRegression(..)) instead. Leave it to its default value to avoid this warning.\n",
      "  warnings.warn(\n",
      "/opt/anaconda3/lib/python3.12/site-packages/sklearn/linear_model/_logistic.py:1247: FutureWarning: 'multi_class' was deprecated in version 1.5 and will be removed in 1.7. From then on, it will always use 'multinomial'. Leave it to its default value to avoid this warning.\n",
      "  warnings.warn(\n"
     ]
    },
    {
     "name": "stdout",
     "output_type": "stream",
     "text": [
      "[CV] END C=0.01, class_weight=balanced, multi_class=ovr, penalty=l2, solver=saga; total time=   5.6s\n",
      "[CV] END C=0.1, class_weight=None, multi_class=multinomial, penalty=l2, solver=saga; total time=   3.8s\n"
     ]
    },
    {
     "name": "stderr",
     "output_type": "stream",
     "text": [
      "/opt/anaconda3/lib/python3.12/site-packages/sklearn/linear_model/_logistic.py:1256: FutureWarning: 'multi_class' was deprecated in version 1.5 and will be removed in 1.7. Use OneVsRestClassifier(LogisticRegression(..)) instead. Leave it to its default value to avoid this warning.\n",
      "  warnings.warn(\n",
      "/opt/anaconda3/lib/python3.12/site-packages/sklearn/linear_model/_logistic.py:1247: FutureWarning: 'multi_class' was deprecated in version 1.5 and will be removed in 1.7. From then on, it will always use 'multinomial'. Leave it to its default value to avoid this warning.\n",
      "  warnings.warn(\n"
     ]
    },
    {
     "name": "stdout",
     "output_type": "stream",
     "text": [
      "[CV] END C=0.1, class_weight=None, multi_class=ovr, penalty=l2, solver=saga; total time=   4.1s\n",
      "[CV] END C=0.01, class_weight=balanced, multi_class=multinomial, penalty=l2, solver=saga; total time=   5.0s\n"
     ]
    },
    {
     "name": "stderr",
     "output_type": "stream",
     "text": [
      "/opt/anaconda3/lib/python3.12/site-packages/sklearn/linear_model/_logistic.py:1256: FutureWarning: 'multi_class' was deprecated in version 1.5 and will be removed in 1.7. Use OneVsRestClassifier(LogisticRegression(..)) instead. Leave it to its default value to avoid this warning.\n",
      "  warnings.warn(\n",
      "/opt/anaconda3/lib/python3.12/site-packages/sklearn/linear_model/_logistic.py:1247: FutureWarning: 'multi_class' was deprecated in version 1.5 and will be removed in 1.7. From then on, it will always use 'multinomial'. Leave it to its default value to avoid this warning.\n",
      "  warnings.warn(\n"
     ]
    },
    {
     "name": "stdout",
     "output_type": "stream",
     "text": [
      "[CV] END C=1, class_weight=None, multi_class=multinomial, penalty=l2, solver=saga; total time=   4.3s\n",
      "[CV] END C=1, class_weight=None, multi_class=ovr, penalty=l2, solver=saga; total time=   4.4s\n",
      "[CV] END C=0.1, class_weight=balanced, multi_class=multinomial, penalty=l2, solver=saga; total time=   4.6s\n"
     ]
    },
    {
     "name": "stderr",
     "output_type": "stream",
     "text": [
      "/opt/anaconda3/lib/python3.12/site-packages/sklearn/linear_model/_logistic.py:1256: FutureWarning: 'multi_class' was deprecated in version 1.5 and will be removed in 1.7. Use OneVsRestClassifier(LogisticRegression(..)) instead. Leave it to its default value to avoid this warning.\n",
      "  warnings.warn(\n",
      "/opt/anaconda3/lib/python3.12/site-packages/sklearn/linear_model/_logistic.py:1247: FutureWarning: 'multi_class' was deprecated in version 1.5 and will be removed in 1.7. From then on, it will always use 'multinomial'. Leave it to its default value to avoid this warning.\n",
      "  warnings.warn(\n",
      "/opt/anaconda3/lib/python3.12/site-packages/sklearn/linear_model/_logistic.py:1256: FutureWarning: 'multi_class' was deprecated in version 1.5 and will be removed in 1.7. Use OneVsRestClassifier(LogisticRegression(..)) instead. Leave it to its default value to avoid this warning.\n",
      "  warnings.warn(\n"
     ]
    },
    {
     "name": "stdout",
     "output_type": "stream",
     "text": [
      "[CV] END C=0.1, class_weight=balanced, multi_class=ovr, penalty=l2, solver=saga; total time=   5.0s\n"
     ]
    },
    {
     "name": "stderr",
     "output_type": "stream",
     "text": [
      "/opt/anaconda3/lib/python3.12/site-packages/sklearn/linear_model/_logistic.py:1247: FutureWarning: 'multi_class' was deprecated in version 1.5 and will be removed in 1.7. From then on, it will always use 'multinomial'. Leave it to its default value to avoid this warning.\n",
      "  warnings.warn(\n"
     ]
    },
    {
     "name": "stdout",
     "output_type": "stream",
     "text": [
      "[CV] END C=1, class_weight=balanced, multi_class=ovr, penalty=l2, solver=saga; total time=   5.3s\n"
     ]
    },
    {
     "name": "stderr",
     "output_type": "stream",
     "text": [
      "/opt/anaconda3/lib/python3.12/site-packages/sklearn/linear_model/_logistic.py:1256: FutureWarning: 'multi_class' was deprecated in version 1.5 and will be removed in 1.7. Use OneVsRestClassifier(LogisticRegression(..)) instead. Leave it to its default value to avoid this warning.\n",
      "  warnings.warn(\n"
     ]
    },
    {
     "name": "stdout",
     "output_type": "stream",
     "text": [
      "[CV] END C=1, class_weight=balanced, multi_class=multinomial, penalty=l2, solver=saga; total time=   6.1s\n"
     ]
    },
    {
     "name": "stderr",
     "output_type": "stream",
     "text": [
      "/opt/anaconda3/lib/python3.12/site-packages/sklearn/linear_model/_logistic.py:1247: FutureWarning: 'multi_class' was deprecated in version 1.5 and will be removed in 1.7. From then on, it will always use 'multinomial'. Leave it to its default value to avoid this warning.\n",
      "  warnings.warn(\n"
     ]
    },
    {
     "name": "stdout",
     "output_type": "stream",
     "text": [
      "[CV] END C=10, class_weight=None, multi_class=multinomial, penalty=l2, solver=saga; total time=  11.6s\n"
     ]
    },
    {
     "name": "stderr",
     "output_type": "stream",
     "text": [
      "/opt/anaconda3/lib/python3.12/site-packages/sklearn/linear_model/_logistic.py:1256: FutureWarning: 'multi_class' was deprecated in version 1.5 and will be removed in 1.7. Use OneVsRestClassifier(LogisticRegression(..)) instead. Leave it to its default value to avoid this warning.\n",
      "  warnings.warn(\n"
     ]
    },
    {
     "name": "stdout",
     "output_type": "stream",
     "text": [
      "[CV] END C=10, class_weight=None, multi_class=ovr, penalty=l2, solver=saga; total time=  15.3s\n"
     ]
    },
    {
     "name": "stderr",
     "output_type": "stream",
     "text": [
      "/opt/anaconda3/lib/python3.12/site-packages/sklearn/linear_model/_logistic.py:1247: FutureWarning: 'multi_class' was deprecated in version 1.5 and will be removed in 1.7. From then on, it will always use 'multinomial'. Leave it to its default value to avoid this warning.\n",
      "  warnings.warn(\n"
     ]
    },
    {
     "name": "stdout",
     "output_type": "stream",
     "text": [
      "[CV] END C=0.01, class_weight=None, l1_ratio=0.0, multi_class=ovr, penalty=elasticnet, solver=saga; total time=   4.8s\n"
     ]
    },
    {
     "name": "stderr",
     "output_type": "stream",
     "text": [
      "/opt/anaconda3/lib/python3.12/site-packages/sklearn/linear_model/_logistic.py:1256: FutureWarning: 'multi_class' was deprecated in version 1.5 and will be removed in 1.7. Use OneVsRestClassifier(LogisticRegression(..)) instead. Leave it to its default value to avoid this warning.\n",
      "  warnings.warn(\n"
     ]
    },
    {
     "name": "stdout",
     "output_type": "stream",
     "text": [
      "[CV] END C=0.01, class_weight=None, l1_ratio=0.5, multi_class=ovr, penalty=elasticnet, solver=saga; total time=   1.5s\n"
     ]
    },
    {
     "name": "stderr",
     "output_type": "stream",
     "text": [
      "/opt/anaconda3/lib/python3.12/site-packages/sklearn/linear_model/_logistic.py:1247: FutureWarning: 'multi_class' was deprecated in version 1.5 and will be removed in 1.7. From then on, it will always use 'multinomial'. Leave it to its default value to avoid this warning.\n",
      "  warnings.warn(\n"
     ]
    },
    {
     "name": "stdout",
     "output_type": "stream",
     "text": [
      "[CV] END C=0.01, class_weight=None, l1_ratio=0.0, multi_class=multinomial, penalty=elasticnet, solver=saga; total time=   4.6s\n",
      "[CV] END C=0.01, class_weight=None, l1_ratio=0.5, multi_class=multinomial, penalty=elasticnet, solver=saga; total time=   1.7s\n"
     ]
    },
    {
     "name": "stderr",
     "output_type": "stream",
     "text": [
      "/opt/anaconda3/lib/python3.12/site-packages/sklearn/linear_model/_logistic.py:1256: FutureWarning: 'multi_class' was deprecated in version 1.5 and will be removed in 1.7. Use OneVsRestClassifier(LogisticRegression(..)) instead. Leave it to its default value to avoid this warning.\n",
      "  warnings.warn(\n",
      "/opt/anaconda3/lib/python3.12/site-packages/sklearn/linear_model/_logistic.py:1247: FutureWarning: 'multi_class' was deprecated in version 1.5 and will be removed in 1.7. From then on, it will always use 'multinomial'. Leave it to its default value to avoid this warning.\n",
      "  warnings.warn(\n"
     ]
    },
    {
     "name": "stdout",
     "output_type": "stream",
     "text": [
      "[CV] END C=10, class_weight=balanced, multi_class=ovr, penalty=l2, solver=saga; total time=  15.7s\n",
      "[CV] END C=0.01, class_weight=None, l1_ratio=1.0, multi_class=multinomial, penalty=elasticnet, solver=saga; total time=   1.1s\n",
      "[CV] END C=0.01, class_weight=None, l1_ratio=1.0, multi_class=ovr, penalty=elasticnet, solver=saga; total time=   1.1s\n"
     ]
    },
    {
     "name": "stderr",
     "output_type": "stream",
     "text": [
      "/opt/anaconda3/lib/python3.12/site-packages/sklearn/linear_model/_logistic.py:1256: FutureWarning: 'multi_class' was deprecated in version 1.5 and will be removed in 1.7. Use OneVsRestClassifier(LogisticRegression(..)) instead. Leave it to its default value to avoid this warning.\n",
      "  warnings.warn(\n",
      "/opt/anaconda3/lib/python3.12/site-packages/sklearn/linear_model/_logistic.py:1247: FutureWarning: 'multi_class' was deprecated in version 1.5 and will be removed in 1.7. From then on, it will always use 'multinomial'. Leave it to its default value to avoid this warning.\n",
      "  warnings.warn(\n",
      "/opt/anaconda3/lib/python3.12/site-packages/sklearn/linear_model/_logistic.py:1256: FutureWarning: 'multi_class' was deprecated in version 1.5 and will be removed in 1.7. Use OneVsRestClassifier(LogisticRegression(..)) instead. Leave it to its default value to avoid this warning.\n",
      "  warnings.warn(\n"
     ]
    },
    {
     "name": "stdout",
     "output_type": "stream",
     "text": [
      "[CV] END C=0.01, class_weight=balanced, l1_ratio=0.5, multi_class=ovr, penalty=elasticnet, solver=saga; total time=   3.4s\n"
     ]
    },
    {
     "name": "stderr",
     "output_type": "stream",
     "text": [
      "/opt/anaconda3/lib/python3.12/site-packages/sklearn/linear_model/_logistic.py:1247: FutureWarning: 'multi_class' was deprecated in version 1.5 and will be removed in 1.7. From then on, it will always use 'multinomial'. Leave it to its default value to avoid this warning.\n",
      "  warnings.warn(\n"
     ]
    },
    {
     "name": "stdout",
     "output_type": "stream",
     "text": [
      "[CV] END C=0.01, class_weight=balanced, l1_ratio=0.0, multi_class=multinomial, penalty=elasticnet, solver=saga; total time=   6.0s\n"
     ]
    },
    {
     "name": "stderr",
     "output_type": "stream",
     "text": [
      "/opt/anaconda3/lib/python3.12/site-packages/sklearn/linear_model/_logistic.py:1256: FutureWarning: 'multi_class' was deprecated in version 1.5 and will be removed in 1.7. Use OneVsRestClassifier(LogisticRegression(..)) instead. Leave it to its default value to avoid this warning.\n",
      "  warnings.warn(\n"
     ]
    },
    {
     "name": "stdout",
     "output_type": "stream",
     "text": [
      "[CV] END C=0.01, class_weight=balanced, l1_ratio=0.0, multi_class=ovr, penalty=elasticnet, solver=saga; total time=   7.6s\n"
     ]
    },
    {
     "name": "stderr",
     "output_type": "stream",
     "text": [
      "/opt/anaconda3/lib/python3.12/site-packages/sklearn/linear_model/_logistic.py:1247: FutureWarning: 'multi_class' was deprecated in version 1.5 and will be removed in 1.7. From then on, it will always use 'multinomial'. Leave it to its default value to avoid this warning.\n",
      "  warnings.warn(\n"
     ]
    },
    {
     "name": "stdout",
     "output_type": "stream",
     "text": [
      "[CV] END C=0.01, class_weight=balanced, l1_ratio=0.5, multi_class=multinomial, penalty=elasticnet, solver=saga; total time=   4.8s\n"
     ]
    },
    {
     "name": "stderr",
     "output_type": "stream",
     "text": [
      "/opt/anaconda3/lib/python3.12/site-packages/sklearn/linear_model/_logistic.py:1256: FutureWarning: 'multi_class' was deprecated in version 1.5 and will be removed in 1.7. Use OneVsRestClassifier(LogisticRegression(..)) instead. Leave it to its default value to avoid this warning.\n",
      "  warnings.warn(\n"
     ]
    },
    {
     "name": "stdout",
     "output_type": "stream",
     "text": [
      "[CV] END C=0.01, class_weight=balanced, l1_ratio=1.0, multi_class=ovr, penalty=elasticnet, solver=saga; total time=   2.8s\n"
     ]
    },
    {
     "name": "stderr",
     "output_type": "stream",
     "text": [
      "/opt/anaconda3/lib/python3.12/site-packages/sklearn/linear_model/_logistic.py:1247: FutureWarning: 'multi_class' was deprecated in version 1.5 and will be removed in 1.7. From then on, it will always use 'multinomial'. Leave it to its default value to avoid this warning.\n",
      "  warnings.warn(\n"
     ]
    },
    {
     "name": "stdout",
     "output_type": "stream",
     "text": [
      "[CV] END C=0.01, class_weight=balanced, l1_ratio=1.0, multi_class=multinomial, penalty=elasticnet, solver=saga; total time=   2.3s\n"
     ]
    },
    {
     "name": "stderr",
     "output_type": "stream",
     "text": [
      "/opt/anaconda3/lib/python3.12/site-packages/sklearn/linear_model/_logistic.py:1256: FutureWarning: 'multi_class' was deprecated in version 1.5 and will be removed in 1.7. Use OneVsRestClassifier(LogisticRegression(..)) instead. Leave it to its default value to avoid this warning.\n",
      "  warnings.warn(\n"
     ]
    },
    {
     "name": "stdout",
     "output_type": "stream",
     "text": [
      "[CV] END C=0.1, class_weight=None, l1_ratio=0.0, multi_class=multinomial, penalty=elasticnet, solver=saga; total time=   4.8s\n",
      "[CV] END C=0.1, class_weight=None, l1_ratio=0.0, multi_class=ovr, penalty=elasticnet, solver=saga; total time=   5.4s\n"
     ]
    },
    {
     "name": "stderr",
     "output_type": "stream",
     "text": [
      "/opt/anaconda3/lib/python3.12/site-packages/sklearn/linear_model/_logistic.py:1247: FutureWarning: 'multi_class' was deprecated in version 1.5 and will be removed in 1.7. From then on, it will always use 'multinomial'. Leave it to its default value to avoid this warning.\n",
      "  warnings.warn(\n",
      "/opt/anaconda3/lib/python3.12/site-packages/sklearn/linear_model/_logistic.py:1256: FutureWarning: 'multi_class' was deprecated in version 1.5 and will be removed in 1.7. Use OneVsRestClassifier(LogisticRegression(..)) instead. Leave it to its default value to avoid this warning.\n",
      "  warnings.warn(\n"
     ]
    },
    {
     "name": "stdout",
     "output_type": "stream",
     "text": [
      "[CV] END C=0.1, class_weight=None, l1_ratio=0.5, multi_class=ovr, penalty=elasticnet, solver=saga; total time=   7.6s\n"
     ]
    },
    {
     "name": "stderr",
     "output_type": "stream",
     "text": [
      "/opt/anaconda3/lib/python3.12/site-packages/sklearn/linear_model/_logistic.py:1247: FutureWarning: 'multi_class' was deprecated in version 1.5 and will be removed in 1.7. From then on, it will always use 'multinomial'. Leave it to its default value to avoid this warning.\n",
      "  warnings.warn(\n"
     ]
    },
    {
     "name": "stdout",
     "output_type": "stream",
     "text": [
      "[CV] END C=0.1, class_weight=None, l1_ratio=0.5, multi_class=multinomial, penalty=elasticnet, solver=saga; total time=   7.2s\n"
     ]
    },
    {
     "name": "stderr",
     "output_type": "stream",
     "text": [
      "/opt/anaconda3/lib/python3.12/site-packages/sklearn/linear_model/_logistic.py:1256: FutureWarning: 'multi_class' was deprecated in version 1.5 and will be removed in 1.7. Use OneVsRestClassifier(LogisticRegression(..)) instead. Leave it to its default value to avoid this warning.\n",
      "  warnings.warn(\n"
     ]
    },
    {
     "name": "stdout",
     "output_type": "stream",
     "text": [
      "[CV] END C=0.1, class_weight=None, l1_ratio=1.0, multi_class=ovr, penalty=elasticnet, solver=saga; total time=   7.8s\n"
     ]
    },
    {
     "name": "stderr",
     "output_type": "stream",
     "text": [
      "/opt/anaconda3/lib/python3.12/site-packages/sklearn/linear_model/_logistic.py:1247: FutureWarning: 'multi_class' was deprecated in version 1.5 and will be removed in 1.7. From then on, it will always use 'multinomial'. Leave it to its default value to avoid this warning.\n",
      "  warnings.warn(\n"
     ]
    },
    {
     "name": "stdout",
     "output_type": "stream",
     "text": [
      "[CV] END C=0.1, class_weight=None, l1_ratio=1.0, multi_class=multinomial, penalty=elasticnet, solver=saga; total time=   9.2s\n"
     ]
    },
    {
     "name": "stderr",
     "output_type": "stream",
     "text": [
      "/opt/anaconda3/lib/python3.12/site-packages/sklearn/linear_model/_logistic.py:1256: FutureWarning: 'multi_class' was deprecated in version 1.5 and will be removed in 1.7. Use OneVsRestClassifier(LogisticRegression(..)) instead. Leave it to its default value to avoid this warning.\n",
      "  warnings.warn(\n"
     ]
    },
    {
     "name": "stdout",
     "output_type": "stream",
     "text": [
      "[CV] END C=0.1, class_weight=balanced, l1_ratio=0.0, multi_class=ovr, penalty=elasticnet, solver=saga; total time=   6.4s\n",
      "[CV] END C=0.1, class_weight=balanced, l1_ratio=0.0, multi_class=multinomial, penalty=elasticnet, solver=saga; total time=   5.8s\n"
     ]
    },
    {
     "name": "stderr",
     "output_type": "stream",
     "text": [
      "/opt/anaconda3/lib/python3.12/site-packages/sklearn/linear_model/_logistic.py:1256: FutureWarning: 'multi_class' was deprecated in version 1.5 and will be removed in 1.7. Use OneVsRestClassifier(LogisticRegression(..)) instead. Leave it to its default value to avoid this warning.\n",
      "  warnings.warn(\n",
      "/opt/anaconda3/lib/python3.12/site-packages/sklearn/linear_model/_logistic.py:1247: FutureWarning: 'multi_class' was deprecated in version 1.5 and will be removed in 1.7. From then on, it will always use 'multinomial'. Leave it to its default value to avoid this warning.\n",
      "  warnings.warn(\n"
     ]
    },
    {
     "name": "stdout",
     "output_type": "stream",
     "text": [
      "[CV] END C=0.1, class_weight=balanced, l1_ratio=1.0, multi_class=ovr, penalty=elasticnet, solver=saga; total time=   7.1s\n"
     ]
    },
    {
     "name": "stderr",
     "output_type": "stream",
     "text": [
      "/opt/anaconda3/lib/python3.12/site-packages/sklearn/linear_model/_logistic.py:1247: FutureWarning: 'multi_class' was deprecated in version 1.5 and will be removed in 1.7. From then on, it will always use 'multinomial'. Leave it to its default value to avoid this warning.\n",
      "  warnings.warn(\n"
     ]
    },
    {
     "name": "stdout",
     "output_type": "stream",
     "text": [
      "[CV] END C=0.1, class_weight=balanced, l1_ratio=0.5, multi_class=multinomial, penalty=elasticnet, solver=saga; total time=   7.8s\n"
     ]
    },
    {
     "name": "stderr",
     "output_type": "stream",
     "text": [
      "/opt/anaconda3/lib/python3.12/site-packages/sklearn/linear_model/_logistic.py:1256: FutureWarning: 'multi_class' was deprecated in version 1.5 and will be removed in 1.7. Use OneVsRestClassifier(LogisticRegression(..)) instead. Leave it to its default value to avoid this warning.\n",
      "  warnings.warn(\n"
     ]
    },
    {
     "name": "stdout",
     "output_type": "stream",
     "text": [
      "[CV] END C=0.1, class_weight=balanced, l1_ratio=0.5, multi_class=ovr, penalty=elasticnet, solver=saga; total time=   8.7s\n"
     ]
    },
    {
     "name": "stderr",
     "output_type": "stream",
     "text": [
      "/opt/anaconda3/lib/python3.12/site-packages/sklearn/linear_model/_logistic.py:1247: FutureWarning: 'multi_class' was deprecated in version 1.5 and will be removed in 1.7. From then on, it will always use 'multinomial'. Leave it to its default value to avoid this warning.\n",
      "  warnings.warn(\n"
     ]
    },
    {
     "name": "stdout",
     "output_type": "stream",
     "text": [
      "[CV] END C=1, class_weight=None, l1_ratio=0.0, multi_class=multinomial, penalty=elasticnet, solver=saga; total time=   5.3s\n"
     ]
    },
    {
     "name": "stderr",
     "output_type": "stream",
     "text": [
      "/opt/anaconda3/lib/python3.12/site-packages/sklearn/linear_model/_logistic.py:1256: FutureWarning: 'multi_class' was deprecated in version 1.5 and will be removed in 1.7. Use OneVsRestClassifier(LogisticRegression(..)) instead. Leave it to its default value to avoid this warning.\n",
      "  warnings.warn(\n"
     ]
    },
    {
     "name": "stdout",
     "output_type": "stream",
     "text": [
      "[CV] END C=1, class_weight=None, l1_ratio=0.0, multi_class=ovr, penalty=elasticnet, solver=saga; total time=   6.2s\n"
     ]
    },
    {
     "name": "stderr",
     "output_type": "stream",
     "text": [
      "/opt/anaconda3/lib/python3.12/site-packages/sklearn/linear_model/_logistic.py:1247: FutureWarning: 'multi_class' was deprecated in version 1.5 and will be removed in 1.7. From then on, it will always use 'multinomial'. Leave it to its default value to avoid this warning.\n",
      "  warnings.warn(\n"
     ]
    },
    {
     "name": "stdout",
     "output_type": "stream",
     "text": [
      "[CV] END C=0.1, class_weight=balanced, l1_ratio=1.0, multi_class=multinomial, penalty=elasticnet, solver=saga; total time=   9.6s\n"
     ]
    },
    {
     "name": "stderr",
     "output_type": "stream",
     "text": [
      "/opt/anaconda3/lib/python3.12/site-packages/sklearn/linear_model/_logistic.py:1256: FutureWarning: 'multi_class' was deprecated in version 1.5 and will be removed in 1.7. Use OneVsRestClassifier(LogisticRegression(..)) instead. Leave it to its default value to avoid this warning.\n",
      "  warnings.warn(\n"
     ]
    },
    {
     "name": "stdout",
     "output_type": "stream",
     "text": [
      "[CV] END C=1, class_weight=None, l1_ratio=0.5, multi_class=multinomial, penalty=elasticnet, solver=saga; total time=   9.0s\n"
     ]
    },
    {
     "name": "stderr",
     "output_type": "stream",
     "text": [
      "/opt/anaconda3/lib/python3.12/site-packages/sklearn/linear_model/_logistic.py:1247: FutureWarning: 'multi_class' was deprecated in version 1.5 and will be removed in 1.7. From then on, it will always use 'multinomial'. Leave it to its default value to avoid this warning.\n",
      "  warnings.warn(\n"
     ]
    },
    {
     "name": "stdout",
     "output_type": "stream",
     "text": [
      "[CV] END C=1, class_weight=None, l1_ratio=0.5, multi_class=ovr, penalty=elasticnet, solver=saga; total time=  10.1s\n"
     ]
    },
    {
     "name": "stderr",
     "output_type": "stream",
     "text": [
      "/opt/anaconda3/lib/python3.12/site-packages/sklearn/linear_model/_logistic.py:1256: FutureWarning: 'multi_class' was deprecated in version 1.5 and will be removed in 1.7. Use OneVsRestClassifier(LogisticRegression(..)) instead. Leave it to its default value to avoid this warning.\n",
      "  warnings.warn(\n"
     ]
    },
    {
     "name": "stdout",
     "output_type": "stream",
     "text": [
      "[CV] END C=10, class_weight=balanced, multi_class=multinomial, penalty=l2, solver=saga; total time= 1.1min\n"
     ]
    },
    {
     "name": "stderr",
     "output_type": "stream",
     "text": [
      "/opt/anaconda3/lib/python3.12/site-packages/sklearn/linear_model/_logistic.py:1247: FutureWarning: 'multi_class' was deprecated in version 1.5 and will be removed in 1.7. From then on, it will always use 'multinomial'. Leave it to its default value to avoid this warning.\n",
      "  warnings.warn(\n"
     ]
    },
    {
     "name": "stdout",
     "output_type": "stream",
     "text": [
      "[CV] END C=1, class_weight=balanced, l1_ratio=0.0, multi_class=ovr, penalty=elasticnet, solver=saga; total time=   6.3s\n"
     ]
    },
    {
     "name": "stderr",
     "output_type": "stream",
     "text": [
      "/opt/anaconda3/lib/python3.12/site-packages/sklearn/linear_model/_logistic.py:1256: FutureWarning: 'multi_class' was deprecated in version 1.5 and will be removed in 1.7. Use OneVsRestClassifier(LogisticRegression(..)) instead. Leave it to its default value to avoid this warning.\n",
      "  warnings.warn(\n"
     ]
    },
    {
     "name": "stdout",
     "output_type": "stream",
     "text": [
      "[CV] END C=1, class_weight=balanced, l1_ratio=0.0, multi_class=multinomial, penalty=elasticnet, solver=saga; total time=   7.3s\n"
     ]
    },
    {
     "name": "stderr",
     "output_type": "stream",
     "text": [
      "/opt/anaconda3/lib/python3.12/site-packages/sklearn/linear_model/_logistic.py:1247: FutureWarning: 'multi_class' was deprecated in version 1.5 and will be removed in 1.7. From then on, it will always use 'multinomial'. Leave it to its default value to avoid this warning.\n",
      "  warnings.warn(\n"
     ]
    },
    {
     "name": "stdout",
     "output_type": "stream",
     "text": [
      "[CV] END C=1, class_weight=balanced, l1_ratio=0.5, multi_class=ovr, penalty=elasticnet, solver=saga; total time=  11.0s\n"
     ]
    },
    {
     "name": "stderr",
     "output_type": "stream",
     "text": [
      "/opt/anaconda3/lib/python3.12/site-packages/sklearn/linear_model/_logistic.py:1256: FutureWarning: 'multi_class' was deprecated in version 1.5 and will be removed in 1.7. Use OneVsRestClassifier(LogisticRegression(..)) instead. Leave it to its default value to avoid this warning.\n",
      "  warnings.warn(\n"
     ]
    },
    {
     "name": "stdout",
     "output_type": "stream",
     "text": [
      "[CV] END C=1, class_weight=balanced, l1_ratio=0.5, multi_class=multinomial, penalty=elasticnet, solver=saga; total time=  10.2s\n"
     ]
    },
    {
     "name": "stderr",
     "output_type": "stream",
     "text": [
      "/opt/anaconda3/lib/python3.12/site-packages/sklearn/linear_model/_logistic.py:1247: FutureWarning: 'multi_class' was deprecated in version 1.5 and will be removed in 1.7. From then on, it will always use 'multinomial'. Leave it to its default value to avoid this warning.\n",
      "  warnings.warn(\n"
     ]
    },
    {
     "name": "stdout",
     "output_type": "stream",
     "text": [
      "[CV] END C=1, class_weight=None, l1_ratio=1.0, multi_class=ovr, penalty=elasticnet, solver=saga; total time=  30.0s\n"
     ]
    },
    {
     "name": "stderr",
     "output_type": "stream",
     "text": [
      "/opt/anaconda3/lib/python3.12/site-packages/sklearn/linear_model/_logistic.py:1256: FutureWarning: 'multi_class' was deprecated in version 1.5 and will be removed in 1.7. Use OneVsRestClassifier(LogisticRegression(..)) instead. Leave it to its default value to avoid this warning.\n",
      "  warnings.warn(\n"
     ]
    },
    {
     "name": "stdout",
     "output_type": "stream",
     "text": [
      "[CV] END C=1, class_weight=None, l1_ratio=1.0, multi_class=multinomial, penalty=elasticnet, solver=saga; total time=  33.9s\n"
     ]
    },
    {
     "name": "stderr",
     "output_type": "stream",
     "text": [
      "/opt/anaconda3/lib/python3.12/site-packages/sklearn/linear_model/_logistic.py:1247: FutureWarning: 'multi_class' was deprecated in version 1.5 and will be removed in 1.7. From then on, it will always use 'multinomial'. Leave it to its default value to avoid this warning.\n",
      "  warnings.warn(\n"
     ]
    },
    {
     "name": "stdout",
     "output_type": "stream",
     "text": [
      "[CV] END C=10, class_weight=None, l1_ratio=0.0, multi_class=ovr, penalty=elasticnet, solver=saga; total time=  16.5s\n"
     ]
    },
    {
     "name": "stderr",
     "output_type": "stream",
     "text": [
      "/opt/anaconda3/lib/python3.12/site-packages/sklearn/linear_model/_logistic.py:1256: FutureWarning: 'multi_class' was deprecated in version 1.5 and will be removed in 1.7. Use OneVsRestClassifier(LogisticRegression(..)) instead. Leave it to its default value to avoid this warning.\n",
      "  warnings.warn(\n"
     ]
    },
    {
     "name": "stdout",
     "output_type": "stream",
     "text": [
      "[CV] END C=10, class_weight=None, l1_ratio=0.0, multi_class=multinomial, penalty=elasticnet, solver=saga; total time=  12.4s\n"
     ]
    },
    {
     "name": "stderr",
     "output_type": "stream",
     "text": [
      "/opt/anaconda3/lib/python3.12/site-packages/sklearn/linear_model/_logistic.py:1247: FutureWarning: 'multi_class' was deprecated in version 1.5 and will be removed in 1.7. From then on, it will always use 'multinomial'. Leave it to its default value to avoid this warning.\n",
      "  warnings.warn(\n"
     ]
    },
    {
     "name": "stdout",
     "output_type": "stream",
     "text": [
      "[CV] END C=1, class_weight=balanced, l1_ratio=1.0, multi_class=ovr, penalty=elasticnet, solver=saga; total time=  30.1s\n"
     ]
    },
    {
     "name": "stderr",
     "output_type": "stream",
     "text": [
      "/opt/anaconda3/lib/python3.12/site-packages/sklearn/linear_model/_logistic.py:1256: FutureWarning: 'multi_class' was deprecated in version 1.5 and will be removed in 1.7. Use OneVsRestClassifier(LogisticRegression(..)) instead. Leave it to its default value to avoid this warning.\n",
      "  warnings.warn(\n"
     ]
    },
    {
     "name": "stdout",
     "output_type": "stream",
     "text": [
      "[CV] END C=1, class_weight=balanced, l1_ratio=1.0, multi_class=multinomial, penalty=elasticnet, solver=saga; total time=  35.5s\n"
     ]
    },
    {
     "name": "stderr",
     "output_type": "stream",
     "text": [
      "/opt/anaconda3/lib/python3.12/site-packages/sklearn/linear_model/_logistic.py:1247: FutureWarning: 'multi_class' was deprecated in version 1.5 and will be removed in 1.7. From then on, it will always use 'multinomial'. Leave it to its default value to avoid this warning.\n",
      "  warnings.warn(\n"
     ]
    },
    {
     "name": "stdout",
     "output_type": "stream",
     "text": [
      "[CV] END C=10, class_weight=None, l1_ratio=0.5, multi_class=ovr, penalty=elasticnet, solver=saga; total time=  47.3s\n",
      "[CV] END C=10, class_weight=None, l1_ratio=0.5, multi_class=multinomial, penalty=elasticnet, solver=saga; total time=  41.3s\n"
     ]
    },
    {
     "name": "stderr",
     "output_type": "stream",
     "text": [
      "/opt/anaconda3/lib/python3.12/site-packages/sklearn/linear_model/_logistic.py:1247: FutureWarning: 'multi_class' was deprecated in version 1.5 and will be removed in 1.7. From then on, it will always use 'multinomial'. Leave it to its default value to avoid this warning.\n",
      "  warnings.warn(\n",
      "/opt/anaconda3/lib/python3.12/site-packages/sklearn/linear_model/_logistic.py:1256: FutureWarning: 'multi_class' was deprecated in version 1.5 and will be removed in 1.7. Use OneVsRestClassifier(LogisticRegression(..)) instead. Leave it to its default value to avoid this warning.\n",
      "  warnings.warn(\n"
     ]
    },
    {
     "name": "stdout",
     "output_type": "stream",
     "text": [
      "[CV] END C=10, class_weight=balanced, l1_ratio=0.0, multi_class=ovr, penalty=elasticnet, solver=saga; total time=  17.9s\n"
     ]
    },
    {
     "name": "stderr",
     "output_type": "stream",
     "text": [
      "/opt/anaconda3/lib/python3.12/site-packages/sklearn/linear_model/_logistic.py:1256: FutureWarning: 'multi_class' was deprecated in version 1.5 and will be removed in 1.7. Use OneVsRestClassifier(LogisticRegression(..)) instead. Leave it to its default value to avoid this warning.\n",
      "  warnings.warn(\n"
     ]
    },
    {
     "name": "stdout",
     "output_type": "stream",
     "text": [
      "[CV] END C=10, class_weight=None, multi_class=multinomial, penalty=l1, solver=saga; total time= 3.9min\n"
     ]
    },
    {
     "name": "stderr",
     "output_type": "stream",
     "text": [
      "/opt/anaconda3/lib/python3.12/site-packages/sklearn/linear_model/_logistic.py:1247: FutureWarning: 'multi_class' was deprecated in version 1.5 and will be removed in 1.7. From then on, it will always use 'multinomial'. Leave it to its default value to avoid this warning.\n",
      "  warnings.warn(\n"
     ]
    },
    {
     "name": "stdout",
     "output_type": "stream",
     "text": [
      "[CV] END C=10, class_weight=balanced, l1_ratio=0.0, multi_class=multinomial, penalty=elasticnet, solver=saga; total time=  56.4s\n"
     ]
    },
    {
     "name": "stderr",
     "output_type": "stream",
     "text": [
      "/opt/anaconda3/lib/python3.12/site-packages/sklearn/linear_model/_logistic.py:1256: FutureWarning: 'multi_class' was deprecated in version 1.5 and will be removed in 1.7. Use OneVsRestClassifier(LogisticRegression(..)) instead. Leave it to its default value to avoid this warning.\n",
      "  warnings.warn(\n"
     ]
    },
    {
     "name": "stdout",
     "output_type": "stream",
     "text": [
      "[CV] END C=10, class_weight=None, multi_class=ovr, penalty=l1, solver=saga; total time= 4.2min\n"
     ]
    },
    {
     "name": "stderr",
     "output_type": "stream",
     "text": [
      "/opt/anaconda3/lib/python3.12/site-packages/sklearn/linear_model/_logistic.py:1247: FutureWarning: 'multi_class' was deprecated in version 1.5 and will be removed in 1.7. From then on, it will always use 'multinomial'. Leave it to its default value to avoid this warning.\n",
      "  warnings.warn(\n"
     ]
    },
    {
     "name": "stdout",
     "output_type": "stream",
     "text": [
      "[CV] END C=10, class_weight=balanced, l1_ratio=0.5, multi_class=ovr, penalty=elasticnet, solver=saga; total time=  44.8s\n",
      "[CV] END C=10, class_weight=balanced, multi_class=ovr, penalty=l1, solver=saga; total time= 4.4min\n",
      "[CV] END C=10, class_weight=balanced, multi_class=multinomial, penalty=l1, solver=saga; total time= 4.5min\n",
      "[CV] END C=10, class_weight=None, l1_ratio=1.0, multi_class=ovr, penalty=elasticnet, solver=saga; total time= 4.0min\n",
      "[CV] END C=10, class_weight=None, l1_ratio=1.0, multi_class=multinomial, penalty=elasticnet, solver=saga; total time= 3.9min\n",
      "[CV] END C=10, class_weight=balanced, l1_ratio=1.0, multi_class=ovr, penalty=elasticnet, solver=saga; total time= 3.6min\n",
      "[CV] END C=10, class_weight=balanced, l1_ratio=1.0, multi_class=multinomial, penalty=elasticnet, solver=saga; total time= 3.7min\n"
     ]
    },
    {
     "name": "stderr",
     "output_type": "stream",
     "text": [
      "/opt/anaconda3/lib/python3.12/site-packages/sklearn/linear_model/_sag.py:349: ConvergenceWarning: The max_iter was reached which means the coef_ did not converge\n",
      "  warnings.warn(\n",
      "/opt/anaconda3/lib/python3.12/site-packages/sklearn/linear_model/_logistic.py:1256: FutureWarning: 'multi_class' was deprecated in version 1.5 and will be removed in 1.7. Use OneVsRestClassifier(LogisticRegression(..)) instead. Leave it to its default value to avoid this warning.\n",
      "  warnings.warn(\n"
     ]
    },
    {
     "name": "stdout",
     "output_type": "stream",
     "text": [
      "[CV] END C=10, class_weight=balanced, l1_ratio=0.5, multi_class=multinomial, penalty=elasticnet, solver=saga; total time= 5.0min\n"
     ]
    },
    {
     "data": {
      "text/html": [
       "<style>#sk-container-id-1 {\n",
       "  /* Definition of color scheme common for light and dark mode */\n",
       "  --sklearn-color-text: black;\n",
       "  --sklearn-color-line: gray;\n",
       "  /* Definition of color scheme for unfitted estimators */\n",
       "  --sklearn-color-unfitted-level-0: #fff5e6;\n",
       "  --sklearn-color-unfitted-level-1: #f6e4d2;\n",
       "  --sklearn-color-unfitted-level-2: #ffe0b3;\n",
       "  --sklearn-color-unfitted-level-3: chocolate;\n",
       "  /* Definition of color scheme for fitted estimators */\n",
       "  --sklearn-color-fitted-level-0: #f0f8ff;\n",
       "  --sklearn-color-fitted-level-1: #d4ebff;\n",
       "  --sklearn-color-fitted-level-2: #b3dbfd;\n",
       "  --sklearn-color-fitted-level-3: cornflowerblue;\n",
       "\n",
       "  /* Specific color for light theme */\n",
       "  --sklearn-color-text-on-default-background: var(--sg-text-color, var(--theme-code-foreground, var(--jp-content-font-color1, black)));\n",
       "  --sklearn-color-background: var(--sg-background-color, var(--theme-background, var(--jp-layout-color0, white)));\n",
       "  --sklearn-color-border-box: var(--sg-text-color, var(--theme-code-foreground, var(--jp-content-font-color1, black)));\n",
       "  --sklearn-color-icon: #696969;\n",
       "\n",
       "  @media (prefers-color-scheme: dark) {\n",
       "    /* Redefinition of color scheme for dark theme */\n",
       "    --sklearn-color-text-on-default-background: var(--sg-text-color, var(--theme-code-foreground, var(--jp-content-font-color1, white)));\n",
       "    --sklearn-color-background: var(--sg-background-color, var(--theme-background, var(--jp-layout-color0, #111)));\n",
       "    --sklearn-color-border-box: var(--sg-text-color, var(--theme-code-foreground, var(--jp-content-font-color1, white)));\n",
       "    --sklearn-color-icon: #878787;\n",
       "  }\n",
       "}\n",
       "\n",
       "#sk-container-id-1 {\n",
       "  color: var(--sklearn-color-text);\n",
       "}\n",
       "\n",
       "#sk-container-id-1 pre {\n",
       "  padding: 0;\n",
       "}\n",
       "\n",
       "#sk-container-id-1 input.sk-hidden--visually {\n",
       "  border: 0;\n",
       "  clip: rect(1px 1px 1px 1px);\n",
       "  clip: rect(1px, 1px, 1px, 1px);\n",
       "  height: 1px;\n",
       "  margin: -1px;\n",
       "  overflow: hidden;\n",
       "  padding: 0;\n",
       "  position: absolute;\n",
       "  width: 1px;\n",
       "}\n",
       "\n",
       "#sk-container-id-1 div.sk-dashed-wrapped {\n",
       "  border: 1px dashed var(--sklearn-color-line);\n",
       "  margin: 0 0.4em 0.5em 0.4em;\n",
       "  box-sizing: border-box;\n",
       "  padding-bottom: 0.4em;\n",
       "  background-color: var(--sklearn-color-background);\n",
       "}\n",
       "\n",
       "#sk-container-id-1 div.sk-container {\n",
       "  /* jupyter's `normalize.less` sets `[hidden] { display: none; }`\n",
       "     but bootstrap.min.css set `[hidden] { display: none !important; }`\n",
       "     so we also need the `!important` here to be able to override the\n",
       "     default hidden behavior on the sphinx rendered scikit-learn.org.\n",
       "     See: https://github.com/scikit-learn/scikit-learn/issues/21755 */\n",
       "  display: inline-block !important;\n",
       "  position: relative;\n",
       "}\n",
       "\n",
       "#sk-container-id-1 div.sk-text-repr-fallback {\n",
       "  display: none;\n",
       "}\n",
       "\n",
       "div.sk-parallel-item,\n",
       "div.sk-serial,\n",
       "div.sk-item {\n",
       "  /* draw centered vertical line to link estimators */\n",
       "  background-image: linear-gradient(var(--sklearn-color-text-on-default-background), var(--sklearn-color-text-on-default-background));\n",
       "  background-size: 2px 100%;\n",
       "  background-repeat: no-repeat;\n",
       "  background-position: center center;\n",
       "}\n",
       "\n",
       "/* Parallel-specific style estimator block */\n",
       "\n",
       "#sk-container-id-1 div.sk-parallel-item::after {\n",
       "  content: \"\";\n",
       "  width: 100%;\n",
       "  border-bottom: 2px solid var(--sklearn-color-text-on-default-background);\n",
       "  flex-grow: 1;\n",
       "}\n",
       "\n",
       "#sk-container-id-1 div.sk-parallel {\n",
       "  display: flex;\n",
       "  align-items: stretch;\n",
       "  justify-content: center;\n",
       "  background-color: var(--sklearn-color-background);\n",
       "  position: relative;\n",
       "}\n",
       "\n",
       "#sk-container-id-1 div.sk-parallel-item {\n",
       "  display: flex;\n",
       "  flex-direction: column;\n",
       "}\n",
       "\n",
       "#sk-container-id-1 div.sk-parallel-item:first-child::after {\n",
       "  align-self: flex-end;\n",
       "  width: 50%;\n",
       "}\n",
       "\n",
       "#sk-container-id-1 div.sk-parallel-item:last-child::after {\n",
       "  align-self: flex-start;\n",
       "  width: 50%;\n",
       "}\n",
       "\n",
       "#sk-container-id-1 div.sk-parallel-item:only-child::after {\n",
       "  width: 0;\n",
       "}\n",
       "\n",
       "/* Serial-specific style estimator block */\n",
       "\n",
       "#sk-container-id-1 div.sk-serial {\n",
       "  display: flex;\n",
       "  flex-direction: column;\n",
       "  align-items: center;\n",
       "  background-color: var(--sklearn-color-background);\n",
       "  padding-right: 1em;\n",
       "  padding-left: 1em;\n",
       "}\n",
       "\n",
       "\n",
       "/* Toggleable style: style used for estimator/Pipeline/ColumnTransformer box that is\n",
       "clickable and can be expanded/collapsed.\n",
       "- Pipeline and ColumnTransformer use this feature and define the default style\n",
       "- Estimators will overwrite some part of the style using the `sk-estimator` class\n",
       "*/\n",
       "\n",
       "/* Pipeline and ColumnTransformer style (default) */\n",
       "\n",
       "#sk-container-id-1 div.sk-toggleable {\n",
       "  /* Default theme specific background. It is overwritten whether we have a\n",
       "  specific estimator or a Pipeline/ColumnTransformer */\n",
       "  background-color: var(--sklearn-color-background);\n",
       "}\n",
       "\n",
       "/* Toggleable label */\n",
       "#sk-container-id-1 label.sk-toggleable__label {\n",
       "  cursor: pointer;\n",
       "  display: block;\n",
       "  width: 100%;\n",
       "  margin-bottom: 0;\n",
       "  padding: 0.5em;\n",
       "  box-sizing: border-box;\n",
       "  text-align: center;\n",
       "}\n",
       "\n",
       "#sk-container-id-1 label.sk-toggleable__label-arrow:before {\n",
       "  /* Arrow on the left of the label */\n",
       "  content: \"▸\";\n",
       "  float: left;\n",
       "  margin-right: 0.25em;\n",
       "  color: var(--sklearn-color-icon);\n",
       "}\n",
       "\n",
       "#sk-container-id-1 label.sk-toggleable__label-arrow:hover:before {\n",
       "  color: var(--sklearn-color-text);\n",
       "}\n",
       "\n",
       "/* Toggleable content - dropdown */\n",
       "\n",
       "#sk-container-id-1 div.sk-toggleable__content {\n",
       "  max-height: 0;\n",
       "  max-width: 0;\n",
       "  overflow: hidden;\n",
       "  text-align: left;\n",
       "  /* unfitted */\n",
       "  background-color: var(--sklearn-color-unfitted-level-0);\n",
       "}\n",
       "\n",
       "#sk-container-id-1 div.sk-toggleable__content.fitted {\n",
       "  /* fitted */\n",
       "  background-color: var(--sklearn-color-fitted-level-0);\n",
       "}\n",
       "\n",
       "#sk-container-id-1 div.sk-toggleable__content pre {\n",
       "  margin: 0.2em;\n",
       "  border-radius: 0.25em;\n",
       "  color: var(--sklearn-color-text);\n",
       "  /* unfitted */\n",
       "  background-color: var(--sklearn-color-unfitted-level-0);\n",
       "}\n",
       "\n",
       "#sk-container-id-1 div.sk-toggleable__content.fitted pre {\n",
       "  /* unfitted */\n",
       "  background-color: var(--sklearn-color-fitted-level-0);\n",
       "}\n",
       "\n",
       "#sk-container-id-1 input.sk-toggleable__control:checked~div.sk-toggleable__content {\n",
       "  /* Expand drop-down */\n",
       "  max-height: 200px;\n",
       "  max-width: 100%;\n",
       "  overflow: auto;\n",
       "}\n",
       "\n",
       "#sk-container-id-1 input.sk-toggleable__control:checked~label.sk-toggleable__label-arrow:before {\n",
       "  content: \"▾\";\n",
       "}\n",
       "\n",
       "/* Pipeline/ColumnTransformer-specific style */\n",
       "\n",
       "#sk-container-id-1 div.sk-label input.sk-toggleable__control:checked~label.sk-toggleable__label {\n",
       "  color: var(--sklearn-color-text);\n",
       "  background-color: var(--sklearn-color-unfitted-level-2);\n",
       "}\n",
       "\n",
       "#sk-container-id-1 div.sk-label.fitted input.sk-toggleable__control:checked~label.sk-toggleable__label {\n",
       "  background-color: var(--sklearn-color-fitted-level-2);\n",
       "}\n",
       "\n",
       "/* Estimator-specific style */\n",
       "\n",
       "/* Colorize estimator box */\n",
       "#sk-container-id-1 div.sk-estimator input.sk-toggleable__control:checked~label.sk-toggleable__label {\n",
       "  /* unfitted */\n",
       "  background-color: var(--sklearn-color-unfitted-level-2);\n",
       "}\n",
       "\n",
       "#sk-container-id-1 div.sk-estimator.fitted input.sk-toggleable__control:checked~label.sk-toggleable__label {\n",
       "  /* fitted */\n",
       "  background-color: var(--sklearn-color-fitted-level-2);\n",
       "}\n",
       "\n",
       "#sk-container-id-1 div.sk-label label.sk-toggleable__label,\n",
       "#sk-container-id-1 div.sk-label label {\n",
       "  /* The background is the default theme color */\n",
       "  color: var(--sklearn-color-text-on-default-background);\n",
       "}\n",
       "\n",
       "/* On hover, darken the color of the background */\n",
       "#sk-container-id-1 div.sk-label:hover label.sk-toggleable__label {\n",
       "  color: var(--sklearn-color-text);\n",
       "  background-color: var(--sklearn-color-unfitted-level-2);\n",
       "}\n",
       "\n",
       "/* Label box, darken color on hover, fitted */\n",
       "#sk-container-id-1 div.sk-label.fitted:hover label.sk-toggleable__label.fitted {\n",
       "  color: var(--sklearn-color-text);\n",
       "  background-color: var(--sklearn-color-fitted-level-2);\n",
       "}\n",
       "\n",
       "/* Estimator label */\n",
       "\n",
       "#sk-container-id-1 div.sk-label label {\n",
       "  font-family: monospace;\n",
       "  font-weight: bold;\n",
       "  display: inline-block;\n",
       "  line-height: 1.2em;\n",
       "}\n",
       "\n",
       "#sk-container-id-1 div.sk-label-container {\n",
       "  text-align: center;\n",
       "}\n",
       "\n",
       "/* Estimator-specific */\n",
       "#sk-container-id-1 div.sk-estimator {\n",
       "  font-family: monospace;\n",
       "  border: 1px dotted var(--sklearn-color-border-box);\n",
       "  border-radius: 0.25em;\n",
       "  box-sizing: border-box;\n",
       "  margin-bottom: 0.5em;\n",
       "  /* unfitted */\n",
       "  background-color: var(--sklearn-color-unfitted-level-0);\n",
       "}\n",
       "\n",
       "#sk-container-id-1 div.sk-estimator.fitted {\n",
       "  /* fitted */\n",
       "  background-color: var(--sklearn-color-fitted-level-0);\n",
       "}\n",
       "\n",
       "/* on hover */\n",
       "#sk-container-id-1 div.sk-estimator:hover {\n",
       "  /* unfitted */\n",
       "  background-color: var(--sklearn-color-unfitted-level-2);\n",
       "}\n",
       "\n",
       "#sk-container-id-1 div.sk-estimator.fitted:hover {\n",
       "  /* fitted */\n",
       "  background-color: var(--sklearn-color-fitted-level-2);\n",
       "}\n",
       "\n",
       "/* Specification for estimator info (e.g. \"i\" and \"?\") */\n",
       "\n",
       "/* Common style for \"i\" and \"?\" */\n",
       "\n",
       ".sk-estimator-doc-link,\n",
       "a:link.sk-estimator-doc-link,\n",
       "a:visited.sk-estimator-doc-link {\n",
       "  float: right;\n",
       "  font-size: smaller;\n",
       "  line-height: 1em;\n",
       "  font-family: monospace;\n",
       "  background-color: var(--sklearn-color-background);\n",
       "  border-radius: 1em;\n",
       "  height: 1em;\n",
       "  width: 1em;\n",
       "  text-decoration: none !important;\n",
       "  margin-left: 1ex;\n",
       "  /* unfitted */\n",
       "  border: var(--sklearn-color-unfitted-level-1) 1pt solid;\n",
       "  color: var(--sklearn-color-unfitted-level-1);\n",
       "}\n",
       "\n",
       ".sk-estimator-doc-link.fitted,\n",
       "a:link.sk-estimator-doc-link.fitted,\n",
       "a:visited.sk-estimator-doc-link.fitted {\n",
       "  /* fitted */\n",
       "  border: var(--sklearn-color-fitted-level-1) 1pt solid;\n",
       "  color: var(--sklearn-color-fitted-level-1);\n",
       "}\n",
       "\n",
       "/* On hover */\n",
       "div.sk-estimator:hover .sk-estimator-doc-link:hover,\n",
       ".sk-estimator-doc-link:hover,\n",
       "div.sk-label-container:hover .sk-estimator-doc-link:hover,\n",
       ".sk-estimator-doc-link:hover {\n",
       "  /* unfitted */\n",
       "  background-color: var(--sklearn-color-unfitted-level-3);\n",
       "  color: var(--sklearn-color-background);\n",
       "  text-decoration: none;\n",
       "}\n",
       "\n",
       "div.sk-estimator.fitted:hover .sk-estimator-doc-link.fitted:hover,\n",
       ".sk-estimator-doc-link.fitted:hover,\n",
       "div.sk-label-container:hover .sk-estimator-doc-link.fitted:hover,\n",
       ".sk-estimator-doc-link.fitted:hover {\n",
       "  /* fitted */\n",
       "  background-color: var(--sklearn-color-fitted-level-3);\n",
       "  color: var(--sklearn-color-background);\n",
       "  text-decoration: none;\n",
       "}\n",
       "\n",
       "/* Span, style for the box shown on hovering the info icon */\n",
       ".sk-estimator-doc-link span {\n",
       "  display: none;\n",
       "  z-index: 9999;\n",
       "  position: relative;\n",
       "  font-weight: normal;\n",
       "  right: .2ex;\n",
       "  padding: .5ex;\n",
       "  margin: .5ex;\n",
       "  width: min-content;\n",
       "  min-width: 20ex;\n",
       "  max-width: 50ex;\n",
       "  color: var(--sklearn-color-text);\n",
       "  box-shadow: 2pt 2pt 4pt #999;\n",
       "  /* unfitted */\n",
       "  background: var(--sklearn-color-unfitted-level-0);\n",
       "  border: .5pt solid var(--sklearn-color-unfitted-level-3);\n",
       "}\n",
       "\n",
       ".sk-estimator-doc-link.fitted span {\n",
       "  /* fitted */\n",
       "  background: var(--sklearn-color-fitted-level-0);\n",
       "  border: var(--sklearn-color-fitted-level-3);\n",
       "}\n",
       "\n",
       ".sk-estimator-doc-link:hover span {\n",
       "  display: block;\n",
       "}\n",
       "\n",
       "/* \"?\"-specific style due to the `<a>` HTML tag */\n",
       "\n",
       "#sk-container-id-1 a.estimator_doc_link {\n",
       "  float: right;\n",
       "  font-size: 1rem;\n",
       "  line-height: 1em;\n",
       "  font-family: monospace;\n",
       "  background-color: var(--sklearn-color-background);\n",
       "  border-radius: 1rem;\n",
       "  height: 1rem;\n",
       "  width: 1rem;\n",
       "  text-decoration: none;\n",
       "  /* unfitted */\n",
       "  color: var(--sklearn-color-unfitted-level-1);\n",
       "  border: var(--sklearn-color-unfitted-level-1) 1pt solid;\n",
       "}\n",
       "\n",
       "#sk-container-id-1 a.estimator_doc_link.fitted {\n",
       "  /* fitted */\n",
       "  border: var(--sklearn-color-fitted-level-1) 1pt solid;\n",
       "  color: var(--sklearn-color-fitted-level-1);\n",
       "}\n",
       "\n",
       "/* On hover */\n",
       "#sk-container-id-1 a.estimator_doc_link:hover {\n",
       "  /* unfitted */\n",
       "  background-color: var(--sklearn-color-unfitted-level-3);\n",
       "  color: var(--sklearn-color-background);\n",
       "  text-decoration: none;\n",
       "}\n",
       "\n",
       "#sk-container-id-1 a.estimator_doc_link.fitted:hover {\n",
       "  /* fitted */\n",
       "  background-color: var(--sklearn-color-fitted-level-3);\n",
       "}\n",
       "</style><div id=\"sk-container-id-1\" class=\"sk-top-container\"><div class=\"sk-text-repr-fallback\"><pre>GridSearchCV(cv=PredefinedSplit(test_fold=array([-1, -1, ...,  0,  0])),\n",
       "             error_score=&#x27;raise&#x27;, estimator=LogisticRegression(max_iter=1000),\n",
       "             n_jobs=-1,\n",
       "             param_grid=[{&#x27;C&#x27;: [0.01, 0.1, 1, 10],\n",
       "                          &#x27;class_weight&#x27;: [None, &#x27;balanced&#x27;],\n",
       "                          &#x27;multi_class&#x27;: [&#x27;ovr&#x27;, &#x27;multinomial&#x27;],\n",
       "                          &#x27;penalty&#x27;: [&#x27;l1&#x27;], &#x27;solver&#x27;: [&#x27;saga&#x27;]},\n",
       "                         {&#x27;C&#x27;: [0.01, 0.1, 1, 10],\n",
       "                          &#x27;class_weight&#x27;: [None, &#x27;balanced&#x27;],\n",
       "                          &#x27;multi_class&#x27;: [&#x27;ovr&#x27;, &#x27;multinomial&#x27;],\n",
       "                          &#x27;penalty&#x27;: [&#x27;l2&#x27;], &#x27;solver&#x27;: [&#x27;saga&#x27;]},\n",
       "                         {&#x27;C&#x27;: [0.01, 0.1, 1, 10],\n",
       "                          &#x27;class_weight&#x27;: [None, &#x27;balanced&#x27;],\n",
       "                          &#x27;l1_ratio&#x27;: [0.0, 0.5, 1.0],\n",
       "                          &#x27;multi_class&#x27;: [&#x27;ovr&#x27;, &#x27;multinomial&#x27;],\n",
       "                          &#x27;penalty&#x27;: [&#x27;elasticnet&#x27;], &#x27;solver&#x27;: [&#x27;saga&#x27;]}],\n",
       "             scoring=&#x27;f1_macro&#x27;, verbose=2)</pre><b>In a Jupyter environment, please rerun this cell to show the HTML representation or trust the notebook. <br />On GitHub, the HTML representation is unable to render, please try loading this page with nbviewer.org.</b></div><div class=\"sk-container\" hidden><div class=\"sk-item sk-dashed-wrapped\"><div class=\"sk-label-container\"><div class=\"sk-label fitted sk-toggleable\"><input class=\"sk-toggleable__control sk-hidden--visually\" id=\"sk-estimator-id-1\" type=\"checkbox\" ><label for=\"sk-estimator-id-1\" class=\"sk-toggleable__label fitted sk-toggleable__label-arrow fitted\">&nbsp;&nbsp;GridSearchCV<a class=\"sk-estimator-doc-link fitted\" rel=\"noreferrer\" target=\"_blank\" href=\"https://scikit-learn.org/1.5/modules/generated/sklearn.model_selection.GridSearchCV.html\">?<span>Documentation for GridSearchCV</span></a><span class=\"sk-estimator-doc-link fitted\">i<span>Fitted</span></span></label><div class=\"sk-toggleable__content fitted\"><pre>GridSearchCV(cv=PredefinedSplit(test_fold=array([-1, -1, ...,  0,  0])),\n",
       "             error_score=&#x27;raise&#x27;, estimator=LogisticRegression(max_iter=1000),\n",
       "             n_jobs=-1,\n",
       "             param_grid=[{&#x27;C&#x27;: [0.01, 0.1, 1, 10],\n",
       "                          &#x27;class_weight&#x27;: [None, &#x27;balanced&#x27;],\n",
       "                          &#x27;multi_class&#x27;: [&#x27;ovr&#x27;, &#x27;multinomial&#x27;],\n",
       "                          &#x27;penalty&#x27;: [&#x27;l1&#x27;], &#x27;solver&#x27;: [&#x27;saga&#x27;]},\n",
       "                         {&#x27;C&#x27;: [0.01, 0.1, 1, 10],\n",
       "                          &#x27;class_weight&#x27;: [None, &#x27;balanced&#x27;],\n",
       "                          &#x27;multi_class&#x27;: [&#x27;ovr&#x27;, &#x27;multinomial&#x27;],\n",
       "                          &#x27;penalty&#x27;: [&#x27;l2&#x27;], &#x27;solver&#x27;: [&#x27;saga&#x27;]},\n",
       "                         {&#x27;C&#x27;: [0.01, 0.1, 1, 10],\n",
       "                          &#x27;class_weight&#x27;: [None, &#x27;balanced&#x27;],\n",
       "                          &#x27;l1_ratio&#x27;: [0.0, 0.5, 1.0],\n",
       "                          &#x27;multi_class&#x27;: [&#x27;ovr&#x27;, &#x27;multinomial&#x27;],\n",
       "                          &#x27;penalty&#x27;: [&#x27;elasticnet&#x27;], &#x27;solver&#x27;: [&#x27;saga&#x27;]}],\n",
       "             scoring=&#x27;f1_macro&#x27;, verbose=2)</pre></div> </div></div><div class=\"sk-parallel\"><div class=\"sk-parallel-item\"><div class=\"sk-item\"><div class=\"sk-label-container\"><div class=\"sk-label fitted sk-toggleable\"><input class=\"sk-toggleable__control sk-hidden--visually\" id=\"sk-estimator-id-2\" type=\"checkbox\" ><label for=\"sk-estimator-id-2\" class=\"sk-toggleable__label fitted sk-toggleable__label-arrow fitted\">best_estimator_: LogisticRegression</label><div class=\"sk-toggleable__content fitted\"><pre>LogisticRegression(C=10, l1_ratio=0.5, max_iter=1000, multi_class=&#x27;ovr&#x27;,\n",
       "                   penalty=&#x27;elasticnet&#x27;, solver=&#x27;saga&#x27;)</pre></div> </div></div><div class=\"sk-serial\"><div class=\"sk-item\"><div class=\"sk-estimator fitted sk-toggleable\"><input class=\"sk-toggleable__control sk-hidden--visually\" id=\"sk-estimator-id-3\" type=\"checkbox\" ><label for=\"sk-estimator-id-3\" class=\"sk-toggleable__label fitted sk-toggleable__label-arrow fitted\">&nbsp;LogisticRegression<a class=\"sk-estimator-doc-link fitted\" rel=\"noreferrer\" target=\"_blank\" href=\"https://scikit-learn.org/1.5/modules/generated/sklearn.linear_model.LogisticRegression.html\">?<span>Documentation for LogisticRegression</span></a></label><div class=\"sk-toggleable__content fitted\"><pre>LogisticRegression(C=10, l1_ratio=0.5, max_iter=1000, multi_class=&#x27;ovr&#x27;,\n",
       "                   penalty=&#x27;elasticnet&#x27;, solver=&#x27;saga&#x27;)</pre></div> </div></div></div></div></div></div></div></div></div>"
      ],
      "text/plain": [
       "GridSearchCV(cv=PredefinedSplit(test_fold=array([-1, -1, ...,  0,  0])),\n",
       "             error_score='raise', estimator=LogisticRegression(max_iter=1000),\n",
       "             n_jobs=-1,\n",
       "             param_grid=[{'C': [0.01, 0.1, 1, 10],\n",
       "                          'class_weight': [None, 'balanced'],\n",
       "                          'multi_class': ['ovr', 'multinomial'],\n",
       "                          'penalty': ['l1'], 'solver': ['saga']},\n",
       "                         {'C': [0.01, 0.1, 1, 10],\n",
       "                          'class_weight': [None, 'balanced'],\n",
       "                          'multi_class': ['ovr', 'multinomial'],\n",
       "                          'penalty': ['l2'], 'solver': ['saga']},\n",
       "                         {'C': [0.01, 0.1, 1, 10],\n",
       "                          'class_weight': [None, 'balanced'],\n",
       "                          'l1_ratio': [0.0, 0.5, 1.0],\n",
       "                          'multi_class': ['ovr', 'multinomial'],\n",
       "                          'penalty': ['elasticnet'], 'solver': ['saga']}],\n",
       "             scoring='f1_macro', verbose=2)"
      ]
     },
     "execution_count": 16,
     "metadata": {},
     "output_type": "execute_result"
    }
   ],
   "source": [
    "param_grid = [\n",
    "    {'penalty': ['l1'], 'solver': ['saga'], 'C': [0.01, 0.1, 1, 10],\n",
    "     'class_weight': [None, 'balanced'], 'multi_class': ['ovr', 'multinomial']},\n",
    "\n",
    "    {'penalty': ['l2'], 'solver': ['saga'], 'C': [0.01, 0.1, 1, 10],\n",
    "     'class_weight': [None, 'balanced'], 'multi_class': ['ovr', 'multinomial']},\n",
    "\n",
    "    {'penalty': ['elasticnet'], 'solver': ['saga'], 'C': [0.01, 0.1, 1, 10],\n",
    "     'l1_ratio': [0.0, 0.5, 1.0], 'class_weight': [None, 'balanced'], 'multi_class': ['ovr', 'multinomial']}\n",
    "]\n",
    "\n",
    "grid = GridSearchCV(\n",
    "    estimator=model,\n",
    "    param_grid=param_grid,\n",
    "    scoring='f1_macro',  # ou outro scoring adequado\n",
    "    cv=ps,\n",
    "    verbose=2,\n",
    "    n_jobs=-1,\n",
    "    error_score='raise'\n",
    ")\n",
    "\n",
    "grid.fit(X_combined, y_combined)"
   ]
  },
  {
   "cell_type": "code",
   "execution_count": 17,
   "id": "888e84f7",
   "metadata": {},
   "outputs": [
    {
     "data": {
      "text/html": [
       "<style>#sk-container-id-2 {\n",
       "  /* Definition of color scheme common for light and dark mode */\n",
       "  --sklearn-color-text: black;\n",
       "  --sklearn-color-line: gray;\n",
       "  /* Definition of color scheme for unfitted estimators */\n",
       "  --sklearn-color-unfitted-level-0: #fff5e6;\n",
       "  --sklearn-color-unfitted-level-1: #f6e4d2;\n",
       "  --sklearn-color-unfitted-level-2: #ffe0b3;\n",
       "  --sklearn-color-unfitted-level-3: chocolate;\n",
       "  /* Definition of color scheme for fitted estimators */\n",
       "  --sklearn-color-fitted-level-0: #f0f8ff;\n",
       "  --sklearn-color-fitted-level-1: #d4ebff;\n",
       "  --sklearn-color-fitted-level-2: #b3dbfd;\n",
       "  --sklearn-color-fitted-level-3: cornflowerblue;\n",
       "\n",
       "  /* Specific color for light theme */\n",
       "  --sklearn-color-text-on-default-background: var(--sg-text-color, var(--theme-code-foreground, var(--jp-content-font-color1, black)));\n",
       "  --sklearn-color-background: var(--sg-background-color, var(--theme-background, var(--jp-layout-color0, white)));\n",
       "  --sklearn-color-border-box: var(--sg-text-color, var(--theme-code-foreground, var(--jp-content-font-color1, black)));\n",
       "  --sklearn-color-icon: #696969;\n",
       "\n",
       "  @media (prefers-color-scheme: dark) {\n",
       "    /* Redefinition of color scheme for dark theme */\n",
       "    --sklearn-color-text-on-default-background: var(--sg-text-color, var(--theme-code-foreground, var(--jp-content-font-color1, white)));\n",
       "    --sklearn-color-background: var(--sg-background-color, var(--theme-background, var(--jp-layout-color0, #111)));\n",
       "    --sklearn-color-border-box: var(--sg-text-color, var(--theme-code-foreground, var(--jp-content-font-color1, white)));\n",
       "    --sklearn-color-icon: #878787;\n",
       "  }\n",
       "}\n",
       "\n",
       "#sk-container-id-2 {\n",
       "  color: var(--sklearn-color-text);\n",
       "}\n",
       "\n",
       "#sk-container-id-2 pre {\n",
       "  padding: 0;\n",
       "}\n",
       "\n",
       "#sk-container-id-2 input.sk-hidden--visually {\n",
       "  border: 0;\n",
       "  clip: rect(1px 1px 1px 1px);\n",
       "  clip: rect(1px, 1px, 1px, 1px);\n",
       "  height: 1px;\n",
       "  margin: -1px;\n",
       "  overflow: hidden;\n",
       "  padding: 0;\n",
       "  position: absolute;\n",
       "  width: 1px;\n",
       "}\n",
       "\n",
       "#sk-container-id-2 div.sk-dashed-wrapped {\n",
       "  border: 1px dashed var(--sklearn-color-line);\n",
       "  margin: 0 0.4em 0.5em 0.4em;\n",
       "  box-sizing: border-box;\n",
       "  padding-bottom: 0.4em;\n",
       "  background-color: var(--sklearn-color-background);\n",
       "}\n",
       "\n",
       "#sk-container-id-2 div.sk-container {\n",
       "  /* jupyter's `normalize.less` sets `[hidden] { display: none; }`\n",
       "     but bootstrap.min.css set `[hidden] { display: none !important; }`\n",
       "     so we also need the `!important` here to be able to override the\n",
       "     default hidden behavior on the sphinx rendered scikit-learn.org.\n",
       "     See: https://github.com/scikit-learn/scikit-learn/issues/21755 */\n",
       "  display: inline-block !important;\n",
       "  position: relative;\n",
       "}\n",
       "\n",
       "#sk-container-id-2 div.sk-text-repr-fallback {\n",
       "  display: none;\n",
       "}\n",
       "\n",
       "div.sk-parallel-item,\n",
       "div.sk-serial,\n",
       "div.sk-item {\n",
       "  /* draw centered vertical line to link estimators */\n",
       "  background-image: linear-gradient(var(--sklearn-color-text-on-default-background), var(--sklearn-color-text-on-default-background));\n",
       "  background-size: 2px 100%;\n",
       "  background-repeat: no-repeat;\n",
       "  background-position: center center;\n",
       "}\n",
       "\n",
       "/* Parallel-specific style estimator block */\n",
       "\n",
       "#sk-container-id-2 div.sk-parallel-item::after {\n",
       "  content: \"\";\n",
       "  width: 100%;\n",
       "  border-bottom: 2px solid var(--sklearn-color-text-on-default-background);\n",
       "  flex-grow: 1;\n",
       "}\n",
       "\n",
       "#sk-container-id-2 div.sk-parallel {\n",
       "  display: flex;\n",
       "  align-items: stretch;\n",
       "  justify-content: center;\n",
       "  background-color: var(--sklearn-color-background);\n",
       "  position: relative;\n",
       "}\n",
       "\n",
       "#sk-container-id-2 div.sk-parallel-item {\n",
       "  display: flex;\n",
       "  flex-direction: column;\n",
       "}\n",
       "\n",
       "#sk-container-id-2 div.sk-parallel-item:first-child::after {\n",
       "  align-self: flex-end;\n",
       "  width: 50%;\n",
       "}\n",
       "\n",
       "#sk-container-id-2 div.sk-parallel-item:last-child::after {\n",
       "  align-self: flex-start;\n",
       "  width: 50%;\n",
       "}\n",
       "\n",
       "#sk-container-id-2 div.sk-parallel-item:only-child::after {\n",
       "  width: 0;\n",
       "}\n",
       "\n",
       "/* Serial-specific style estimator block */\n",
       "\n",
       "#sk-container-id-2 div.sk-serial {\n",
       "  display: flex;\n",
       "  flex-direction: column;\n",
       "  align-items: center;\n",
       "  background-color: var(--sklearn-color-background);\n",
       "  padding-right: 1em;\n",
       "  padding-left: 1em;\n",
       "}\n",
       "\n",
       "\n",
       "/* Toggleable style: style used for estimator/Pipeline/ColumnTransformer box that is\n",
       "clickable and can be expanded/collapsed.\n",
       "- Pipeline and ColumnTransformer use this feature and define the default style\n",
       "- Estimators will overwrite some part of the style using the `sk-estimator` class\n",
       "*/\n",
       "\n",
       "/* Pipeline and ColumnTransformer style (default) */\n",
       "\n",
       "#sk-container-id-2 div.sk-toggleable {\n",
       "  /* Default theme specific background. It is overwritten whether we have a\n",
       "  specific estimator or a Pipeline/ColumnTransformer */\n",
       "  background-color: var(--sklearn-color-background);\n",
       "}\n",
       "\n",
       "/* Toggleable label */\n",
       "#sk-container-id-2 label.sk-toggleable__label {\n",
       "  cursor: pointer;\n",
       "  display: block;\n",
       "  width: 100%;\n",
       "  margin-bottom: 0;\n",
       "  padding: 0.5em;\n",
       "  box-sizing: border-box;\n",
       "  text-align: center;\n",
       "}\n",
       "\n",
       "#sk-container-id-2 label.sk-toggleable__label-arrow:before {\n",
       "  /* Arrow on the left of the label */\n",
       "  content: \"▸\";\n",
       "  float: left;\n",
       "  margin-right: 0.25em;\n",
       "  color: var(--sklearn-color-icon);\n",
       "}\n",
       "\n",
       "#sk-container-id-2 label.sk-toggleable__label-arrow:hover:before {\n",
       "  color: var(--sklearn-color-text);\n",
       "}\n",
       "\n",
       "/* Toggleable content - dropdown */\n",
       "\n",
       "#sk-container-id-2 div.sk-toggleable__content {\n",
       "  max-height: 0;\n",
       "  max-width: 0;\n",
       "  overflow: hidden;\n",
       "  text-align: left;\n",
       "  /* unfitted */\n",
       "  background-color: var(--sklearn-color-unfitted-level-0);\n",
       "}\n",
       "\n",
       "#sk-container-id-2 div.sk-toggleable__content.fitted {\n",
       "  /* fitted */\n",
       "  background-color: var(--sklearn-color-fitted-level-0);\n",
       "}\n",
       "\n",
       "#sk-container-id-2 div.sk-toggleable__content pre {\n",
       "  margin: 0.2em;\n",
       "  border-radius: 0.25em;\n",
       "  color: var(--sklearn-color-text);\n",
       "  /* unfitted */\n",
       "  background-color: var(--sklearn-color-unfitted-level-0);\n",
       "}\n",
       "\n",
       "#sk-container-id-2 div.sk-toggleable__content.fitted pre {\n",
       "  /* unfitted */\n",
       "  background-color: var(--sklearn-color-fitted-level-0);\n",
       "}\n",
       "\n",
       "#sk-container-id-2 input.sk-toggleable__control:checked~div.sk-toggleable__content {\n",
       "  /* Expand drop-down */\n",
       "  max-height: 200px;\n",
       "  max-width: 100%;\n",
       "  overflow: auto;\n",
       "}\n",
       "\n",
       "#sk-container-id-2 input.sk-toggleable__control:checked~label.sk-toggleable__label-arrow:before {\n",
       "  content: \"▾\";\n",
       "}\n",
       "\n",
       "/* Pipeline/ColumnTransformer-specific style */\n",
       "\n",
       "#sk-container-id-2 div.sk-label input.sk-toggleable__control:checked~label.sk-toggleable__label {\n",
       "  color: var(--sklearn-color-text);\n",
       "  background-color: var(--sklearn-color-unfitted-level-2);\n",
       "}\n",
       "\n",
       "#sk-container-id-2 div.sk-label.fitted input.sk-toggleable__control:checked~label.sk-toggleable__label {\n",
       "  background-color: var(--sklearn-color-fitted-level-2);\n",
       "}\n",
       "\n",
       "/* Estimator-specific style */\n",
       "\n",
       "/* Colorize estimator box */\n",
       "#sk-container-id-2 div.sk-estimator input.sk-toggleable__control:checked~label.sk-toggleable__label {\n",
       "  /* unfitted */\n",
       "  background-color: var(--sklearn-color-unfitted-level-2);\n",
       "}\n",
       "\n",
       "#sk-container-id-2 div.sk-estimator.fitted input.sk-toggleable__control:checked~label.sk-toggleable__label {\n",
       "  /* fitted */\n",
       "  background-color: var(--sklearn-color-fitted-level-2);\n",
       "}\n",
       "\n",
       "#sk-container-id-2 div.sk-label label.sk-toggleable__label,\n",
       "#sk-container-id-2 div.sk-label label {\n",
       "  /* The background is the default theme color */\n",
       "  color: var(--sklearn-color-text-on-default-background);\n",
       "}\n",
       "\n",
       "/* On hover, darken the color of the background */\n",
       "#sk-container-id-2 div.sk-label:hover label.sk-toggleable__label {\n",
       "  color: var(--sklearn-color-text);\n",
       "  background-color: var(--sklearn-color-unfitted-level-2);\n",
       "}\n",
       "\n",
       "/* Label box, darken color on hover, fitted */\n",
       "#sk-container-id-2 div.sk-label.fitted:hover label.sk-toggleable__label.fitted {\n",
       "  color: var(--sklearn-color-text);\n",
       "  background-color: var(--sklearn-color-fitted-level-2);\n",
       "}\n",
       "\n",
       "/* Estimator label */\n",
       "\n",
       "#sk-container-id-2 div.sk-label label {\n",
       "  font-family: monospace;\n",
       "  font-weight: bold;\n",
       "  display: inline-block;\n",
       "  line-height: 1.2em;\n",
       "}\n",
       "\n",
       "#sk-container-id-2 div.sk-label-container {\n",
       "  text-align: center;\n",
       "}\n",
       "\n",
       "/* Estimator-specific */\n",
       "#sk-container-id-2 div.sk-estimator {\n",
       "  font-family: monospace;\n",
       "  border: 1px dotted var(--sklearn-color-border-box);\n",
       "  border-radius: 0.25em;\n",
       "  box-sizing: border-box;\n",
       "  margin-bottom: 0.5em;\n",
       "  /* unfitted */\n",
       "  background-color: var(--sklearn-color-unfitted-level-0);\n",
       "}\n",
       "\n",
       "#sk-container-id-2 div.sk-estimator.fitted {\n",
       "  /* fitted */\n",
       "  background-color: var(--sklearn-color-fitted-level-0);\n",
       "}\n",
       "\n",
       "/* on hover */\n",
       "#sk-container-id-2 div.sk-estimator:hover {\n",
       "  /* unfitted */\n",
       "  background-color: var(--sklearn-color-unfitted-level-2);\n",
       "}\n",
       "\n",
       "#sk-container-id-2 div.sk-estimator.fitted:hover {\n",
       "  /* fitted */\n",
       "  background-color: var(--sklearn-color-fitted-level-2);\n",
       "}\n",
       "\n",
       "/* Specification for estimator info (e.g. \"i\" and \"?\") */\n",
       "\n",
       "/* Common style for \"i\" and \"?\" */\n",
       "\n",
       ".sk-estimator-doc-link,\n",
       "a:link.sk-estimator-doc-link,\n",
       "a:visited.sk-estimator-doc-link {\n",
       "  float: right;\n",
       "  font-size: smaller;\n",
       "  line-height: 1em;\n",
       "  font-family: monospace;\n",
       "  background-color: var(--sklearn-color-background);\n",
       "  border-radius: 1em;\n",
       "  height: 1em;\n",
       "  width: 1em;\n",
       "  text-decoration: none !important;\n",
       "  margin-left: 1ex;\n",
       "  /* unfitted */\n",
       "  border: var(--sklearn-color-unfitted-level-1) 1pt solid;\n",
       "  color: var(--sklearn-color-unfitted-level-1);\n",
       "}\n",
       "\n",
       ".sk-estimator-doc-link.fitted,\n",
       "a:link.sk-estimator-doc-link.fitted,\n",
       "a:visited.sk-estimator-doc-link.fitted {\n",
       "  /* fitted */\n",
       "  border: var(--sklearn-color-fitted-level-1) 1pt solid;\n",
       "  color: var(--sklearn-color-fitted-level-1);\n",
       "}\n",
       "\n",
       "/* On hover */\n",
       "div.sk-estimator:hover .sk-estimator-doc-link:hover,\n",
       ".sk-estimator-doc-link:hover,\n",
       "div.sk-label-container:hover .sk-estimator-doc-link:hover,\n",
       ".sk-estimator-doc-link:hover {\n",
       "  /* unfitted */\n",
       "  background-color: var(--sklearn-color-unfitted-level-3);\n",
       "  color: var(--sklearn-color-background);\n",
       "  text-decoration: none;\n",
       "}\n",
       "\n",
       "div.sk-estimator.fitted:hover .sk-estimator-doc-link.fitted:hover,\n",
       ".sk-estimator-doc-link.fitted:hover,\n",
       "div.sk-label-container:hover .sk-estimator-doc-link.fitted:hover,\n",
       ".sk-estimator-doc-link.fitted:hover {\n",
       "  /* fitted */\n",
       "  background-color: var(--sklearn-color-fitted-level-3);\n",
       "  color: var(--sklearn-color-background);\n",
       "  text-decoration: none;\n",
       "}\n",
       "\n",
       "/* Span, style for the box shown on hovering the info icon */\n",
       ".sk-estimator-doc-link span {\n",
       "  display: none;\n",
       "  z-index: 9999;\n",
       "  position: relative;\n",
       "  font-weight: normal;\n",
       "  right: .2ex;\n",
       "  padding: .5ex;\n",
       "  margin: .5ex;\n",
       "  width: min-content;\n",
       "  min-width: 20ex;\n",
       "  max-width: 50ex;\n",
       "  color: var(--sklearn-color-text);\n",
       "  box-shadow: 2pt 2pt 4pt #999;\n",
       "  /* unfitted */\n",
       "  background: var(--sklearn-color-unfitted-level-0);\n",
       "  border: .5pt solid var(--sklearn-color-unfitted-level-3);\n",
       "}\n",
       "\n",
       ".sk-estimator-doc-link.fitted span {\n",
       "  /* fitted */\n",
       "  background: var(--sklearn-color-fitted-level-0);\n",
       "  border: var(--sklearn-color-fitted-level-3);\n",
       "}\n",
       "\n",
       ".sk-estimator-doc-link:hover span {\n",
       "  display: block;\n",
       "}\n",
       "\n",
       "/* \"?\"-specific style due to the `<a>` HTML tag */\n",
       "\n",
       "#sk-container-id-2 a.estimator_doc_link {\n",
       "  float: right;\n",
       "  font-size: 1rem;\n",
       "  line-height: 1em;\n",
       "  font-family: monospace;\n",
       "  background-color: var(--sklearn-color-background);\n",
       "  border-radius: 1rem;\n",
       "  height: 1rem;\n",
       "  width: 1rem;\n",
       "  text-decoration: none;\n",
       "  /* unfitted */\n",
       "  color: var(--sklearn-color-unfitted-level-1);\n",
       "  border: var(--sklearn-color-unfitted-level-1) 1pt solid;\n",
       "}\n",
       "\n",
       "#sk-container-id-2 a.estimator_doc_link.fitted {\n",
       "  /* fitted */\n",
       "  border: var(--sklearn-color-fitted-level-1) 1pt solid;\n",
       "  color: var(--sklearn-color-fitted-level-1);\n",
       "}\n",
       "\n",
       "/* On hover */\n",
       "#sk-container-id-2 a.estimator_doc_link:hover {\n",
       "  /* unfitted */\n",
       "  background-color: var(--sklearn-color-unfitted-level-3);\n",
       "  color: var(--sklearn-color-background);\n",
       "  text-decoration: none;\n",
       "}\n",
       "\n",
       "#sk-container-id-2 a.estimator_doc_link.fitted:hover {\n",
       "  /* fitted */\n",
       "  background-color: var(--sklearn-color-fitted-level-3);\n",
       "}\n",
       "</style><div id=\"sk-container-id-2\" class=\"sk-top-container\"><div class=\"sk-text-repr-fallback\"><pre>LogisticRegression(C=10, l1_ratio=0.5, max_iter=1000, multi_class=&#x27;ovr&#x27;,\n",
       "                   penalty=&#x27;elasticnet&#x27;, solver=&#x27;saga&#x27;)</pre><b>In a Jupyter environment, please rerun this cell to show the HTML representation or trust the notebook. <br />On GitHub, the HTML representation is unable to render, please try loading this page with nbviewer.org.</b></div><div class=\"sk-container\" hidden><div class=\"sk-item\"><div class=\"sk-estimator fitted sk-toggleable\"><input class=\"sk-toggleable__control sk-hidden--visually\" id=\"sk-estimator-id-4\" type=\"checkbox\" checked><label for=\"sk-estimator-id-4\" class=\"sk-toggleable__label fitted sk-toggleable__label-arrow fitted\">&nbsp;&nbsp;LogisticRegression<a class=\"sk-estimator-doc-link fitted\" rel=\"noreferrer\" target=\"_blank\" href=\"https://scikit-learn.org/1.5/modules/generated/sklearn.linear_model.LogisticRegression.html\">?<span>Documentation for LogisticRegression</span></a><span class=\"sk-estimator-doc-link fitted\">i<span>Fitted</span></span></label><div class=\"sk-toggleable__content fitted\"><pre>LogisticRegression(C=10, l1_ratio=0.5, max_iter=1000, multi_class=&#x27;ovr&#x27;,\n",
       "                   penalty=&#x27;elasticnet&#x27;, solver=&#x27;saga&#x27;)</pre></div> </div></div></div></div>"
      ],
      "text/plain": [
       "LogisticRegression(C=10, l1_ratio=0.5, max_iter=1000, multi_class='ovr',\n",
       "                   penalty='elasticnet', solver='saga')"
      ]
     },
     "execution_count": 17,
     "metadata": {},
     "output_type": "execute_result"
    }
   ],
   "source": [
    "grid.best_params_      \n",
    "grid.best_score_     \n",
    "grid.best_estimator_"
   ]
  },
  {
   "cell_type": "code",
   "execution_count": 18,
   "id": "435dc50e",
   "metadata": {},
   "outputs": [
    {
     "name": "stdout",
     "output_type": "stream",
     "text": [
      "{'C': 10, 'class_weight': None, 'l1_ratio': 0.5, 'multi_class': 'ovr', 'penalty': 'elasticnet', 'solver': 'saga'}\n"
     ]
    }
   ],
   "source": [
    "print(grid.best_params_)"
   ]
  },
  {
   "cell_type": "code",
   "execution_count": 19,
   "id": "32b5e5b8",
   "metadata": {},
   "outputs": [
    {
     "name": "stdout",
     "output_type": "stream",
     "text": [
      "0.8286196010737599\n"
     ]
    }
   ],
   "source": [
    "print(grid.best_score_)"
   ]
  },
  {
   "cell_type": "markdown",
   "id": "4d27d342",
   "metadata": {},
   "source": [
    "### **2.1.2** Assess"
   ]
  },
  {
   "cell_type": "code",
   "execution_count": 50,
   "id": "38ea47a7",
   "metadata": {},
   "outputs": [],
   "source": [
    "model_lr = LogisticRegression( penalty='elasticnet', \n",
    "    solver='saga', \n",
    "    l1_ratio=0.4, \n",
    "    C=10, \n",
    "    class_weight=None, \n",
    "    max_iter=1000, \n",
    "    multi_class='ovr')"
   ]
  },
  {
   "cell_type": "code",
   "execution_count": 51,
   "id": "9ebf3eb7",
   "metadata": {},
   "outputs": [],
   "source": [
    "title = \"Logistic Regression with Text Embedding 3 Small\""
   ]
  },
  {
   "cell_type": "code",
   "execution_count": 52,
   "id": "822b01e7",
   "metadata": {},
   "outputs": [
    {
     "name": "stdout",
     "output_type": "stream",
     "text": [
      "Loading embeddings from X_train_te3s_embeddings.pkl...\n",
      "Loading embeddings from X_val_te3s_embeddings.pkl...\n"
     ]
    },
    {
     "name": "stderr",
     "output_type": "stream",
     "text": [
      "/opt/anaconda3/lib/python3.12/site-packages/sklearn/linear_model/_logistic.py:1256: FutureWarning: 'multi_class' was deprecated in version 1.5 and will be removed in 1.7. Use OneVsRestClassifier(LogisticRegression(..)) instead. Leave it to its default value to avoid this warning.\n",
      "  warnings.warn(\n"
     ]
    }
   ],
   "source": [
    "X_train_te3s,X_val_te3s,y_train_pred_te3s,y_val_pred_te3s = embedding_te3s(train_texts=train_texts,\n",
    "                                                                 train_labels=train_labels,\n",
    "                                                                 val_texts = val_texts, \n",
    "                                                                 cache_file_train=\"X_train_te3s_embeddings.pkl\", \n",
    "                                                                 cache_file_val=\"X_val_te3s_embeddings.pkl\",\n",
    "                                                                 client=client,\n",
    "                                                                 model_te3s=model_te3s,\n",
    "                                                                 batch_size=32,\n",
    "                                                                 model=model_lr)"
   ]
  },
  {
   "cell_type": "code",
   "execution_count": 53,
   "id": "a9ffc280",
   "metadata": {},
   "outputs": [
    {
     "data": {
      "image/png": "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",
      "text/plain": [
       "<Figure size 900x500 with 1 Axes>"
      ]
     },
     "metadata": {},
     "output_type": "display_data"
    }
   ],
   "source": [
    "get_metrics_df(title, train_labels, y_train_pred_te3s, val_labels, y_val_pred_te3s)\n",
    "plot_metrics(train_labels, y_train_pred_te3s, val_labels, y_val_pred_te3s, title=title)"
   ]
  },
  {
   "cell_type": "markdown",
   "id": "8ce09137",
   "metadata": {},
   "source": [
    "## **2.2** XGB with Text Embedding 3"
   ]
  },
  {
   "cell_type": "markdown",
   "id": "82dc8e14",
   "metadata": {},
   "source": [
    "### **2.2.1** Run Model"
   ]
  },
  {
   "cell_type": "code",
   "execution_count": 20,
   "id": "e0dafa69",
   "metadata": {},
   "outputs": [],
   "source": [
    "xgb = XGBClassifier(\n",
    "    objective='multi:softmax',\n",
    "    num_class=3,\n",
    "    use_label_encoder=False,\n",
    "    eval_metric='mlogloss',\n",
    "    random_state=42\n",
    ")"
   ]
  },
  {
   "cell_type": "code",
   "execution_count": 26,
   "id": "f26b79f7",
   "metadata": {},
   "outputs": [],
   "source": [
    "param_grid_xgb = {\n",
    "    'learning_rate': [0.2, 0.1],\n",
    "    'max_depth': [4, 6, 8],\n",
    "    'n_estimators': [100, 500],\n",
    "    'subsample': [0.7,1.0],\n",
    "    'colsample_bytree': [0.8, 1.0],\n",
    "    'scale_pos_weight': [1],  \n",
    "}"
   ]
  },
  {
   "cell_type": "code",
   "execution_count": 27,
   "id": "c5947933",
   "metadata": {},
   "outputs": [
    {
     "name": "stdout",
     "output_type": "stream",
     "text": [
      "Loading embeddings from X_train_te3s_embeddings.pkl...\n",
      "Loading embeddings from X_val_te3s_embeddings.pkl...\n"
     ]
    },
    {
     "name": "stderr",
     "output_type": "stream",
     "text": [
      "/opt/anaconda3/lib/python3.12/site-packages/xgboost/core.py:158: UserWarning: [21:19:58] WARNING: /Users/runner/work/xgboost/xgboost/src/learner.cc:740: \n",
      "Parameters: { \"use_label_encoder\" } are not used.\n",
      "\n",
      "  warnings.warn(smsg, UserWarning)\n"
     ]
    }
   ],
   "source": [
    "X_train_te3s, X_val_te3s, y_train_pred_te3s, y_val_pred_te3s = embedding_te3s(\n",
    "    train_texts=train_texts,\n",
    "    train_labels=train_labels,\n",
    "    val_texts=val_texts, \n",
    "    cache_file_train=\"X_train_te3s_embeddings.pkl\", \n",
    "    cache_file_val=\"X_val_te3s_embeddings.pkl\",\n",
    "    client=client,\n",
    "    model_te3s=model_te3s,\n",
    "    batch_size=32,\n",
    "    model=xgb\n",
    ")\n"
   ]
  },
  {
   "cell_type": "code",
   "execution_count": 28,
   "id": "2cc8d8ad",
   "metadata": {},
   "outputs": [],
   "source": [
    "X_combined = np.vstack([X_train_te3s, X_val_te3s])\n",
    "y_combined = np.concatenate([train_labels, val_labels])\n",
    "\n",
    "split_index = [-1]*len(X_train_te3s) + [0]*len(X_val_te3s)\n",
    "ps = PredefinedSplit(test_fold=split_index)"
   ]
  },
  {
   "cell_type": "code",
   "execution_count": 29,
   "id": "cf21e24e",
   "metadata": {},
   "outputs": [],
   "source": [
    "grid_xgb = GridSearchCV(\n",
    "    estimator=xgb,\n",
    "    param_grid=param_grid_xgb,\n",
    "    scoring='f1_macro',\n",
    "    cv=ps,\n",
    "    verbose=1,\n",
    "    n_jobs=-1,\n",
    "    error_score='raise'\n",
    ")"
   ]
  },
  {
   "cell_type": "code",
   "execution_count": 30,
   "id": "7ba8bee9",
   "metadata": {},
   "outputs": [
    {
     "name": "stdout",
     "output_type": "stream",
     "text": [
      "Fitting 1 folds for each of 48 candidates, totalling 48 fits\n"
     ]
    },
    {
     "name": "stderr",
     "output_type": "stream",
     "text": [
      "/opt/anaconda3/lib/python3.12/site-packages/xgboost/core.py:158: UserWarning: [21:20:27] WARNING: /Users/runner/work/xgboost/xgboost/src/learner.cc:740: \n",
      "Parameters: { \"scale_pos_weight\", \"use_label_encoder\" } are not used.\n",
      "\n",
      "  warnings.warn(smsg, UserWarning)\n",
      "/opt/anaconda3/lib/python3.12/site-packages/xgboost/core.py:158: UserWarning: [21:20:27] WARNING: /Users/runner/work/xgboost/xgboost/src/learner.cc:740: \n",
      "Parameters: { \"scale_pos_weight\", \"use_label_encoder\" } are not used.\n",
      "\n",
      "  warnings.warn(smsg, UserWarning)\n",
      "/opt/anaconda3/lib/python3.12/site-packages/xgboost/core.py:158: UserWarning: [21:20:27] WARNING: /Users/runner/work/xgboost/xgboost/src/learner.cc:740: \n",
      "Parameters: { \"scale_pos_weight\", \"use_label_encoder\" } are not used.\n",
      "\n",
      "  warnings.warn(smsg, UserWarning)\n",
      "/opt/anaconda3/lib/python3.12/site-packages/xgboost/core.py:158: UserWarning: [21:20:27] WARNING: /Users/runner/work/xgboost/xgboost/src/learner.cc:740: \n",
      "Parameters: { \"scale_pos_weight\", \"use_label_encoder\" } are not used.\n",
      "\n",
      "  warnings.warn(smsg, UserWarning)\n",
      "/opt/anaconda3/lib/python3.12/site-packages/xgboost/core.py:158: UserWarning: [21:20:27] WARNING: /Users/runner/work/xgboost/xgboost/src/learner.cc:740: \n",
      "Parameters: { \"scale_pos_weight\", \"use_label_encoder\" } are not used.\n",
      "\n",
      "  warnings.warn(smsg, UserWarning)\n",
      "/opt/anaconda3/lib/python3.12/site-packages/xgboost/core.py:158: UserWarning: [21:20:27] WARNING: /Users/runner/work/xgboost/xgboost/src/learner.cc:740: \n",
      "Parameters: { \"scale_pos_weight\", \"use_label_encoder\" } are not used.\n",
      "\n",
      "  warnings.warn(smsg, UserWarning)\n",
      "/opt/anaconda3/lib/python3.12/site-packages/xgboost/core.py:158: UserWarning: [21:20:27] WARNING: /Users/runner/work/xgboost/xgboost/src/learner.cc:740: \n",
      "Parameters: { \"scale_pos_weight\", \"use_label_encoder\" } are not used.\n",
      "\n",
      "  warnings.warn(smsg, UserWarning)\n",
      "/opt/anaconda3/lib/python3.12/site-packages/xgboost/core.py:158: UserWarning: [21:20:27] WARNING: /Users/runner/work/xgboost/xgboost/src/learner.cc:740: \n",
      "Parameters: { \"scale_pos_weight\", \"use_label_encoder\" } are not used.\n",
      "\n",
      "  warnings.warn(smsg, UserWarning)\n",
      "/opt/anaconda3/lib/python3.12/site-packages/xgboost/core.py:158: UserWarning: [21:21:33] WARNING: /Users/runner/work/xgboost/xgboost/src/learner.cc:740: \n",
      "Parameters: { \"scale_pos_weight\", \"use_label_encoder\" } are not used.\n",
      "\n",
      "  warnings.warn(smsg, UserWarning)\n",
      "/opt/anaconda3/lib/python3.12/site-packages/xgboost/core.py:158: UserWarning: [21:21:34] WARNING: /Users/runner/work/xgboost/xgboost/src/learner.cc:740: \n",
      "Parameters: { \"scale_pos_weight\", \"use_label_encoder\" } are not used.\n",
      "\n",
      "  warnings.warn(smsg, UserWarning)\n",
      "/opt/anaconda3/lib/python3.12/site-packages/xgboost/core.py:158: UserWarning: [21:24:07] WARNING: /Users/runner/work/xgboost/xgboost/src/learner.cc:740: \n",
      "Parameters: { \"scale_pos_weight\", \"use_label_encoder\" } are not used.\n",
      "\n",
      "  warnings.warn(smsg, UserWarning)\n",
      "/opt/anaconda3/lib/python3.12/site-packages/xgboost/core.py:158: UserWarning: [21:24:37] WARNING: /Users/runner/work/xgboost/xgboost/src/learner.cc:740: \n",
      "Parameters: { \"scale_pos_weight\", \"use_label_encoder\" } are not used.\n",
      "\n",
      "  warnings.warn(smsg, UserWarning)\n",
      "/opt/anaconda3/lib/python3.12/site-packages/xgboost/core.py:158: UserWarning: [21:24:49] WARNING: /Users/runner/work/xgboost/xgboost/src/learner.cc:740: \n",
      "Parameters: { \"scale_pos_weight\", \"use_label_encoder\" } are not used.\n",
      "\n",
      "  warnings.warn(smsg, UserWarning)\n",
      "/opt/anaconda3/lib/python3.12/site-packages/xgboost/core.py:158: UserWarning: [21:24:56] WARNING: /Users/runner/work/xgboost/xgboost/src/learner.cc:740: \n",
      "Parameters: { \"scale_pos_weight\", \"use_label_encoder\" } are not used.\n",
      "\n",
      "  warnings.warn(smsg, UserWarning)\n",
      "/opt/anaconda3/lib/python3.12/site-packages/xgboost/core.py:158: UserWarning: [21:26:02] WARNING: /Users/runner/work/xgboost/xgboost/src/learner.cc:740: \n",
      "Parameters: { \"scale_pos_weight\", \"use_label_encoder\" } are not used.\n",
      "\n",
      "  warnings.warn(smsg, UserWarning)\n",
      "/opt/anaconda3/lib/python3.12/site-packages/xgboost/core.py:158: UserWarning: [21:26:11] WARNING: /Users/runner/work/xgboost/xgboost/src/learner.cc:740: \n",
      "Parameters: { \"scale_pos_weight\", \"use_label_encoder\" } are not used.\n",
      "\n",
      "  warnings.warn(smsg, UserWarning)\n",
      "/opt/anaconda3/lib/python3.12/site-packages/xgboost/core.py:158: UserWarning: [21:28:07] WARNING: /Users/runner/work/xgboost/xgboost/src/learner.cc:740: \n",
      "Parameters: { \"scale_pos_weight\", \"use_label_encoder\" } are not used.\n",
      "\n",
      "  warnings.warn(smsg, UserWarning)\n",
      "/opt/anaconda3/lib/python3.12/site-packages/xgboost/core.py:158: UserWarning: [21:28:43] WARNING: /Users/runner/work/xgboost/xgboost/src/learner.cc:740: \n",
      "Parameters: { \"scale_pos_weight\", \"use_label_encoder\" } are not used.\n",
      "\n",
      "  warnings.warn(smsg, UserWarning)\n",
      "/opt/anaconda3/lib/python3.12/site-packages/xgboost/core.py:158: UserWarning: [21:30:36] WARNING: /Users/runner/work/xgboost/xgboost/src/learner.cc:740: \n",
      "Parameters: { \"scale_pos_weight\", \"use_label_encoder\" } are not used.\n",
      "\n",
      "  warnings.warn(smsg, UserWarning)\n",
      "/opt/anaconda3/lib/python3.12/site-packages/xgboost/core.py:158: UserWarning: [21:31:16] WARNING: /Users/runner/work/xgboost/xgboost/src/learner.cc:740: \n",
      "Parameters: { \"scale_pos_weight\", \"use_label_encoder\" } are not used.\n",
      "\n",
      "  warnings.warn(smsg, UserWarning)\n",
      "/opt/anaconda3/lib/python3.12/site-packages/xgboost/core.py:158: UserWarning: [21:31:36] WARNING: /Users/runner/work/xgboost/xgboost/src/learner.cc:740: \n",
      "Parameters: { \"scale_pos_weight\", \"use_label_encoder\" } are not used.\n",
      "\n",
      "  warnings.warn(smsg, UserWarning)\n",
      "/opt/anaconda3/lib/python3.12/site-packages/xgboost/core.py:158: UserWarning: [21:31:51] WARNING: /Users/runner/work/xgboost/xgboost/src/learner.cc:740: \n",
      "Parameters: { \"scale_pos_weight\", \"use_label_encoder\" } are not used.\n",
      "\n",
      "  warnings.warn(smsg, UserWarning)\n",
      "/opt/anaconda3/lib/python3.12/site-packages/xgboost/core.py:158: UserWarning: [21:33:16] WARNING: /Users/runner/work/xgboost/xgboost/src/learner.cc:740: \n",
      "Parameters: { \"scale_pos_weight\", \"use_label_encoder\" } are not used.\n",
      "\n",
      "  warnings.warn(smsg, UserWarning)\n",
      "/opt/anaconda3/lib/python3.12/site-packages/xgboost/core.py:158: UserWarning: [21:34:31] WARNING: /Users/runner/work/xgboost/xgboost/src/learner.cc:740: \n",
      "Parameters: { \"scale_pos_weight\", \"use_label_encoder\" } are not used.\n",
      "\n",
      "  warnings.warn(smsg, UserWarning)\n",
      "/opt/anaconda3/lib/python3.12/site-packages/xgboost/core.py:158: UserWarning: [21:37:14] WARNING: /Users/runner/work/xgboost/xgboost/src/learner.cc:740: \n",
      "Parameters: { \"scale_pos_weight\", \"use_label_encoder\" } are not used.\n",
      "\n",
      "  warnings.warn(smsg, UserWarning)\n",
      "/opt/anaconda3/lib/python3.12/site-packages/xgboost/core.py:158: UserWarning: [21:38:39] WARNING: /Users/runner/work/xgboost/xgboost/src/learner.cc:740: \n",
      "Parameters: { \"scale_pos_weight\", \"use_label_encoder\" } are not used.\n",
      "\n",
      "  warnings.warn(smsg, UserWarning)\n",
      "/opt/anaconda3/lib/python3.12/site-packages/xgboost/core.py:158: UserWarning: [21:39:50] WARNING: /Users/runner/work/xgboost/xgboost/src/learner.cc:740: \n",
      "Parameters: { \"scale_pos_weight\", \"use_label_encoder\" } are not used.\n",
      "\n",
      "  warnings.warn(smsg, UserWarning)\n",
      "/opt/anaconda3/lib/python3.12/site-packages/xgboost/core.py:158: UserWarning: [21:40:03] WARNING: /Users/runner/work/xgboost/xgboost/src/learner.cc:740: \n",
      "Parameters: { \"scale_pos_weight\", \"use_label_encoder\" } are not used.\n",
      "\n",
      "  warnings.warn(smsg, UserWarning)\n",
      "/opt/anaconda3/lib/python3.12/site-packages/xgboost/core.py:158: UserWarning: [21:45:25] WARNING: /Users/runner/work/xgboost/xgboost/src/learner.cc:740: \n",
      "Parameters: { \"scale_pos_weight\", \"use_label_encoder\" } are not used.\n",
      "\n",
      "  warnings.warn(smsg, UserWarning)\n",
      "/opt/anaconda3/lib/python3.12/site-packages/xgboost/core.py:158: UserWarning: [21:45:25] WARNING: /Users/runner/work/xgboost/xgboost/src/learner.cc:740: \n",
      "Parameters: { \"scale_pos_weight\", \"use_label_encoder\" } are not used.\n",
      "\n",
      "  warnings.warn(smsg, UserWarning)\n",
      "/opt/anaconda3/lib/python3.12/site-packages/xgboost/core.py:158: UserWarning: [21:45:52] WARNING: /Users/runner/work/xgboost/xgboost/src/learner.cc:740: \n",
      "Parameters: { \"scale_pos_weight\", \"use_label_encoder\" } are not used.\n",
      "\n",
      "  warnings.warn(smsg, UserWarning)\n",
      "/opt/anaconda3/lib/python3.12/site-packages/xgboost/core.py:158: UserWarning: [21:47:05] WARNING: /Users/runner/work/xgboost/xgboost/src/learner.cc:740: \n",
      "Parameters: { \"scale_pos_weight\", \"use_label_encoder\" } are not used.\n",
      "\n",
      "  warnings.warn(smsg, UserWarning)\n",
      "/opt/anaconda3/lib/python3.12/site-packages/xgboost/core.py:158: UserWarning: [21:47:59] WARNING: /Users/runner/work/xgboost/xgboost/src/learner.cc:740: \n",
      "Parameters: { \"scale_pos_weight\", \"use_label_encoder\" } are not used.\n",
      "\n",
      "  warnings.warn(smsg, UserWarning)\n",
      "/opt/anaconda3/lib/python3.12/site-packages/xgboost/core.py:158: UserWarning: [21:51:21] WARNING: /Users/runner/work/xgboost/xgboost/src/learner.cc:740: \n",
      "Parameters: { \"scale_pos_weight\", \"use_label_encoder\" } are not used.\n",
      "\n",
      "  warnings.warn(smsg, UserWarning)\n",
      "/opt/anaconda3/lib/python3.12/site-packages/xgboost/core.py:158: UserWarning: [21:52:11] WARNING: /Users/runner/work/xgboost/xgboost/src/learner.cc:740: \n",
      "Parameters: { \"scale_pos_weight\", \"use_label_encoder\" } are not used.\n",
      "\n",
      "  warnings.warn(smsg, UserWarning)\n",
      "/opt/anaconda3/lib/python3.12/site-packages/xgboost/core.py:158: UserWarning: [21:52:20] WARNING: /Users/runner/work/xgboost/xgboost/src/learner.cc:740: \n",
      "Parameters: { \"scale_pos_weight\", \"use_label_encoder\" } are not used.\n",
      "\n",
      "  warnings.warn(smsg, UserWarning)\n",
      "/opt/anaconda3/lib/python3.12/site-packages/xgboost/core.py:158: UserWarning: [21:56:29] WARNING: /Users/runner/work/xgboost/xgboost/src/learner.cc:740: \n",
      "Parameters: { \"scale_pos_weight\", \"use_label_encoder\" } are not used.\n",
      "\n",
      "  warnings.warn(smsg, UserWarning)\n",
      "/opt/anaconda3/lib/python3.12/site-packages/xgboost/core.py:158: UserWarning: [21:58:03] WARNING: /Users/runner/work/xgboost/xgboost/src/learner.cc:740: \n",
      "Parameters: { \"scale_pos_weight\", \"use_label_encoder\" } are not used.\n",
      "\n",
      "  warnings.warn(smsg, UserWarning)\n",
      "/opt/anaconda3/lib/python3.12/site-packages/xgboost/core.py:158: UserWarning: [21:58:52] WARNING: /Users/runner/work/xgboost/xgboost/src/learner.cc:740: \n",
      "Parameters: { \"scale_pos_weight\", \"use_label_encoder\" } are not used.\n",
      "\n",
      "  warnings.warn(smsg, UserWarning)\n",
      "/opt/anaconda3/lib/python3.12/site-packages/xgboost/core.py:158: UserWarning: [21:59:32] WARNING: /Users/runner/work/xgboost/xgboost/src/learner.cc:740: \n",
      "Parameters: { \"scale_pos_weight\", \"use_label_encoder\" } are not used.\n",
      "\n",
      "  warnings.warn(smsg, UserWarning)\n",
      "/opt/anaconda3/lib/python3.12/site-packages/xgboost/core.py:158: UserWarning: [21:59:40] WARNING: /Users/runner/work/xgboost/xgboost/src/learner.cc:740: \n",
      "Parameters: { \"scale_pos_weight\", \"use_label_encoder\" } are not used.\n",
      "\n",
      "  warnings.warn(smsg, UserWarning)\n",
      "/opt/anaconda3/lib/python3.12/site-packages/xgboost/core.py:158: UserWarning: [22:00:11] WARNING: /Users/runner/work/xgboost/xgboost/src/learner.cc:740: \n",
      "Parameters: { \"scale_pos_weight\", \"use_label_encoder\" } are not used.\n",
      "\n",
      "  warnings.warn(smsg, UserWarning)\n",
      "/opt/anaconda3/lib/python3.12/site-packages/xgboost/core.py:158: UserWarning: [22:03:49] WARNING: /Users/runner/work/xgboost/xgboost/src/learner.cc:740: \n",
      "Parameters: { \"scale_pos_weight\", \"use_label_encoder\" } are not used.\n",
      "\n",
      "  warnings.warn(smsg, UserWarning)\n",
      "/opt/anaconda3/lib/python3.12/site-packages/xgboost/core.py:158: UserWarning: [22:04:06] WARNING: /Users/runner/work/xgboost/xgboost/src/learner.cc:740: \n",
      "Parameters: { \"scale_pos_weight\", \"use_label_encoder\" } are not used.\n",
      "\n",
      "  warnings.warn(smsg, UserWarning)\n",
      "/opt/anaconda3/lib/python3.12/site-packages/xgboost/core.py:158: UserWarning: [22:05:03] WARNING: /Users/runner/work/xgboost/xgboost/src/learner.cc:740: \n",
      "Parameters: { \"scale_pos_weight\", \"use_label_encoder\" } are not used.\n",
      "\n",
      "  warnings.warn(smsg, UserWarning)\n",
      "/opt/anaconda3/lib/python3.12/site-packages/xgboost/core.py:158: UserWarning: [22:05:27] WARNING: /Users/runner/work/xgboost/xgboost/src/learner.cc:740: \n",
      "Parameters: { \"scale_pos_weight\", \"use_label_encoder\" } are not used.\n",
      "\n",
      "  warnings.warn(smsg, UserWarning)\n",
      "/opt/anaconda3/lib/python3.12/site-packages/xgboost/core.py:158: UserWarning: [22:05:54] WARNING: /Users/runner/work/xgboost/xgboost/src/learner.cc:740: \n",
      "Parameters: { \"scale_pos_weight\", \"use_label_encoder\" } are not used.\n",
      "\n",
      "  warnings.warn(smsg, UserWarning)\n",
      "/opt/anaconda3/lib/python3.12/site-packages/xgboost/core.py:158: UserWarning: [22:06:19] WARNING: /Users/runner/work/xgboost/xgboost/src/learner.cc:740: \n",
      "Parameters: { \"scale_pos_weight\", \"use_label_encoder\" } are not used.\n",
      "\n",
      "  warnings.warn(smsg, UserWarning)\n",
      "/opt/anaconda3/lib/python3.12/site-packages/xgboost/core.py:158: UserWarning: [22:20:29] WARNING: /Users/runner/work/xgboost/xgboost/src/learner.cc:740: \n",
      "Parameters: { \"scale_pos_weight\", \"use_label_encoder\" } are not used.\n",
      "\n",
      "  warnings.warn(smsg, UserWarning)\n"
     ]
    },
    {
     "data": {
      "text/html": [
       "<style>#sk-container-id-3 {\n",
       "  /* Definition of color scheme common for light and dark mode */\n",
       "  --sklearn-color-text: black;\n",
       "  --sklearn-color-line: gray;\n",
       "  /* Definition of color scheme for unfitted estimators */\n",
       "  --sklearn-color-unfitted-level-0: #fff5e6;\n",
       "  --sklearn-color-unfitted-level-1: #f6e4d2;\n",
       "  --sklearn-color-unfitted-level-2: #ffe0b3;\n",
       "  --sklearn-color-unfitted-level-3: chocolate;\n",
       "  /* Definition of color scheme for fitted estimators */\n",
       "  --sklearn-color-fitted-level-0: #f0f8ff;\n",
       "  --sklearn-color-fitted-level-1: #d4ebff;\n",
       "  --sklearn-color-fitted-level-2: #b3dbfd;\n",
       "  --sklearn-color-fitted-level-3: cornflowerblue;\n",
       "\n",
       "  /* Specific color for light theme */\n",
       "  --sklearn-color-text-on-default-background: var(--sg-text-color, var(--theme-code-foreground, var(--jp-content-font-color1, black)));\n",
       "  --sklearn-color-background: var(--sg-background-color, var(--theme-background, var(--jp-layout-color0, white)));\n",
       "  --sklearn-color-border-box: var(--sg-text-color, var(--theme-code-foreground, var(--jp-content-font-color1, black)));\n",
       "  --sklearn-color-icon: #696969;\n",
       "\n",
       "  @media (prefers-color-scheme: dark) {\n",
       "    /* Redefinition of color scheme for dark theme */\n",
       "    --sklearn-color-text-on-default-background: var(--sg-text-color, var(--theme-code-foreground, var(--jp-content-font-color1, white)));\n",
       "    --sklearn-color-background: var(--sg-background-color, var(--theme-background, var(--jp-layout-color0, #111)));\n",
       "    --sklearn-color-border-box: var(--sg-text-color, var(--theme-code-foreground, var(--jp-content-font-color1, white)));\n",
       "    --sklearn-color-icon: #878787;\n",
       "  }\n",
       "}\n",
       "\n",
       "#sk-container-id-3 {\n",
       "  color: var(--sklearn-color-text);\n",
       "}\n",
       "\n",
       "#sk-container-id-3 pre {\n",
       "  padding: 0;\n",
       "}\n",
       "\n",
       "#sk-container-id-3 input.sk-hidden--visually {\n",
       "  border: 0;\n",
       "  clip: rect(1px 1px 1px 1px);\n",
       "  clip: rect(1px, 1px, 1px, 1px);\n",
       "  height: 1px;\n",
       "  margin: -1px;\n",
       "  overflow: hidden;\n",
       "  padding: 0;\n",
       "  position: absolute;\n",
       "  width: 1px;\n",
       "}\n",
       "\n",
       "#sk-container-id-3 div.sk-dashed-wrapped {\n",
       "  border: 1px dashed var(--sklearn-color-line);\n",
       "  margin: 0 0.4em 0.5em 0.4em;\n",
       "  box-sizing: border-box;\n",
       "  padding-bottom: 0.4em;\n",
       "  background-color: var(--sklearn-color-background);\n",
       "}\n",
       "\n",
       "#sk-container-id-3 div.sk-container {\n",
       "  /* jupyter's `normalize.less` sets `[hidden] { display: none; }`\n",
       "     but bootstrap.min.css set `[hidden] { display: none !important; }`\n",
       "     so we also need the `!important` here to be able to override the\n",
       "     default hidden behavior on the sphinx rendered scikit-learn.org.\n",
       "     See: https://github.com/scikit-learn/scikit-learn/issues/21755 */\n",
       "  display: inline-block !important;\n",
       "  position: relative;\n",
       "}\n",
       "\n",
       "#sk-container-id-3 div.sk-text-repr-fallback {\n",
       "  display: none;\n",
       "}\n",
       "\n",
       "div.sk-parallel-item,\n",
       "div.sk-serial,\n",
       "div.sk-item {\n",
       "  /* draw centered vertical line to link estimators */\n",
       "  background-image: linear-gradient(var(--sklearn-color-text-on-default-background), var(--sklearn-color-text-on-default-background));\n",
       "  background-size: 2px 100%;\n",
       "  background-repeat: no-repeat;\n",
       "  background-position: center center;\n",
       "}\n",
       "\n",
       "/* Parallel-specific style estimator block */\n",
       "\n",
       "#sk-container-id-3 div.sk-parallel-item::after {\n",
       "  content: \"\";\n",
       "  width: 100%;\n",
       "  border-bottom: 2px solid var(--sklearn-color-text-on-default-background);\n",
       "  flex-grow: 1;\n",
       "}\n",
       "\n",
       "#sk-container-id-3 div.sk-parallel {\n",
       "  display: flex;\n",
       "  align-items: stretch;\n",
       "  justify-content: center;\n",
       "  background-color: var(--sklearn-color-background);\n",
       "  position: relative;\n",
       "}\n",
       "\n",
       "#sk-container-id-3 div.sk-parallel-item {\n",
       "  display: flex;\n",
       "  flex-direction: column;\n",
       "}\n",
       "\n",
       "#sk-container-id-3 div.sk-parallel-item:first-child::after {\n",
       "  align-self: flex-end;\n",
       "  width: 50%;\n",
       "}\n",
       "\n",
       "#sk-container-id-3 div.sk-parallel-item:last-child::after {\n",
       "  align-self: flex-start;\n",
       "  width: 50%;\n",
       "}\n",
       "\n",
       "#sk-container-id-3 div.sk-parallel-item:only-child::after {\n",
       "  width: 0;\n",
       "}\n",
       "\n",
       "/* Serial-specific style estimator block */\n",
       "\n",
       "#sk-container-id-3 div.sk-serial {\n",
       "  display: flex;\n",
       "  flex-direction: column;\n",
       "  align-items: center;\n",
       "  background-color: var(--sklearn-color-background);\n",
       "  padding-right: 1em;\n",
       "  padding-left: 1em;\n",
       "}\n",
       "\n",
       "\n",
       "/* Toggleable style: style used for estimator/Pipeline/ColumnTransformer box that is\n",
       "clickable and can be expanded/collapsed.\n",
       "- Pipeline and ColumnTransformer use this feature and define the default style\n",
       "- Estimators will overwrite some part of the style using the `sk-estimator` class\n",
       "*/\n",
       "\n",
       "/* Pipeline and ColumnTransformer style (default) */\n",
       "\n",
       "#sk-container-id-3 div.sk-toggleable {\n",
       "  /* Default theme specific background. It is overwritten whether we have a\n",
       "  specific estimator or a Pipeline/ColumnTransformer */\n",
       "  background-color: var(--sklearn-color-background);\n",
       "}\n",
       "\n",
       "/* Toggleable label */\n",
       "#sk-container-id-3 label.sk-toggleable__label {\n",
       "  cursor: pointer;\n",
       "  display: block;\n",
       "  width: 100%;\n",
       "  margin-bottom: 0;\n",
       "  padding: 0.5em;\n",
       "  box-sizing: border-box;\n",
       "  text-align: center;\n",
       "}\n",
       "\n",
       "#sk-container-id-3 label.sk-toggleable__label-arrow:before {\n",
       "  /* Arrow on the left of the label */\n",
       "  content: \"▸\";\n",
       "  float: left;\n",
       "  margin-right: 0.25em;\n",
       "  color: var(--sklearn-color-icon);\n",
       "}\n",
       "\n",
       "#sk-container-id-3 label.sk-toggleable__label-arrow:hover:before {\n",
       "  color: var(--sklearn-color-text);\n",
       "}\n",
       "\n",
       "/* Toggleable content - dropdown */\n",
       "\n",
       "#sk-container-id-3 div.sk-toggleable__content {\n",
       "  max-height: 0;\n",
       "  max-width: 0;\n",
       "  overflow: hidden;\n",
       "  text-align: left;\n",
       "  /* unfitted */\n",
       "  background-color: var(--sklearn-color-unfitted-level-0);\n",
       "}\n",
       "\n",
       "#sk-container-id-3 div.sk-toggleable__content.fitted {\n",
       "  /* fitted */\n",
       "  background-color: var(--sklearn-color-fitted-level-0);\n",
       "}\n",
       "\n",
       "#sk-container-id-3 div.sk-toggleable__content pre {\n",
       "  margin: 0.2em;\n",
       "  border-radius: 0.25em;\n",
       "  color: var(--sklearn-color-text);\n",
       "  /* unfitted */\n",
       "  background-color: var(--sklearn-color-unfitted-level-0);\n",
       "}\n",
       "\n",
       "#sk-container-id-3 div.sk-toggleable__content.fitted pre {\n",
       "  /* unfitted */\n",
       "  background-color: var(--sklearn-color-fitted-level-0);\n",
       "}\n",
       "\n",
       "#sk-container-id-3 input.sk-toggleable__control:checked~div.sk-toggleable__content {\n",
       "  /* Expand drop-down */\n",
       "  max-height: 200px;\n",
       "  max-width: 100%;\n",
       "  overflow: auto;\n",
       "}\n",
       "\n",
       "#sk-container-id-3 input.sk-toggleable__control:checked~label.sk-toggleable__label-arrow:before {\n",
       "  content: \"▾\";\n",
       "}\n",
       "\n",
       "/* Pipeline/ColumnTransformer-specific style */\n",
       "\n",
       "#sk-container-id-3 div.sk-label input.sk-toggleable__control:checked~label.sk-toggleable__label {\n",
       "  color: var(--sklearn-color-text);\n",
       "  background-color: var(--sklearn-color-unfitted-level-2);\n",
       "}\n",
       "\n",
       "#sk-container-id-3 div.sk-label.fitted input.sk-toggleable__control:checked~label.sk-toggleable__label {\n",
       "  background-color: var(--sklearn-color-fitted-level-2);\n",
       "}\n",
       "\n",
       "/* Estimator-specific style */\n",
       "\n",
       "/* Colorize estimator box */\n",
       "#sk-container-id-3 div.sk-estimator input.sk-toggleable__control:checked~label.sk-toggleable__label {\n",
       "  /* unfitted */\n",
       "  background-color: var(--sklearn-color-unfitted-level-2);\n",
       "}\n",
       "\n",
       "#sk-container-id-3 div.sk-estimator.fitted input.sk-toggleable__control:checked~label.sk-toggleable__label {\n",
       "  /* fitted */\n",
       "  background-color: var(--sklearn-color-fitted-level-2);\n",
       "}\n",
       "\n",
       "#sk-container-id-3 div.sk-label label.sk-toggleable__label,\n",
       "#sk-container-id-3 div.sk-label label {\n",
       "  /* The background is the default theme color */\n",
       "  color: var(--sklearn-color-text-on-default-background);\n",
       "}\n",
       "\n",
       "/* On hover, darken the color of the background */\n",
       "#sk-container-id-3 div.sk-label:hover label.sk-toggleable__label {\n",
       "  color: var(--sklearn-color-text);\n",
       "  background-color: var(--sklearn-color-unfitted-level-2);\n",
       "}\n",
       "\n",
       "/* Label box, darken color on hover, fitted */\n",
       "#sk-container-id-3 div.sk-label.fitted:hover label.sk-toggleable__label.fitted {\n",
       "  color: var(--sklearn-color-text);\n",
       "  background-color: var(--sklearn-color-fitted-level-2);\n",
       "}\n",
       "\n",
       "/* Estimator label */\n",
       "\n",
       "#sk-container-id-3 div.sk-label label {\n",
       "  font-family: monospace;\n",
       "  font-weight: bold;\n",
       "  display: inline-block;\n",
       "  line-height: 1.2em;\n",
       "}\n",
       "\n",
       "#sk-container-id-3 div.sk-label-container {\n",
       "  text-align: center;\n",
       "}\n",
       "\n",
       "/* Estimator-specific */\n",
       "#sk-container-id-3 div.sk-estimator {\n",
       "  font-family: monospace;\n",
       "  border: 1px dotted var(--sklearn-color-border-box);\n",
       "  border-radius: 0.25em;\n",
       "  box-sizing: border-box;\n",
       "  margin-bottom: 0.5em;\n",
       "  /* unfitted */\n",
       "  background-color: var(--sklearn-color-unfitted-level-0);\n",
       "}\n",
       "\n",
       "#sk-container-id-3 div.sk-estimator.fitted {\n",
       "  /* fitted */\n",
       "  background-color: var(--sklearn-color-fitted-level-0);\n",
       "}\n",
       "\n",
       "/* on hover */\n",
       "#sk-container-id-3 div.sk-estimator:hover {\n",
       "  /* unfitted */\n",
       "  background-color: var(--sklearn-color-unfitted-level-2);\n",
       "}\n",
       "\n",
       "#sk-container-id-3 div.sk-estimator.fitted:hover {\n",
       "  /* fitted */\n",
       "  background-color: var(--sklearn-color-fitted-level-2);\n",
       "}\n",
       "\n",
       "/* Specification for estimator info (e.g. \"i\" and \"?\") */\n",
       "\n",
       "/* Common style for \"i\" and \"?\" */\n",
       "\n",
       ".sk-estimator-doc-link,\n",
       "a:link.sk-estimator-doc-link,\n",
       "a:visited.sk-estimator-doc-link {\n",
       "  float: right;\n",
       "  font-size: smaller;\n",
       "  line-height: 1em;\n",
       "  font-family: monospace;\n",
       "  background-color: var(--sklearn-color-background);\n",
       "  border-radius: 1em;\n",
       "  height: 1em;\n",
       "  width: 1em;\n",
       "  text-decoration: none !important;\n",
       "  margin-left: 1ex;\n",
       "  /* unfitted */\n",
       "  border: var(--sklearn-color-unfitted-level-1) 1pt solid;\n",
       "  color: var(--sklearn-color-unfitted-level-1);\n",
       "}\n",
       "\n",
       ".sk-estimator-doc-link.fitted,\n",
       "a:link.sk-estimator-doc-link.fitted,\n",
       "a:visited.sk-estimator-doc-link.fitted {\n",
       "  /* fitted */\n",
       "  border: var(--sklearn-color-fitted-level-1) 1pt solid;\n",
       "  color: var(--sklearn-color-fitted-level-1);\n",
       "}\n",
       "\n",
       "/* On hover */\n",
       "div.sk-estimator:hover .sk-estimator-doc-link:hover,\n",
       ".sk-estimator-doc-link:hover,\n",
       "div.sk-label-container:hover .sk-estimator-doc-link:hover,\n",
       ".sk-estimator-doc-link:hover {\n",
       "  /* unfitted */\n",
       "  background-color: var(--sklearn-color-unfitted-level-3);\n",
       "  color: var(--sklearn-color-background);\n",
       "  text-decoration: none;\n",
       "}\n",
       "\n",
       "div.sk-estimator.fitted:hover .sk-estimator-doc-link.fitted:hover,\n",
       ".sk-estimator-doc-link.fitted:hover,\n",
       "div.sk-label-container:hover .sk-estimator-doc-link.fitted:hover,\n",
       ".sk-estimator-doc-link.fitted:hover {\n",
       "  /* fitted */\n",
       "  background-color: var(--sklearn-color-fitted-level-3);\n",
       "  color: var(--sklearn-color-background);\n",
       "  text-decoration: none;\n",
       "}\n",
       "\n",
       "/* Span, style for the box shown on hovering the info icon */\n",
       ".sk-estimator-doc-link span {\n",
       "  display: none;\n",
       "  z-index: 9999;\n",
       "  position: relative;\n",
       "  font-weight: normal;\n",
       "  right: .2ex;\n",
       "  padding: .5ex;\n",
       "  margin: .5ex;\n",
       "  width: min-content;\n",
       "  min-width: 20ex;\n",
       "  max-width: 50ex;\n",
       "  color: var(--sklearn-color-text);\n",
       "  box-shadow: 2pt 2pt 4pt #999;\n",
       "  /* unfitted */\n",
       "  background: var(--sklearn-color-unfitted-level-0);\n",
       "  border: .5pt solid var(--sklearn-color-unfitted-level-3);\n",
       "}\n",
       "\n",
       ".sk-estimator-doc-link.fitted span {\n",
       "  /* fitted */\n",
       "  background: var(--sklearn-color-fitted-level-0);\n",
       "  border: var(--sklearn-color-fitted-level-3);\n",
       "}\n",
       "\n",
       ".sk-estimator-doc-link:hover span {\n",
       "  display: block;\n",
       "}\n",
       "\n",
       "/* \"?\"-specific style due to the `<a>` HTML tag */\n",
       "\n",
       "#sk-container-id-3 a.estimator_doc_link {\n",
       "  float: right;\n",
       "  font-size: 1rem;\n",
       "  line-height: 1em;\n",
       "  font-family: monospace;\n",
       "  background-color: var(--sklearn-color-background);\n",
       "  border-radius: 1rem;\n",
       "  height: 1rem;\n",
       "  width: 1rem;\n",
       "  text-decoration: none;\n",
       "  /* unfitted */\n",
       "  color: var(--sklearn-color-unfitted-level-1);\n",
       "  border: var(--sklearn-color-unfitted-level-1) 1pt solid;\n",
       "}\n",
       "\n",
       "#sk-container-id-3 a.estimator_doc_link.fitted {\n",
       "  /* fitted */\n",
       "  border: var(--sklearn-color-fitted-level-1) 1pt solid;\n",
       "  color: var(--sklearn-color-fitted-level-1);\n",
       "}\n",
       "\n",
       "/* On hover */\n",
       "#sk-container-id-3 a.estimator_doc_link:hover {\n",
       "  /* unfitted */\n",
       "  background-color: var(--sklearn-color-unfitted-level-3);\n",
       "  color: var(--sklearn-color-background);\n",
       "  text-decoration: none;\n",
       "}\n",
       "\n",
       "#sk-container-id-3 a.estimator_doc_link.fitted:hover {\n",
       "  /* fitted */\n",
       "  background-color: var(--sklearn-color-fitted-level-3);\n",
       "}\n",
       "</style><div id=\"sk-container-id-3\" class=\"sk-top-container\"><div class=\"sk-text-repr-fallback\"><pre>GridSearchCV(cv=PredefinedSplit(test_fold=array([-1, -1, ...,  0,  0])),\n",
       "             error_score=&#x27;raise&#x27;,\n",
       "             estimator=XGBClassifier(base_score=None, booster=None,\n",
       "                                     callbacks=None, colsample_bylevel=None,\n",
       "                                     colsample_bynode=None,\n",
       "                                     colsample_bytree=None, device=None,\n",
       "                                     early_stopping_rounds=None,\n",
       "                                     enable_categorical=False,\n",
       "                                     eval_metric=&#x27;mlogloss&#x27;, feature_types=None,\n",
       "                                     gamma=None, grow_policy=...\n",
       "                                     max_leaves=None, min_child_weight=None,\n",
       "                                     missing=nan, monotone_constraints=None,\n",
       "                                     multi_strategy=None, n_estimators=None,\n",
       "                                     n_jobs=None, num_class=3,\n",
       "                                     num_parallel_tree=None, ...),\n",
       "             n_jobs=-1,\n",
       "             param_grid={&#x27;colsample_bytree&#x27;: [0.8, 1.0],\n",
       "                         &#x27;learning_rate&#x27;: [0.2, 0.1], &#x27;max_depth&#x27;: [4, 6, 8],\n",
       "                         &#x27;n_estimators&#x27;: [100, 500], &#x27;scale_pos_weight&#x27;: [1],\n",
       "                         &#x27;subsample&#x27;: [0.7, 1.0]},\n",
       "             scoring=&#x27;f1_macro&#x27;, verbose=1)</pre><b>In a Jupyter environment, please rerun this cell to show the HTML representation or trust the notebook. <br />On GitHub, the HTML representation is unable to render, please try loading this page with nbviewer.org.</b></div><div class=\"sk-container\" hidden><div class=\"sk-item sk-dashed-wrapped\"><div class=\"sk-label-container\"><div class=\"sk-label fitted sk-toggleable\"><input class=\"sk-toggleable__control sk-hidden--visually\" id=\"sk-estimator-id-5\" type=\"checkbox\" ><label for=\"sk-estimator-id-5\" class=\"sk-toggleable__label fitted sk-toggleable__label-arrow fitted\">&nbsp;&nbsp;GridSearchCV<a class=\"sk-estimator-doc-link fitted\" rel=\"noreferrer\" target=\"_blank\" href=\"https://scikit-learn.org/1.5/modules/generated/sklearn.model_selection.GridSearchCV.html\">?<span>Documentation for GridSearchCV</span></a><span class=\"sk-estimator-doc-link fitted\">i<span>Fitted</span></span></label><div class=\"sk-toggleable__content fitted\"><pre>GridSearchCV(cv=PredefinedSplit(test_fold=array([-1, -1, ...,  0,  0])),\n",
       "             error_score=&#x27;raise&#x27;,\n",
       "             estimator=XGBClassifier(base_score=None, booster=None,\n",
       "                                     callbacks=None, colsample_bylevel=None,\n",
       "                                     colsample_bynode=None,\n",
       "                                     colsample_bytree=None, device=None,\n",
       "                                     early_stopping_rounds=None,\n",
       "                                     enable_categorical=False,\n",
       "                                     eval_metric=&#x27;mlogloss&#x27;, feature_types=None,\n",
       "                                     gamma=None, grow_policy=...\n",
       "                                     max_leaves=None, min_child_weight=None,\n",
       "                                     missing=nan, monotone_constraints=None,\n",
       "                                     multi_strategy=None, n_estimators=None,\n",
       "                                     n_jobs=None, num_class=3,\n",
       "                                     num_parallel_tree=None, ...),\n",
       "             n_jobs=-1,\n",
       "             param_grid={&#x27;colsample_bytree&#x27;: [0.8, 1.0],\n",
       "                         &#x27;learning_rate&#x27;: [0.2, 0.1], &#x27;max_depth&#x27;: [4, 6, 8],\n",
       "                         &#x27;n_estimators&#x27;: [100, 500], &#x27;scale_pos_weight&#x27;: [1],\n",
       "                         &#x27;subsample&#x27;: [0.7, 1.0]},\n",
       "             scoring=&#x27;f1_macro&#x27;, verbose=1)</pre></div> </div></div><div class=\"sk-parallel\"><div class=\"sk-parallel-item\"><div class=\"sk-item\"><div class=\"sk-label-container\"><div class=\"sk-label fitted sk-toggleable\"><input class=\"sk-toggleable__control sk-hidden--visually\" id=\"sk-estimator-id-6\" type=\"checkbox\" ><label for=\"sk-estimator-id-6\" class=\"sk-toggleable__label fitted sk-toggleable__label-arrow fitted\">best_estimator_: XGBClassifier</label><div class=\"sk-toggleable__content fitted\"><pre>XGBClassifier(base_score=None, booster=None, callbacks=None,\n",
       "              colsample_bylevel=None, colsample_bynode=None,\n",
       "              colsample_bytree=0.8, device=None, early_stopping_rounds=None,\n",
       "              enable_categorical=False, eval_metric=&#x27;mlogloss&#x27;,\n",
       "              feature_types=None, gamma=None, grow_policy=None,\n",
       "              importance_type=None, interaction_constraints=None,\n",
       "              learning_rate=0.2, max_bin=None, max_cat_threshold=None,\n",
       "              max_cat_to_onehot=None, max_delta_step=None, max_depth=4,\n",
       "              max_leaves=None, min_child_weight=None, missing=nan,\n",
       "              monotone_constraints=None, multi_strategy=None, n_estimators=500,\n",
       "              n_jobs=None, num_class=3, num_parallel_tree=None, ...)</pre></div> </div></div><div class=\"sk-serial\"><div class=\"sk-item\"><div class=\"sk-estimator fitted sk-toggleable\"><input class=\"sk-toggleable__control sk-hidden--visually\" id=\"sk-estimator-id-7\" type=\"checkbox\" ><label for=\"sk-estimator-id-7\" class=\"sk-toggleable__label fitted sk-toggleable__label-arrow fitted\">XGBClassifier</label><div class=\"sk-toggleable__content fitted\"><pre>XGBClassifier(base_score=None, booster=None, callbacks=None,\n",
       "              colsample_bylevel=None, colsample_bynode=None,\n",
       "              colsample_bytree=0.8, device=None, early_stopping_rounds=None,\n",
       "              enable_categorical=False, eval_metric=&#x27;mlogloss&#x27;,\n",
       "              feature_types=None, gamma=None, grow_policy=None,\n",
       "              importance_type=None, interaction_constraints=None,\n",
       "              learning_rate=0.2, max_bin=None, max_cat_threshold=None,\n",
       "              max_cat_to_onehot=None, max_delta_step=None, max_depth=4,\n",
       "              max_leaves=None, min_child_weight=None, missing=nan,\n",
       "              monotone_constraints=None, multi_strategy=None, n_estimators=500,\n",
       "              n_jobs=None, num_class=3, num_parallel_tree=None, ...)</pre></div> </div></div></div></div></div></div></div></div></div>"
      ],
      "text/plain": [
       "GridSearchCV(cv=PredefinedSplit(test_fold=array([-1, -1, ...,  0,  0])),\n",
       "             error_score='raise',\n",
       "             estimator=XGBClassifier(base_score=None, booster=None,\n",
       "                                     callbacks=None, colsample_bylevel=None,\n",
       "                                     colsample_bynode=None,\n",
       "                                     colsample_bytree=None, device=None,\n",
       "                                     early_stopping_rounds=None,\n",
       "                                     enable_categorical=False,\n",
       "                                     eval_metric='mlogloss', feature_types=None,\n",
       "                                     gamma=None, grow_policy=...\n",
       "                                     max_leaves=None, min_child_weight=None,\n",
       "                                     missing=nan, monotone_constraints=None,\n",
       "                                     multi_strategy=None, n_estimators=None,\n",
       "                                     n_jobs=None, num_class=3,\n",
       "                                     num_parallel_tree=None, ...),\n",
       "             n_jobs=-1,\n",
       "             param_grid={'colsample_bytree': [0.8, 1.0],\n",
       "                         'learning_rate': [0.2, 0.1], 'max_depth': [4, 6, 8],\n",
       "                         'n_estimators': [100, 500], 'scale_pos_weight': [1],\n",
       "                         'subsample': [0.7, 1.0]},\n",
       "             scoring='f1_macro', verbose=1)"
      ]
     },
     "execution_count": 30,
     "metadata": {},
     "output_type": "execute_result"
    }
   ],
   "source": [
    "grid_xgb.fit(X_combined, y_combined)"
   ]
  },
  {
   "cell_type": "markdown",
   "id": "92b81d35",
   "metadata": {},
   "source": [
    "### **2.2.2** Assess"
   ]
  },
  {
   "cell_type": "code",
   "execution_count": 70,
   "id": "db44e39e",
   "metadata": {},
   "outputs": [
    {
     "name": "stdout",
     "output_type": "stream",
     "text": [
      "{'colsample_bytree': 0.8, 'learning_rate': 0.2, 'max_depth': 4, 'n_estimators': 500, 'scale_pos_weight': 1, 'subsample': 0.7}\n",
      "0.8159031481935677\n"
     ]
    }
   ],
   "source": [
    "print(grid_xgb.best_params_)\n",
    "print(grid_xgb.best_score_)"
   ]
  },
  {
   "cell_type": "code",
   "execution_count": 134,
   "id": "90f044eb",
   "metadata": {},
   "outputs": [],
   "source": [
    "xgb = XGBClassifier(\n",
    "    colsample_bytree= 0.8, \n",
    "    learning_rate = 0.2,\n",
    "    max_depth = 4,\n",
    "    n_estimators = 500, scale_pos_weight= 1, subsample = 0.7,\n",
    "    num_class=3,\n",
    "    use_label_encoder=False,\n",
    "    eval_metric='mlogloss',\n",
    "    random_state=42\n",
    ")"
   ]
  },
  {
   "cell_type": "code",
   "execution_count": 135,
   "id": "7686be33",
   "metadata": {},
   "outputs": [],
   "source": [
    "title = \"XGB with Text Embedding 3 Small\""
   ]
  },
  {
   "cell_type": "code",
   "execution_count": 136,
   "id": "a3a24ea9",
   "metadata": {},
   "outputs": [
    {
     "name": "stdout",
     "output_type": "stream",
     "text": [
      "Loading embeddings from X_train_te3s_embeddings.pkl...\n",
      "Loading embeddings from X_val_te3s_embeddings.pkl...\n"
     ]
    },
    {
     "name": "stderr",
     "output_type": "stream",
     "text": [
      "/opt/anaconda3/lib/python3.12/site-packages/xgboost/core.py:158: UserWarning: [23:28:21] WARNING: /Users/runner/work/xgboost/xgboost/src/learner.cc:740: \n",
      "Parameters: { \"scale_pos_weight\", \"use_label_encoder\" } are not used.\n",
      "\n",
      "  warnings.warn(smsg, UserWarning)\n"
     ]
    }
   ],
   "source": [
    "X_train_te3s,X_val_te3s,y_train_pred_te3s,y_val_pred_te3s = embedding_te3s(train_texts=train_texts,\n",
    "                                                                 train_labels=train_labels,\n",
    "                                                                 val_texts = val_texts, \n",
    "                                                                 cache_file_train=\"X_train_te3s_embeddings.pkl\", \n",
    "                                                                 cache_file_val=\"X_val_te3s_embeddings.pkl\",\n",
    "                                                                 client=client,\n",
    "                                                                 model_te3s=model_te3s,\n",
    "                                                                 batch_size=32,\n",
    "                                                                 model=xgb)"
   ]
  },
  {
   "cell_type": "code",
   "execution_count": 137,
   "id": "7c773018",
   "metadata": {},
   "outputs": [
    {
     "data": {
      "image/png": "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",
      "text/plain": [
       "<Figure size 900x500 with 1 Axes>"
      ]
     },
     "metadata": {},
     "output_type": "display_data"
    }
   ],
   "source": [
    "get_metrics_df(title, train_labels, y_train_pred_te3s, val_labels, y_val_pred_te3s)\n",
    "plot_metrics(train_labels, y_train_pred_te3s, val_labels, y_val_pred_te3s, title=title)"
   ]
  },
  {
   "cell_type": "markdown",
   "id": "61d103e6",
   "metadata": {},
   "source": [
    "## **2.3** LSTM with Glove"
   ]
  },
  {
   "cell_type": "markdown",
   "id": "dbafa1ef",
   "metadata": {},
   "source": [
    "### **2.3.1** Running model"
   ]
  },
  {
   "cell_type": "code",
   "execution_count": 144,
   "id": "32766606",
   "metadata": {},
   "outputs": [
    {
     "name": "stdout",
     "output_type": "stream",
     "text": [
      "\n",
      " Testing units=64, dropout=0.3, lr=0.005\n"
     ]
    },
    {
     "name": "stderr",
     "output_type": "stream",
     "text": [
      "100%|██████████| 7630/7630 [00:00<00:00, 20582.17it/s]\n",
      "100%|██████████| 1909/1909 [00:00<00:00, 20584.47it/s]\n"
     ]
    },
    {
     "name": "stdout",
     "output_type": "stream",
     "text": [
      "Epoch 1/15\n",
      "\u001b[1m239/239\u001b[0m \u001b[32m━━━━━━━━━━━━━━━━━━━━\u001b[0m\u001b[37m\u001b[0m \u001b[1m11s\u001b[0m 36ms/step - accuracy: 0.6852 - loss: 0.7716 - precision_10: 0.7369 - recall_10: 0.5860 - val_accuracy: 0.7669 - val_loss: 0.5809 - val_precision_10: 0.8074 - val_recall_10: 0.7224\n",
      "Epoch 2/15\n",
      "\u001b[1m239/239\u001b[0m \u001b[32m━━━━━━━━━━━━━━━━━━━━\u001b[0m\u001b[37m\u001b[0m \u001b[1m7s\u001b[0m 31ms/step - accuracy: 0.7748 - loss: 0.5619 - precision_10: 0.8125 - recall_10: 0.7268 - val_accuracy: 0.7957 - val_loss: 0.5419 - val_precision_10: 0.8182 - val_recall_10: 0.7664\n",
      "Epoch 3/15\n",
      "\u001b[1m239/239\u001b[0m \u001b[32m━━━━━━━━━━━━━━━━━━━━\u001b[0m\u001b[37m\u001b[0m \u001b[1m7s\u001b[0m 31ms/step - accuracy: 0.8067 - loss: 0.4816 - precision_10: 0.8402 - recall_10: 0.7720 - val_accuracy: 0.8057 - val_loss: 0.5293 - val_precision_10: 0.8247 - val_recall_10: 0.7837\n",
      "Epoch 4/15\n",
      "\u001b[1m239/239\u001b[0m \u001b[32m━━━━━━━━━━━━━━━━━━━━\u001b[0m\u001b[37m\u001b[0m \u001b[1m7s\u001b[0m 31ms/step - accuracy: 0.8314 - loss: 0.4230 - precision_10: 0.8566 - recall_10: 0.8043 - val_accuracy: 0.8093 - val_loss: 0.5238 - val_precision_10: 0.8239 - val_recall_10: 0.7894\n",
      "Epoch 5/15\n",
      "\u001b[1m239/239\u001b[0m \u001b[32m━━━━━━━━━━━━━━━━━━━━\u001b[0m\u001b[37m\u001b[0m \u001b[1m7s\u001b[0m 31ms/step - accuracy: 0.8561 - loss: 0.3644 - precision_10: 0.8778 - recall_10: 0.8318 - val_accuracy: 0.8104 - val_loss: 0.5383 - val_precision_10: 0.8260 - val_recall_10: 0.7884\n",
      "Epoch 6/15\n",
      "\u001b[1m239/239\u001b[0m \u001b[32m━━━━━━━━━━━━━━━━━━━━\u001b[0m\u001b[37m\u001b[0m \u001b[1m7s\u001b[0m 31ms/step - accuracy: 0.8748 - loss: 0.3259 - precision_10: 0.8903 - recall_10: 0.8564 - val_accuracy: 0.8130 - val_loss: 0.5470 - val_precision_10: 0.8253 - val_recall_10: 0.7994\n",
      "Epoch 7/15\n",
      "\u001b[1m239/239\u001b[0m \u001b[32m━━━━━━━━━━━━━━━━━━━━\u001b[0m\u001b[37m\u001b[0m \u001b[1m7s\u001b[0m 31ms/step - accuracy: 0.8861 - loss: 0.2937 - precision_10: 0.8989 - recall_10: 0.8746 - val_accuracy: 0.8135 - val_loss: 0.5546 - val_precision_10: 0.8261 - val_recall_10: 0.7988\n",
      "Epoch 8/15\n",
      "\u001b[1m239/239\u001b[0m \u001b[32m━━━━━━━━━━━━━━━━━━━━\u001b[0m\u001b[37m\u001b[0m \u001b[1m7s\u001b[0m 31ms/step - accuracy: 0.8933 - loss: 0.2697 - precision_10: 0.9057 - recall_10: 0.8839 - val_accuracy: 0.8229 - val_loss: 0.5835 - val_precision_10: 0.8327 - val_recall_10: 0.8135\n",
      "Epoch 9/15\n",
      "\u001b[1m239/239\u001b[0m \u001b[32m━━━━━━━━━━━━━━━━━━━━\u001b[0m\u001b[37m\u001b[0m \u001b[1m7s\u001b[0m 31ms/step - accuracy: 0.9081 - loss: 0.2414 - precision_10: 0.9179 - recall_10: 0.8970 - val_accuracy: 0.8114 - val_loss: 0.5966 - val_precision_10: 0.8262 - val_recall_10: 0.8020\n",
      "Epoch 10/15\n",
      "\u001b[1m239/239\u001b[0m \u001b[32m━━━━━━━━━━━━━━━━━━━━\u001b[0m\u001b[37m\u001b[0m \u001b[1m7s\u001b[0m 31ms/step - accuracy: 0.9139 - loss: 0.2247 - precision_10: 0.9202 - recall_10: 0.9068 - val_accuracy: 0.8135 - val_loss: 0.6098 - val_precision_10: 0.8222 - val_recall_10: 0.8041\n",
      "Epoch 11/15\n",
      "\u001b[1m239/239\u001b[0m \u001b[32m━━━━━━━━━━━━━━━━━━━━\u001b[0m\u001b[37m\u001b[0m \u001b[1m7s\u001b[0m 31ms/step - accuracy: 0.9143 - loss: 0.2187 - precision_10: 0.9225 - recall_10: 0.9052 - val_accuracy: 0.8135 - val_loss: 0.6482 - val_precision_10: 0.8201 - val_recall_10: 0.8025\n",
      "Epoch 12/15\n",
      "\u001b[1m239/239\u001b[0m \u001b[32m━━━━━━━━━━━━━━━━━━━━\u001b[0m\u001b[37m\u001b[0m \u001b[1m7s\u001b[0m 31ms/step - accuracy: 0.9210 - loss: 0.2139 - precision_10: 0.9267 - recall_10: 0.9144 - val_accuracy: 0.8156 - val_loss: 0.6412 - val_precision_10: 0.8253 - val_recall_10: 0.8067\n",
      "Epoch 13/15\n",
      "\u001b[1m239/239\u001b[0m \u001b[32m━━━━━━━━━━━━━━━━━━━━\u001b[0m\u001b[37m\u001b[0m \u001b[1m7s\u001b[0m 31ms/step - accuracy: 0.9245 - loss: 0.2009 - precision_10: 0.9320 - recall_10: 0.9160 - val_accuracy: 0.8167 - val_loss: 0.6389 - val_precision_10: 0.8237 - val_recall_10: 0.8098\n",
      "Epoch 14/15\n",
      "\u001b[1m239/239\u001b[0m \u001b[32m━━━━━━━━━━━━━━━━━━━━\u001b[0m\u001b[37m\u001b[0m \u001b[1m7s\u001b[0m 31ms/step - accuracy: 0.9257 - loss: 0.1998 - precision_10: 0.9312 - recall_10: 0.9196 - val_accuracy: 0.8093 - val_loss: 0.6714 - val_precision_10: 0.8159 - val_recall_10: 0.8030\n",
      "Epoch 15/15\n",
      "\u001b[1m239/239\u001b[0m \u001b[32m━━━━━━━━━━━━━━━━━━━━\u001b[0m\u001b[37m\u001b[0m \u001b[1m7s\u001b[0m 31ms/step - accuracy: 0.9327 - loss: 0.1816 - precision_10: 0.9373 - recall_10: 0.9280 - val_accuracy: 0.8188 - val_loss: 0.7073 - val_precision_10: 0.8237 - val_recall_10: 0.8125\n",
      "\u001b[1m239/239\u001b[0m \u001b[32m━━━━━━━━━━━━━━━━━━━━\u001b[0m\u001b[37m\u001b[0m \u001b[1m2s\u001b[0m 8ms/step\n",
      "\u001b[1m60/60\u001b[0m \u001b[32m━━━━━━━━━━━━━━━━━━━━\u001b[0m\u001b[37m\u001b[0m \u001b[1m0s\u001b[0m 7ms/step\n",
      " Val F1 Score: 0.7448\n",
      "\n",
      " Testing units=64, dropout=0.3, lr=0.001\n"
     ]
    },
    {
     "name": "stderr",
     "output_type": "stream",
     "text": [
      "100%|██████████| 7630/7630 [00:00<00:00, 25126.54it/s]\n",
      "100%|██████████| 1909/1909 [00:00<00:00, 21506.48it/s]\n"
     ]
    },
    {
     "name": "stdout",
     "output_type": "stream",
     "text": [
      "Epoch 1/15\n",
      "\u001b[1m239/239\u001b[0m \u001b[32m━━━━━━━━━━━━━━━━━━━━\u001b[0m\u001b[37m\u001b[0m \u001b[1m9s\u001b[0m 29ms/step - accuracy: 0.6636 - loss: 0.8253 - precision_11: 0.7205 - recall_11: 0.5386 - val_accuracy: 0.7412 - val_loss: 0.6503 - val_precision_11: 0.7874 - val_recall_11: 0.6810\n",
      "Epoch 2/15\n",
      "\u001b[1m239/239\u001b[0m \u001b[32m━━━━━━━━━━━━━━━━━━━━\u001b[0m\u001b[37m\u001b[0m \u001b[1m7s\u001b[0m 31ms/step - accuracy: 0.7394 - loss: 0.6438 - precision_11: 0.7891 - recall_11: 0.6714 - val_accuracy: 0.7716 - val_loss: 0.5951 - val_precision_11: 0.8061 - val_recall_11: 0.7208\n",
      "Epoch 3/15\n",
      "\u001b[1m239/239\u001b[0m \u001b[32m━━━━━━━━━━━━━━━━━━━━\u001b[0m\u001b[37m\u001b[0m \u001b[1m7s\u001b[0m 30ms/step - accuracy: 0.7594 - loss: 0.5977 - precision_11: 0.8084 - recall_11: 0.6998 - val_accuracy: 0.7800 - val_loss: 0.5652 - val_precision_11: 0.8085 - val_recall_11: 0.7475\n",
      "Epoch 4/15\n",
      "\u001b[1m239/239\u001b[0m \u001b[32m━━━━━━━━━━━━━━━━━━━━\u001b[0m\u001b[37m\u001b[0m \u001b[1m7s\u001b[0m 31ms/step - accuracy: 0.7780 - loss: 0.5437 - precision_11: 0.8140 - recall_11: 0.7325 - val_accuracy: 0.7931 - val_loss: 0.5441 - val_precision_11: 0.8163 - val_recall_11: 0.7564\n",
      "Epoch 5/15\n",
      "\u001b[1m239/239\u001b[0m \u001b[32m━━━━━━━━━━━━━━━━━━━━\u001b[0m\u001b[37m\u001b[0m \u001b[1m7s\u001b[0m 31ms/step - accuracy: 0.8009 - loss: 0.5117 - precision_11: 0.8340 - recall_11: 0.7558 - val_accuracy: 0.7957 - val_loss: 0.5382 - val_precision_11: 0.8198 - val_recall_11: 0.7648\n",
      "Epoch 6/15\n",
      "\u001b[1m239/239\u001b[0m \u001b[32m━━━━━━━━━━━━━━━━━━━━\u001b[0m\u001b[37m\u001b[0m \u001b[1m7s\u001b[0m 30ms/step - accuracy: 0.8180 - loss: 0.4740 - precision_11: 0.8480 - recall_11: 0.7776 - val_accuracy: 0.8041 - val_loss: 0.5257 - val_precision_11: 0.8293 - val_recall_11: 0.7763\n",
      "Epoch 7/15\n",
      "\u001b[1m239/239\u001b[0m \u001b[32m━━━━━━━━━━━━━━━━━━━━\u001b[0m\u001b[37m\u001b[0m \u001b[1m7s\u001b[0m 31ms/step - accuracy: 0.8368 - loss: 0.4398 - precision_11: 0.8600 - recall_11: 0.8000 - val_accuracy: 0.8072 - val_loss: 0.5208 - val_precision_11: 0.8279 - val_recall_11: 0.7863\n",
      "Epoch 8/15\n",
      "\u001b[1m239/239\u001b[0m \u001b[32m━━━━━━━━━━━━━━━━━━━━\u001b[0m\u001b[37m\u001b[0m \u001b[1m7s\u001b[0m 31ms/step - accuracy: 0.8432 - loss: 0.4153 - precision_11: 0.8638 - recall_11: 0.8097 - val_accuracy: 0.8030 - val_loss: 0.5230 - val_precision_11: 0.8250 - val_recall_11: 0.7805\n",
      "Epoch 9/15\n",
      "\u001b[1m239/239\u001b[0m \u001b[32m━━━━━━━━━━━━━━━━━━━━\u001b[0m\u001b[37m\u001b[0m \u001b[1m7s\u001b[0m 31ms/step - accuracy: 0.8489 - loss: 0.3883 - precision_11: 0.8688 - recall_11: 0.8211 - val_accuracy: 0.8025 - val_loss: 0.5295 - val_precision_11: 0.8223 - val_recall_11: 0.7779\n",
      "Epoch 10/15\n",
      "\u001b[1m239/239\u001b[0m \u001b[32m━━━━━━━━━━━━━━━━━━━━\u001b[0m\u001b[37m\u001b[0m \u001b[1m7s\u001b[0m 31ms/step - accuracy: 0.8571 - loss: 0.3613 - precision_11: 0.8797 - recall_11: 0.8333 - val_accuracy: 0.8098 - val_loss: 0.5263 - val_precision_11: 0.8237 - val_recall_11: 0.7831\n",
      "Epoch 11/15\n",
      "\u001b[1m239/239\u001b[0m \u001b[32m━━━━━━━━━━━━━━━━━━━━\u001b[0m\u001b[37m\u001b[0m \u001b[1m7s\u001b[0m 31ms/step - accuracy: 0.8666 - loss: 0.3382 - precision_11: 0.8855 - recall_11: 0.8420 - val_accuracy: 0.8088 - val_loss: 0.5193 - val_precision_11: 0.8245 - val_recall_11: 0.7899\n",
      "Epoch 12/15\n",
      "\u001b[1m239/239\u001b[0m \u001b[32m━━━━━━━━━━━━━━━━━━━━\u001b[0m\u001b[37m\u001b[0m \u001b[1m8s\u001b[0m 32ms/step - accuracy: 0.8794 - loss: 0.3100 - precision_11: 0.8953 - recall_11: 0.8567 - val_accuracy: 0.8125 - val_loss: 0.5176 - val_precision_11: 0.8268 - val_recall_11: 0.7952\n",
      "Epoch 13/15\n",
      "\u001b[1m239/239\u001b[0m \u001b[32m━━━━━━━━━━━━━━━━━━━━\u001b[0m\u001b[37m\u001b[0m \u001b[1m7s\u001b[0m 31ms/step - accuracy: 0.8911 - loss: 0.2901 - precision_11: 0.9049 - recall_11: 0.8697 - val_accuracy: 0.8114 - val_loss: 0.5357 - val_precision_11: 0.8273 - val_recall_11: 0.7957\n",
      "Epoch 14/15\n",
      "\u001b[1m239/239\u001b[0m \u001b[32m━━━━━━━━━━━━━━━━━━━━\u001b[0m\u001b[37m\u001b[0m \u001b[1m7s\u001b[0m 31ms/step - accuracy: 0.8923 - loss: 0.2778 - precision_11: 0.9058 - recall_11: 0.8741 - val_accuracy: 0.8041 - val_loss: 0.5379 - val_precision_11: 0.8164 - val_recall_11: 0.7894\n",
      "Epoch 15/15\n",
      "\u001b[1m239/239\u001b[0m \u001b[32m━━━━━━━━━━━━━━━━━━━━\u001b[0m\u001b[37m\u001b[0m \u001b[1m7s\u001b[0m 31ms/step - accuracy: 0.9052 - loss: 0.2549 - precision_11: 0.9184 - recall_11: 0.8895 - val_accuracy: 0.8025 - val_loss: 0.5487 - val_precision_11: 0.8105 - val_recall_11: 0.7889\n",
      "\u001b[1m239/239\u001b[0m \u001b[32m━━━━━━━━━━━━━━━━━━━━\u001b[0m\u001b[37m\u001b[0m \u001b[1m2s\u001b[0m 7ms/step\n",
      "\u001b[1m60/60\u001b[0m \u001b[32m━━━━━━━━━━━━━━━━━━━━\u001b[0m\u001b[37m\u001b[0m \u001b[1m0s\u001b[0m 8ms/step\n",
      " Val F1 Score: 0.7362\n",
      "\n",
      " Testing units=64, dropout=0.4, lr=0.005\n"
     ]
    },
    {
     "name": "stderr",
     "output_type": "stream",
     "text": [
      "100%|██████████| 7630/7630 [00:00<00:00, 27469.76it/s]\n",
      "100%|██████████| 1909/1909 [00:00<00:00, 21239.66it/s]\n"
     ]
    },
    {
     "name": "stdout",
     "output_type": "stream",
     "text": [
      "Epoch 1/15\n",
      "\u001b[1m239/239\u001b[0m \u001b[32m━━━━━━━━━━━━━━━━━━━━\u001b[0m\u001b[37m\u001b[0m \u001b[1m9s\u001b[0m 28ms/step - accuracy: 0.6653 - loss: 0.8075 - precision_12: 0.7198 - recall_12: 0.5656 - val_accuracy: 0.7674 - val_loss: 0.5973 - val_precision_12: 0.8103 - val_recall_12: 0.7072\n",
      "Epoch 2/15\n",
      "\u001b[1m239/239\u001b[0m \u001b[32m━━━━━━━━━━━━━━━━━━━━\u001b[0m\u001b[37m\u001b[0m \u001b[1m7s\u001b[0m 30ms/step - accuracy: 0.7530 - loss: 0.6182 - precision_12: 0.7991 - recall_12: 0.6929 - val_accuracy: 0.7826 - val_loss: 0.5447 - val_precision_12: 0.8179 - val_recall_12: 0.7459\n",
      "Epoch 3/15\n",
      "\u001b[1m239/239\u001b[0m \u001b[32m━━━━━━━━━━━━━━━━━━━━\u001b[0m\u001b[37m\u001b[0m \u001b[1m7s\u001b[0m 31ms/step - accuracy: 0.7891 - loss: 0.5463 - precision_12: 0.8195 - recall_12: 0.7458 - val_accuracy: 0.8078 - val_loss: 0.5118 - val_precision_12: 0.8309 - val_recall_12: 0.7748\n",
      "Epoch 4/15\n",
      "\u001b[1m239/239\u001b[0m \u001b[32m━━━━━━━━━━━━━━━━━━━━\u001b[0m\u001b[37m\u001b[0m \u001b[1m7s\u001b[0m 31ms/step - accuracy: 0.8069 - loss: 0.4906 - precision_12: 0.8358 - recall_12: 0.7719 - val_accuracy: 0.8193 - val_loss: 0.5019 - val_precision_12: 0.8366 - val_recall_12: 0.7968\n",
      "Epoch 5/15\n",
      "\u001b[1m239/239\u001b[0m \u001b[32m━━━━━━━━━━━━━━━━━━━━\u001b[0m\u001b[37m\u001b[0m \u001b[1m7s\u001b[0m 30ms/step - accuracy: 0.8096 - loss: 0.4593 - precision_12: 0.8406 - recall_12: 0.7814 - val_accuracy: 0.8224 - val_loss: 0.5051 - val_precision_12: 0.8374 - val_recall_12: 0.7983\n",
      "Epoch 6/15\n",
      "\u001b[1m239/239\u001b[0m \u001b[32m━━━━━━━━━━━━━━━━━━━━\u001b[0m\u001b[37m\u001b[0m \u001b[1m7s\u001b[0m 31ms/step - accuracy: 0.8290 - loss: 0.4284 - precision_12: 0.8534 - recall_12: 0.8042 - val_accuracy: 0.8182 - val_loss: 0.5137 - val_precision_12: 0.8330 - val_recall_12: 0.7968\n",
      "Epoch 7/15\n",
      "\u001b[1m239/239\u001b[0m \u001b[32m━━━━━━━━━━━━━━━━━━━━\u001b[0m\u001b[37m\u001b[0m \u001b[1m7s\u001b[0m 31ms/step - accuracy: 0.8316 - loss: 0.4172 - precision_12: 0.8507 - recall_12: 0.8017 - val_accuracy: 0.8219 - val_loss: 0.5101 - val_precision_12: 0.8332 - val_recall_12: 0.8057\n",
      "Epoch 8/15\n",
      "\u001b[1m239/239\u001b[0m \u001b[32m━━━━━━━━━━━━━━━━━━━━\u001b[0m\u001b[37m\u001b[0m \u001b[1m7s\u001b[0m 31ms/step - accuracy: 0.8530 - loss: 0.3832 - precision_12: 0.8697 - recall_12: 0.8329 - val_accuracy: 0.8193 - val_loss: 0.5357 - val_precision_12: 0.8341 - val_recall_12: 0.8030\n",
      "Epoch 9/15\n",
      "\u001b[1m239/239\u001b[0m \u001b[32m━━━━━━━━━━━━━━━━━━━━\u001b[0m\u001b[37m\u001b[0m \u001b[1m7s\u001b[0m 31ms/step - accuracy: 0.8475 - loss: 0.3924 - precision_12: 0.8672 - recall_12: 0.8249 - val_accuracy: 0.8140 - val_loss: 0.5089 - val_precision_12: 0.8353 - val_recall_12: 0.7999\n",
      "Epoch 10/15\n",
      "\u001b[1m239/239\u001b[0m \u001b[32m━━━━━━━━━━━━━━━━━━━━\u001b[0m\u001b[37m\u001b[0m \u001b[1m7s\u001b[0m 31ms/step - accuracy: 0.8547 - loss: 0.3593 - precision_12: 0.8724 - recall_12: 0.8374 - val_accuracy: 0.8161 - val_loss: 0.5402 - val_precision_12: 0.8299 - val_recall_12: 0.7973\n",
      "Epoch 11/15\n",
      "\u001b[1m239/239\u001b[0m \u001b[32m━━━━━━━━━━━━━━━━━━━━\u001b[0m\u001b[37m\u001b[0m \u001b[1m7s\u001b[0m 31ms/step - accuracy: 0.8631 - loss: 0.3489 - precision_12: 0.8822 - recall_12: 0.8462 - val_accuracy: 0.8303 - val_loss: 0.5261 - val_precision_12: 0.8411 - val_recall_12: 0.8182\n",
      "Epoch 12/15\n",
      "\u001b[1m239/239\u001b[0m \u001b[32m━━━━━━━━━━━━━━━━━━━━\u001b[0m\u001b[37m\u001b[0m \u001b[1m7s\u001b[0m 31ms/step - accuracy: 0.8659 - loss: 0.3330 - precision_12: 0.8822 - recall_12: 0.8476 - val_accuracy: 0.8219 - val_loss: 0.5682 - val_precision_12: 0.8322 - val_recall_12: 0.8130\n",
      "Epoch 13/15\n",
      "\u001b[1m239/239\u001b[0m \u001b[32m━━━━━━━━━━━━━━━━━━━━\u001b[0m\u001b[37m\u001b[0m \u001b[1m7s\u001b[0m 31ms/step - accuracy: 0.8646 - loss: 0.3497 - precision_12: 0.8804 - recall_12: 0.8521 - val_accuracy: 0.8229 - val_loss: 0.5450 - val_precision_12: 0.8350 - val_recall_12: 0.8057\n",
      "Epoch 14/15\n",
      "\u001b[1m239/239\u001b[0m \u001b[32m━━━━━━━━━━━━━━━━━━━━\u001b[0m\u001b[37m\u001b[0m \u001b[1m7s\u001b[0m 30ms/step - accuracy: 0.8742 - loss: 0.3262 - precision_12: 0.8856 - recall_12: 0.8581 - val_accuracy: 0.8203 - val_loss: 0.5313 - val_precision_12: 0.8325 - val_recall_12: 0.8072\n",
      "Epoch 15/15\n",
      "\u001b[1m239/239\u001b[0m \u001b[32m━━━━━━━━━━━━━━━━━━━━\u001b[0m\u001b[37m\u001b[0m \u001b[1m7s\u001b[0m 30ms/step - accuracy: 0.8736 - loss: 0.3287 - precision_12: 0.8873 - recall_12: 0.8594 - val_accuracy: 0.8140 - val_loss: 0.5587 - val_precision_12: 0.8252 - val_recall_12: 0.8062\n",
      "\u001b[1m239/239\u001b[0m \u001b[32m━━━━━━━━━━━━━━━━━━━━\u001b[0m\u001b[37m\u001b[0m \u001b[1m2s\u001b[0m 7ms/step\n",
      "\u001b[1m60/60\u001b[0m \u001b[32m━━━━━━━━━━━━━━━━━━━━\u001b[0m\u001b[37m\u001b[0m \u001b[1m0s\u001b[0m 7ms/step\n",
      " Val F1 Score: 0.7442\n",
      "\n",
      " Testing units=64, dropout=0.4, lr=0.001\n"
     ]
    },
    {
     "name": "stderr",
     "output_type": "stream",
     "text": [
      "100%|██████████| 7630/7630 [00:00<00:00, 21540.71it/s]\n",
      "100%|██████████| 1909/1909 [00:00<00:00, 22338.45it/s]\n"
     ]
    },
    {
     "name": "stdout",
     "output_type": "stream",
     "text": [
      "Epoch 1/15\n",
      "\u001b[1m239/239\u001b[0m \u001b[32m━━━━━━━━━━━━━━━━━━━━\u001b[0m\u001b[37m\u001b[0m \u001b[1m9s\u001b[0m 28ms/step - accuracy: 0.6330 - loss: 0.8639 - precision_13: 0.6964 - recall_13: 0.5171 - val_accuracy: 0.7349 - val_loss: 0.6673 - val_precision_13: 0.7905 - val_recall_13: 0.6543\n",
      "Epoch 2/15\n",
      "\u001b[1m239/239\u001b[0m \u001b[32m━━━━━━━━━━━━━━━━━━━━\u001b[0m\u001b[37m\u001b[0m \u001b[1m7s\u001b[0m 30ms/step - accuracy: 0.7147 - loss: 0.6903 - precision_13: 0.7766 - recall_13: 0.6269 - val_accuracy: 0.7554 - val_loss: 0.6204 - val_precision_13: 0.7959 - val_recall_13: 0.6988\n",
      "Epoch 3/15\n",
      "\u001b[1m239/239\u001b[0m \u001b[32m━━━━━━━━━━━━━━━━━━━━\u001b[0m\u001b[37m\u001b[0m \u001b[1m7s\u001b[0m 30ms/step - accuracy: 0.7412 - loss: 0.6404 - precision_13: 0.7888 - recall_13: 0.6773 - val_accuracy: 0.7737 - val_loss: 0.5808 - val_precision_13: 0.8170 - val_recall_13: 0.7271\n",
      "Epoch 4/15\n",
      "\u001b[1m239/239\u001b[0m \u001b[32m━━━━━━━━━━━━━━━━━━━━\u001b[0m\u001b[37m\u001b[0m \u001b[1m7s\u001b[0m 30ms/step - accuracy: 0.7575 - loss: 0.5948 - precision_13: 0.8069 - recall_13: 0.7027 - val_accuracy: 0.7852 - val_loss: 0.5585 - val_precision_13: 0.8201 - val_recall_13: 0.7475\n",
      "Epoch 5/15\n",
      "\u001b[1m239/239\u001b[0m \u001b[32m━━━━━━━━━━━━━━━━━━━━\u001b[0m\u001b[37m\u001b[0m \u001b[1m7s\u001b[0m 30ms/step - accuracy: 0.7732 - loss: 0.5582 - precision_13: 0.8135 - recall_13: 0.7203 - val_accuracy: 0.7920 - val_loss: 0.5420 - val_precision_13: 0.8244 - val_recall_13: 0.7548\n",
      "Epoch 6/15\n",
      "\u001b[1m239/239\u001b[0m \u001b[32m━━━━━━━━━━━━━━━━━━━━\u001b[0m\u001b[37m\u001b[0m \u001b[1m7s\u001b[0m 30ms/step - accuracy: 0.7786 - loss: 0.5475 - precision_13: 0.8210 - recall_13: 0.7326 - val_accuracy: 0.7988 - val_loss: 0.5299 - val_precision_13: 0.8300 - val_recall_13: 0.7622\n",
      "Epoch 7/15\n",
      "\u001b[1m239/239\u001b[0m \u001b[32m━━━━━━━━━━━━━━━━━━━━\u001b[0m\u001b[37m\u001b[0m \u001b[1m7s\u001b[0m 30ms/step - accuracy: 0.7962 - loss: 0.5136 - precision_13: 0.8318 - recall_13: 0.7548 - val_accuracy: 0.7983 - val_loss: 0.5323 - val_precision_13: 0.8211 - val_recall_13: 0.7695\n",
      "Epoch 8/15\n",
      "\u001b[1m239/239\u001b[0m \u001b[32m━━━━━━━━━━━━━━━━━━━━\u001b[0m\u001b[37m\u001b[0m \u001b[1m7s\u001b[0m 30ms/step - accuracy: 0.7943 - loss: 0.5034 - precision_13: 0.8278 - recall_13: 0.7554 - val_accuracy: 0.8009 - val_loss: 0.5205 - val_precision_13: 0.8261 - val_recall_13: 0.7716\n",
      "Epoch 9/15\n",
      "\u001b[1m239/239\u001b[0m \u001b[32m━━━━━━━━━━━━━━━━━━━━\u001b[0m\u001b[37m\u001b[0m \u001b[1m7s\u001b[0m 30ms/step - accuracy: 0.8131 - loss: 0.4662 - precision_13: 0.8408 - recall_13: 0.7763 - val_accuracy: 0.8114 - val_loss: 0.5097 - val_precision_13: 0.8316 - val_recall_13: 0.7758\n",
      "Epoch 10/15\n",
      "\u001b[1m239/239\u001b[0m \u001b[32m━━━━━━━━━━━━━━━━━━━━\u001b[0m\u001b[37m\u001b[0m \u001b[1m7s\u001b[0m 30ms/step - accuracy: 0.8257 - loss: 0.4403 - precision_13: 0.8498 - recall_13: 0.7940 - val_accuracy: 0.8140 - val_loss: 0.5040 - val_precision_13: 0.8352 - val_recall_13: 0.7858\n",
      "Epoch 11/15\n",
      "\u001b[1m239/239\u001b[0m \u001b[32m━━━━━━━━━━━━━━━━━━━━\u001b[0m\u001b[37m\u001b[0m \u001b[1m7s\u001b[0m 30ms/step - accuracy: 0.8313 - loss: 0.4378 - precision_13: 0.8590 - recall_13: 0.7975 - val_accuracy: 0.8146 - val_loss: 0.5018 - val_precision_13: 0.8314 - val_recall_13: 0.7878\n",
      "Epoch 12/15\n",
      "\u001b[1m239/239\u001b[0m \u001b[32m━━━━━━━━━━━━━━━━━━━━\u001b[0m\u001b[37m\u001b[0m \u001b[1m7s\u001b[0m 30ms/step - accuracy: 0.8395 - loss: 0.4077 - precision_13: 0.8680 - recall_13: 0.8085 - val_accuracy: 0.8093 - val_loss: 0.5062 - val_precision_13: 0.8324 - val_recall_13: 0.7858\n",
      "Epoch 13/15\n",
      "\u001b[1m239/239\u001b[0m \u001b[32m━━━━━━━━━━━━━━━━━━━━\u001b[0m\u001b[37m\u001b[0m \u001b[1m7s\u001b[0m 30ms/step - accuracy: 0.8462 - loss: 0.3957 - precision_13: 0.8664 - recall_13: 0.8174 - val_accuracy: 0.8156 - val_loss: 0.4982 - val_precision_13: 0.8337 - val_recall_13: 0.7931\n",
      "Epoch 14/15\n",
      "\u001b[1m239/239\u001b[0m \u001b[32m━━━━━━━━━━━━━━━━━━━━\u001b[0m\u001b[37m\u001b[0m \u001b[1m7s\u001b[0m 30ms/step - accuracy: 0.8494 - loss: 0.3883 - precision_13: 0.8690 - recall_13: 0.8255 - val_accuracy: 0.8114 - val_loss: 0.5068 - val_precision_13: 0.8323 - val_recall_13: 0.7931\n",
      "Epoch 15/15\n",
      "\u001b[1m239/239\u001b[0m \u001b[32m━━━━━━━━━━━━━━━━━━━━\u001b[0m\u001b[37m\u001b[0m \u001b[1m7s\u001b[0m 30ms/step - accuracy: 0.8592 - loss: 0.3632 - precision_13: 0.8795 - recall_13: 0.8357 - val_accuracy: 0.8146 - val_loss: 0.5052 - val_precision_13: 0.8375 - val_recall_13: 0.7962\n",
      "\u001b[1m239/239\u001b[0m \u001b[32m━━━━━━━━━━━━━━━━━━━━\u001b[0m\u001b[37m\u001b[0m \u001b[1m2s\u001b[0m 7ms/step\n",
      "\u001b[1m60/60\u001b[0m \u001b[32m━━━━━━━━━━━━━━━━━━━━\u001b[0m\u001b[37m\u001b[0m \u001b[1m0s\u001b[0m 7ms/step\n",
      " Val F1 Score: 0.7407\n",
      "\n",
      " Testing units=128, dropout=0.3, lr=0.005\n"
     ]
    },
    {
     "name": "stderr",
     "output_type": "stream",
     "text": [
      "100%|██████████| 7630/7630 [00:00<00:00, 21835.88it/s]\n",
      "100%|██████████| 1909/1909 [00:00<00:00, 22049.93it/s]\n"
     ]
    },
    {
     "name": "stdout",
     "output_type": "stream",
     "text": [
      "Epoch 1/15\n",
      "\u001b[1m239/239\u001b[0m \u001b[32m━━━━━━━━━━━━━━━━━━━━\u001b[0m\u001b[37m\u001b[0m \u001b[1m18s\u001b[0m 60ms/step - accuracy: 0.6835 - loss: 0.7778 - precision_14: 0.7419 - recall_14: 0.5871 - val_accuracy: 0.7784 - val_loss: 0.5688 - val_precision_14: 0.8212 - val_recall_14: 0.7339\n",
      "Epoch 2/15\n",
      "\u001b[1m239/239\u001b[0m \u001b[32m━━━━━━━━━━━━━━━━━━━━\u001b[0m\u001b[37m\u001b[0m \u001b[1m16s\u001b[0m 66ms/step - accuracy: 0.7781 - loss: 0.5479 - precision_14: 0.8148 - recall_14: 0.7316 - val_accuracy: 0.8025 - val_loss: 0.5285 - val_precision_14: 0.8241 - val_recall_14: 0.7632\n",
      "Epoch 3/15\n",
      "\u001b[1m239/239\u001b[0m \u001b[32m━━━━━━━━━━━━━━━━━━━━\u001b[0m\u001b[37m\u001b[0m \u001b[1m16s\u001b[0m 67ms/step - accuracy: 0.8199 - loss: 0.4620 - precision_14: 0.8472 - recall_14: 0.7805 - val_accuracy: 0.7988 - val_loss: 0.5506 - val_precision_14: 0.8166 - val_recall_14: 0.7816\n",
      "Epoch 4/15\n",
      "\u001b[1m239/239\u001b[0m \u001b[32m━━━━━━━━━━━━━━━━━━━━\u001b[0m\u001b[37m\u001b[0m \u001b[1m16s\u001b[0m 66ms/step - accuracy: 0.8545 - loss: 0.3784 - precision_14: 0.8726 - recall_14: 0.8297 - val_accuracy: 0.8046 - val_loss: 0.5588 - val_precision_14: 0.8184 - val_recall_14: 0.7884\n",
      "Epoch 5/15\n",
      "\u001b[1m239/239\u001b[0m \u001b[32m━━━━━━━━━━━━━━━━━━━━\u001b[0m\u001b[37m\u001b[0m \u001b[1m15s\u001b[0m 65ms/step - accuracy: 0.8713 - loss: 0.3221 - precision_14: 0.8864 - recall_14: 0.8532 - val_accuracy: 0.8098 - val_loss: 0.5900 - val_precision_14: 0.8181 - val_recall_14: 0.7962\n",
      "Epoch 6/15\n",
      "\u001b[1m239/239\u001b[0m \u001b[32m━━━━━━━━━━━━━━━━━━━━\u001b[0m\u001b[37m\u001b[0m \u001b[1m17s\u001b[0m 71ms/step - accuracy: 0.8966 - loss: 0.2703 - precision_14: 0.9118 - recall_14: 0.8841 - val_accuracy: 0.8161 - val_loss: 0.6144 - val_precision_14: 0.8216 - val_recall_14: 0.8057\n",
      "Epoch 7/15\n",
      "\u001b[1m239/239\u001b[0m \u001b[32m━━━━━━━━━━━━━━━━━━━━\u001b[0m\u001b[37m\u001b[0m \u001b[1m19s\u001b[0m 80ms/step - accuracy: 0.9060 - loss: 0.2442 - precision_14: 0.9159 - recall_14: 0.8953 - val_accuracy: 0.8140 - val_loss: 0.6291 - val_precision_14: 0.8250 - val_recall_14: 0.8025\n",
      "Epoch 8/15\n",
      "\u001b[1m239/239\u001b[0m \u001b[32m━━━━━━━━━━━━━━━━━━━━\u001b[0m\u001b[37m\u001b[0m \u001b[1m19s\u001b[0m 78ms/step - accuracy: 0.9208 - loss: 0.2152 - precision_14: 0.9280 - recall_14: 0.9122 - val_accuracy: 0.8030 - val_loss: 0.6593 - val_precision_14: 0.8161 - val_recall_14: 0.7926\n",
      "Epoch 9/15\n",
      "\u001b[1m239/239\u001b[0m \u001b[32m━━━━━━━━━━━━━━━━━━━━\u001b[0m\u001b[37m\u001b[0m \u001b[1m18s\u001b[0m 77ms/step - accuracy: 0.9178 - loss: 0.2093 - precision_14: 0.9259 - recall_14: 0.9089 - val_accuracy: 0.8098 - val_loss: 0.6606 - val_precision_14: 0.8195 - val_recall_14: 0.7994\n",
      "Epoch 10/15\n",
      "\u001b[1m239/239\u001b[0m \u001b[32m━━━━━━━━━━━━━━━━━━━━\u001b[0m\u001b[37m\u001b[0m \u001b[1m18s\u001b[0m 74ms/step - accuracy: 0.9336 - loss: 0.1899 - precision_14: 0.9378 - recall_14: 0.9251 - val_accuracy: 0.8088 - val_loss: 0.7043 - val_precision_14: 0.8127 - val_recall_14: 0.7978\n",
      "Epoch 11/15\n",
      "\u001b[1m239/239\u001b[0m \u001b[32m━━━━━━━━━━━━━━━━━━━━\u001b[0m\u001b[37m\u001b[0m \u001b[1m17s\u001b[0m 72ms/step - accuracy: 0.9346 - loss: 0.1672 - precision_14: 0.9373 - recall_14: 0.9287 - val_accuracy: 0.8224 - val_loss: 0.7171 - val_precision_14: 0.8249 - val_recall_14: 0.8119\n",
      "Epoch 12/15\n",
      "\u001b[1m239/239\u001b[0m \u001b[32m━━━━━━━━━━━━━━━━━━━━\u001b[0m\u001b[37m\u001b[0m \u001b[1m17s\u001b[0m 71ms/step - accuracy: 0.9459 - loss: 0.1549 - precision_14: 0.9500 - recall_14: 0.9392 - val_accuracy: 0.8119 - val_loss: 0.7671 - val_precision_14: 0.8190 - val_recall_14: 0.8036\n",
      "Epoch 13/15\n",
      "\u001b[1m239/239\u001b[0m \u001b[32m━━━━━━━━━━━━━━━━━━━━\u001b[0m\u001b[37m\u001b[0m \u001b[1m17s\u001b[0m 70ms/step - accuracy: 0.9337 - loss: 0.1749 - precision_14: 0.9366 - recall_14: 0.9267 - val_accuracy: 0.8135 - val_loss: 0.7721 - val_precision_14: 0.8203 - val_recall_14: 0.8109\n",
      "Epoch 14/15\n",
      "\u001b[1m239/239\u001b[0m \u001b[32m━━━━━━━━━━━━━━━━━━━━\u001b[0m\u001b[37m\u001b[0m \u001b[1m17s\u001b[0m 69ms/step - accuracy: 0.9426 - loss: 0.1498 - precision_14: 0.9451 - recall_14: 0.9392 - val_accuracy: 0.8161 - val_loss: 0.7277 - val_precision_14: 0.8238 - val_recall_14: 0.8130\n",
      "Epoch 15/15\n",
      "\u001b[1m239/239\u001b[0m \u001b[32m━━━━━━━━━━━━━━━━━━━━\u001b[0m\u001b[37m\u001b[0m \u001b[1m17s\u001b[0m 69ms/step - accuracy: 0.9439 - loss: 0.1514 - precision_14: 0.9462 - recall_14: 0.9415 - val_accuracy: 0.8156 - val_loss: 0.7688 - val_precision_14: 0.8209 - val_recall_14: 0.8114\n",
      "\u001b[1m239/239\u001b[0m \u001b[32m━━━━━━━━━━━━━━━━━━━━\u001b[0m\u001b[37m\u001b[0m \u001b[1m4s\u001b[0m 15ms/step\n",
      "\u001b[1m60/60\u001b[0m \u001b[32m━━━━━━━━━━━━━━━━━━━━\u001b[0m\u001b[37m\u001b[0m \u001b[1m1s\u001b[0m 16ms/step\n",
      " Val F1 Score: 0.7427\n",
      "\n",
      " Testing units=128, dropout=0.3, lr=0.001\n"
     ]
    },
    {
     "name": "stderr",
     "output_type": "stream",
     "text": [
      "100%|██████████| 7630/7630 [00:00<00:00, 24970.71it/s]\n",
      "100%|██████████| 1909/1909 [00:00<00:00, 21402.03it/s]\n"
     ]
    },
    {
     "name": "stdout",
     "output_type": "stream",
     "text": [
      "Epoch 1/15\n",
      "\u001b[1m239/239\u001b[0m \u001b[32m━━━━━━━━━━━━━━━━━━━━\u001b[0m\u001b[37m\u001b[0m \u001b[1m17s\u001b[0m 63ms/step - accuracy: 0.6762 - loss: 0.7993 - precision_15: 0.7285 - recall_15: 0.5626 - val_accuracy: 0.7496 - val_loss: 0.6312 - val_precision_15: 0.7901 - val_recall_15: 0.6941\n",
      "Epoch 2/15\n",
      "\u001b[1m239/239\u001b[0m \u001b[32m━━━━━━━━━━━━━━━━━━━━\u001b[0m\u001b[37m\u001b[0m \u001b[1m16s\u001b[0m 69ms/step - accuracy: 0.7424 - loss: 0.6336 - precision_15: 0.7952 - recall_15: 0.6747 - val_accuracy: 0.7742 - val_loss: 0.5805 - val_precision_15: 0.8087 - val_recall_15: 0.7307\n",
      "Epoch 3/15\n",
      "\u001b[1m239/239\u001b[0m \u001b[32m━━━━━━━━━━━━━━━━━━━━\u001b[0m\u001b[37m\u001b[0m \u001b[1m17s\u001b[0m 70ms/step - accuracy: 0.7747 - loss: 0.5715 - precision_15: 0.8134 - recall_15: 0.7255 - val_accuracy: 0.7884 - val_loss: 0.5517 - val_precision_15: 0.8137 - val_recall_15: 0.7507\n",
      "Epoch 4/15\n",
      "\u001b[1m239/239\u001b[0m \u001b[32m━━━━━━━━━━━━━━━━━━━━\u001b[0m\u001b[37m\u001b[0m \u001b[1m17s\u001b[0m 70ms/step - accuracy: 0.7960 - loss: 0.5175 - precision_15: 0.8256 - recall_15: 0.7562 - val_accuracy: 0.8020 - val_loss: 0.5340 - val_precision_15: 0.8275 - val_recall_15: 0.7590\n",
      "Epoch 5/15\n",
      "\u001b[1m239/239\u001b[0m \u001b[32m━━━━━━━━━━━━━━━━━━━━\u001b[0m\u001b[37m\u001b[0m \u001b[1m17s\u001b[0m 70ms/step - accuracy: 0.8109 - loss: 0.4718 - precision_15: 0.8402 - recall_15: 0.7695 - val_accuracy: 0.8151 - val_loss: 0.5234 - val_precision_15: 0.8345 - val_recall_15: 0.7763\n",
      "Epoch 6/15\n",
      "\u001b[1m239/239\u001b[0m \u001b[32m━━━━━━━━━━━━━━━━━━━━\u001b[0m\u001b[37m\u001b[0m \u001b[1m17s\u001b[0m 69ms/step - accuracy: 0.8281 - loss: 0.4434 - precision_15: 0.8554 - recall_15: 0.7947 - val_accuracy: 0.8098 - val_loss: 0.5110 - val_precision_15: 0.8351 - val_recall_15: 0.7800\n",
      "Epoch 7/15\n",
      "\u001b[1m239/239\u001b[0m \u001b[32m━━━━━━━━━━━━━━━━━━━━\u001b[0m\u001b[37m\u001b[0m \u001b[1m17s\u001b[0m 70ms/step - accuracy: 0.8457 - loss: 0.3858 - precision_15: 0.8675 - recall_15: 0.8206 - val_accuracy: 0.8172 - val_loss: 0.5156 - val_precision_15: 0.8290 - val_recall_15: 0.7899\n",
      "Epoch 8/15\n",
      "\u001b[1m239/239\u001b[0m \u001b[32m━━━━━━━━━━━━━━━━━━━━\u001b[0m\u001b[37m\u001b[0m \u001b[1m17s\u001b[0m 71ms/step - accuracy: 0.8658 - loss: 0.3599 - precision_15: 0.8833 - recall_15: 0.8402 - val_accuracy: 0.8125 - val_loss: 0.5197 - val_precision_15: 0.8269 - val_recall_15: 0.7858\n",
      "Epoch 9/15\n",
      "\u001b[1m239/239\u001b[0m \u001b[32m━━━━━━━━━━━━━━━━━━━━\u001b[0m\u001b[37m\u001b[0m \u001b[1m17s\u001b[0m 71ms/step - accuracy: 0.8750 - loss: 0.3198 - precision_15: 0.8959 - recall_15: 0.8555 - val_accuracy: 0.8156 - val_loss: 0.5202 - val_precision_15: 0.8317 - val_recall_15: 0.7947\n",
      "Epoch 10/15\n",
      "\u001b[1m239/239\u001b[0m \u001b[32m━━━━━━━━━━━━━━━━━━━━\u001b[0m\u001b[37m\u001b[0m \u001b[1m17s\u001b[0m 71ms/step - accuracy: 0.8970 - loss: 0.2800 - precision_15: 0.9100 - recall_15: 0.8792 - val_accuracy: 0.8224 - val_loss: 0.5295 - val_precision_15: 0.8347 - val_recall_15: 0.8041\n",
      "Epoch 11/15\n",
      "\u001b[1m239/239\u001b[0m \u001b[32m━━━━━━━━━━━━━━━━━━━━\u001b[0m\u001b[37m\u001b[0m \u001b[1m17s\u001b[0m 71ms/step - accuracy: 0.9043 - loss: 0.2477 - precision_15: 0.9188 - recall_15: 0.8901 - val_accuracy: 0.8098 - val_loss: 0.5507 - val_precision_15: 0.8223 - val_recall_15: 0.7926\n",
      "Epoch 12/15\n",
      "\u001b[1m239/239\u001b[0m \u001b[32m━━━━━━━━━━━━━━━━━━━━\u001b[0m\u001b[37m\u001b[0m \u001b[1m17s\u001b[0m 71ms/step - accuracy: 0.9111 - loss: 0.2335 - precision_15: 0.9216 - recall_15: 0.8954 - val_accuracy: 0.8104 - val_loss: 0.5694 - val_precision_15: 0.8249 - val_recall_15: 0.7973\n",
      "Epoch 13/15\n",
      "\u001b[1m239/239\u001b[0m \u001b[32m━━━━━━━━━━━━━━━━━━━━\u001b[0m\u001b[37m\u001b[0m \u001b[1m17s\u001b[0m 71ms/step - accuracy: 0.9304 - loss: 0.1873 - precision_15: 0.9414 - recall_15: 0.9198 - val_accuracy: 0.8114 - val_loss: 0.5913 - val_precision_15: 0.8251 - val_recall_15: 0.7957\n",
      "Epoch 14/15\n",
      "\u001b[1m239/239\u001b[0m \u001b[32m━━━━━━━━━━━━━━━━━━━━\u001b[0m\u001b[37m\u001b[0m \u001b[1m17s\u001b[0m 72ms/step - accuracy: 0.9338 - loss: 0.1787 - precision_15: 0.9407 - recall_15: 0.9253 - val_accuracy: 0.8214 - val_loss: 0.5827 - val_precision_15: 0.8288 - val_recall_15: 0.8067\n",
      "Epoch 15/15\n",
      "\u001b[1m239/239\u001b[0m \u001b[32m━━━━━━━━━━━━━━━━━━━━\u001b[0m\u001b[37m\u001b[0m \u001b[1m17s\u001b[0m 71ms/step - accuracy: 0.9407 - loss: 0.1618 - precision_15: 0.9471 - recall_15: 0.9306 - val_accuracy: 0.8130 - val_loss: 0.6033 - val_precision_15: 0.8231 - val_recall_15: 0.8020\n",
      "\u001b[1m239/239\u001b[0m \u001b[32m━━━━━━━━━━━━━━━━━━━━\u001b[0m\u001b[37m\u001b[0m \u001b[1m4s\u001b[0m 17ms/step\n",
      "\u001b[1m60/60\u001b[0m \u001b[32m━━━━━━━━━━━━━━━━━━━━\u001b[0m\u001b[37m\u001b[0m \u001b[1m1s\u001b[0m 16ms/step\n",
      " Val F1 Score: 0.7410\n",
      "\n",
      " Testing units=128, dropout=0.4, lr=0.005\n"
     ]
    },
    {
     "name": "stderr",
     "output_type": "stream",
     "text": [
      "100%|██████████| 7630/7630 [00:00<00:00, 20678.62it/s]\n",
      "100%|██████████| 1909/1909 [00:00<00:00, 21271.14it/s]\n"
     ]
    },
    {
     "name": "stdout",
     "output_type": "stream",
     "text": [
      "Epoch 1/15\n",
      "\u001b[1m239/239\u001b[0m \u001b[32m━━━━━━━━━━━━━━━━━━━━\u001b[0m\u001b[37m\u001b[0m \u001b[1m18s\u001b[0m 65ms/step - accuracy: 0.6729 - loss: 0.7918 - precision_16: 0.7320 - recall_16: 0.5814 - val_accuracy: 0.7648 - val_loss: 0.5986 - val_precision_16: 0.8015 - val_recall_16: 0.7192\n",
      "Epoch 2/15\n",
      "\u001b[1m239/239\u001b[0m \u001b[32m━━━━━━━━━━━━━━━━━━━━\u001b[0m\u001b[37m\u001b[0m \u001b[1m17s\u001b[0m 72ms/step - accuracy: 0.7634 - loss: 0.5990 - precision_16: 0.8018 - recall_16: 0.7065 - val_accuracy: 0.7915 - val_loss: 0.5476 - val_precision_16: 0.8182 - val_recall_16: 0.7522\n",
      "Epoch 3/15\n",
      "\u001b[1m239/239\u001b[0m \u001b[32m━━━━━━━━━━━━━━━━━━━━\u001b[0m\u001b[37m\u001b[0m \u001b[1m17s\u001b[0m 72ms/step - accuracy: 0.7941 - loss: 0.5240 - precision_16: 0.8249 - recall_16: 0.7561 - val_accuracy: 0.8041 - val_loss: 0.5287 - val_precision_16: 0.8250 - val_recall_16: 0.7753\n",
      "Epoch 4/15\n",
      "\u001b[1m239/239\u001b[0m \u001b[32m━━━━━━━━━━━━━━━━━━━━\u001b[0m\u001b[37m\u001b[0m \u001b[1m17s\u001b[0m 72ms/step - accuracy: 0.8146 - loss: 0.4734 - precision_16: 0.8438 - recall_16: 0.7776 - val_accuracy: 0.8146 - val_loss: 0.5247 - val_precision_16: 0.8281 - val_recall_16: 0.7899\n",
      "Epoch 5/15\n",
      "\u001b[1m239/239\u001b[0m \u001b[32m━━━━━━━━━━━━━━━━━━━━\u001b[0m\u001b[37m\u001b[0m \u001b[1m17s\u001b[0m 72ms/step - accuracy: 0.8443 - loss: 0.4044 - precision_16: 0.8627 - recall_16: 0.8177 - val_accuracy: 0.8093 - val_loss: 0.5383 - val_precision_16: 0.8306 - val_recall_16: 0.7831\n",
      "Epoch 6/15\n",
      "\u001b[1m239/239\u001b[0m \u001b[32m━━━━━━━━━━━━━━━━━━━━\u001b[0m\u001b[37m\u001b[0m \u001b[1m17s\u001b[0m 73ms/step - accuracy: 0.8405 - loss: 0.3947 - precision_16: 0.8600 - recall_16: 0.8182 - val_accuracy: 0.8109 - val_loss: 0.5346 - val_precision_16: 0.8272 - val_recall_16: 0.7800\n",
      "Epoch 7/15\n",
      "\u001b[1m239/239\u001b[0m \u001b[32m━━━━━━━━━━━━━━━━━━━━\u001b[0m\u001b[37m\u001b[0m \u001b[1m17s\u001b[0m 72ms/step - accuracy: 0.8634 - loss: 0.3602 - precision_16: 0.8816 - recall_16: 0.8414 - val_accuracy: 0.8161 - val_loss: 0.5422 - val_precision_16: 0.8352 - val_recall_16: 0.7994\n",
      "Epoch 8/15\n",
      "\u001b[1m239/239\u001b[0m \u001b[32m━━━━━━━━━━━━━━━━━━━━\u001b[0m\u001b[37m\u001b[0m \u001b[1m17s\u001b[0m 72ms/step - accuracy: 0.8584 - loss: 0.3529 - precision_16: 0.8756 - recall_16: 0.8427 - val_accuracy: 0.8072 - val_loss: 0.5522 - val_precision_16: 0.8207 - val_recall_16: 0.7889\n",
      "Epoch 9/15\n",
      "\u001b[1m239/239\u001b[0m \u001b[32m━━━━━━━━━━━━━━━━━━━━\u001b[0m\u001b[37m\u001b[0m \u001b[1m17s\u001b[0m 72ms/step - accuracy: 0.8685 - loss: 0.3305 - precision_16: 0.8839 - recall_16: 0.8523 - val_accuracy: 0.8214 - val_loss: 0.5601 - val_precision_16: 0.8293 - val_recall_16: 0.8067\n",
      "Epoch 10/15\n",
      "\u001b[1m239/239\u001b[0m \u001b[32m━━━━━━━━━━━━━━━━━━━━\u001b[0m\u001b[37m\u001b[0m \u001b[1m17s\u001b[0m 73ms/step - accuracy: 0.8817 - loss: 0.3059 - precision_16: 0.8908 - recall_16: 0.8660 - val_accuracy: 0.8146 - val_loss: 0.5831 - val_precision_16: 0.8263 - val_recall_16: 0.8051\n",
      "Epoch 11/15\n",
      "\u001b[1m239/239\u001b[0m \u001b[32m━━━━━━━━━━━━━━━━━━━━\u001b[0m\u001b[37m\u001b[0m \u001b[1m17s\u001b[0m 72ms/step - accuracy: 0.8865 - loss: 0.2987 - precision_16: 0.8971 - recall_16: 0.8751 - val_accuracy: 0.8030 - val_loss: 0.5763 - val_precision_16: 0.8216 - val_recall_16: 0.7915\n",
      "Epoch 12/15\n",
      "\u001b[1m239/239\u001b[0m \u001b[32m━━━━━━━━━━━━━━━━━━━━\u001b[0m\u001b[37m\u001b[0m \u001b[1m17s\u001b[0m 72ms/step - accuracy: 0.8829 - loss: 0.3009 - precision_16: 0.8978 - recall_16: 0.8700 - val_accuracy: 0.8224 - val_loss: 0.6097 - val_precision_16: 0.8335 - val_recall_16: 0.8104\n",
      "Epoch 13/15\n",
      "\u001b[1m239/239\u001b[0m \u001b[32m━━━━━━━━━━━━━━━━━━━━\u001b[0m\u001b[37m\u001b[0m \u001b[1m17s\u001b[0m 73ms/step - accuracy: 0.8996 - loss: 0.2669 - precision_16: 0.9076 - recall_16: 0.8885 - val_accuracy: 0.8156 - val_loss: 0.6104 - val_precision_16: 0.8291 - val_recall_16: 0.8057\n",
      "Epoch 14/15\n",
      "\u001b[1m239/239\u001b[0m \u001b[32m━━━━━━━━━━━━━━━━━━━━\u001b[0m\u001b[37m\u001b[0m \u001b[1m17s\u001b[0m 72ms/step - accuracy: 0.8940 - loss: 0.2746 - precision_16: 0.9053 - recall_16: 0.8858 - val_accuracy: 0.8119 - val_loss: 0.6171 - val_precision_16: 0.8247 - val_recall_16: 0.8009\n",
      "Epoch 15/15\n",
      "\u001b[1m239/239\u001b[0m \u001b[32m━━━━━━━━━━━━━━━━━━━━\u001b[0m\u001b[37m\u001b[0m \u001b[1m17s\u001b[0m 72ms/step - accuracy: 0.8940 - loss: 0.2781 - precision_16: 0.9027 - recall_16: 0.8832 - val_accuracy: 0.8135 - val_loss: 0.6038 - val_precision_16: 0.8293 - val_recall_16: 0.8015\n",
      "\u001b[1m239/239\u001b[0m \u001b[32m━━━━━━━━━━━━━━━━━━━━\u001b[0m\u001b[37m\u001b[0m \u001b[1m4s\u001b[0m 16ms/step\n",
      "\u001b[1m60/60\u001b[0m \u001b[32m━━━━━━━━━━━━━━━━━━━━\u001b[0m\u001b[37m\u001b[0m \u001b[1m1s\u001b[0m 15ms/step\n",
      " Val F1 Score: 0.7477\n",
      "\n",
      " Testing units=128, dropout=0.4, lr=0.001\n"
     ]
    },
    {
     "name": "stderr",
     "output_type": "stream",
     "text": [
      "100%|██████████| 7630/7630 [00:00<00:00, 21230.64it/s]\n",
      "100%|██████████| 1909/1909 [00:00<00:00, 21366.85it/s]\n"
     ]
    },
    {
     "name": "stdout",
     "output_type": "stream",
     "text": [
      "Epoch 1/15\n",
      "\u001b[1m239/239\u001b[0m \u001b[32m━━━━━━━━━━━━━━━━━━━━\u001b[0m\u001b[37m\u001b[0m \u001b[1m18s\u001b[0m 65ms/step - accuracy: 0.6643 - loss: 0.8175 - precision_17: 0.7203 - recall_17: 0.5565 - val_accuracy: 0.7376 - val_loss: 0.6615 - val_precision_17: 0.7747 - val_recall_17: 0.6700\n",
      "Epoch 2/15\n",
      "\u001b[1m239/239\u001b[0m \u001b[32m━━━━━━━━━━━━━━━━━━━━\u001b[0m\u001b[37m\u001b[0m \u001b[1m17s\u001b[0m 71ms/step - accuracy: 0.7279 - loss: 0.6677 - precision_17: 0.7829 - recall_17: 0.6551 - val_accuracy: 0.7606 - val_loss: 0.6079 - val_precision_17: 0.7992 - val_recall_17: 0.7108\n",
      "Epoch 3/15\n",
      "\u001b[1m239/239\u001b[0m \u001b[32m━━━━━━━━━━━━━━━━━━━━\u001b[0m\u001b[37m\u001b[0m \u001b[1m17s\u001b[0m 72ms/step - accuracy: 0.7591 - loss: 0.6143 - precision_17: 0.8045 - recall_17: 0.6980 - val_accuracy: 0.7768 - val_loss: 0.5691 - val_precision_17: 0.8149 - val_recall_17: 0.7355\n",
      "Epoch 4/15\n",
      "\u001b[1m239/239\u001b[0m \u001b[32m━━━━━━━━━━━━━━━━━━━━\u001b[0m\u001b[37m\u001b[0m \u001b[1m17s\u001b[0m 73ms/step - accuracy: 0.7649 - loss: 0.5800 - precision_17: 0.8027 - recall_17: 0.7147 - val_accuracy: 0.7899 - val_loss: 0.5554 - val_precision_17: 0.8194 - val_recall_17: 0.7533\n",
      "Epoch 5/15\n",
      "\u001b[1m239/239\u001b[0m \u001b[32m━━━━━━━━━━━━━━━━━━━━\u001b[0m\u001b[37m\u001b[0m \u001b[1m17s\u001b[0m 73ms/step - accuracy: 0.7868 - loss: 0.5290 - precision_17: 0.8242 - recall_17: 0.7478 - val_accuracy: 0.7899 - val_loss: 0.5425 - val_precision_17: 0.8159 - val_recall_17: 0.7569\n",
      "Epoch 6/15\n",
      "\u001b[1m239/239\u001b[0m \u001b[32m━━━━━━━━━━━━━━━━━━━━\u001b[0m\u001b[37m\u001b[0m \u001b[1m17s\u001b[0m 72ms/step - accuracy: 0.8019 - loss: 0.5005 - precision_17: 0.8348 - recall_17: 0.7656 - val_accuracy: 0.8020 - val_loss: 0.5286 - val_precision_17: 0.8282 - val_recall_17: 0.7700\n",
      "Epoch 7/15\n",
      "\u001b[1m239/239\u001b[0m \u001b[32m━━━━━━━━━━━━━━━━━━━━\u001b[0m\u001b[37m\u001b[0m \u001b[1m17s\u001b[0m 72ms/step - accuracy: 0.8111 - loss: 0.4767 - precision_17: 0.8387 - recall_17: 0.7763 - val_accuracy: 0.8114 - val_loss: 0.5142 - val_precision_17: 0.8328 - val_recall_17: 0.7800\n",
      "Epoch 8/15\n",
      "\u001b[1m239/239\u001b[0m \u001b[32m━━━━━━━━━━━━━━━━━━━━\u001b[0m\u001b[37m\u001b[0m \u001b[1m17s\u001b[0m 71ms/step - accuracy: 0.8225 - loss: 0.4451 - precision_17: 0.8499 - recall_17: 0.7900 - val_accuracy: 0.8109 - val_loss: 0.5186 - val_precision_17: 0.8287 - val_recall_17: 0.7831\n",
      "Epoch 9/15\n",
      "\u001b[1m239/239\u001b[0m \u001b[32m━━━━━━━━━━━━━━━━━━━━\u001b[0m\u001b[37m\u001b[0m \u001b[1m17s\u001b[0m 72ms/step - accuracy: 0.8318 - loss: 0.4181 - precision_17: 0.8587 - recall_17: 0.8027 - val_accuracy: 0.8130 - val_loss: 0.5136 - val_precision_17: 0.8333 - val_recall_17: 0.7831\n",
      "Epoch 10/15\n",
      "\u001b[1m239/239\u001b[0m \u001b[32m━━━━━━━━━━━━━━━━━━━━\u001b[0m\u001b[37m\u001b[0m \u001b[1m17s\u001b[0m 72ms/step - accuracy: 0.8474 - loss: 0.3936 - precision_17: 0.8658 - recall_17: 0.8208 - val_accuracy: 0.8156 - val_loss: 0.5161 - val_precision_17: 0.8344 - val_recall_17: 0.7947\n",
      "Epoch 11/15\n",
      "\u001b[1m239/239\u001b[0m \u001b[32m━━━━━━━━━━━━━━━━━━━━\u001b[0m\u001b[37m\u001b[0m \u001b[1m17s\u001b[0m 72ms/step - accuracy: 0.8608 - loss: 0.3629 - precision_17: 0.8825 - recall_17: 0.8380 - val_accuracy: 0.8198 - val_loss: 0.5168 - val_precision_17: 0.8382 - val_recall_17: 0.8004\n",
      "Epoch 12/15\n",
      "\u001b[1m239/239\u001b[0m \u001b[32m━━━━━━━━━━━━━━━━━━━━\u001b[0m\u001b[37m\u001b[0m \u001b[1m17s\u001b[0m 73ms/step - accuracy: 0.8657 - loss: 0.3457 - precision_17: 0.8837 - recall_17: 0.8433 - val_accuracy: 0.8146 - val_loss: 0.5191 - val_precision_17: 0.8284 - val_recall_17: 0.7941\n",
      "Epoch 13/15\n",
      "\u001b[1m239/239\u001b[0m \u001b[32m━━━━━━━━━━━━━━━━━━━━\u001b[0m\u001b[37m\u001b[0m \u001b[1m18s\u001b[0m 75ms/step - accuracy: 0.8804 - loss: 0.3097 - precision_17: 0.8983 - recall_17: 0.8608 - val_accuracy: 0.8167 - val_loss: 0.5223 - val_precision_17: 0.8295 - val_recall_17: 0.8030\n",
      "Epoch 14/15\n",
      "\u001b[1m239/239\u001b[0m \u001b[32m━━━━━━━━━━━━━━━━━━━━\u001b[0m\u001b[37m\u001b[0m \u001b[1m18s\u001b[0m 74ms/step - accuracy: 0.8794 - loss: 0.3116 - precision_17: 0.8962 - recall_17: 0.8626 - val_accuracy: 0.8203 - val_loss: 0.5295 - val_precision_17: 0.8343 - val_recall_17: 0.8072\n",
      "Epoch 15/15\n",
      "\u001b[1m239/239\u001b[0m \u001b[32m━━━━━━━━━━━━━━━━━━━━\u001b[0m\u001b[37m\u001b[0m \u001b[1m17s\u001b[0m 72ms/step - accuracy: 0.8882 - loss: 0.2736 - precision_17: 0.9010 - recall_17: 0.8708 - val_accuracy: 0.8245 - val_loss: 0.5467 - val_precision_17: 0.8311 - val_recall_17: 0.8119\n",
      "\u001b[1m239/239\u001b[0m \u001b[32m━━━━━━━━━━━━━━━━━━━━\u001b[0m\u001b[37m\u001b[0m \u001b[1m4s\u001b[0m 15ms/step\n",
      "\u001b[1m60/60\u001b[0m \u001b[32m━━━━━━━━━━━━━━━━━━━━\u001b[0m\u001b[37m\u001b[0m \u001b[1m1s\u001b[0m 16ms/step\n",
      " Val F1 Score: 0.7519\n",
      "\n",
      "Best Params: {'units': 128, 'dropout': 0.4, 'learning_rate': 0.001}\n",
      "Best Val F1: 0.7519\n"
     ]
    }
   ],
   "source": [
    "from sklearn.metrics import f1_score\n",
    "import numpy as np\n",
    "\n",
    "\n",
    "units_list = [64, 128]\n",
    "dropout_list = [0.3, 0.4]\n",
    "lr_list = [0.005, 0.001]\n",
    "\n",
    "best_f1 = 0\n",
    "best_params = {}\n",
    "\n",
    "for units in units_list:\n",
    "    for dropout in dropout_list:\n",
    "        for lr in lr_list:\n",
    "            print(f\"\\n Testing units={units}, dropout={dropout}, lr={lr}\")\n",
    "\n",
    "            input_ = Input(shape=(26, 200))\n",
    "            x = Masking(mask_value=0.0)(input_)\n",
    "            x = Bidirectional(LSTM(units=units, return_sequences=False, dropout=dropout, recurrent_dropout=dropout))(x)\n",
    "            x = Dropout(dropout)(x)\n",
    "            output = Dense(3, activation='softmax')(x)\n",
    "            optimizer = Adam(learning_rate=lr)\n",
    "            model_lstm = Model(inputs=input_, outputs=output)\n",
    "            model_lstm.compile(optimizer=optimizer, loss='categorical_crossentropy',\n",
    "                               metrics=['accuracy', tf.keras.metrics.Precision(), tf.keras.metrics.Recall()])\n",
    "\n",
    "            # Train and evaluate\n",
    "            _, _, y_val_pred = embedding_glove_lstm(\n",
    "                x_train=x_train,\n",
    "                y_train=y_train,\n",
    "                x_val=x_val,\n",
    "                y_val=y_val,\n",
    "                model_glove=glove_model,\n",
    "                emb_size=200,\n",
    "                model_lstm=model_lstm,\n",
    "                n_classes=3,\n",
    "                batch_size=32,\n",
    "                epochs=15\n",
    "            )\n",
    "\n",
    "            f1 = f1_score(y_val, y_val_pred, average='macro')\n",
    "            print(f\" Val F1 Score: {f1:.4f}\")\n",
    "\n",
    "            if f1 > best_f1:\n",
    "                best_f1 = f1\n",
    "                best_params = {'units': units, 'dropout': dropout, 'learning_rate': lr}\n",
    "\n",
    "print(\"\\nBest Params:\", best_params)\n",
    "print(f\"Best Val F1: {best_f1:.4f}\")\n"
   ]
  },
  {
   "cell_type": "markdown",
   "id": "1bc693f6",
   "metadata": {},
   "source": [
    "### **2.3.2** Assessing"
   ]
  },
  {
   "cell_type": "code",
   "execution_count": 145,
   "id": "95239f94",
   "metadata": {},
   "outputs": [],
   "source": [
    "input_ = Input(shape=(26, 200))\n",
    "x = Masking(mask_value=0.0)(input_)\n",
    "x = Bidirectional(LSTM(units=128, return_sequences=False, dropout=dropout, recurrent_dropout=dropout))(x)\n",
    "x = Dropout(0.4)(x)\n",
    "output = Dense(3, activation='softmax')(x)\n",
    "optimizer=Adam(learning_rate=0.001)"
   ]
  },
  {
   "cell_type": "code",
   "execution_count": 146,
   "id": "67632341",
   "metadata": {},
   "outputs": [],
   "source": [
    "metrics=['categorical_accuracy', Precision(name='precision'), Recall(name='recall'), AUC(name='auc', multi_label=True)]\n"
   ]
  },
  {
   "cell_type": "code",
   "execution_count": 148,
   "id": "d6881da6",
   "metadata": {},
   "outputs": [
    {
     "name": "stderr",
     "output_type": "stream",
     "text": [
      "100%|██████████| 7630/7630 [00:00<00:00, 18306.90it/s]\n",
      "100%|██████████| 1909/1909 [00:00<00:00, 21013.07it/s]\n"
     ]
    },
    {
     "name": "stdout",
     "output_type": "stream",
     "text": [
      "Epoch 1/15\n",
      "\u001b[1m477/477\u001b[0m \u001b[32m━━━━━━━━━━━━━━━━━━━━\u001b[0m\u001b[37m\u001b[0m \u001b[1m32s\u001b[0m 61ms/step - auc: 0.7033 - categorical_accuracy: 0.6626 - loss: 0.8066 - precision: 0.7302 - recall: 0.5632 - val_auc: 0.8473 - val_categorical_accuracy: 0.7475 - val_loss: 0.6302 - val_precision: 0.7886 - val_recall: 0.6899\n",
      "Epoch 2/15\n",
      "\u001b[1m477/477\u001b[0m \u001b[32m━━━━━━━━━━━━━━━━━━━━\u001b[0m\u001b[37m\u001b[0m \u001b[1m30s\u001b[0m 62ms/step - auc: 0.8300 - categorical_accuracy: 0.7371 - loss: 0.6530 - precision: 0.7852 - recall: 0.6712 - val_auc: 0.8686 - val_categorical_accuracy: 0.7711 - val_loss: 0.5857 - val_precision: 0.8106 - val_recall: 0.7197\n",
      "Epoch 3/15\n",
      "\u001b[1m477/477\u001b[0m \u001b[32m━━━━━━━━━━━━━━━━━━━━\u001b[0m\u001b[37m\u001b[0m \u001b[1m29s\u001b[0m 62ms/step - auc: 0.8655 - categorical_accuracy: 0.7621 - loss: 0.5917 - precision: 0.8072 - recall: 0.7113 - val_auc: 0.8811 - val_categorical_accuracy: 0.7868 - val_loss: 0.5540 - val_precision: 0.8163 - val_recall: 0.7381\n",
      "Epoch 4/15\n",
      "\u001b[1m477/477\u001b[0m \u001b[32m━━━━━━━━━━━━━━━━━━━━\u001b[0m\u001b[37m\u001b[0m \u001b[1m29s\u001b[0m 61ms/step - auc: 0.8794 - categorical_accuracy: 0.7801 - loss: 0.5561 - precision: 0.8139 - recall: 0.7300 - val_auc: 0.8931 - val_categorical_accuracy: 0.7983 - val_loss: 0.5306 - val_precision: 0.8283 - val_recall: 0.7580\n",
      "Epoch 5/15\n",
      "\u001b[1m477/477\u001b[0m \u001b[32m━━━━━━━━━━━━━━━━━━━━\u001b[0m\u001b[37m\u001b[0m \u001b[1m30s\u001b[0m 63ms/step - auc: 0.9003 - categorical_accuracy: 0.7988 - loss: 0.5095 - precision: 0.8351 - recall: 0.7573 - val_auc: 0.8980 - val_categorical_accuracy: 0.8083 - val_loss: 0.5187 - val_precision: 0.8315 - val_recall: 0.7779\n",
      "Epoch 6/15\n",
      "\u001b[1m477/477\u001b[0m \u001b[32m━━━━━━━━━━━━━━━━━━━━\u001b[0m\u001b[37m\u001b[0m \u001b[1m30s\u001b[0m 63ms/step - auc: 0.9191 - categorical_accuracy: 0.8165 - loss: 0.4625 - precision: 0.8440 - recall: 0.7850 - val_auc: 0.8983 - val_categorical_accuracy: 0.8146 - val_loss: 0.5176 - val_precision: 0.8293 - val_recall: 0.7837\n",
      "Epoch 7/15\n",
      "\u001b[1m477/477\u001b[0m \u001b[32m━━━━━━━━━━━━━━━━━━━━\u001b[0m\u001b[37m\u001b[0m \u001b[1m30s\u001b[0m 62ms/step - auc: 0.9251 - categorical_accuracy: 0.8280 - loss: 0.4425 - precision: 0.8535 - recall: 0.7947 - val_auc: 0.9040 - val_categorical_accuracy: 0.8156 - val_loss: 0.5118 - val_precision: 0.8339 - val_recall: 0.7915\n",
      "Epoch 8/15\n",
      "\u001b[1m477/477\u001b[0m \u001b[32m━━━━━━━━━━━━━━━━━━━━\u001b[0m\u001b[37m\u001b[0m \u001b[1m29s\u001b[0m 62ms/step - auc: 0.9399 - categorical_accuracy: 0.8426 - loss: 0.4001 - precision: 0.8626 - recall: 0.8183 - val_auc: 0.9030 - val_categorical_accuracy: 0.8198 - val_loss: 0.5185 - val_precision: 0.8320 - val_recall: 0.8015\n",
      "Epoch 9/15\n",
      "\u001b[1m477/477\u001b[0m \u001b[32m━━━━━━━━━━━━━━━━━━━━\u001b[0m\u001b[37m\u001b[0m \u001b[1m30s\u001b[0m 62ms/step - auc: 0.9491 - categorical_accuracy: 0.8585 - loss: 0.3691 - precision: 0.8815 - recall: 0.8335 - val_auc: 0.9073 - val_categorical_accuracy: 0.8229 - val_loss: 0.5103 - val_precision: 0.8385 - val_recall: 0.8051\n",
      "Epoch 10/15\n",
      "\u001b[1m477/477\u001b[0m \u001b[32m━━━━━━━━━━━━━━━━━━━━\u001b[0m\u001b[37m\u001b[0m \u001b[1m30s\u001b[0m 63ms/step - auc: 0.9591 - categorical_accuracy: 0.8709 - loss: 0.3325 - precision: 0.8879 - recall: 0.8496 - val_auc: 0.9069 - val_categorical_accuracy: 0.8172 - val_loss: 0.5205 - val_precision: 0.8331 - val_recall: 0.7999\n",
      "Epoch 11/15\n",
      "\u001b[1m477/477\u001b[0m \u001b[32m━━━━━━━━━━━━━━━━━━━━\u001b[0m\u001b[37m\u001b[0m \u001b[1m30s\u001b[0m 62ms/step - auc: 0.9637 - categorical_accuracy: 0.8731 - loss: 0.3142 - precision: 0.8877 - recall: 0.8561 - val_auc: 0.9065 - val_categorical_accuracy: 0.8208 - val_loss: 0.5407 - val_precision: 0.8304 - val_recall: 0.8030\n",
      "Epoch 12/15\n",
      "\u001b[1m477/477\u001b[0m \u001b[32m━━━━━━━━━━━━━━━━━━━━\u001b[0m\u001b[37m\u001b[0m \u001b[1m30s\u001b[0m 63ms/step - auc: 0.9701 - categorical_accuracy: 0.8904 - loss: 0.2873 - precision: 0.9026 - recall: 0.8732 - val_auc: 0.9065 - val_categorical_accuracy: 0.8172 - val_loss: 0.5495 - val_precision: 0.8300 - val_recall: 0.8057\n",
      "Epoch 13/15\n",
      "\u001b[1m477/477\u001b[0m \u001b[32m━━━━━━━━━━━━━━━━━━━━\u001b[0m\u001b[37m\u001b[0m \u001b[1m30s\u001b[0m 64ms/step - auc: 0.9745 - categorical_accuracy: 0.8979 - loss: 0.2631 - precision: 0.9095 - recall: 0.8808 - val_auc: 0.9070 - val_categorical_accuracy: 0.8125 - val_loss: 0.5528 - val_precision: 0.8239 - val_recall: 0.7968\n",
      "Epoch 14/15\n",
      "\u001b[1m477/477\u001b[0m \u001b[32m━━━━━━━━━━━━━━━━━━━━\u001b[0m\u001b[37m\u001b[0m \u001b[1m29s\u001b[0m 60ms/step - auc: 0.9777 - categorical_accuracy: 0.9082 - loss: 0.2446 - precision: 0.9177 - recall: 0.8950 - val_auc: 0.9065 - val_categorical_accuracy: 0.8151 - val_loss: 0.5599 - val_precision: 0.8260 - val_recall: 0.8009\n",
      "Epoch 15/15\n",
      "\u001b[1m477/477\u001b[0m \u001b[32m━━━━━━━━━━━━━━━━━━━━\u001b[0m\u001b[37m\u001b[0m \u001b[1m29s\u001b[0m 60ms/step - auc: 0.9795 - categorical_accuracy: 0.9057 - loss: 0.2375 - precision: 0.9185 - recall: 0.8951 - val_auc: 0.9057 - val_categorical_accuracy: 0.8119 - val_loss: 0.5932 - val_precision: 0.8222 - val_recall: 0.8020\n",
      "\u001b[1m239/239\u001b[0m \u001b[32m━━━━━━━━━━━━━━━━━━━━\u001b[0m\u001b[37m\u001b[0m \u001b[1m5s\u001b[0m 14ms/step\n",
      "\u001b[1m60/60\u001b[0m \u001b[32m━━━━━━━━━━━━━━━━━━━━\u001b[0m\u001b[37m\u001b[0m \u001b[1m1s\u001b[0m 13ms/step\n"
     ]
    }
   ],
   "source": [
    "model_lstm = Model(inputs=input_, outputs=output)\n",
    "model_lstm.compile(\n",
    "    optimizer=optimizer,\n",
    "    loss='categorical_crossentropy',\n",
    "    metrics=metrics)\n",
    "\n",
    "X_train_glove, y_train_pred_glove, y_val_pred_glove = embedding_glove_lstm(x_train=x_train, y_train=y_train, x_val=x_val, y_val=y_val, model_glove = glove_model, n_classes=3, batch_size=16, epochs=15, emb_size=emb_size, model_lstm=model_lstm)"
   ]
  },
  {
   "cell_type": "code",
   "execution_count": 149,
   "id": "1f94e210",
   "metadata": {},
   "outputs": [],
   "source": [
    "title = \"LSTM Glove\""
   ]
  },
  {
   "cell_type": "code",
   "execution_count": 151,
   "id": "2ff13152",
   "metadata": {},
   "outputs": [
    {
     "data": {
      "image/png": "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",
      "text/plain": [
       "<Figure size 900x500 with 1 Axes>"
      ]
     },
     "metadata": {},
     "output_type": "display_data"
    }
   ],
   "source": [
    "get_metrics_df(title, y_train, y_train_pred_glove, y_val, y_val_pred_glove)\n",
    "\n",
    "# Plot metrics\n",
    "plot_metrics(y_train, y_train_pred_glove, y_val, y_val_pred_glove, title=title)"
   ]
  },
  {
   "cell_type": "markdown",
   "id": "50e884f2",
   "metadata": {},
   "source": [
    "## **2.4** RoBERTa"
   ]
  },
  {
   "cell_type": "code",
   "execution_count": null,
   "id": "9066c247",
   "metadata": {},
   "outputs": [],
   "source": [
    "# Tokenizer & Model\n",
    "checkpoint = \"cardiffnlp/twitter-roberta-base\"\n",
    "tokenizer = AutoTokenizer.from_pretrained(checkpoint)\n",
    "model = AutoModelForSequenceClassification.from_pretrained(checkpoint, num_labels=3)"
   ]
  },
  {
   "cell_type": "code",
   "execution_count": null,
   "id": "a60dcb99",
   "metadata": {},
   "outputs": [],
   "source": [
    "# Oversample\n",
    "train_texts_over, train_labels_over = oversample_data(train_texts, train_labels)"
   ]
  },
  {
   "cell_type": "code",
   "execution_count": null,
   "id": "2f5a66bf",
   "metadata": {},
   "outputs": [],
   "source": [
    "# Tokenize and convert to Dataset\n",
    "train_ds = Dataset.from_dict({\"text\": train_texts, \"label\": train_labels}).map(tokenize, batched=True)\n",
    "val_ds = Dataset.from_dict({\"text\": val_texts, \"label\": val_labels}).map(tokenize, batched=True)\n",
    "dataset = DatasetDict({\"train\": train_ds, \"validation\": val_ds})"
   ]
  },
  {
   "cell_type": "code",
   "execution_count": null,
   "id": "6dde1b25",
   "metadata": {},
   "outputs": [],
   "source": [
    "# Model init with weighted loss\n",
    "def model_init():\n",
    "    model = AutoModelForSequenceClassification.from_pretrained(checkpoint, num_labels=3)\n",
    "    class_weights = torch.tensor(\n",
    "        np.bincount(train_labels, minlength=3) / len(train_labels),\n",
    "        dtype=torch.float\n",
    "    )\n",
    "    class_weights = 1.0 / class_weights\n",
    "    model.classifier.loss_fct = torch.nn.CrossEntropyLoss(weight=class_weights)\n",
    "    return model"
   ]
  },
  {
   "cell_type": "code",
   "execution_count": null,
   "id": "44859808",
   "metadata": {},
   "outputs": [],
   "source": [
    "# Search space\n",
    "def hp_space(trial: Trial):\n",
    "    return {\n",
    "        \"learning_rate\": trial.suggest_float(\"learning_rate\", 1e-5, 5e-5, log=True),\n",
    "        \"num_train_epochs\": trial.suggest_int(\"num_train_epochs\", 4, 10),\n",
    "        \"weight_decay\": trial.suggest_float(\"weight_decay\", 0.0, 0.3),\n",
    "        \"per_device_train_batch_size\": trial.suggest_categorical(\"per_device_train_batch_size\", [8, 16, 32]),\n",
    "        \"warmup_ratio\": trial.suggest_float(\"warmup_ratio\", 0.0, 0.2)\n",
    "    }"
   ]
  },
  {
   "cell_type": "code",
   "execution_count": null,
   "id": "e995fa8d",
   "metadata": {},
   "outputs": [],
   "source": [
    "# Training args\n",
    "training_args = TrainingArguments(\n",
    "    output_dir=\"./results\",\n",
    "    evaluation_strategy=\"epoch\",\n",
    "    save_strategy=\"epoch\",\n",
    "    save_total_limit=1,\n",
    "    logging_dir=\"./logs\",\n",
    "    logging_steps=100,\n",
    "    load_best_model_at_end=True,\n",
    "    metric_for_best_model=\"loss\",\n",
    "    greater_is_better=False,\n",
    "    report_to=[]\n",
    ")"
   ]
  },
  {
   "cell_type": "code",
   "execution_count": null,
   "id": "b0e912a4",
   "metadata": {},
   "outputs": [],
   "source": [
    "# Trainer for tuning\n",
    "trainer = Trainer(\n",
    "    model_init=model_init,\n",
    "    args=training_args,\n",
    "    train_dataset=dataset[\"train\"],\n",
    "    eval_dataset=dataset[\"validation\"],\n",
    "    tokenizer=tokenizer,\n",
    "    data_collator=DataCollatorWithPadding(tokenizer),\n",
    "    compute_metrics=compute_metrics_roberta\n",
    ")"
   ]
  },
  {
   "cell_type": "code",
   "execution_count": null,
   "id": "eeeef5dd",
   "metadata": {},
   "outputs": [],
   "source": [
    "# Hyperparameter tuning\n",
    "best_trial = trainer.hyperparameter_search(\n",
    "    direction=\"maximize\",\n",
    "    n_trials=15,\n",
    "    hp_space=hp_space,\n",
    "    backend=\"optuna\"\n",
    ")"
   ]
  },
  {
   "cell_type": "code",
   "execution_count": null,
   "id": "dfe41403",
   "metadata": {},
   "outputs": [],
   "source": [
    "# Retrain with best trial\n",
    "best_args = training_args.clone()\n",
    "for k, v in best_trial.hyperparameters.items():\n",
    "    setattr(best_args, k, v)\n",
    "\n",
    "best_model = model_init()\n",
    "best_trainer = Trainer(\n",
    "    model=best_model,\n",
    "    args=best_args,\n",
    "    train_dataset=dataset[\"train\"],\n",
    "    eval_dataset=dataset[\"validation\"],\n",
    "    tokenizer=tokenizer,\n",
    "    data_collator=DataCollatorWithPadding(tokenizer),\n",
    "    compute_metrics=compute_metrics_roberta\n",
    ")\n",
    "\n",
    "best_trainer.train()\n"
   ]
  },
  {
   "cell_type": "code",
   "execution_count": null,
   "id": "e54b9e94",
   "metadata": {},
   "outputs": [],
   "source": [
    "# Get predictions for train and val sets\n",
    "train_preds = best_trainer.predict(dataset[\"train\"])\n",
    "val_preds = best_trainer.predict(dataset[\"validation\"])\n",
    "\n",
    "train_labels = train_preds.label_ids\n",
    "train_pred_labels = np.argmax(train_preds.predictions, axis=1)\n",
    "\n",
    "val_labels = val_preds.label_ids\n",
    "val_pred_labels = np.argmax(val_preds.predictions, axis=1)"
   ]
  },
  {
   "cell_type": "code",
   "execution_count": null,
   "id": "fd9299f2",
   "metadata": {},
   "outputs": [],
   "source": [
    "title = \"Best RoBERTa Model Performance (Optuna)\""
   ]
  },
  {
   "cell_type": "code",
   "execution_count": null,
   "id": "575aa4db",
   "metadata": {},
   "outputs": [],
   "source": [
    "metrics_df = get_metrics_df(title, train_labels, train_pred_labels, val_labels, val_pred_labels)\n",
    "display(metrics_df)\n",
    "\n",
    "plot_metrics(train_labels, train_pred_labels, val_labels, val_pred_labels, title=title)"
   ]
  },
  {
   "cell_type": "code",
   "execution_count": null,
   "id": "8fc606e6",
   "metadata": {},
   "outputs": [],
   "source": [
    "output_path = \"./best_roberta_model\"\n",
    "best_model.save_pretrained(output_path)\n",
    "tokenizer.save_pretrained(output_path)"
   ]
  },
  {
   "cell_type": "code",
   "execution_count": null,
   "id": "11fa0cbe",
   "metadata": {},
   "outputs": [],
   "source": []
  },
  {
   "cell_type": "markdown",
   "id": "f03da179",
   "metadata": {},
   "source": [
    "<div class=\"alert alert-block alert-success\">\n",
    "\n",
    "# **3.** **Final Predictions**\n",
    "\n",
    "<div>"
   ]
  },
  {
   "cell_type": "code",
   "execution_count": null,
   "id": "b1887dce",
   "metadata": {},
   "outputs": [],
   "source": [
    "# Load the test dataset\n",
    "test_data = pd.read_csv(\"../data/test.csv\")\n",
    "test_texts = test_data[\"text\"].tolist()\n",
    "\n",
    "# Get embeddings for test set\n",
    "X_test_roberta = np.array(get_roberta_embeddings(train_texts, \"X_test_roberta_embeddings.pkl\", batch_size=32, force_reload=False))"
   ]
  },
  {
   "cell_type": "code",
   "execution_count": null,
   "id": "da07b55e",
   "metadata": {},
   "outputs": [],
   "source": [
    "# Predict labels with the trained classifier\n",
    "X_test_te3s_pred = clf_roberta_lr.predict(X_test_te3s)\n",
    "\n",
    "# Create submission DataFrame\n",
    "submission_te3s = pd.DataFrame({\n",
    "    \"id\": test_data[\"id\"],\n",
    "    \"label\": X_test_roberta_pred\n",
    "})\n",
    "\n",
    "# Save submission to CSV\n",
    "submission_te3s.to_csv(\"roberta_lr_pred_25.csv\", index=False)\n",
    "print(\"Submission file saved as roberta_lr_pred_25.csv\")"
   ]
  },
  {
   "cell_type": "code",
   "execution_count": null,
   "id": "ef85b5ba",
   "metadata": {},
   "outputs": [],
   "source": [
    "# Load the predictions from the saved CSV file\n",
    "pred_25 = pd.read_csv(\"roberta_lr_pred_25.csv\")\n",
    "pred_25.head()"
   ]
  }
 ],
 "metadata": {
  "kernelspec": {
   "display_name": "Python 3",
   "language": "python",
   "name": "python3"
  },
  "language_info": {
   "codemirror_mode": {
    "name": "ipython",
    "version": 3
   },
   "file_extension": ".py",
   "mimetype": "text/x-python",
   "name": "python",
   "nbconvert_exporter": "python",
   "pygments_lexer": "ipython3",
   "version": "3.11.0"
  }
 },
 "nbformat": 4,
 "nbformat_minor": 5
}
=======
{"cells":[{"cell_type":"markdown","id":"40923621","metadata":{"id":"40923621"},"source":["<div class=\"alert alert-block alert-success\">\n","\n","# **1.** **Setup**\n","\n","<div>"]},{"cell_type":"code","source":["#!pip install -r requirements.txt"],"metadata":{"id":"OkkuilR-r3q1","executionInfo":{"status":"ok","timestamp":1749942582323,"user_tz":-60,"elapsed":67,"user":{"displayName":"Marco Galão","userId":"08018044528075081454"}}},"id":"OkkuilR-r3q1","execution_count":6,"outputs":[]},{"cell_type":"code","execution_count":7,"id":"1cefd779","metadata":{"id":"1cefd779","executionInfo":{"status":"ok","timestamp":1749942582326,"user_tz":-60,"elapsed":1,"user":{"displayName":"Marco Galão","userId":"08018044528075081454"}}},"outputs":[],"source":["from utils import *"]},{"cell_type":"code","execution_count":8,"id":"b5f416d8","metadata":{"id":"b5f416d8","executionInfo":{"status":"ok","timestamp":1749942582345,"user_tz":-60,"elapsed":19,"user":{"displayName":"Marco Galão","userId":"08018044528075081454"}}},"outputs":[],"source":["# Set random seeds for reproducibility\n","tf.random.set_seed(221)\n","random.seed(221)\n","np.random.seed(221)\n","tf.random.set_seed(221)"]},{"cell_type":"markdown","id":"fbe1489a","metadata":{"id":"fbe1489a"},"source":["## **1.1** Datasets"]},{"cell_type":"code","execution_count":9,"id":"1f15595d","metadata":{"id":"1f15595d","executionInfo":{"status":"ok","timestamp":1749942582345,"user_tz":-60,"elapsed":18,"user":{"displayName":"Marco Galão","userId":"08018044528075081454"}}},"outputs":[],"source":["# Load the train/val split data\n","with open('train_val_split.pkl', 'rb') as f:\n","    data = pickle.load(f)\n","\n","# Store the data in variables\n","x_train = data['x_train']\n","x_val = data['x_val']\n","y_train = data['y_train']\n","y_val = data['y_val']"]},{"cell_type":"code","execution_count":10,"id":"1f7f5543","metadata":{"id":"1f7f5543","executionInfo":{"status":"ok","timestamp":1749942582345,"user_tz":-60,"elapsed":17,"user":{"displayName":"Marco Galão","userId":"08018044528075081454"}}},"outputs":[],"source":["# For EXTRA\n","\n","# Load the train/val split data without preprocessing\n","with open('train_val_split_no_preproc.pkl', 'rb') as f:\n","    data_no_preproc = pickle.load(f)\n","\n","# Convert DataFrames to list\n","train_texts = data_no_preproc['x_train'].tolist()\n","val_texts = data_no_preproc['x_val'].tolist()\n","\n","# Convert Series to list\n","train_labels = data_no_preproc['y_train'].tolist()\n","val_labels = data_no_preproc['y_val'].tolist()"]},{"cell_type":"markdown","id":"3262c5e3","metadata":{"id":"3262c5e3"},"source":["## **1.2** Parameters"]},{"cell_type":"code","execution_count":11,"id":"ab9ed8f8","metadata":{"id":"ab9ed8f8","executionInfo":{"status":"ok","timestamp":1749942582411,"user_tz":-60,"elapsed":68,"user":{"displayName":"Marco Galão","userId":"08018044528075081454"}}},"outputs":[],"source":["# ------- Parameters -------\n","# Glove\n","emb_size = 50 # start small than increase to find the best value\n","\n","# TF-IDF\n","max_df = 0.8 # we are removing terms that appear in >80% of tweets\n","\n","# Word2Vec\n","window = 2         # context window size\n","min_count = 1      # minimum word frequency to include\n","\n","# KNN\n","n_neighbors = 10\n","metric = 'cosine'\n","weights = 'distance'\n","\n","# Naive Bayes\n","alpha = 1\n","\n","# Random Forest\n","n_estimators = 200\n","criterion = 'gini'\n","max_depth = 20 # to control overfitting\n","min_samples_split = 10 # to avoid split on very small groups\n","min_samples_leaf = 3 # to avoid very specific rules\n","max_features = 'sqrt'\n","class_weight = 'balanced'\n","\n","# Logistic Regression\n","penalty = 'elasticnet'\n","solver = 'saga'\n","l1_ratio = 0.5\n","C = 0.15\n","class_weight = 'balanced'\n","max_iter=300\n","multi_class='multinomial'\n","\n","# XGBoost\n","objective='multi:softmax'\n","num_class=3\n","eval_metric='mlogloss'\n","use_label_encoder=False\n","learning_rate = 0.05 # for better convergence\n","max_depth_xgboost = 6\n","n_estimators_xgboost = 300\n","subsample = 0.8 # 80% of rows per tree to reduce overfitting\n","colsample_bytree = 1\n","scale_pos_weight = 1\n","\n","# LSTM\n","batch_size=16\n","epochs=10\n","sg=1\n","learning_rate_lstm=0.001\n","optimizer=Adam(learning_rate=learning_rate_lstm)\n","loss='categorical_crossentropy'\n","metrics=['categorical_accuracy', Precision(name='precision'), Recall(name='recall'), AUC(name='auc', multi_label=True)]\n","units=64\n","dropout=0.3"]},{"cell_type":"markdown","id":"5996a160","metadata":{"id":"5996a160"},"source":["## **1.3** General"]},{"cell_type":"code","execution_count":12,"id":"3198f952","metadata":{"id":"3198f952","executionInfo":{"status":"ok","timestamp":1749942582426,"user_tz":-60,"elapsed":14,"user":{"displayName":"Marco Galão","userId":"08018044528075081454"}}},"outputs":[],"source":["corpus = x_train['text']\n","\n","#get list with lenghts of sentences\n","train_len = []\n","for i in corpus:\n","    train_len.append(len(i))\n","\n","vector_size = max(train_len)\n","\n","metrics_df = []"]},{"cell_type":"code","execution_count":15,"id":"ed1d3995","metadata":{"id":"ed1d3995","executionInfo":{"status":"ok","timestamp":1749942602034,"user_tz":-60,"elapsed":3800,"user":{"displayName":"Marco Galão","userId":"08018044528075081454"}}},"outputs":[],"source":["tokenized_train = [word_tokenize(tweet.lower()) for tweet in x_train['text']]\n","max_seq_len = max(len(tokens) for tokens in tokenized_train)"]},{"cell_type":"markdown","id":"a3a2937c","metadata":{"id":"a3a2937c"},"source":["## **1.4** Models"]},{"cell_type":"markdown","id":"a3dd7bc1","metadata":{"id":"a3dd7bc1"},"source":["### Glove"]},{"cell_type":"code","execution_count":16,"id":"4d2668b6","metadata":{"colab":{"base_uri":"https://localhost:8080/"},"id":"4d2668b6","executionInfo":{"status":"ok","timestamp":1749942703601,"user_tz":-60,"elapsed":89537,"user":{"displayName":"Marco Galão","userId":"08018044528075081454"}},"outputId":"6ad592ef-503e-4954-c573-c0b93aa01739"},"outputs":[{"output_type":"stream","name":"stdout","text":["[==================================================] 100.0% 199.5/199.5MB downloaded\n"]}],"source":["model_name = 'glove-twitter'\n","glove_model = gensim.downloader.load(f'{model_name}-{emb_size}')"]},{"cell_type":"markdown","id":"3b42d87b","metadata":{"id":"3b42d87b"},"source":["### Text Embeddings 3 Small"]},{"cell_type":"code","execution_count":18,"id":"cf05a972","metadata":{"id":"cf05a972","executionInfo":{"status":"ok","timestamp":1749942725401,"user_tz":-60,"elapsed":37,"user":{"displayName":"Marco Galão","userId":"08018044528075081454"}}},"outputs":[],"source":["# EXTRA\n","\n","# Load variables from .env into environment\n","#load_dotenv()\n","\n","# Print environment variable\n","#print(\"AZURE_OPENAI_ENDPOINT:\", os.getenv(\"AZURE_OPENAI_ENDPOINT\"))\n","\n","# Initialize Azure OpenAI client\n","#client = AzureOpenAI(\n","#    api_key=os.getenv(\"AZURE_OPENAI_KEY\"),\n","#    api_version=\"2024-02-01\",\n","#    azure_endpoint=os.getenv(\"AZURE_OPENAI_ENDPOINT\")\n","#)\n","\n","# Define embedding model\n","#model = \"text-embedding-3-small\""]},{"cell_type":"code","execution_count":19,"id":"2a00ad0b","metadata":{"id":"2a00ad0b","executionInfo":{"status":"ok","timestamp":1749942732887,"user_tz":-60,"elapsed":4,"user":{"displayName":"Marco Galão","userId":"08018044528075081454"}}},"outputs":[],"source":["# Define embedding model text embedding\n","model_te3s = \"text-embedding-3-small\""]},{"cell_type":"markdown","id":"e3a05b68","metadata":{"id":"e3a05b68"},"source":["### Roberta"]},{"cell_type":"code","execution_count":20,"id":"665a7d5d","metadata":{"colab":{"base_uri":"https://localhost:8080/","height":301,"referenced_widgets":["553e6828751443ac98b4609d85914a40","d612f593e3a244eabe7dad98757b1cc0","553d18328f854b818be42cb5c83d1ee0","90403a9a699e40bd8937ea945f20ee41","634d789e5a69458f80a4917ae7d91090","84d7e38fa8f24c019d709603aa36f4c9","7041b8ea78b34477b8f77375ac3b5cf9","0ee6f605188342a28b6b1df3e7582ff6","0ad2aa0846f84eb7a9bfe6aa9632685c","d2e5f960f40f452aa073aabf236af05e","325fe11a5a084e748c5fcc710e9ae374","3afffda39e654836b9c8223f7a79ae9c","d78a80145a564f30a341eae8e8646dd5","3b36a3f81981492fa9818bdbf559f3ca","32285940709d48b09c0738c163c0f93b","2027d2d4586a4771bce8f93452999792","7c31a2a960884365adc6620119ff2ec0","000d5f7216454c31b43dd7d82d9ed030","436d1c4f1ba3454e8d895e1e151330b2","eee5a936b74a43a0b25bc4ba25244fd8","520ac1df16a248ecaa8442de3d2a0ff7","bd845d52b3a242c68e8f95a00769abed","329ddc4787f44ae8ba26a602cb9c55bb","48187368c3d246ad89e0f4dd688a992c","42d5a899fb4642c3946bd3c566738b09","ddb10921951f4950bf5b5c1724441659","8e1d709c5df94c5ebd2546def03954e0","5817c390ff9e4ad8975690bc81beee73","e21a3d3ab73d4b7a87ac4421f71b2289","9ad15ede77eb482987fd989fa177f9f6","7404b10a1b354c068b6cbf8d8bf37760","fb19300484d545acb455697be8f1c8af","00aedb5be9b644cda5c5a4b8d920e52c","59826a606d664547b80d06cfadc09f19","c8bc74dc5b2d482985ad6f7aeafbcdf3","9e05812752894e8385a835c4bafbe0d2","1355ceda6fe84459a57149e64a9b24ee","6af035ac02624dc49c775064216572ad","8dca2dacc76f40a991c15bffb536f810","f047618d54454ba1b1349fc4f9ab23c2","a8fbd1d8e4ac4fa1bb9b4e42952b85e7","ed4b0ed58ada4ad2ab845c5bf2e6847d","e7cbac9456dc4893936312a27f26705d","8b0630acf7e94ad4a4750e2157888406","9f1303f2caec4db6acc5b34568cd318e","826663e7349d42b789e8b73e9984e6bf","35a0035e71044a5280595ed6c203eba7","fbff0db46b434b88bcee2a6b53e65c3b","c827e19cc8b94e7cb934680e99ce6271","11c5377769e24046b27d404456d80869","3b470f4d61314e92bee19487acd02d74","e531a573327543239d98bad937a4ec68","4eb07d9781c54c6f8255ffb22a0e6866","62d8fa6f180446bca8835692071ad86e","66bf5a8c21194bc289f8ca225e100422"]},"id":"665a7d5d","executionInfo":{"status":"ok","timestamp":1749942747360,"user_tz":-60,"elapsed":13527,"user":{"displayName":"Marco Galão","userId":"08018044528075081454"}},"outputId":"6d3f9042-3f2e-4370-a440-ec0eeac6d70d"},"outputs":[{"output_type":"stream","name":"stderr","text":["/usr/local/lib/python3.11/dist-packages/huggingface_hub/utils/_auth.py:94: UserWarning: \n","The secret `HF_TOKEN` does not exist in your Colab secrets.\n","To authenticate with the Hugging Face Hub, create a token in your settings tab (https://huggingface.co/settings/tokens), set it as secret in your Google Colab and restart your session.\n","You will be able to reuse this secret in all of your notebooks.\n","Please note that authentication is recommended but still optional to access public models or datasets.\n","  warnings.warn(\n"]},{"output_type":"display_data","data":{"text/plain":["config.json:   0%|          | 0.00/565 [00:00<?, ?B/s]"],"application/vnd.jupyter.widget-view+json":{"version_major":2,"version_minor":0,"model_id":"553e6828751443ac98b4609d85914a40"}},"metadata":{}},{"output_type":"display_data","data":{"text/plain":["vocab.json:   0%|          | 0.00/899k [00:00<?, ?B/s]"],"application/vnd.jupyter.widget-view+json":{"version_major":2,"version_minor":0,"model_id":"3afffda39e654836b9c8223f7a79ae9c"}},"metadata":{}},{"output_type":"display_data","data":{"text/plain":["merges.txt:   0%|          | 0.00/456k [00:00<?, ?B/s]"],"application/vnd.jupyter.widget-view+json":{"version_major":2,"version_minor":0,"model_id":"329ddc4787f44ae8ba26a602cb9c55bb"}},"metadata":{}},{"output_type":"display_data","data":{"text/plain":["pytorch_model.bin:   0%|          | 0.00/501M [00:00<?, ?B/s]"],"application/vnd.jupyter.widget-view+json":{"version_major":2,"version_minor":0,"model_id":"59826a606d664547b80d06cfadc09f19"}},"metadata":{}},{"output_type":"display_data","data":{"text/plain":["model.safetensors:   0%|          | 0.00/501M [00:00<?, ?B/s]"],"application/vnd.jupyter.widget-view+json":{"version_major":2,"version_minor":0,"model_id":"9f1303f2caec4db6acc5b34568cd318e"}},"metadata":{}}],"source":["# Load the pre-trained model and tokenizer for roberta\n","model_name = \"cardiffnlp/twitter-roberta-base\"\n","tokenizer_roberta = AutoTokenizer.from_pretrained(model_name)\n","model_roberta = AutoModel.from_pretrained(model_name)"]},{"cell_type":"markdown","id":"461b8bdd","metadata":{"id":"461b8bdd"},"source":["### LSTM"]},{"cell_type":"code","execution_count":21,"id":"db1231d9","metadata":{"id":"db1231d9","executionInfo":{"status":"ok","timestamp":1749942747840,"user_tz":-60,"elapsed":479,"user":{"displayName":"Marco Galão","userId":"08018044528075081454"}}},"outputs":[],"source":["input_ = Input(shape=(max_seq_len, vector_size))\n","\n","x = Masking(mask_value=0.0)(input_)\n","x = Bidirectional(LSTM(units=units, return_sequences=False, dropout=dropout, recurrent_dropout=dropout))(x)\n","x = Dropout(dropout)(x)\n","output = Dense(num_class, activation='softmax')(x)"]},{"cell_type":"markdown","id":"1020de10","metadata":{"id":"1020de10"},"source":["<div class=\"alert alert-block alert-success\">\n","\n","# **2.** **Hyperparameter Tuning**\n","\n","<div>"]},{"cell_type":"markdown","id":"8a0888fa","metadata":{"id":"8a0888fa"},"source":["## **2.1** LR with word2vec (EXAMPLE)"]},{"cell_type":"markdown","id":"83bf587a","metadata":{"id":"83bf587a"},"source":["## **2.2** DistilBERT (Encoder)"]},{"cell_type":"code","execution_count":22,"id":"28872c70","metadata":{"colab":{"base_uri":"https://localhost:8080/","height":113,"referenced_widgets":["9a8c053ca37a48ffa57bd7c5d5115f68","acf824b1470a4fe4b6719b2929b63735","ac4a4dfdddbe40c2a188cdb652b62c1b","602b7c7487124e6c9d0cc76ca6d5da9a","4f0efec8c92c4fed988a73e1dec76cc8","931196d548cc46389ce4ff515091fcd1","0a108c2a70c94514a27f34bfdf5db87c","0864bdfe0ed246b7895159fcaff7b449","f1c13e7989a149b3817f2675c9d8c8eb","2bb1a079700545af94f6be26983f4e70","12ae368a73804b32b609738dec3c6720","e5f885b29bd84e689bdd6d9bdcaee82c","c6fa8268fee4424eb1e9c8b8e3ac8d6c","0d81f56aa8124c2cb352e0a3dfd679b5","843d64b465714f8383cb3354e7e2faa9","bc8691cc129b4643b0d6c2add0695262","0843b692394943fb9bc19cca5cfb8d50","a8cd91cdb366438c92c5591e5007dfe0","1f8afc6f19d048bc8805989d22c810c7","eb9de0a2120d45428dc73454f6334e8a","038643eb56fb449690705ee553c17e43","951d7a8096794f19ae6bb0b39085778c","2ac1b3673eee4609bdba9e066070c3c5","9c257aec44fd42eda0d6dffa23f6f2ac","6b6ad7faa91549c484ce3359d0c38885","e0119baffc304045bfd202c812857cfc","b70f7a759be0431187b808820f3a0527","b44e448dc9f947998df0042f15a5e0b5","ccb28d67a8cb4c56a220966b1b3958a6","b6c9ebca3cc3426182e7e44f6e9a0922","6a25f26bc888472bba82b849d59171d2","a69e3b0734c24204b6ec6c579f863eeb","c1f59bab581543f98988b74a019e3228"]},"id":"28872c70","executionInfo":{"status":"ok","timestamp":1749942749855,"user_tz":-60,"elapsed":2014,"user":{"displayName":"Marco Galão","userId":"08018044528075081454"}},"outputId":"567d2d87-4df9-4cd3-bd82-3c940401a0b1"},"outputs":[{"output_type":"display_data","data":{"text/plain":["tokenizer_config.json:   0%|          | 0.00/48.0 [00:00<?, ?B/s]"],"application/vnd.jupyter.widget-view+json":{"version_major":2,"version_minor":0,"model_id":"9a8c053ca37a48ffa57bd7c5d5115f68"}},"metadata":{}},{"output_type":"display_data","data":{"text/plain":["config.json:   0%|          | 0.00/629 [00:00<?, ?B/s]"],"application/vnd.jupyter.widget-view+json":{"version_major":2,"version_minor":0,"model_id":"e5f885b29bd84e689bdd6d9bdcaee82c"}},"metadata":{}},{"output_type":"display_data","data":{"text/plain":["vocab.txt:   0%|          | 0.00/232k [00:00<?, ?B/s]"],"application/vnd.jupyter.widget-view+json":{"version_major":2,"version_minor":0,"model_id":"2ac1b3673eee4609bdba9e066070c3c5"}},"metadata":{}}],"source":["# Tokenizer & Model\n","checkpoint = \"distilbert-base-uncased-finetuned-sst-2-english\"\n","tokenizer = AutoTokenizer.from_pretrained(checkpoint)"]},{"cell_type":"code","execution_count":23,"id":"93d807b3","metadata":{"id":"93d807b3","executionInfo":{"status":"ok","timestamp":1749942749934,"user_tz":-60,"elapsed":65,"user":{"displayName":"Marco Galão","userId":"08018044528075081454"}}},"outputs":[],"source":["# Oversample\n","train_texts_over, train_labels_over = oversample_data(train_texts, train_labels)"]},{"cell_type":"code","execution_count":24,"id":"970dca39","metadata":{"colab":{"base_uri":"https://localhost:8080/","height":81,"referenced_widgets":["cc1496925d2d485bb19842bd8131244a","36e130af407842208a82e4e3ed094fc8","6ca9131d260f47a0ad05b149e15f0ab3","eceed2c9818845fe8d563070a69b63f8","6f04711a6b19400ab5ca6dd3f8c2129c","508b002475bb42c4abe04bcc2eb60cce","0808ff54727c49448ef764c258047005","c2d7dd7e08c5418f9cf46a74e3a5020d","1d0ce2e3f61f436281f0c6483f6128c2","2902d2d16d944db9871551bdb91d70f9","6d27bff2389d42e8a653c553e110c611","ebf55ea667464296a152cdd5d850e55a","c108eb212aca49b99bcb9677935d95b9","9edacd61ee5c454591e7ffd0da80dd01","9c390d83ac924750a76737a982009a1d","b093ea5916c64561aa35498e6575a763","2ffbac5ae541420b98b1472b0ed4f52b","3e2304b6a0674735aa8519048680bc85","75620b2505324ba9b18fc847f7149e88","c84bbfa509ee4e999ea7280050a0117e","ab96d7b23c604a8a96ca670686bfc033","3a7bcf4bd4c241ab95c1b0df8109c07f"]},"id":"970dca39","executionInfo":{"status":"ok","timestamp":1749942754053,"user_tz":-60,"elapsed":4117,"user":{"displayName":"Marco Galão","userId":"08018044528075081454"}},"outputId":"6ab92a1e-459c-4a98-f6c5-f2fd44465ece"},"outputs":[{"output_type":"display_data","data":{"text/plain":["Map:   0%|          | 0/14826 [00:00<?, ? examples/s]"],"application/vnd.jupyter.widget-view+json":{"version_major":2,"version_minor":0,"model_id":"cc1496925d2d485bb19842bd8131244a"}},"metadata":{}},{"output_type":"display_data","data":{"text/plain":["Map:   0%|          | 0/1909 [00:00<?, ? examples/s]"],"application/vnd.jupyter.widget-view+json":{"version_major":2,"version_minor":0,"model_id":"ebf55ea667464296a152cdd5d850e55a"}},"metadata":{}}],"source":["# Tokenization function\n","def tokenize(example):\n","    return tokenizer(example[\"text\"],truncation=True)\n","\n","# Tokenize and convert to Dataset\n","train_ds = Dataset.from_dict({\"text\": train_texts_over, \"label\": train_labels_over}).map(tokenize, batched=True)\n","val_ds = Dataset.from_dict({\"text\": val_texts, \"label\": val_labels}).map(tokenize, batched=True)\n","dataset = DatasetDict({\"train\": train_ds, \"validation\": val_ds})"]},{"cell_type":"code","execution_count":26,"id":"8d149aa1","metadata":{"id":"8d149aa1","executionInfo":{"status":"ok","timestamp":1749942759779,"user_tz":-60,"elapsed":2,"user":{"displayName":"Marco Galão","userId":"08018044528075081454"}}},"outputs":[],"source":["# Model init with weighted loss\n","def model_init():\n","    model = AutoModelForSequenceClassification.from_pretrained(checkpoint, num_labels=3, ignore_mismatched_sizes=True)\n","    class_weights = torch.tensor(\n","        np.bincount(train_labels, minlength=3) / len(train_labels),\n","        dtype=torch.float\n","    )\n","    class_weights = 1.0 / class_weights\n","    model.classifier.loss_fct = torch.nn.CrossEntropyLoss(weight=class_weights)\n","    return model"]},{"cell_type":"code","execution_count":27,"id":"1f3f267f","metadata":{"id":"1f3f267f","executionInfo":{"status":"ok","timestamp":1749942760475,"user_tz":-60,"elapsed":2,"user":{"displayName":"Marco Galão","userId":"08018044528075081454"}}},"outputs":[],"source":["# Search space\n","def hp_space(trial: Trial):\n","    return {\n","        \"learning_rate\": trial.suggest_float(\"learning_rate\", 1e-5, 5e-5, log=True),\n","        \"num_train_epochs\": trial.suggest_int(\"num_train_epochs\", 4, 10),\n","        \"weight_decay\": trial.suggest_float(\"weight_decay\", 0.0, 0.3),\n","        \"per_device_train_batch_size\": trial.suggest_categorical(\"per_device_train_batch_size\", [8, 16, 32]),\n","        \"warmup_ratio\": trial.suggest_float(\"warmup_ratio\", 0.0, 0.2)\n","    }"]},{"cell_type":"code","execution_count":30,"id":"b9f262d4","metadata":{"id":"b9f262d4","executionInfo":{"status":"ok","timestamp":1749942770901,"user_tz":-60,"elapsed":45,"user":{"displayName":"Marco Galão","userId":"08018044528075081454"}}},"outputs":[],"source":["# Training args\n","training_args = TrainingArguments(\n","    output_dir=\"./results/distilbert_tuning\",\n","    eval_strategy=\"epoch\",\n","    save_strategy=\"epoch\",\n","    save_total_limit=1,\n","    logging_dir=\"./logs\",\n","    logging_steps=100,\n","    load_best_model_at_end=True,\n","    metric_for_best_model=\"loss\",\n","    greater_is_better=False,\n","    report_to=[]\n",")"]},{"cell_type":"code","execution_count":31,"id":"5153df8a","metadata":{"colab":{"base_uri":"https://localhost:8080/","height":173,"referenced_widgets":["217d268634db44ab83137a13e42eaace","018f8980ff964e81971854e8654219a9","3dcac4fa183a4790b4a0bca389c99c81","748de86ab13343f896a3a2fd80198aa4","145abfd8eb304bb284ecba3494782796","4002e920f4bf460ab006a4ee88d96a4e","e564290edfc449118b72a9c51e560ddc","5c38110b16f44210a9a0eb24df647e56","e532949be9c14c85bc20971c1028d28d","521952f0861443178e6d1071619561ff","b7a1d2abbe624168b10e2f6ed31a8bda"]},"id":"5153df8a","executionInfo":{"status":"ok","timestamp":1749942782577,"user_tz":-60,"elapsed":8275,"user":{"displayName":"Marco Galão","userId":"08018044528075081454"}},"outputId":"7e9f9a57-6444-4f8f-8a88-aeb1c7573cbe"},"outputs":[{"output_type":"stream","name":"stderr","text":["<ipython-input-31-4025623868>:2: FutureWarning: `tokenizer` is deprecated and will be removed in version 5.0.0 for `Trainer.__init__`. Use `processing_class` instead.\n","  trainer = Trainer(\n"]},{"output_type":"display_data","data":{"text/plain":["model.safetensors:   0%|          | 0.00/268M [00:00<?, ?B/s]"],"application/vnd.jupyter.widget-view+json":{"version_major":2,"version_minor":0,"model_id":"217d268634db44ab83137a13e42eaace"}},"metadata":{}},{"output_type":"stream","name":"stderr","text":["Some weights of DistilBertForSequenceClassification were not initialized from the model checkpoint at distilbert-base-uncased-finetuned-sst-2-english and are newly initialized because the shapes did not match:\n","- classifier.bias: found shape torch.Size([2]) in the checkpoint and torch.Size([3]) in the model instantiated\n","- classifier.weight: found shape torch.Size([2, 768]) in the checkpoint and torch.Size([3, 768]) in the model instantiated\n","You should probably TRAIN this model on a down-stream task to be able to use it for predictions and inference.\n"]}],"source":["# Trainer for tuning\n","trainer = Trainer(\n","    model_init=model_init,\n","    args=training_args,\n","    train_dataset=dataset[\"train\"],\n","    eval_dataset=dataset[\"validation\"],\n","    tokenizer=tokenizer,\n","    data_collator=DataCollatorWithPadding(tokenizer),\n","    compute_metrics=compute_metrics_transformers\n",")"]},{"cell_type":"code","execution_count":null,"id":"ac6934f0","metadata":{"colab":{"base_uri":"https://localhost:8080/","height":182},"id":"ac6934f0","outputId":"4863cf52-d42b-4236-a0df-4869446bdd95"},"outputs":[{"output_type":"stream","name":"stderr","text":["[I 2025-06-14 23:13:02,665] A new study created in memory with name: no-name-64a5c10d-7795-4aae-9e58-2b4bc22b8ff7\n","Some weights of DistilBertForSequenceClassification were not initialized from the model checkpoint at distilbert-base-uncased-finetuned-sst-2-english and are newly initialized because the shapes did not match:\n","- classifier.bias: found shape torch.Size([2]) in the checkpoint and torch.Size([3]) in the model instantiated\n","- classifier.weight: found shape torch.Size([2, 768]) in the checkpoint and torch.Size([3, 768]) in the model instantiated\n","You should probably TRAIN this model on a down-stream task to be able to use it for predictions and inference.\n"]},{"output_type":"display_data","data":{"text/plain":["<IPython.core.display.HTML object>"],"text/html":["\n","    <div>\n","      \n","      <progress value='3' max='8343' style='width:300px; height:20px; vertical-align: middle;'></progress>\n","      [   3/8343 00:06 < 14:35:32, 0.16 it/s, Epoch 0.00/9]\n","    </div>\n","    <table border=\"1\" class=\"dataframe\">\n","  <thead>\n"," <tr style=\"text-align: left;\">\n","      <th>Epoch</th>\n","      <th>Training Loss</th>\n","      <th>Validation Loss</th>\n","    </tr>\n","  </thead>\n","  <tbody>\n","  </tbody>\n","</table><p>"]},"metadata":{}}],"source":["# Hyperparameter tuning\n","best_trial = trainer.hyperparameter_search(\n","    direction=\"minimize\", # Minimize loss\n","    n_trials=15,\n","    hp_space=hp_space,\n","    backend=\"optuna\",\n","    compute_objective=lambda metrics: metrics[\"eval_loss\"] # Use eval_loss as the objective metric\n",")"]},{"cell_type":"code","execution_count":null,"id":"db8dae4c","metadata":{"id":"db8dae4c"},"outputs":[],"source":["# Retrain with best trial\n","best_args = training_args.clone()\n","for k, v in best_trial.hyperparameters.items():\n","    setattr(best_args, k, v)\n","\n","best_model = model_init()\n","best_trainer = Trainer(\n","    model=best_model,\n","    args=best_args,\n","    train_dataset=dataset[\"train\"],\n","    eval_dataset=dataset[\"validation\"],\n","    tokenizer=tokenizer,\n","    data_collator=DataCollatorWithPadding(tokenizer),\n","    compute_metrics=compute_metrics_transformers\n",")\n","\n","best_trainer.train()"]},{"cell_type":"code","execution_count":null,"id":"55c202f9","metadata":{"id":"55c202f9"},"outputs":[],"source":["# Get predictions for train and val sets\n","train_preds = best_trainer.predict(dataset[\"train\"])\n","val_preds = best_trainer.predict(dataset[\"validation\"])\n","\n","train_labels = train_preds.label_ids\n","train_pred_labels = np.argmax(train_preds.predictions, axis=1)\n","\n","val_labels = val_preds.label_ids\n","val_pred_labels = np.argmax(val_preds.predictions, axis=1)"]},{"cell_type":"code","execution_count":null,"id":"46e2c68f","metadata":{"id":"46e2c68f"},"outputs":[],"source":["title = \"Best DistilBERT Model Performance (Optuna)\""]},{"cell_type":"code","execution_count":null,"id":"4ecb1d43","metadata":{"id":"4ecb1d43"},"outputs":[],"source":["metrics_df = get_metrics_df(title, train_labels, train_pred_labels, val_labels, val_pred_labels)\n","display(metrics_df)\n","\n","plot_metrics(train_labels, train_pred_labels, val_labels, val_pred_labels, title=title)"]},{"cell_type":"code","execution_count":null,"id":"279661ad","metadata":{"id":"279661ad"},"outputs":[],"source":["output_path = \"./best_distilbert_model\"\n","best_model.save_pretrained(output_path)\n","tokenizer.save_pretrained(output_path)"]},{"cell_type":"markdown","id":"50e884f2","metadata":{"id":"50e884f2"},"source":["## **2.3** RoBERTa (Encoder) - EXTRA"]},{"cell_type":"code","execution_count":null,"id":"9066c247","metadata":{"id":"9066c247"},"outputs":[],"source":["# Tokenizer & Model\n","checkpoint = \"cardiffnlp/twitter-roberta-base\"\n","tokenizer = AutoTokenizer.from_pretrained(checkpoint)\n","model = AutoModelForSequenceClassification.from_pretrained(checkpoint, num_labels=3)"]},{"cell_type":"code","execution_count":null,"id":"a60dcb99","metadata":{"id":"a60dcb99"},"outputs":[],"source":["# Oversample\n","train_texts_over, train_labels_over = oversample_data(train_texts, train_labels)"]},{"cell_type":"code","execution_count":null,"id":"2f5a66bf","metadata":{"id":"2f5a66bf"},"outputs":[],"source":["# Tokenize and convert to Dataset\n","train_ds = Dataset.from_dict({\"text\": train_texts, \"label\": train_labels}).map(tokenize, batched=True)\n","val_ds = Dataset.from_dict({\"text\": val_texts, \"label\": val_labels}).map(tokenize, batched=True)\n","dataset = DatasetDict({\"train\": train_ds, \"validation\": val_ds})"]},{"cell_type":"code","execution_count":null,"id":"6dde1b25","metadata":{"id":"6dde1b25"},"outputs":[],"source":["# Model init with weighted loss\n","def model_init():\n","    model = AutoModelForSequenceClassification.from_pretrained(checkpoint, num_labels=3)\n","    class_weights = torch.tensor(\n","        np.bincount(train_labels, minlength=3) / len(train_labels),\n","        dtype=torch.float\n","    )\n","    class_weights = 1.0 / class_weights\n","    model.classifier.loss_fct = torch.nn.CrossEntropyLoss(weight=class_weights)\n","    return model"]},{"cell_type":"code","execution_count":null,"id":"44859808","metadata":{"id":"44859808"},"outputs":[],"source":["# Search space\n","def hp_space(trial: Trial):\n","    return {\n","        \"learning_rate\": trial.suggest_float(\"learning_rate\", 1e-5, 5e-5, log=True),\n","        \"num_train_epochs\": trial.suggest_int(\"num_train_epochs\", 4, 10),\n","        \"weight_decay\": trial.suggest_float(\"weight_decay\", 0.0, 0.3),\n","        \"per_device_train_batch_size\": trial.suggest_categorical(\"per_device_train_batch_size\", [8, 16, 32]),\n","        \"warmup_ratio\": trial.suggest_float(\"warmup_ratio\", 0.0, 0.2)\n","    }"]},{"cell_type":"code","execution_count":null,"id":"e995fa8d","metadata":{"id":"e995fa8d"},"outputs":[],"source":["# Training args\n","training_args = TrainingArguments(\n","    output_dir=\"./results\",\n","    evaluation_strategy=\"epoch\",\n","    save_strategy=\"epoch\",\n","    save_total_limit=1,\n","    logging_dir=\"./logs\",\n","    logging_steps=100,\n","    load_best_model_at_end=True,\n","    metric_for_best_model=\"loss\",\n","    greater_is_better=False,\n","    report_to=[]\n",")"]},{"cell_type":"code","execution_count":null,"id":"b0e912a4","metadata":{"id":"b0e912a4"},"outputs":[],"source":["# Trainer for tuning\n","trainer = Trainer(\n","    model_init=model_init,\n","    args=training_args,\n","    train_dataset=dataset[\"train\"],\n","    eval_dataset=dataset[\"validation\"],\n","    tokenizer=tokenizer,\n","    data_collator=DataCollatorWithPadding(tokenizer),\n","    compute_metrics=compute_metrics_roberta\n",")"]},{"cell_type":"code","execution_count":null,"id":"eeeef5dd","metadata":{"id":"eeeef5dd"},"outputs":[],"source":["# Hyperparameter tuning\n","best_trial = trainer.hyperparameter_search(\n","    direction=\"maximize\",\n","    n_trials=15,\n","    hp_space=hp_space,\n","    backend=\"optuna\"\n",")"]},{"cell_type":"code","execution_count":null,"id":"dfe41403","metadata":{"id":"dfe41403"},"outputs":[],"source":["# Retrain with best trial\n","best_args = training_args.clone()\n","for k, v in best_trial.hyperparameters.items():\n","    setattr(best_args, k, v)\n","\n","best_model = model_init()\n","best_trainer = Trainer(\n","    model=best_model,\n","    args=best_args,\n","    train_dataset=dataset[\"train\"],\n","    eval_dataset=dataset[\"validation\"],\n","    tokenizer=tokenizer,\n","    data_collator=DataCollatorWithPadding(tokenizer),\n","    compute_metrics=compute_metrics_roberta\n",")\n","\n","best_trainer.train()\n"]},{"cell_type":"code","execution_count":null,"id":"e54b9e94","metadata":{"id":"e54b9e94"},"outputs":[],"source":["# Get predictions for train and val sets\n","train_preds = best_trainer.predict(dataset[\"train\"])\n","val_preds = best_trainer.predict(dataset[\"validation\"])\n","\n","train_labels = train_preds.label_ids\n","train_pred_labels = np.argmax(train_preds.predictions, axis=1)\n","\n","val_labels = val_preds.label_ids\n","val_pred_labels = np.argmax(val_preds.predictions, axis=1)"]},{"cell_type":"code","execution_count":null,"id":"fd9299f2","metadata":{"id":"fd9299f2"},"outputs":[],"source":["title = \"Best RoBERTa Model Performance (Optuna)\""]},{"cell_type":"code","execution_count":null,"id":"575aa4db","metadata":{"id":"575aa4db"},"outputs":[],"source":["metrics_df = get_metrics_df(title, train_labels, train_pred_labels, val_labels, val_pred_labels)\n","display(metrics_df)\n","\n","plot_metrics(train_labels, train_pred_labels, val_labels, val_pred_labels, title=title)"]},{"cell_type":"code","execution_count":null,"id":"8fc606e6","metadata":{"id":"8fc606e6"},"outputs":[],"source":["output_path = \"./best_roberta_model\"\n","best_model.save_pretrained(output_path)\n","tokenizer.save_pretrained(output_path)"]},{"cell_type":"markdown","id":"f03da179","metadata":{"id":"f03da179"},"source":["<div class=\"alert alert-block alert-success\">\n","\n","# **3.** **Final Predictions**\n","\n","<div>"]},{"cell_type":"code","execution_count":null,"id":"b1887dce","metadata":{"id":"b1887dce"},"outputs":[],"source":["# Load the test dataset\n","test_data = pd.read_csv(\"../data/test.csv\")\n","test_texts = test_data[\"text\"].tolist()\n","\n","# Get embeddings for test set\n","X_test_roberta = np.array(get_roberta_embeddings(train_texts, \"X_test_roberta_embeddings.pkl\", batch_size=32, force_reload=False))"]},{"cell_type":"code","execution_count":null,"id":"da07b55e","metadata":{"id":"da07b55e"},"outputs":[],"source":["# Predict labels with the trained classifier\n","X_test_te3s_pred = clf_roberta_lr.predict(X_test_te3s)\n","\n","# Create submission DataFrame\n","submission_te3s = pd.DataFrame({\n","    \"id\": test_data[\"id\"],\n","    \"label\": X_test_roberta_pred\n","})\n","\n","# Save submission to CSV\n","submission_te3s.to_csv(\"roberta_lr_pred_25.csv\", index=False)\n","print(\"Submission file saved as roberta_lr_pred_25.csv\")"]},{"cell_type":"code","execution_count":null,"id":"ef85b5ba","metadata":{"id":"ef85b5ba"},"outputs":[],"source":["# Load the predictions from the saved CSV file\n","pred_25 = pd.read_csv(\"roberta_lr_pred_25.csv\")\n","pred_25.head()"]}],"metadata":{"kernelspec":{"display_name":"Python 3","language":"python","name":"python3"},"language_info":{"codemirror_mode":{"name":"ipython","version":3},"file_extension":".py","mimetype":"text/x-python","name":"python","nbconvert_exporter":"python","pygments_lexer":"ipython3","version":"3.11.0"},"colab":{"provenance":[],"collapsed_sections":["fbe1489a"]},"widgets":{"application/vnd.jupyter.widget-state+json":{"553e6828751443ac98b4609d85914a40":{"model_module":"@jupyter-widgets/controls","model_name":"HBoxModel","model_module_version":"1.5.0","state":{"_dom_classes":[],"_model_module":"@jupyter-widgets/controls","_model_module_version":"1.5.0","_model_name":"HBoxModel","_view_count":null,"_view_module":"@jupyter-widgets/controls","_view_module_version":"1.5.0","_view_name":"HBoxView","box_style":"","children":["IPY_MODEL_d612f593e3a244eabe7dad98757b1cc0","IPY_MODEL_553d18328f854b818be42cb5c83d1ee0","IPY_MODEL_90403a9a699e40bd8937ea945f20ee41"],"layout":"IPY_MODEL_634d789e5a69458f80a4917ae7d91090"}},"d612f593e3a244eabe7dad98757b1cc0":{"model_module":"@jupyter-widgets/controls","model_name":"HTMLModel","model_module_version":"1.5.0","state":{"_dom_classes":[],"_model_module":"@jupyter-widgets/controls","_model_module_version":"1.5.0","_model_name":"HTMLModel","_view_count":null,"_view_module":"@jupyter-widgets/controls","_view_module_version":"1.5.0","_view_name":"HTMLView","description":"","description_tooltip":null,"layout":"IPY_MODEL_84d7e38fa8f24c019d709603aa36f4c9","placeholder":"​","style":"IPY_MODEL_7041b8ea78b34477b8f77375ac3b5cf9","value":"config.json: 100%"}},"553d18328f854b818be42cb5c83d1ee0":{"model_module":"@jupyter-widgets/controls","model_name":"FloatProgressModel","model_module_version":"1.5.0","state":{"_dom_classes":[],"_model_module":"@jupyter-widgets/controls","_model_module_version":"1.5.0","_model_name":"FloatProgressModel","_view_count":null,"_view_module":"@jupyter-widgets/controls","_view_module_version":"1.5.0","_view_name":"ProgressView","bar_style":"success","description":"","description_tooltip":null,"layout":"IPY_MODEL_0ee6f605188342a28b6b1df3e7582ff6","max":565,"min":0,"orientation":"horizontal","style":"IPY_MODEL_0ad2aa0846f84eb7a9bfe6aa9632685c","value":565}},"90403a9a699e40bd8937ea945f20ee41":{"model_module":"@jupyter-widgets/controls","model_name":"HTMLModel","model_module_version":"1.5.0","state":{"_dom_classes":[],"_model_module":"@jupyter-widgets/controls","_model_module_version":"1.5.0","_model_name":"HTMLModel","_view_count":null,"_view_module":"@jupyter-widgets/controls","_view_module_version":"1.5.0","_view_name":"HTMLView","description":"","description_tooltip":null,"layout":"IPY_MODEL_d2e5f960f40f452aa073aabf236af05e","placeholder":"​","style":"IPY_MODEL_325fe11a5a084e748c5fcc710e9ae374","value":" 565/565 [00:00&lt;00:00, 38.8kB/s]"}},"634d789e5a69458f80a4917ae7d91090":{"model_module":"@jupyter-widgets/base","model_name":"LayoutModel","model_module_version":"1.2.0","state":{"_model_module":"@jupyter-widgets/base","_model_module_version":"1.2.0","_model_name":"LayoutModel","_view_count":null,"_view_module":"@jupyter-widgets/base","_view_module_version":"1.2.0","_view_name":"LayoutView","align_content":null,"align_items":null,"align_self":null,"border":null,"bottom":null,"display":null,"flex":null,"flex_flow":null,"grid_area":null,"grid_auto_columns":null,"grid_auto_flow":null,"grid_auto_rows":null,"grid_column":null,"grid_gap":null,"grid_row":null,"grid_template_areas":null,"grid_template_columns":null,"grid_template_rows":null,"height":null,"justify_content":null,"justify_items":null,"left":null,"margin":null,"max_height":null,"max_width":null,"min_height":null,"min_width":null,"object_fit":null,"object_position":null,"order":null,"overflow":null,"overflow_x":null,"overflow_y":null,"padding":null,"right":null,"top":null,"visibility":null,"width":null}},"84d7e38fa8f24c019d709603aa36f4c9":{"model_module":"@jupyter-widgets/base","model_name":"LayoutModel","model_module_version":"1.2.0","state":{"_model_module":"@jupyter-widgets/base","_model_module_version":"1.2.0","_model_name":"LayoutModel","_view_count":null,"_view_module":"@jupyter-widgets/base","_view_module_version":"1.2.0","_view_name":"LayoutView","align_content":null,"align_items":null,"align_self":null,"border":null,"bottom":null,"display":null,"flex":null,"flex_flow":null,"grid_area":null,"grid_auto_columns":null,"grid_auto_flow":null,"grid_auto_rows":null,"grid_column":null,"grid_gap":null,"grid_row":null,"grid_template_areas":null,"grid_template_columns":null,"grid_template_rows":null,"height":null,"justify_content":null,"justify_items":null,"left":null,"margin":null,"max_height":null,"max_width":null,"min_height":null,"min_width":null,"object_fit":null,"object_position":null,"order":null,"overflow":null,"overflow_x":null,"overflow_y":null,"padding":null,"right":null,"top":null,"visibility":null,"width":null}},"7041b8ea78b34477b8f77375ac3b5cf9":{"model_module":"@jupyter-widgets/controls","model_name":"DescriptionStyleModel","model_module_version":"1.5.0","state":{"_model_module":"@jupyter-widgets/controls","_model_module_version":"1.5.0","_model_name":"DescriptionStyleModel","_view_count":null,"_view_module":"@jupyter-widgets/base","_view_module_version":"1.2.0","_view_name":"StyleView","description_width":""}},"0ee6f605188342a28b6b1df3e7582ff6":{"model_module":"@jupyter-widgets/base","model_name":"LayoutModel","model_module_version":"1.2.0","state":{"_model_module":"@jupyter-widgets/base","_model_module_version":"1.2.0","_model_name":"LayoutModel","_view_count":null,"_view_module":"@jupyter-widgets/base","_view_module_version":"1.2.0","_view_name":"LayoutView","align_content":null,"align_items":null,"align_self":null,"border":null,"bottom":null,"display":null,"flex":null,"flex_flow":null,"grid_area":null,"grid_auto_columns":null,"grid_auto_flow":null,"grid_auto_rows":null,"grid_column":null,"grid_gap":null,"grid_row":null,"grid_template_areas":null,"grid_template_columns":null,"grid_template_rows":null,"height":null,"justify_content":null,"justify_items":null,"left":null,"margin":null,"max_height":null,"max_width":null,"min_height":null,"min_width":null,"object_fit":null,"object_position":null,"order":null,"overflow":null,"overflow_x":null,"overflow_y":null,"padding":null,"right":null,"top":null,"visibility":null,"width":null}},"0ad2aa0846f84eb7a9bfe6aa9632685c":{"model_module":"@jupyter-widgets/controls","model_name":"ProgressStyleModel","model_module_version":"1.5.0","state":{"_model_module":"@jupyter-widgets/controls","_model_module_version":"1.5.0","_model_name":"ProgressStyleModel","_view_count":null,"_view_module":"@jupyter-widgets/base","_view_module_version":"1.2.0","_view_name":"StyleView","bar_color":null,"description_width":""}},"d2e5f960f40f452aa073aabf236af05e":{"model_module":"@jupyter-widgets/base","model_name":"LayoutModel","model_module_version":"1.2.0","state":{"_model_module":"@jupyter-widgets/base","_model_module_version":"1.2.0","_model_name":"LayoutModel","_view_count":null,"_view_module":"@jupyter-widgets/base","_view_module_version":"1.2.0","_view_name":"LayoutView","align_content":null,"align_items":null,"align_self":null,"border":null,"bottom":null,"display":null,"flex":null,"flex_flow":null,"grid_area":null,"grid_auto_columns":null,"grid_auto_flow":null,"grid_auto_rows":null,"grid_column":null,"grid_gap":null,"grid_row":null,"grid_template_areas":null,"grid_template_columns":null,"grid_template_rows":null,"height":null,"justify_content":null,"justify_items":null,"left":null,"margin":null,"max_height":null,"max_width":null,"min_height":null,"min_width":null,"object_fit":null,"object_position":null,"order":null,"overflow":null,"overflow_x":null,"overflow_y":null,"padding":null,"right":null,"top":null,"visibility":null,"width":null}},"325fe11a5a084e748c5fcc710e9ae374":{"model_module":"@jupyter-widgets/controls","model_name":"DescriptionStyleModel","model_module_version":"1.5.0","state":{"_model_module":"@jupyter-widgets/controls","_model_module_version":"1.5.0","_model_name":"DescriptionStyleModel","_view_count":null,"_view_module":"@jupyter-widgets/base","_view_module_version":"1.2.0","_view_name":"StyleView","description_width":""}},"3afffda39e654836b9c8223f7a79ae9c":{"model_module":"@jupyter-widgets/controls","model_name":"HBoxModel","model_module_version":"1.5.0","state":{"_dom_classes":[],"_model_module":"@jupyter-widgets/controls","_model_module_version":"1.5.0","_model_name":"HBoxModel","_view_count":null,"_view_module":"@jupyter-widgets/controls","_view_module_version":"1.5.0","_view_name":"HBoxView","box_style":"","children":["IPY_MODEL_d78a80145a564f30a341eae8e8646dd5","IPY_MODEL_3b36a3f81981492fa9818bdbf559f3ca","IPY_MODEL_32285940709d48b09c0738c163c0f93b"],"layout":"IPY_MODEL_2027d2d4586a4771bce8f93452999792"}},"d78a80145a564f30a341eae8e8646dd5":{"model_module":"@jupyter-widgets/controls","model_name":"HTMLModel","model_module_version":"1.5.0","state":{"_dom_classes":[],"_model_module":"@jupyter-widgets/controls","_model_module_version":"1.5.0","_model_name":"HTMLModel","_view_count":null,"_view_module":"@jupyter-widgets/controls","_view_module_version":"1.5.0","_view_name":"HTMLView","description":"","description_tooltip":null,"layout":"IPY_MODEL_7c31a2a960884365adc6620119ff2ec0","placeholder":"​","style":"IPY_MODEL_000d5f7216454c31b43dd7d82d9ed030","value":"vocab.json: 100%"}},"3b36a3f81981492fa9818bdbf559f3ca":{"model_module":"@jupyter-widgets/controls","model_name":"FloatProgressModel","model_module_version":"1.5.0","state":{"_dom_classes":[],"_model_module":"@jupyter-widgets/controls","_model_module_version":"1.5.0","_model_name":"FloatProgressModel","_view_count":null,"_view_module":"@jupyter-widgets/controls","_view_module_version":"1.5.0","_view_name":"ProgressView","bar_style":"success","description":"","description_tooltip":null,"layout":"IPY_MODEL_436d1c4f1ba3454e8d895e1e151330b2","max":898823,"min":0,"orientation":"horizontal","style":"IPY_MODEL_eee5a936b74a43a0b25bc4ba25244fd8","value":898823}},"32285940709d48b09c0738c163c0f93b":{"model_module":"@jupyter-widgets/controls","model_name":"HTMLModel","model_module_version":"1.5.0","state":{"_dom_classes":[],"_model_module":"@jupyter-widgets/controls","_model_module_version":"1.5.0","_model_name":"HTMLModel","_view_count":null,"_view_module":"@jupyter-widgets/controls","_view_module_version":"1.5.0","_view_name":"HTMLView","description":"","description_tooltip":null,"layout":"IPY_MODEL_520ac1df16a248ecaa8442de3d2a0ff7","placeholder":"​","style":"IPY_MODEL_bd845d52b3a242c68e8f95a00769abed","value":" 899k/899k [00:00&lt;00:00, 10.7MB/s]"}},"2027d2d4586a4771bce8f93452999792":{"model_module":"@jupyter-widgets/base","model_name":"LayoutModel","model_module_version":"1.2.0","state":{"_model_module":"@jupyter-widgets/base","_model_module_version":"1.2.0","_model_name":"LayoutModel","_view_count":null,"_view_module":"@jupyter-widgets/base","_view_module_version":"1.2.0","_view_name":"LayoutView","align_content":null,"align_items":null,"align_self":null,"border":null,"bottom":null,"display":null,"flex":null,"flex_flow":null,"grid_area":null,"grid_auto_columns":null,"grid_auto_flow":null,"grid_auto_rows":null,"grid_column":null,"grid_gap":null,"grid_row":null,"grid_template_areas":null,"grid_template_columns":null,"grid_template_rows":null,"height":null,"justify_content":null,"justify_items":null,"left":null,"margin":null,"max_height":null,"max_width":null,"min_height":null,"min_width":null,"object_fit":null,"object_position":null,"order":null,"overflow":null,"overflow_x":null,"overflow_y":null,"padding":null,"right":null,"top":null,"visibility":null,"width":null}},"7c31a2a960884365adc6620119ff2ec0":{"model_module":"@jupyter-widgets/base","model_name":"LayoutModel","model_module_version":"1.2.0","state":{"_model_module":"@jupyter-widgets/base","_model_module_version":"1.2.0","_model_name":"LayoutModel","_view_count":null,"_view_module":"@jupyter-widgets/base","_view_module_version":"1.2.0","_view_name":"LayoutView","align_content":null,"align_items":null,"align_self":null,"border":null,"bottom":null,"display":null,"flex":null,"flex_flow":null,"grid_area":null,"grid_auto_columns":null,"grid_auto_flow":null,"grid_auto_rows":null,"grid_column":null,"grid_gap":null,"grid_row":null,"grid_template_areas":null,"grid_template_columns":null,"grid_template_rows":null,"height":null,"justify_content":null,"justify_items":null,"left":null,"margin":null,"max_height":null,"max_width":null,"min_height":null,"min_width":null,"object_fit":null,"object_position":null,"order":null,"overflow":null,"overflow_x":null,"overflow_y":null,"padding":null,"right":null,"top":null,"visibility":null,"width":null}},"000d5f7216454c31b43dd7d82d9ed030":{"model_module":"@jupyter-widgets/controls","model_name":"DescriptionStyleModel","model_module_version":"1.5.0","state":{"_model_module":"@jupyter-widgets/controls","_model_module_version":"1.5.0","_model_name":"DescriptionStyleModel","_view_count":null,"_view_module":"@jupyter-widgets/base","_view_module_version":"1.2.0","_view_name":"StyleView","description_width":""}},"436d1c4f1ba3454e8d895e1e151330b2":{"model_module":"@jupyter-widgets/base","model_name":"LayoutModel","model_module_version":"1.2.0","state":{"_model_module":"@jupyter-widgets/base","_model_module_version":"1.2.0","_model_name":"LayoutModel","_view_count":null,"_view_module":"@jupyter-widgets/base","_view_module_version":"1.2.0","_view_name":"LayoutView","align_content":null,"align_items":null,"align_self":null,"border":null,"bottom":null,"display":null,"flex":null,"flex_flow":null,"grid_area":null,"grid_auto_columns":null,"grid_auto_flow":null,"grid_auto_rows":null,"grid_column":null,"grid_gap":null,"grid_row":null,"grid_template_areas":null,"grid_template_columns":null,"grid_template_rows":null,"height":null,"justify_content":null,"justify_items":null,"left":null,"margin":null,"max_height":null,"max_width":null,"min_height":null,"min_width":null,"object_fit":null,"object_position":null,"order":null,"overflow":null,"overflow_x":null,"overflow_y":null,"padding":null,"right":null,"top":null,"visibility":null,"width":null}},"eee5a936b74a43a0b25bc4ba25244fd8":{"model_module":"@jupyter-widgets/controls","model_name":"ProgressStyleModel","model_module_version":"1.5.0","state":{"_model_module":"@jupyter-widgets/controls","_model_module_version":"1.5.0","_model_name":"ProgressStyleModel","_view_count":null,"_view_module":"@jupyter-widgets/base","_view_module_version":"1.2.0","_view_name":"StyleView","bar_color":null,"description_width":""}},"520ac1df16a248ecaa8442de3d2a0ff7":{"model_module":"@jupyter-widgets/base","model_name":"LayoutModel","model_module_version":"1.2.0","state":{"_model_module":"@jupyter-widgets/base","_model_module_version":"1.2.0","_model_name":"LayoutModel","_view_count":null,"_view_module":"@jupyter-widgets/base","_view_module_version":"1.2.0","_view_name":"LayoutView","align_content":null,"align_items":null,"align_self":null,"border":null,"bottom":null,"display":null,"flex":null,"flex_flow":null,"grid_area":null,"grid_auto_columns":null,"grid_auto_flow":null,"grid_auto_rows":null,"grid_column":null,"grid_gap":null,"grid_row":null,"grid_template_areas":null,"grid_template_columns":null,"grid_template_rows":null,"height":null,"justify_content":null,"justify_items":null,"left":null,"margin":null,"max_height":null,"max_width":null,"min_height":null,"min_width":null,"object_fit":null,"object_position":null,"order":null,"overflow":null,"overflow_x":null,"overflow_y":null,"padding":null,"right":null,"top":null,"visibility":null,"width":null}},"bd845d52b3a242c68e8f95a00769abed":{"model_module":"@jupyter-widgets/controls","model_name":"DescriptionStyleModel","model_module_version":"1.5.0","state":{"_model_module":"@jupyter-widgets/controls","_model_module_version":"1.5.0","_model_name":"DescriptionStyleModel","_view_count":null,"_view_module":"@jupyter-widgets/base","_view_module_version":"1.2.0","_view_name":"StyleView","description_width":""}},"329ddc4787f44ae8ba26a602cb9c55bb":{"model_module":"@jupyter-widgets/controls","model_name":"HBoxModel","model_module_version":"1.5.0","state":{"_dom_classes":[],"_model_module":"@jupyter-widgets/controls","_model_module_version":"1.5.0","_model_name":"HBoxModel","_view_count":null,"_view_module":"@jupyter-widgets/controls","_view_module_version":"1.5.0","_view_name":"HBoxView","box_style":"","children":["IPY_MODEL_48187368c3d246ad89e0f4dd688a992c","IPY_MODEL_42d5a899fb4642c3946bd3c566738b09","IPY_MODEL_ddb10921951f4950bf5b5c1724441659"],"layout":"IPY_MODEL_8e1d709c5df94c5ebd2546def03954e0"}},"48187368c3d246ad89e0f4dd688a992c":{"model_module":"@jupyter-widgets/controls","model_name":"HTMLModel","model_module_version":"1.5.0","state":{"_dom_classes":[],"_model_module":"@jupyter-widgets/controls","_model_module_version":"1.5.0","_model_name":"HTMLModel","_view_count":null,"_view_module":"@jupyter-widgets/controls","_view_module_version":"1.5.0","_view_name":"HTMLView","description":"","description_tooltip":null,"layout":"IPY_MODEL_5817c390ff9e4ad8975690bc81beee73","placeholder":"​","style":"IPY_MODEL_e21a3d3ab73d4b7a87ac4421f71b2289","value":"merges.txt: 100%"}},"42d5a899fb4642c3946bd3c566738b09":{"model_module":"@jupyter-widgets/controls","model_name":"FloatProgressModel","model_module_version":"1.5.0","state":{"_dom_classes":[],"_model_module":"@jupyter-widgets/controls","_model_module_version":"1.5.0","_model_name":"FloatProgressModel","_view_count":null,"_view_module":"@jupyter-widgets/controls","_view_module_version":"1.5.0","_view_name":"ProgressView","bar_style":"success","description":"","description_tooltip":null,"layout":"IPY_MODEL_9ad15ede77eb482987fd989fa177f9f6","max":456318,"min":0,"orientation":"horizontal","style":"IPY_MODEL_7404b10a1b354c068b6cbf8d8bf37760","value":456318}},"ddb10921951f4950bf5b5c1724441659":{"model_module":"@jupyter-widgets/controls","model_name":"HTMLModel","model_module_version":"1.5.0","state":{"_dom_classes":[],"_model_module":"@jupyter-widgets/controls","_model_module_version":"1.5.0","_model_name":"HTMLModel","_view_count":null,"_view_module":"@jupyter-widgets/controls","_view_module_version":"1.5.0","_view_name":"HTMLView","description":"","description_tooltip":null,"layout":"IPY_MODEL_fb19300484d545acb455697be8f1c8af","placeholder":"​","style":"IPY_MODEL_00aedb5be9b644cda5c5a4b8d920e52c","value":" 456k/456k [00:00&lt;00:00, 16.6MB/s]"}},"8e1d709c5df94c5ebd2546def03954e0":{"model_module":"@jupyter-widgets/base","model_name":"LayoutModel","model_module_version":"1.2.0","state":{"_model_module":"@jupyter-widgets/base","_model_module_version":"1.2.0","_model_name":"LayoutModel","_view_count":null,"_view_module":"@jupyter-widgets/base","_view_module_version":"1.2.0","_view_name":"LayoutView","align_content":null,"align_items":null,"align_self":null,"border":null,"bottom":null,"display":null,"flex":null,"flex_flow":null,"grid_area":null,"grid_auto_columns":null,"grid_auto_flow":null,"grid_auto_rows":null,"grid_column":null,"grid_gap":null,"grid_row":null,"grid_template_areas":null,"grid_template_columns":null,"grid_template_rows":null,"height":null,"justify_content":null,"justify_items":null,"left":null,"margin":null,"max_height":null,"max_width":null,"min_height":null,"min_width":null,"object_fit":null,"object_position":null,"order":null,"overflow":null,"overflow_x":null,"overflow_y":null,"padding":null,"right":null,"top":null,"visibility":null,"width":null}},"5817c390ff9e4ad8975690bc81beee73":{"model_module":"@jupyter-widgets/base","model_name":"LayoutModel","model_module_version":"1.2.0","state":{"_model_module":"@jupyter-widgets/base","_model_module_version":"1.2.0","_model_name":"LayoutModel","_view_count":null,"_view_module":"@jupyter-widgets/base","_view_module_version":"1.2.0","_view_name":"LayoutView","align_content":null,"align_items":null,"align_self":null,"border":null,"bottom":null,"display":null,"flex":null,"flex_flow":null,"grid_area":null,"grid_auto_columns":null,"grid_auto_flow":null,"grid_auto_rows":null,"grid_column":null,"grid_gap":null,"grid_row":null,"grid_template_areas":null,"grid_template_columns":null,"grid_template_rows":null,"height":null,"justify_content":null,"justify_items":null,"left":null,"margin":null,"max_height":null,"max_width":null,"min_height":null,"min_width":null,"object_fit":null,"object_position":null,"order":null,"overflow":null,"overflow_x":null,"overflow_y":null,"padding":null,"right":null,"top":null,"visibility":null,"width":null}},"e21a3d3ab73d4b7a87ac4421f71b2289":{"model_module":"@jupyter-widgets/controls","model_name":"DescriptionStyleModel","model_module_version":"1.5.0","state":{"_model_module":"@jupyter-widgets/controls","_model_module_version":"1.5.0","_model_name":"DescriptionStyleModel","_view_count":null,"_view_module":"@jupyter-widgets/base","_view_module_version":"1.2.0","_view_name":"StyleView","description_width":""}},"9ad15ede77eb482987fd989fa177f9f6":{"model_module":"@jupyter-widgets/base","model_name":"LayoutModel","model_module_version":"1.2.0","state":{"_model_module":"@jupyter-widgets/base","_model_module_version":"1.2.0","_model_name":"LayoutModel","_view_count":null,"_view_module":"@jupyter-widgets/base","_view_module_version":"1.2.0","_view_name":"LayoutView","align_content":null,"align_items":null,"align_self":null,"border":null,"bottom":null,"display":null,"flex":null,"flex_flow":null,"grid_area":null,"grid_auto_columns":null,"grid_auto_flow":null,"grid_auto_rows":null,"grid_column":null,"grid_gap":null,"grid_row":null,"grid_template_areas":null,"grid_template_columns":null,"grid_template_rows":null,"height":null,"justify_content":null,"justify_items":null,"left":null,"margin":null,"max_height":null,"max_width":null,"min_height":null,"min_width":null,"object_fit":null,"object_position":null,"order":null,"overflow":null,"overflow_x":null,"overflow_y":null,"padding":null,"right":null,"top":null,"visibility":null,"width":null}},"7404b10a1b354c068b6cbf8d8bf37760":{"model_module":"@jupyter-widgets/controls","model_name":"ProgressStyleModel","model_module_version":"1.5.0","state":{"_model_module":"@jupyter-widgets/controls","_model_module_version":"1.5.0","_model_name":"ProgressStyleModel","_view_count":null,"_view_module":"@jupyter-widgets/base","_view_module_version":"1.2.0","_view_name":"StyleView","bar_color":null,"description_width":""}},"fb19300484d545acb455697be8f1c8af":{"model_module":"@jupyter-widgets/base","model_name":"LayoutModel","model_module_version":"1.2.0","state":{"_model_module":"@jupyter-widgets/base","_model_module_version":"1.2.0","_model_name":"LayoutModel","_view_count":null,"_view_module":"@jupyter-widgets/base","_view_module_version":"1.2.0","_view_name":"LayoutView","align_content":null,"align_items":null,"align_self":null,"border":null,"bottom":null,"display":null,"flex":null,"flex_flow":null,"grid_area":null,"grid_auto_columns":null,"grid_auto_flow":null,"grid_auto_rows":null,"grid_column":null,"grid_gap":null,"grid_row":null,"grid_template_areas":null,"grid_template_columns":null,"grid_template_rows":null,"height":null,"justify_content":null,"justify_items":null,"left":null,"margin":null,"max_height":null,"max_width":null,"min_height":null,"min_width":null,"object_fit":null,"object_position":null,"order":null,"overflow":null,"overflow_x":null,"overflow_y":null,"padding":null,"right":null,"top":null,"visibility":null,"width":null}},"00aedb5be9b644cda5c5a4b8d920e52c":{"model_module":"@jupyter-widgets/controls","model_name":"DescriptionStyleModel","model_module_version":"1.5.0","state":{"_model_module":"@jupyter-widgets/controls","_model_module_version":"1.5.0","_model_name":"DescriptionStyleModel","_view_count":null,"_view_module":"@jupyter-widgets/base","_view_module_version":"1.2.0","_view_name":"StyleView","description_width":""}},"59826a606d664547b80d06cfadc09f19":{"model_module":"@jupyter-widgets/controls","model_name":"HBoxModel","model_module_version":"1.5.0","state":{"_dom_classes":[],"_model_module":"@jupyter-widgets/controls","_model_module_version":"1.5.0","_model_name":"HBoxModel","_view_count":null,"_view_module":"@jupyter-widgets/controls","_view_module_version":"1.5.0","_view_name":"HBoxView","box_style":"","children":["IPY_MODEL_c8bc74dc5b2d482985ad6f7aeafbcdf3","IPY_MODEL_9e05812752894e8385a835c4bafbe0d2","IPY_MODEL_1355ceda6fe84459a57149e64a9b24ee"],"layout":"IPY_MODEL_6af035ac02624dc49c775064216572ad"}},"c8bc74dc5b2d482985ad6f7aeafbcdf3":{"model_module":"@jupyter-widgets/controls","model_name":"HTMLModel","model_module_version":"1.5.0","state":{"_dom_classes":[],"_model_module":"@jupyter-widgets/controls","_model_module_version":"1.5.0","_model_name":"HTMLModel","_view_count":null,"_view_module":"@jupyter-widgets/controls","_view_module_version":"1.5.0","_view_name":"HTMLView","description":"","description_tooltip":null,"layout":"IPY_MODEL_8dca2dacc76f40a991c15bffb536f810","placeholder":"​","style":"IPY_MODEL_f047618d54454ba1b1349fc4f9ab23c2","value":"pytorch_model.bin: 100%"}},"9e05812752894e8385a835c4bafbe0d2":{"model_module":"@jupyter-widgets/controls","model_name":"FloatProgressModel","model_module_version":"1.5.0","state":{"_dom_classes":[],"_model_module":"@jupyter-widgets/controls","_model_module_version":"1.5.0","_model_name":"FloatProgressModel","_view_count":null,"_view_module":"@jupyter-widgets/controls","_view_module_version":"1.5.0","_view_name":"ProgressView","bar_style":"success","description":"","description_tooltip":null,"layout":"IPY_MODEL_a8fbd1d8e4ac4fa1bb9b4e42952b85e7","max":501204462,"min":0,"orientation":"horizontal","style":"IPY_MODEL_ed4b0ed58ada4ad2ab845c5bf2e6847d","value":501204462}},"1355ceda6fe84459a57149e64a9b24ee":{"model_module":"@jupyter-widgets/controls","model_name":"HTMLModel","model_module_version":"1.5.0","state":{"_dom_classes":[],"_model_module":"@jupyter-widgets/controls","_model_module_version":"1.5.0","_model_name":"HTMLModel","_view_count":null,"_view_module":"@jupyter-widgets/controls","_view_module_version":"1.5.0","_view_name":"HTMLView","description":"","description_tooltip":null,"layout":"IPY_MODEL_e7cbac9456dc4893936312a27f26705d","placeholder":"​","style":"IPY_MODEL_8b0630acf7e94ad4a4750e2157888406","value":" 501M/501M [00:03&lt;00:00, 114MB/s]"}},"6af035ac02624dc49c775064216572ad":{"model_module":"@jupyter-widgets/base","model_name":"LayoutModel","model_module_version":"1.2.0","state":{"_model_module":"@jupyter-widgets/base","_model_module_version":"1.2.0","_model_name":"LayoutModel","_view_count":null,"_view_module":"@jupyter-widgets/base","_view_module_version":"1.2.0","_view_name":"LayoutView","align_content":null,"align_items":null,"align_self":null,"border":null,"bottom":null,"display":null,"flex":null,"flex_flow":null,"grid_area":null,"grid_auto_columns":null,"grid_auto_flow":null,"grid_auto_rows":null,"grid_column":null,"grid_gap":null,"grid_row":null,"grid_template_areas":null,"grid_template_columns":null,"grid_template_rows":null,"height":null,"justify_content":null,"justify_items":null,"left":null,"margin":null,"max_height":null,"max_width":null,"min_height":null,"min_width":null,"object_fit":null,"object_position":null,"order":null,"overflow":null,"overflow_x":null,"overflow_y":null,"padding":null,"right":null,"top":null,"visibility":null,"width":null}},"8dca2dacc76f40a991c15bffb536f810":{"model_module":"@jupyter-widgets/base","model_name":"LayoutModel","model_module_version":"1.2.0","state":{"_model_module":"@jupyter-widgets/base","_model_module_version":"1.2.0","_model_name":"LayoutModel","_view_count":null,"_view_module":"@jupyter-widgets/base","_view_module_version":"1.2.0","_view_name":"LayoutView","align_content":null,"align_items":null,"align_self":null,"border":null,"bottom":null,"display":null,"flex":null,"flex_flow":null,"grid_area":null,"grid_auto_columns":null,"grid_auto_flow":null,"grid_auto_rows":null,"grid_column":null,"grid_gap":null,"grid_row":null,"grid_template_areas":null,"grid_template_columns":null,"grid_template_rows":null,"height":null,"justify_content":null,"justify_items":null,"left":null,"margin":null,"max_height":null,"max_width":null,"min_height":null,"min_width":null,"object_fit":null,"object_position":null,"order":null,"overflow":null,"overflow_x":null,"overflow_y":null,"padding":null,"right":null,"top":null,"visibility":null,"width":null}},"f047618d54454ba1b1349fc4f9ab23c2":{"model_module":"@jupyter-widgets/controls","model_name":"DescriptionStyleModel","model_module_version":"1.5.0","state":{"_model_module":"@jupyter-widgets/controls","_model_module_version":"1.5.0","_model_name":"DescriptionStyleModel","_view_count":null,"_view_module":"@jupyter-widgets/base","_view_module_version":"1.2.0","_view_name":"StyleView","description_width":""}},"a8fbd1d8e4ac4fa1bb9b4e42952b85e7":{"model_module":"@jupyter-widgets/base","model_name":"LayoutModel","model_module_version":"1.2.0","state":{"_model_module":"@jupyter-widgets/base","_model_module_version":"1.2.0","_model_name":"LayoutModel","_view_count":null,"_view_module":"@jupyter-widgets/base","_view_module_version":"1.2.0","_view_name":"LayoutView","align_content":null,"align_items":null,"align_self":null,"border":null,"bottom":null,"display":null,"flex":null,"flex_flow":null,"grid_area":null,"grid_auto_columns":null,"grid_auto_flow":null,"grid_auto_rows":null,"grid_column":null,"grid_gap":null,"grid_row":null,"grid_template_areas":null,"grid_template_columns":null,"grid_template_rows":null,"height":null,"justify_content":null,"justify_items":null,"left":null,"margin":null,"max_height":null,"max_width":null,"min_height":null,"min_width":null,"object_fit":null,"object_position":null,"order":null,"overflow":null,"overflow_x":null,"overflow_y":null,"padding":null,"right":null,"top":null,"visibility":null,"width":null}},"ed4b0ed58ada4ad2ab845c5bf2e6847d":{"model_module":"@jupyter-widgets/controls","model_name":"ProgressStyleModel","model_module_version":"1.5.0","state":{"_model_module":"@jupyter-widgets/controls","_model_module_version":"1.5.0","_model_name":"ProgressStyleModel","_view_count":null,"_view_module":"@jupyter-widgets/base","_view_module_version":"1.2.0","_view_name":"StyleView","bar_color":null,"description_width":""}},"e7cbac9456dc4893936312a27f26705d":{"model_module":"@jupyter-widgets/base","model_name":"LayoutModel","model_module_version":"1.2.0","state":{"_model_module":"@jupyter-widgets/base","_model_module_version":"1.2.0","_model_name":"LayoutModel","_view_count":null,"_view_module":"@jupyter-widgets/base","_view_module_version":"1.2.0","_view_name":"LayoutView","align_content":null,"align_items":null,"align_self":null,"border":null,"bottom":null,"display":null,"flex":null,"flex_flow":null,"grid_area":null,"grid_auto_columns":null,"grid_auto_flow":null,"grid_auto_rows":null,"grid_column":null,"grid_gap":null,"grid_row":null,"grid_template_areas":null,"grid_template_columns":null,"grid_template_rows":null,"height":null,"justify_content":null,"justify_items":null,"left":null,"margin":null,"max_height":null,"max_width":null,"min_height":null,"min_width":null,"object_fit":null,"object_position":null,"order":null,"overflow":null,"overflow_x":null,"overflow_y":null,"padding":null,"right":null,"top":null,"visibility":null,"width":null}},"8b0630acf7e94ad4a4750e2157888406":{"model_module":"@jupyter-widgets/controls","model_name":"DescriptionStyleModel","model_module_version":"1.5.0","state":{"_model_module":"@jupyter-widgets/controls","_model_module_version":"1.5.0","_model_name":"DescriptionStyleModel","_view_count":null,"_view_module":"@jupyter-widgets/base","_view_module_version":"1.2.0","_view_name":"StyleView","description_width":""}},"9f1303f2caec4db6acc5b34568cd318e":{"model_module":"@jupyter-widgets/controls","model_name":"HBoxModel","model_module_version":"1.5.0","state":{"_dom_classes":[],"_model_module":"@jupyter-widgets/controls","_model_module_version":"1.5.0","_model_name":"HBoxModel","_view_count":null,"_view_module":"@jupyter-widgets/controls","_view_module_version":"1.5.0","_view_name":"HBoxView","box_style":"","children":["IPY_MODEL_826663e7349d42b789e8b73e9984e6bf","IPY_MODEL_35a0035e71044a5280595ed6c203eba7","IPY_MODEL_fbff0db46b434b88bcee2a6b53e65c3b"],"layout":"IPY_MODEL_c827e19cc8b94e7cb934680e99ce6271"}},"826663e7349d42b789e8b73e9984e6bf":{"model_module":"@jupyter-widgets/controls","model_name":"HTMLModel","model_module_version":"1.5.0","state":{"_dom_classes":[],"_model_module":"@jupyter-widgets/controls","_model_module_version":"1.5.0","_model_name":"HTMLModel","_view_count":null,"_view_module":"@jupyter-widgets/controls","_view_module_version":"1.5.0","_view_name":"HTMLView","description":"","description_tooltip":null,"layout":"IPY_MODEL_11c5377769e24046b27d404456d80869","placeholder":"​","style":"IPY_MODEL_3b470f4d61314e92bee19487acd02d74","value":"model.safetensors: 100%"}},"35a0035e71044a5280595ed6c203eba7":{"model_module":"@jupyter-widgets/controls","model_name":"FloatProgressModel","model_module_version":"1.5.0","state":{"_dom_classes":[],"_model_module":"@jupyter-widgets/controls","_model_module_version":"1.5.0","_model_name":"FloatProgressModel","_view_count":null,"_view_module":"@jupyter-widgets/controls","_view_module_version":"1.5.0","_view_name":"ProgressView","bar_style":"success","description":"","description_tooltip":null,"layout":"IPY_MODEL_e531a573327543239d98bad937a4ec68","max":501176510,"min":0,"orientation":"horizontal","style":"IPY_MODEL_4eb07d9781c54c6f8255ffb22a0e6866","value":501176510}},"fbff0db46b434b88bcee2a6b53e65c3b":{"model_module":"@jupyter-widgets/controls","model_name":"HTMLModel","model_module_version":"1.5.0","state":{"_dom_classes":[],"_model_module":"@jupyter-widgets/controls","_model_module_version":"1.5.0","_model_name":"HTMLModel","_view_count":null,"_view_module":"@jupyter-widgets/controls","_view_module_version":"1.5.0","_view_name":"HTMLView","description":"","description_tooltip":null,"layout":"IPY_MODEL_62d8fa6f180446bca8835692071ad86e","placeholder":"​","style":"IPY_MODEL_66bf5a8c21194bc289f8ca225e100422","value":" 501M/501M [00:06&lt;00:00, 78.1MB/s]"}},"c827e19cc8b94e7cb934680e99ce6271":{"model_module":"@jupyter-widgets/base","model_name":"LayoutModel","model_module_version":"1.2.0","state":{"_model_module":"@jupyter-widgets/base","_model_module_version":"1.2.0","_model_name":"LayoutModel","_view_count":null,"_view_module":"@jupyter-widgets/base","_view_module_version":"1.2.0","_view_name":"LayoutView","align_content":null,"align_items":null,"align_self":null,"border":null,"bottom":null,"display":null,"flex":null,"flex_flow":null,"grid_area":null,"grid_auto_columns":null,"grid_auto_flow":null,"grid_auto_rows":null,"grid_column":null,"grid_gap":null,"grid_row":null,"grid_template_areas":null,"grid_template_columns":null,"grid_template_rows":null,"height":null,"justify_content":null,"justify_items":null,"left":null,"margin":null,"max_height":null,"max_width":null,"min_height":null,"min_width":null,"object_fit":null,"object_position":null,"order":null,"overflow":null,"overflow_x":null,"overflow_y":null,"padding":null,"right":null,"top":null,"visibility":null,"width":null}},"11c5377769e24046b27d404456d80869":{"model_module":"@jupyter-widgets/base","model_name":"LayoutModel","model_module_version":"1.2.0","state":{"_model_module":"@jupyter-widgets/base","_model_module_version":"1.2.0","_model_name":"LayoutModel","_view_count":null,"_view_module":"@jupyter-widgets/base","_view_module_version":"1.2.0","_view_name":"LayoutView","align_content":null,"align_items":null,"align_self":null,"border":null,"bottom":null,"display":null,"flex":null,"flex_flow":null,"grid_area":null,"grid_auto_columns":null,"grid_auto_flow":null,"grid_auto_rows":null,"grid_column":null,"grid_gap":null,"grid_row":null,"grid_template_areas":null,"grid_template_columns":null,"grid_template_rows":null,"height":null,"justify_content":null,"justify_items":null,"left":null,"margin":null,"max_height":null,"max_width":null,"min_height":null,"min_width":null,"object_fit":null,"object_position":null,"order":null,"overflow":null,"overflow_x":null,"overflow_y":null,"padding":null,"right":null,"top":null,"visibility":null,"width":null}},"3b470f4d61314e92bee19487acd02d74":{"model_module":"@jupyter-widgets/controls","model_name":"DescriptionStyleModel","model_module_version":"1.5.0","state":{"_model_module":"@jupyter-widgets/controls","_model_module_version":"1.5.0","_model_name":"DescriptionStyleModel","_view_count":null,"_view_module":"@jupyter-widgets/base","_view_module_version":"1.2.0","_view_name":"StyleView","description_width":""}},"e531a573327543239d98bad937a4ec68":{"model_module":"@jupyter-widgets/base","model_name":"LayoutModel","model_module_version":"1.2.0","state":{"_model_module":"@jupyter-widgets/base","_model_module_version":"1.2.0","_model_name":"LayoutModel","_view_count":null,"_view_module":"@jupyter-widgets/base","_view_module_version":"1.2.0","_view_name":"LayoutView","align_content":null,"align_items":null,"align_self":null,"border":null,"bottom":null,"display":null,"flex":null,"flex_flow":null,"grid_area":null,"grid_auto_columns":null,"grid_auto_flow":null,"grid_auto_rows":null,"grid_column":null,"grid_gap":null,"grid_row":null,"grid_template_areas":null,"grid_template_columns":null,"grid_template_rows":null,"height":null,"justify_content":null,"justify_items":null,"left":null,"margin":null,"max_height":null,"max_width":null,"min_height":null,"min_width":null,"object_fit":null,"object_position":null,"order":null,"overflow":null,"overflow_x":null,"overflow_y":null,"padding":null,"right":null,"top":null,"visibility":null,"width":null}},"4eb07d9781c54c6f8255ffb22a0e6866":{"model_module":"@jupyter-widgets/controls","model_name":"ProgressStyleModel","model_module_version":"1.5.0","state":{"_model_module":"@jupyter-widgets/controls","_model_module_version":"1.5.0","_model_name":"ProgressStyleModel","_view_count":null,"_view_module":"@jupyter-widgets/base","_view_module_version":"1.2.0","_view_name":"StyleView","bar_color":null,"description_width":""}},"62d8fa6f180446bca8835692071ad86e":{"model_module":"@jupyter-widgets/base","model_name":"LayoutModel","model_module_version":"1.2.0","state":{"_model_module":"@jupyter-widgets/base","_model_module_version":"1.2.0","_model_name":"LayoutModel","_view_count":null,"_view_module":"@jupyter-widgets/base","_view_module_version":"1.2.0","_view_name":"LayoutView","align_content":null,"align_items":null,"align_self":null,"border":null,"bottom":null,"display":null,"flex":null,"flex_flow":null,"grid_area":null,"grid_auto_columns":null,"grid_auto_flow":null,"grid_auto_rows":null,"grid_column":null,"grid_gap":null,"grid_row":null,"grid_template_areas":null,"grid_template_columns":null,"grid_template_rows":null,"height":null,"justify_content":null,"justify_items":null,"left":null,"margin":null,"max_height":null,"max_width":null,"min_height":null,"min_width":null,"object_fit":null,"object_position":null,"order":null,"overflow":null,"overflow_x":null,"overflow_y":null,"padding":null,"right":null,"top":null,"visibility":null,"width":null}},"66bf5a8c21194bc289f8ca225e100422":{"model_module":"@jupyter-widgets/controls","model_name":"DescriptionStyleModel","model_module_version":"1.5.0","state":{"_model_module":"@jupyter-widgets/controls","_model_module_version":"1.5.0","_model_name":"DescriptionStyleModel","_view_count":null,"_view_module":"@jupyter-widgets/base","_view_module_version":"1.2.0","_view_name":"StyleView","description_width":""}},"9a8c053ca37a48ffa57bd7c5d5115f68":{"model_module":"@jupyter-widgets/controls","model_name":"HBoxModel","model_module_version":"1.5.0","state":{"_dom_classes":[],"_model_module":"@jupyter-widgets/controls","_model_module_version":"1.5.0","_model_name":"HBoxModel","_view_count":null,"_view_module":"@jupyter-widgets/controls","_view_module_version":"1.5.0","_view_name":"HBoxView","box_style":"","children":["IPY_MODEL_acf824b1470a4fe4b6719b2929b63735","IPY_MODEL_ac4a4dfdddbe40c2a188cdb652b62c1b","IPY_MODEL_602b7c7487124e6c9d0cc76ca6d5da9a"],"layout":"IPY_MODEL_4f0efec8c92c4fed988a73e1dec76cc8"}},"acf824b1470a4fe4b6719b2929b63735":{"model_module":"@jupyter-widgets/controls","model_name":"HTMLModel","model_module_version":"1.5.0","state":{"_dom_classes":[],"_model_module":"@jupyter-widgets/controls","_model_module_version":"1.5.0","_model_name":"HTMLModel","_view_count":null,"_view_module":"@jupyter-widgets/controls","_view_module_version":"1.5.0","_view_name":"HTMLView","description":"","description_tooltip":null,"layout":"IPY_MODEL_931196d548cc46389ce4ff515091fcd1","placeholder":"​","style":"IPY_MODEL_0a108c2a70c94514a27f34bfdf5db87c","value":"tokenizer_config.json: 100%"}},"ac4a4dfdddbe40c2a188cdb652b62c1b":{"model_module":"@jupyter-widgets/controls","model_name":"FloatProgressModel","model_module_version":"1.5.0","state":{"_dom_classes":[],"_model_module":"@jupyter-widgets/controls","_model_module_version":"1.5.0","_model_name":"FloatProgressModel","_view_count":null,"_view_module":"@jupyter-widgets/controls","_view_module_version":"1.5.0","_view_name":"ProgressView","bar_style":"success","description":"","description_tooltip":null,"layout":"IPY_MODEL_0864bdfe0ed246b7895159fcaff7b449","max":48,"min":0,"orientation":"horizontal","style":"IPY_MODEL_f1c13e7989a149b3817f2675c9d8c8eb","value":48}},"602b7c7487124e6c9d0cc76ca6d5da9a":{"model_module":"@jupyter-widgets/controls","model_name":"HTMLModel","model_module_version":"1.5.0","state":{"_dom_classes":[],"_model_module":"@jupyter-widgets/controls","_model_module_version":"1.5.0","_model_name":"HTMLModel","_view_count":null,"_view_module":"@jupyter-widgets/controls","_view_module_version":"1.5.0","_view_name":"HTMLView","description":"","description_tooltip":null,"layout":"IPY_MODEL_2bb1a079700545af94f6be26983f4e70","placeholder":"​","style":"IPY_MODEL_12ae368a73804b32b609738dec3c6720","value":" 48.0/48.0 [00:00&lt;00:00, 2.38kB/s]"}},"4f0efec8c92c4fed988a73e1dec76cc8":{"model_module":"@jupyter-widgets/base","model_name":"LayoutModel","model_module_version":"1.2.0","state":{"_model_module":"@jupyter-widgets/base","_model_module_version":"1.2.0","_model_name":"LayoutModel","_view_count":null,"_view_module":"@jupyter-widgets/base","_view_module_version":"1.2.0","_view_name":"LayoutView","align_content":null,"align_items":null,"align_self":null,"border":null,"bottom":null,"display":null,"flex":null,"flex_flow":null,"grid_area":null,"grid_auto_columns":null,"grid_auto_flow":null,"grid_auto_rows":null,"grid_column":null,"grid_gap":null,"grid_row":null,"grid_template_areas":null,"grid_template_columns":null,"grid_template_rows":null,"height":null,"justify_content":null,"justify_items":null,"left":null,"margin":null,"max_height":null,"max_width":null,"min_height":null,"min_width":null,"object_fit":null,"object_position":null,"order":null,"overflow":null,"overflow_x":null,"overflow_y":null,"padding":null,"right":null,"top":null,"visibility":null,"width":null}},"931196d548cc46389ce4ff515091fcd1":{"model_module":"@jupyter-widgets/base","model_name":"LayoutModel","model_module_version":"1.2.0","state":{"_model_module":"@jupyter-widgets/base","_model_module_version":"1.2.0","_model_name":"LayoutModel","_view_count":null,"_view_module":"@jupyter-widgets/base","_view_module_version":"1.2.0","_view_name":"LayoutView","align_content":null,"align_items":null,"align_self":null,"border":null,"bottom":null,"display":null,"flex":null,"flex_flow":null,"grid_area":null,"grid_auto_columns":null,"grid_auto_flow":null,"grid_auto_rows":null,"grid_column":null,"grid_gap":null,"grid_row":null,"grid_template_areas":null,"grid_template_columns":null,"grid_template_rows":null,"height":null,"justify_content":null,"justify_items":null,"left":null,"margin":null,"max_height":null,"max_width":null,"min_height":null,"min_width":null,"object_fit":null,"object_position":null,"order":null,"overflow":null,"overflow_x":null,"overflow_y":null,"padding":null,"right":null,"top":null,"visibility":null,"width":null}},"0a108c2a70c94514a27f34bfdf5db87c":{"model_module":"@jupyter-widgets/controls","model_name":"DescriptionStyleModel","model_module_version":"1.5.0","state":{"_model_module":"@jupyter-widgets/controls","_model_module_version":"1.5.0","_model_name":"DescriptionStyleModel","_view_count":null,"_view_module":"@jupyter-widgets/base","_view_module_version":"1.2.0","_view_name":"StyleView","description_width":""}},"0864bdfe0ed246b7895159fcaff7b449":{"model_module":"@jupyter-widgets/base","model_name":"LayoutModel","model_module_version":"1.2.0","state":{"_model_module":"@jupyter-widgets/base","_model_module_version":"1.2.0","_model_name":"LayoutModel","_view_count":null,"_view_module":"@jupyter-widgets/base","_view_module_version":"1.2.0","_view_name":"LayoutView","align_content":null,"align_items":null,"align_self":null,"border":null,"bottom":null,"display":null,"flex":null,"flex_flow":null,"grid_area":null,"grid_auto_columns":null,"grid_auto_flow":null,"grid_auto_rows":null,"grid_column":null,"grid_gap":null,"grid_row":null,"grid_template_areas":null,"grid_template_columns":null,"grid_template_rows":null,"height":null,"justify_content":null,"justify_items":null,"left":null,"margin":null,"max_height":null,"max_width":null,"min_height":null,"min_width":null,"object_fit":null,"object_position":null,"order":null,"overflow":null,"overflow_x":null,"overflow_y":null,"padding":null,"right":null,"top":null,"visibility":null,"width":null}},"f1c13e7989a149b3817f2675c9d8c8eb":{"model_module":"@jupyter-widgets/controls","model_name":"ProgressStyleModel","model_module_version":"1.5.0","state":{"_model_module":"@jupyter-widgets/controls","_model_module_version":"1.5.0","_model_name":"ProgressStyleModel","_view_count":null,"_view_module":"@jupyter-widgets/base","_view_module_version":"1.2.0","_view_name":"StyleView","bar_color":null,"description_width":""}},"2bb1a079700545af94f6be26983f4e70":{"model_module":"@jupyter-widgets/base","model_name":"LayoutModel","model_module_version":"1.2.0","state":{"_model_module":"@jupyter-widgets/base","_model_module_version":"1.2.0","_model_name":"LayoutModel","_view_count":null,"_view_module":"@jupyter-widgets/base","_view_module_version":"1.2.0","_view_name":"LayoutView","align_content":null,"align_items":null,"align_self":null,"border":null,"bottom":null,"display":null,"flex":null,"flex_flow":null,"grid_area":null,"grid_auto_columns":null,"grid_auto_flow":null,"grid_auto_rows":null,"grid_column":null,"grid_gap":null,"grid_row":null,"grid_template_areas":null,"grid_template_columns":null,"grid_template_rows":null,"height":null,"justify_content":null,"justify_items":null,"left":null,"margin":null,"max_height":null,"max_width":null,"min_height":null,"min_width":null,"object_fit":null,"object_position":null,"order":null,"overflow":null,"overflow_x":null,"overflow_y":null,"padding":null,"right":null,"top":null,"visibility":null,"width":null}},"12ae368a73804b32b609738dec3c6720":{"model_module":"@jupyter-widgets/controls","model_name":"DescriptionStyleModel","model_module_version":"1.5.0","state":{"_model_module":"@jupyter-widgets/controls","_model_module_version":"1.5.0","_model_name":"DescriptionStyleModel","_view_count":null,"_view_module":"@jupyter-widgets/base","_view_module_version":"1.2.0","_view_name":"StyleView","description_width":""}},"e5f885b29bd84e689bdd6d9bdcaee82c":{"model_module":"@jupyter-widgets/controls","model_name":"HBoxModel","model_module_version":"1.5.0","state":{"_dom_classes":[],"_model_module":"@jupyter-widgets/controls","_model_module_version":"1.5.0","_model_name":"HBoxModel","_view_count":null,"_view_module":"@jupyter-widgets/controls","_view_module_version":"1.5.0","_view_name":"HBoxView","box_style":"","children":["IPY_MODEL_c6fa8268fee4424eb1e9c8b8e3ac8d6c","IPY_MODEL_0d81f56aa8124c2cb352e0a3dfd679b5","IPY_MODEL_843d64b465714f8383cb3354e7e2faa9"],"layout":"IPY_MODEL_bc8691cc129b4643b0d6c2add0695262"}},"c6fa8268fee4424eb1e9c8b8e3ac8d6c":{"model_module":"@jupyter-widgets/controls","model_name":"HTMLModel","model_module_version":"1.5.0","state":{"_dom_classes":[],"_model_module":"@jupyter-widgets/controls","_model_module_version":"1.5.0","_model_name":"HTMLModel","_view_count":null,"_view_module":"@jupyter-widgets/controls","_view_module_version":"1.5.0","_view_name":"HTMLView","description":"","description_tooltip":null,"layout":"IPY_MODEL_0843b692394943fb9bc19cca5cfb8d50","placeholder":"​","style":"IPY_MODEL_a8cd91cdb366438c92c5591e5007dfe0","value":"config.json: 100%"}},"0d81f56aa8124c2cb352e0a3dfd679b5":{"model_module":"@jupyter-widgets/controls","model_name":"FloatProgressModel","model_module_version":"1.5.0","state":{"_dom_classes":[],"_model_module":"@jupyter-widgets/controls","_model_module_version":"1.5.0","_model_name":"FloatProgressModel","_view_count":null,"_view_module":"@jupyter-widgets/controls","_view_module_version":"1.5.0","_view_name":"ProgressView","bar_style":"success","description":"","description_tooltip":null,"layout":"IPY_MODEL_1f8afc6f19d048bc8805989d22c810c7","max":629,"min":0,"orientation":"horizontal","style":"IPY_MODEL_eb9de0a2120d45428dc73454f6334e8a","value":629}},"843d64b465714f8383cb3354e7e2faa9":{"model_module":"@jupyter-widgets/controls","model_name":"HTMLModel","model_module_version":"1.5.0","state":{"_dom_classes":[],"_model_module":"@jupyter-widgets/controls","_model_module_version":"1.5.0","_model_name":"HTMLModel","_view_count":null,"_view_module":"@jupyter-widgets/controls","_view_module_version":"1.5.0","_view_name":"HTMLView","description":"","description_tooltip":null,"layout":"IPY_MODEL_038643eb56fb449690705ee553c17e43","placeholder":"​","style":"IPY_MODEL_951d7a8096794f19ae6bb0b39085778c","value":" 629/629 [00:00&lt;00:00, 32.1kB/s]"}},"bc8691cc129b4643b0d6c2add0695262":{"model_module":"@jupyter-widgets/base","model_name":"LayoutModel","model_module_version":"1.2.0","state":{"_model_module":"@jupyter-widgets/base","_model_module_version":"1.2.0","_model_name":"LayoutModel","_view_count":null,"_view_module":"@jupyter-widgets/base","_view_module_version":"1.2.0","_view_name":"LayoutView","align_content":null,"align_items":null,"align_self":null,"border":null,"bottom":null,"display":null,"flex":null,"flex_flow":null,"grid_area":null,"grid_auto_columns":null,"grid_auto_flow":null,"grid_auto_rows":null,"grid_column":null,"grid_gap":null,"grid_row":null,"grid_template_areas":null,"grid_template_columns":null,"grid_template_rows":null,"height":null,"justify_content":null,"justify_items":null,"left":null,"margin":null,"max_height":null,"max_width":null,"min_height":null,"min_width":null,"object_fit":null,"object_position":null,"order":null,"overflow":null,"overflow_x":null,"overflow_y":null,"padding":null,"right":null,"top":null,"visibility":null,"width":null}},"0843b692394943fb9bc19cca5cfb8d50":{"model_module":"@jupyter-widgets/base","model_name":"LayoutModel","model_module_version":"1.2.0","state":{"_model_module":"@jupyter-widgets/base","_model_module_version":"1.2.0","_model_name":"LayoutModel","_view_count":null,"_view_module":"@jupyter-widgets/base","_view_module_version":"1.2.0","_view_name":"LayoutView","align_content":null,"align_items":null,"align_self":null,"border":null,"bottom":null,"display":null,"flex":null,"flex_flow":null,"grid_area":null,"grid_auto_columns":null,"grid_auto_flow":null,"grid_auto_rows":null,"grid_column":null,"grid_gap":null,"grid_row":null,"grid_template_areas":null,"grid_template_columns":null,"grid_template_rows":null,"height":null,"justify_content":null,"justify_items":null,"left":null,"margin":null,"max_height":null,"max_width":null,"min_height":null,"min_width":null,"object_fit":null,"object_position":null,"order":null,"overflow":null,"overflow_x":null,"overflow_y":null,"padding":null,"right":null,"top":null,"visibility":null,"width":null}},"a8cd91cdb366438c92c5591e5007dfe0":{"model_module":"@jupyter-widgets/controls","model_name":"DescriptionStyleModel","model_module_version":"1.5.0","state":{"_model_module":"@jupyter-widgets/controls","_model_module_version":"1.5.0","_model_name":"DescriptionStyleModel","_view_count":null,"_view_module":"@jupyter-widgets/base","_view_module_version":"1.2.0","_view_name":"StyleView","description_width":""}},"1f8afc6f19d048bc8805989d22c810c7":{"model_module":"@jupyter-widgets/base","model_name":"LayoutModel","model_module_version":"1.2.0","state":{"_model_module":"@jupyter-widgets/base","_model_module_version":"1.2.0","_model_name":"LayoutModel","_view_count":null,"_view_module":"@jupyter-widgets/base","_view_module_version":"1.2.0","_view_name":"LayoutView","align_content":null,"align_items":null,"align_self":null,"border":null,"bottom":null,"display":null,"flex":null,"flex_flow":null,"grid_area":null,"grid_auto_columns":null,"grid_auto_flow":null,"grid_auto_rows":null,"grid_column":null,"grid_gap":null,"grid_row":null,"grid_template_areas":null,"grid_template_columns":null,"grid_template_rows":null,"height":null,"justify_content":null,"justify_items":null,"left":null,"margin":null,"max_height":null,"max_width":null,"min_height":null,"min_width":null,"object_fit":null,"object_position":null,"order":null,"overflow":null,"overflow_x":null,"overflow_y":null,"padding":null,"right":null,"top":null,"visibility":null,"width":null}},"eb9de0a2120d45428dc73454f6334e8a":{"model_module":"@jupyter-widgets/controls","model_name":"ProgressStyleModel","model_module_version":"1.5.0","state":{"_model_module":"@jupyter-widgets/controls","_model_module_version":"1.5.0","_model_name":"ProgressStyleModel","_view_count":null,"_view_module":"@jupyter-widgets/base","_view_module_version":"1.2.0","_view_name":"StyleView","bar_color":null,"description_width":""}},"038643eb56fb449690705ee553c17e43":{"model_module":"@jupyter-widgets/base","model_name":"LayoutModel","model_module_version":"1.2.0","state":{"_model_module":"@jupyter-widgets/base","_model_module_version":"1.2.0","_model_name":"LayoutModel","_view_count":null,"_view_module":"@jupyter-widgets/base","_view_module_version":"1.2.0","_view_name":"LayoutView","align_content":null,"align_items":null,"align_self":null,"border":null,"bottom":null,"display":null,"flex":null,"flex_flow":null,"grid_area":null,"grid_auto_columns":null,"grid_auto_flow":null,"grid_auto_rows":null,"grid_column":null,"grid_gap":null,"grid_row":null,"grid_template_areas":null,"grid_template_columns":null,"grid_template_rows":null,"height":null,"justify_content":null,"justify_items":null,"left":null,"margin":null,"max_height":null,"max_width":null,"min_height":null,"min_width":null,"object_fit":null,"object_position":null,"order":null,"overflow":null,"overflow_x":null,"overflow_y":null,"padding":null,"right":null,"top":null,"visibility":null,"width":null}},"951d7a8096794f19ae6bb0b39085778c":{"model_module":"@jupyter-widgets/controls","model_name":"DescriptionStyleModel","model_module_version":"1.5.0","state":{"_model_module":"@jupyter-widgets/controls","_model_module_version":"1.5.0","_model_name":"DescriptionStyleModel","_view_count":null,"_view_module":"@jupyter-widgets/base","_view_module_version":"1.2.0","_view_name":"StyleView","description_width":""}},"2ac1b3673eee4609bdba9e066070c3c5":{"model_module":"@jupyter-widgets/controls","model_name":"HBoxModel","model_module_version":"1.5.0","state":{"_dom_classes":[],"_model_module":"@jupyter-widgets/controls","_model_module_version":"1.5.0","_model_name":"HBoxModel","_view_count":null,"_view_module":"@jupyter-widgets/controls","_view_module_version":"1.5.0","_view_name":"HBoxView","box_style":"","children":["IPY_MODEL_9c257aec44fd42eda0d6dffa23f6f2ac","IPY_MODEL_6b6ad7faa91549c484ce3359d0c38885","IPY_MODEL_e0119baffc304045bfd202c812857cfc"],"layout":"IPY_MODEL_b70f7a759be0431187b808820f3a0527"}},"9c257aec44fd42eda0d6dffa23f6f2ac":{"model_module":"@jupyter-widgets/controls","model_name":"HTMLModel","model_module_version":"1.5.0","state":{"_dom_classes":[],"_model_module":"@jupyter-widgets/controls","_model_module_version":"1.5.0","_model_name":"HTMLModel","_view_count":null,"_view_module":"@jupyter-widgets/controls","_view_module_version":"1.5.0","_view_name":"HTMLView","description":"","description_tooltip":null,"layout":"IPY_MODEL_b44e448dc9f947998df0042f15a5e0b5","placeholder":"​","style":"IPY_MODEL_ccb28d67a8cb4c56a220966b1b3958a6","value":"vocab.txt: 100%"}},"6b6ad7faa91549c484ce3359d0c38885":{"model_module":"@jupyter-widgets/controls","model_name":"FloatProgressModel","model_module_version":"1.5.0","state":{"_dom_classes":[],"_model_module":"@jupyter-widgets/controls","_model_module_version":"1.5.0","_model_name":"FloatProgressModel","_view_count":null,"_view_module":"@jupyter-widgets/controls","_view_module_version":"1.5.0","_view_name":"ProgressView","bar_style":"success","description":"","description_tooltip":null,"layout":"IPY_MODEL_b6c9ebca3cc3426182e7e44f6e9a0922","max":231508,"min":0,"orientation":"horizontal","style":"IPY_MODEL_6a25f26bc888472bba82b849d59171d2","value":231508}},"e0119baffc304045bfd202c812857cfc":{"model_module":"@jupyter-widgets/controls","model_name":"HTMLModel","model_module_version":"1.5.0","state":{"_dom_classes":[],"_model_module":"@jupyter-widgets/controls","_model_module_version":"1.5.0","_model_name":"HTMLModel","_view_count":null,"_view_module":"@jupyter-widgets/controls","_view_module_version":"1.5.0","_view_name":"HTMLView","description":"","description_tooltip":null,"layout":"IPY_MODEL_a69e3b0734c24204b6ec6c579f863eeb","placeholder":"​","style":"IPY_MODEL_c1f59bab581543f98988b74a019e3228","value":" 232k/232k [00:00&lt;00:00, 4.30MB/s]"}},"b70f7a759be0431187b808820f3a0527":{"model_module":"@jupyter-widgets/base","model_name":"LayoutModel","model_module_version":"1.2.0","state":{"_model_module":"@jupyter-widgets/base","_model_module_version":"1.2.0","_model_name":"LayoutModel","_view_count":null,"_view_module":"@jupyter-widgets/base","_view_module_version":"1.2.0","_view_name":"LayoutView","align_content":null,"align_items":null,"align_self":null,"border":null,"bottom":null,"display":null,"flex":null,"flex_flow":null,"grid_area":null,"grid_auto_columns":null,"grid_auto_flow":null,"grid_auto_rows":null,"grid_column":null,"grid_gap":null,"grid_row":null,"grid_template_areas":null,"grid_template_columns":null,"grid_template_rows":null,"height":null,"justify_content":null,"justify_items":null,"left":null,"margin":null,"max_height":null,"max_width":null,"min_height":null,"min_width":null,"object_fit":null,"object_position":null,"order":null,"overflow":null,"overflow_x":null,"overflow_y":null,"padding":null,"right":null,"top":null,"visibility":null,"width":null}},"b44e448dc9f947998df0042f15a5e0b5":{"model_module":"@jupyter-widgets/base","model_name":"LayoutModel","model_module_version":"1.2.0","state":{"_model_module":"@jupyter-widgets/base","_model_module_version":"1.2.0","_model_name":"LayoutModel","_view_count":null,"_view_module":"@jupyter-widgets/base","_view_module_version":"1.2.0","_view_name":"LayoutView","align_content":null,"align_items":null,"align_self":null,"border":null,"bottom":null,"display":null,"flex":null,"flex_flow":null,"grid_area":null,"grid_auto_columns":null,"grid_auto_flow":null,"grid_auto_rows":null,"grid_column":null,"grid_gap":null,"grid_row":null,"grid_template_areas":null,"grid_template_columns":null,"grid_template_rows":null,"height":null,"justify_content":null,"justify_items":null,"left":null,"margin":null,"max_height":null,"max_width":null,"min_height":null,"min_width":null,"object_fit":null,"object_position":null,"order":null,"overflow":null,"overflow_x":null,"overflow_y":null,"padding":null,"right":null,"top":null,"visibility":null,"width":null}},"ccb28d67a8cb4c56a220966b1b3958a6":{"model_module":"@jupyter-widgets/controls","model_name":"DescriptionStyleModel","model_module_version":"1.5.0","state":{"_model_module":"@jupyter-widgets/controls","_model_module_version":"1.5.0","_model_name":"DescriptionStyleModel","_view_count":null,"_view_module":"@jupyter-widgets/base","_view_module_version":"1.2.0","_view_name":"StyleView","description_width":""}},"b6c9ebca3cc3426182e7e44f6e9a0922":{"model_module":"@jupyter-widgets/base","model_name":"LayoutModel","model_module_version":"1.2.0","state":{"_model_module":"@jupyter-widgets/base","_model_module_version":"1.2.0","_model_name":"LayoutModel","_view_count":null,"_view_module":"@jupyter-widgets/base","_view_module_version":"1.2.0","_view_name":"LayoutView","align_content":null,"align_items":null,"align_self":null,"border":null,"bottom":null,"display":null,"flex":null,"flex_flow":null,"grid_area":null,"grid_auto_columns":null,"grid_auto_flow":null,"grid_auto_rows":null,"grid_column":null,"grid_gap":null,"grid_row":null,"grid_template_areas":null,"grid_template_columns":null,"grid_template_rows":null,"height":null,"justify_content":null,"justify_items":null,"left":null,"margin":null,"max_height":null,"max_width":null,"min_height":null,"min_width":null,"object_fit":null,"object_position":null,"order":null,"overflow":null,"overflow_x":null,"overflow_y":null,"padding":null,"right":null,"top":null,"visibility":null,"width":null}},"6a25f26bc888472bba82b849d59171d2":{"model_module":"@jupyter-widgets/controls","model_name":"ProgressStyleModel","model_module_version":"1.5.0","state":{"_model_module":"@jupyter-widgets/controls","_model_module_version":"1.5.0","_model_name":"ProgressStyleModel","_view_count":null,"_view_module":"@jupyter-widgets/base","_view_module_version":"1.2.0","_view_name":"StyleView","bar_color":null,"description_width":""}},"a69e3b0734c24204b6ec6c579f863eeb":{"model_module":"@jupyter-widgets/base","model_name":"LayoutModel","model_module_version":"1.2.0","state":{"_model_module":"@jupyter-widgets/base","_model_module_version":"1.2.0","_model_name":"LayoutModel","_view_count":null,"_view_module":"@jupyter-widgets/base","_view_module_version":"1.2.0","_view_name":"LayoutView","align_content":null,"align_items":null,"align_self":null,"border":null,"bottom":null,"display":null,"flex":null,"flex_flow":null,"grid_area":null,"grid_auto_columns":null,"grid_auto_flow":null,"grid_auto_rows":null,"grid_column":null,"grid_gap":null,"grid_row":null,"grid_template_areas":null,"grid_template_columns":null,"grid_template_rows":null,"height":null,"justify_content":null,"justify_items":null,"left":null,"margin":null,"max_height":null,"max_width":null,"min_height":null,"min_width":null,"object_fit":null,"object_position":null,"order":null,"overflow":null,"overflow_x":null,"overflow_y":null,"padding":null,"right":null,"top":null,"visibility":null,"width":null}},"c1f59bab581543f98988b74a019e3228":{"model_module":"@jupyter-widgets/controls","model_name":"DescriptionStyleModel","model_module_version":"1.5.0","state":{"_model_module":"@jupyter-widgets/controls","_model_module_version":"1.5.0","_model_name":"DescriptionStyleModel","_view_count":null,"_view_module":"@jupyter-widgets/base","_view_module_version":"1.2.0","_view_name":"StyleView","description_width":""}},"cc1496925d2d485bb19842bd8131244a":{"model_module":"@jupyter-widgets/controls","model_name":"HBoxModel","model_module_version":"1.5.0","state":{"_dom_classes":[],"_model_module":"@jupyter-widgets/controls","_model_module_version":"1.5.0","_model_name":"HBoxModel","_view_count":null,"_view_module":"@jupyter-widgets/controls","_view_module_version":"1.5.0","_view_name":"HBoxView","box_style":"","children":["IPY_MODEL_36e130af407842208a82e4e3ed094fc8","IPY_MODEL_6ca9131d260f47a0ad05b149e15f0ab3","IPY_MODEL_eceed2c9818845fe8d563070a69b63f8"],"layout":"IPY_MODEL_6f04711a6b19400ab5ca6dd3f8c2129c"}},"36e130af407842208a82e4e3ed094fc8":{"model_module":"@jupyter-widgets/controls","model_name":"HTMLModel","model_module_version":"1.5.0","state":{"_dom_classes":[],"_model_module":"@jupyter-widgets/controls","_model_module_version":"1.5.0","_model_name":"HTMLModel","_view_count":null,"_view_module":"@jupyter-widgets/controls","_view_module_version":"1.5.0","_view_name":"HTMLView","description":"","description_tooltip":null,"layout":"IPY_MODEL_508b002475bb42c4abe04bcc2eb60cce","placeholder":"​","style":"IPY_MODEL_0808ff54727c49448ef764c258047005","value":"Map: 100%"}},"6ca9131d260f47a0ad05b149e15f0ab3":{"model_module":"@jupyter-widgets/controls","model_name":"FloatProgressModel","model_module_version":"1.5.0","state":{"_dom_classes":[],"_model_module":"@jupyter-widgets/controls","_model_module_version":"1.5.0","_model_name":"FloatProgressModel","_view_count":null,"_view_module":"@jupyter-widgets/controls","_view_module_version":"1.5.0","_view_name":"ProgressView","bar_style":"success","description":"","description_tooltip":null,"layout":"IPY_MODEL_c2d7dd7e08c5418f9cf46a74e3a5020d","max":14826,"min":0,"orientation":"horizontal","style":"IPY_MODEL_1d0ce2e3f61f436281f0c6483f6128c2","value":14826}},"eceed2c9818845fe8d563070a69b63f8":{"model_module":"@jupyter-widgets/controls","model_name":"HTMLModel","model_module_version":"1.5.0","state":{"_dom_classes":[],"_model_module":"@jupyter-widgets/controls","_model_module_version":"1.5.0","_model_name":"HTMLModel","_view_count":null,"_view_module":"@jupyter-widgets/controls","_view_module_version":"1.5.0","_view_name":"HTMLView","description":"","description_tooltip":null,"layout":"IPY_MODEL_2902d2d16d944db9871551bdb91d70f9","placeholder":"​","style":"IPY_MODEL_6d27bff2389d42e8a653c553e110c611","value":" 14826/14826 [00:03&lt;00:00, 5104.97 examples/s]"}},"6f04711a6b19400ab5ca6dd3f8c2129c":{"model_module":"@jupyter-widgets/base","model_name":"LayoutModel","model_module_version":"1.2.0","state":{"_model_module":"@jupyter-widgets/base","_model_module_version":"1.2.0","_model_name":"LayoutModel","_view_count":null,"_view_module":"@jupyter-widgets/base","_view_module_version":"1.2.0","_view_name":"LayoutView","align_content":null,"align_items":null,"align_self":null,"border":null,"bottom":null,"display":null,"flex":null,"flex_flow":null,"grid_area":null,"grid_auto_columns":null,"grid_auto_flow":null,"grid_auto_rows":null,"grid_column":null,"grid_gap":null,"grid_row":null,"grid_template_areas":null,"grid_template_columns":null,"grid_template_rows":null,"height":null,"justify_content":null,"justify_items":null,"left":null,"margin":null,"max_height":null,"max_width":null,"min_height":null,"min_width":null,"object_fit":null,"object_position":null,"order":null,"overflow":null,"overflow_x":null,"overflow_y":null,"padding":null,"right":null,"top":null,"visibility":null,"width":null}},"508b002475bb42c4abe04bcc2eb60cce":{"model_module":"@jupyter-widgets/base","model_name":"LayoutModel","model_module_version":"1.2.0","state":{"_model_module":"@jupyter-widgets/base","_model_module_version":"1.2.0","_model_name":"LayoutModel","_view_count":null,"_view_module":"@jupyter-widgets/base","_view_module_version":"1.2.0","_view_name":"LayoutView","align_content":null,"align_items":null,"align_self":null,"border":null,"bottom":null,"display":null,"flex":null,"flex_flow":null,"grid_area":null,"grid_auto_columns":null,"grid_auto_flow":null,"grid_auto_rows":null,"grid_column":null,"grid_gap":null,"grid_row":null,"grid_template_areas":null,"grid_template_columns":null,"grid_template_rows":null,"height":null,"justify_content":null,"justify_items":null,"left":null,"margin":null,"max_height":null,"max_width":null,"min_height":null,"min_width":null,"object_fit":null,"object_position":null,"order":null,"overflow":null,"overflow_x":null,"overflow_y":null,"padding":null,"right":null,"top":null,"visibility":null,"width":null}},"0808ff54727c49448ef764c258047005":{"model_module":"@jupyter-widgets/controls","model_name":"DescriptionStyleModel","model_module_version":"1.5.0","state":{"_model_module":"@jupyter-widgets/controls","_model_module_version":"1.5.0","_model_name":"DescriptionStyleModel","_view_count":null,"_view_module":"@jupyter-widgets/base","_view_module_version":"1.2.0","_view_name":"StyleView","description_width":""}},"c2d7dd7e08c5418f9cf46a74e3a5020d":{"model_module":"@jupyter-widgets/base","model_name":"LayoutModel","model_module_version":"1.2.0","state":{"_model_module":"@jupyter-widgets/base","_model_module_version":"1.2.0","_model_name":"LayoutModel","_view_count":null,"_view_module":"@jupyter-widgets/base","_view_module_version":"1.2.0","_view_name":"LayoutView","align_content":null,"align_items":null,"align_self":null,"border":null,"bottom":null,"display":null,"flex":null,"flex_flow":null,"grid_area":null,"grid_auto_columns":null,"grid_auto_flow":null,"grid_auto_rows":null,"grid_column":null,"grid_gap":null,"grid_row":null,"grid_template_areas":null,"grid_template_columns":null,"grid_template_rows":null,"height":null,"justify_content":null,"justify_items":null,"left":null,"margin":null,"max_height":null,"max_width":null,"min_height":null,"min_width":null,"object_fit":null,"object_position":null,"order":null,"overflow":null,"overflow_x":null,"overflow_y":null,"padding":null,"right":null,"top":null,"visibility":null,"width":null}},"1d0ce2e3f61f436281f0c6483f6128c2":{"model_module":"@jupyter-widgets/controls","model_name":"ProgressStyleModel","model_module_version":"1.5.0","state":{"_model_module":"@jupyter-widgets/controls","_model_module_version":"1.5.0","_model_name":"ProgressStyleModel","_view_count":null,"_view_module":"@jupyter-widgets/base","_view_module_version":"1.2.0","_view_name":"StyleView","bar_color":null,"description_width":""}},"2902d2d16d944db9871551bdb91d70f9":{"model_module":"@jupyter-widgets/base","model_name":"LayoutModel","model_module_version":"1.2.0","state":{"_model_module":"@jupyter-widgets/base","_model_module_version":"1.2.0","_model_name":"LayoutModel","_view_count":null,"_view_module":"@jupyter-widgets/base","_view_module_version":"1.2.0","_view_name":"LayoutView","align_content":null,"align_items":null,"align_self":null,"border":null,"bottom":null,"display":null,"flex":null,"flex_flow":null,"grid_area":null,"grid_auto_columns":null,"grid_auto_flow":null,"grid_auto_rows":null,"grid_column":null,"grid_gap":null,"grid_row":null,"grid_template_areas":null,"grid_template_columns":null,"grid_template_rows":null,"height":null,"justify_content":null,"justify_items":null,"left":null,"margin":null,"max_height":null,"max_width":null,"min_height":null,"min_width":null,"object_fit":null,"object_position":null,"order":null,"overflow":null,"overflow_x":null,"overflow_y":null,"padding":null,"right":null,"top":null,"visibility":null,"width":null}},"6d27bff2389d42e8a653c553e110c611":{"model_module":"@jupyter-widgets/controls","model_name":"DescriptionStyleModel","model_module_version":"1.5.0","state":{"_model_module":"@jupyter-widgets/controls","_model_module_version":"1.5.0","_model_name":"DescriptionStyleModel","_view_count":null,"_view_module":"@jupyter-widgets/base","_view_module_version":"1.2.0","_view_name":"StyleView","description_width":""}},"ebf55ea667464296a152cdd5d850e55a":{"model_module":"@jupyter-widgets/controls","model_name":"HBoxModel","model_module_version":"1.5.0","state":{"_dom_classes":[],"_model_module":"@jupyter-widgets/controls","_model_module_version":"1.5.0","_model_name":"HBoxModel","_view_count":null,"_view_module":"@jupyter-widgets/controls","_view_module_version":"1.5.0","_view_name":"HBoxView","box_style":"","children":["IPY_MODEL_c108eb212aca49b99bcb9677935d95b9","IPY_MODEL_9edacd61ee5c454591e7ffd0da80dd01","IPY_MODEL_9c390d83ac924750a76737a982009a1d"],"layout":"IPY_MODEL_b093ea5916c64561aa35498e6575a763"}},"c108eb212aca49b99bcb9677935d95b9":{"model_module":"@jupyter-widgets/controls","model_name":"HTMLModel","model_module_version":"1.5.0","state":{"_dom_classes":[],"_model_module":"@jupyter-widgets/controls","_model_module_version":"1.5.0","_model_name":"HTMLModel","_view_count":null,"_view_module":"@jupyter-widgets/controls","_view_module_version":"1.5.0","_view_name":"HTMLView","description":"","description_tooltip":null,"layout":"IPY_MODEL_2ffbac5ae541420b98b1472b0ed4f52b","placeholder":"​","style":"IPY_MODEL_3e2304b6a0674735aa8519048680bc85","value":"Map: 100%"}},"9edacd61ee5c454591e7ffd0da80dd01":{"model_module":"@jupyter-widgets/controls","model_name":"FloatProgressModel","model_module_version":"1.5.0","state":{"_dom_classes":[],"_model_module":"@jupyter-widgets/controls","_model_module_version":"1.5.0","_model_name":"FloatProgressModel","_view_count":null,"_view_module":"@jupyter-widgets/controls","_view_module_version":"1.5.0","_view_name":"ProgressView","bar_style":"success","description":"","description_tooltip":null,"layout":"IPY_MODEL_75620b2505324ba9b18fc847f7149e88","max":1909,"min":0,"orientation":"horizontal","style":"IPY_MODEL_c84bbfa509ee4e999ea7280050a0117e","value":1909}},"9c390d83ac924750a76737a982009a1d":{"model_module":"@jupyter-widgets/controls","model_name":"HTMLModel","model_module_version":"1.5.0","state":{"_dom_classes":[],"_model_module":"@jupyter-widgets/controls","_model_module_version":"1.5.0","_model_name":"HTMLModel","_view_count":null,"_view_module":"@jupyter-widgets/controls","_view_module_version":"1.5.0","_view_name":"HTMLView","description":"","description_tooltip":null,"layout":"IPY_MODEL_ab96d7b23c604a8a96ca670686bfc033","placeholder":"​","style":"IPY_MODEL_3a7bcf4bd4c241ab95c1b0df8109c07f","value":" 1909/1909 [00:00&lt;00:00, 8236.00 examples/s]"}},"b093ea5916c64561aa35498e6575a763":{"model_module":"@jupyter-widgets/base","model_name":"LayoutModel","model_module_version":"1.2.0","state":{"_model_module":"@jupyter-widgets/base","_model_module_version":"1.2.0","_model_name":"LayoutModel","_view_count":null,"_view_module":"@jupyter-widgets/base","_view_module_version":"1.2.0","_view_name":"LayoutView","align_content":null,"align_items":null,"align_self":null,"border":null,"bottom":null,"display":null,"flex":null,"flex_flow":null,"grid_area":null,"grid_auto_columns":null,"grid_auto_flow":null,"grid_auto_rows":null,"grid_column":null,"grid_gap":null,"grid_row":null,"grid_template_areas":null,"grid_template_columns":null,"grid_template_rows":null,"height":null,"justify_content":null,"justify_items":null,"left":null,"margin":null,"max_height":null,"max_width":null,"min_height":null,"min_width":null,"object_fit":null,"object_position":null,"order":null,"overflow":null,"overflow_x":null,"overflow_y":null,"padding":null,"right":null,"top":null,"visibility":null,"width":null}},"2ffbac5ae541420b98b1472b0ed4f52b":{"model_module":"@jupyter-widgets/base","model_name":"LayoutModel","model_module_version":"1.2.0","state":{"_model_module":"@jupyter-widgets/base","_model_module_version":"1.2.0","_model_name":"LayoutModel","_view_count":null,"_view_module":"@jupyter-widgets/base","_view_module_version":"1.2.0","_view_name":"LayoutView","align_content":null,"align_items":null,"align_self":null,"border":null,"bottom":null,"display":null,"flex":null,"flex_flow":null,"grid_area":null,"grid_auto_columns":null,"grid_auto_flow":null,"grid_auto_rows":null,"grid_column":null,"grid_gap":null,"grid_row":null,"grid_template_areas":null,"grid_template_columns":null,"grid_template_rows":null,"height":null,"justify_content":null,"justify_items":null,"left":null,"margin":null,"max_height":null,"max_width":null,"min_height":null,"min_width":null,"object_fit":null,"object_position":null,"order":null,"overflow":null,"overflow_x":null,"overflow_y":null,"padding":null,"right":null,"top":null,"visibility":null,"width":null}},"3e2304b6a0674735aa8519048680bc85":{"model_module":"@jupyter-widgets/controls","model_name":"DescriptionStyleModel","model_module_version":"1.5.0","state":{"_model_module":"@jupyter-widgets/controls","_model_module_version":"1.5.0","_model_name":"DescriptionStyleModel","_view_count":null,"_view_module":"@jupyter-widgets/base","_view_module_version":"1.2.0","_view_name":"StyleView","description_width":""}},"75620b2505324ba9b18fc847f7149e88":{"model_module":"@jupyter-widgets/base","model_name":"LayoutModel","model_module_version":"1.2.0","state":{"_model_module":"@jupyter-widgets/base","_model_module_version":"1.2.0","_model_name":"LayoutModel","_view_count":null,"_view_module":"@jupyter-widgets/base","_view_module_version":"1.2.0","_view_name":"LayoutView","align_content":null,"align_items":null,"align_self":null,"border":null,"bottom":null,"display":null,"flex":null,"flex_flow":null,"grid_area":null,"grid_auto_columns":null,"grid_auto_flow":null,"grid_auto_rows":null,"grid_column":null,"grid_gap":null,"grid_row":null,"grid_template_areas":null,"grid_template_columns":null,"grid_template_rows":null,"height":null,"justify_content":null,"justify_items":null,"left":null,"margin":null,"max_height":null,"max_width":null,"min_height":null,"min_width":null,"object_fit":null,"object_position":null,"order":null,"overflow":null,"overflow_x":null,"overflow_y":null,"padding":null,"right":null,"top":null,"visibility":null,"width":null}},"c84bbfa509ee4e999ea7280050a0117e":{"model_module":"@jupyter-widgets/controls","model_name":"ProgressStyleModel","model_module_version":"1.5.0","state":{"_model_module":"@jupyter-widgets/controls","_model_module_version":"1.5.0","_model_name":"ProgressStyleModel","_view_count":null,"_view_module":"@jupyter-widgets/base","_view_module_version":"1.2.0","_view_name":"StyleView","bar_color":null,"description_width":""}},"ab96d7b23c604a8a96ca670686bfc033":{"model_module":"@jupyter-widgets/base","model_name":"LayoutModel","model_module_version":"1.2.0","state":{"_model_module":"@jupyter-widgets/base","_model_module_version":"1.2.0","_model_name":"LayoutModel","_view_count":null,"_view_module":"@jupyter-widgets/base","_view_module_version":"1.2.0","_view_name":"LayoutView","align_content":null,"align_items":null,"align_self":null,"border":null,"bottom":null,"display":null,"flex":null,"flex_flow":null,"grid_area":null,"grid_auto_columns":null,"grid_auto_flow":null,"grid_auto_rows":null,"grid_column":null,"grid_gap":null,"grid_row":null,"grid_template_areas":null,"grid_template_columns":null,"grid_template_rows":null,"height":null,"justify_content":null,"justify_items":null,"left":null,"margin":null,"max_height":null,"max_width":null,"min_height":null,"min_width":null,"object_fit":null,"object_position":null,"order":null,"overflow":null,"overflow_x":null,"overflow_y":null,"padding":null,"right":null,"top":null,"visibility":null,"width":null}},"3a7bcf4bd4c241ab95c1b0df8109c07f":{"model_module":"@jupyter-widgets/controls","model_name":"DescriptionStyleModel","model_module_version":"1.5.0","state":{"_model_module":"@jupyter-widgets/controls","_model_module_version":"1.5.0","_model_name":"DescriptionStyleModel","_view_count":null,"_view_module":"@jupyter-widgets/base","_view_module_version":"1.2.0","_view_name":"StyleView","description_width":""}},"217d268634db44ab83137a13e42eaace":{"model_module":"@jupyter-widgets/controls","model_name":"HBoxModel","model_module_version":"1.5.0","state":{"_dom_classes":[],"_model_module":"@jupyter-widgets/controls","_model_module_version":"1.5.0","_model_name":"HBoxModel","_view_count":null,"_view_module":"@jupyter-widgets/controls","_view_module_version":"1.5.0","_view_name":"HBoxView","box_style":"","children":["IPY_MODEL_018f8980ff964e81971854e8654219a9","IPY_MODEL_3dcac4fa183a4790b4a0bca389c99c81","IPY_MODEL_748de86ab13343f896a3a2fd80198aa4"],"layout":"IPY_MODEL_145abfd8eb304bb284ecba3494782796"}},"018f8980ff964e81971854e8654219a9":{"model_module":"@jupyter-widgets/controls","model_name":"HTMLModel","model_module_version":"1.5.0","state":{"_dom_classes":[],"_model_module":"@jupyter-widgets/controls","_model_module_version":"1.5.0","_model_name":"HTMLModel","_view_count":null,"_view_module":"@jupyter-widgets/controls","_view_module_version":"1.5.0","_view_name":"HTMLView","description":"","description_tooltip":null,"layout":"IPY_MODEL_4002e920f4bf460ab006a4ee88d96a4e","placeholder":"​","style":"IPY_MODEL_e564290edfc449118b72a9c51e560ddc","value":"model.safetensors: 100%"}},"3dcac4fa183a4790b4a0bca389c99c81":{"model_module":"@jupyter-widgets/controls","model_name":"FloatProgressModel","model_module_version":"1.5.0","state":{"_dom_classes":[],"_model_module":"@jupyter-widgets/controls","_model_module_version":"1.5.0","_model_name":"FloatProgressModel","_view_count":null,"_view_module":"@jupyter-widgets/controls","_view_module_version":"1.5.0","_view_name":"ProgressView","bar_style":"success","description":"","description_tooltip":null,"layout":"IPY_MODEL_5c38110b16f44210a9a0eb24df647e56","max":267832558,"min":0,"orientation":"horizontal","style":"IPY_MODEL_e532949be9c14c85bc20971c1028d28d","value":267832558}},"748de86ab13343f896a3a2fd80198aa4":{"model_module":"@jupyter-widgets/controls","model_name":"HTMLModel","model_module_version":"1.5.0","state":{"_dom_classes":[],"_model_module":"@jupyter-widgets/controls","_model_module_version":"1.5.0","_model_name":"HTMLModel","_view_count":null,"_view_module":"@jupyter-widgets/controls","_view_module_version":"1.5.0","_view_name":"HTMLView","description":"","description_tooltip":null,"layout":"IPY_MODEL_521952f0861443178e6d1071619561ff","placeholder":"​","style":"IPY_MODEL_b7a1d2abbe624168b10e2f6ed31a8bda","value":" 268M/268M [00:07&lt;00:00, 28.2MB/s]"}},"145abfd8eb304bb284ecba3494782796":{"model_module":"@jupyter-widgets/base","model_name":"LayoutModel","model_module_version":"1.2.0","state":{"_model_module":"@jupyter-widgets/base","_model_module_version":"1.2.0","_model_name":"LayoutModel","_view_count":null,"_view_module":"@jupyter-widgets/base","_view_module_version":"1.2.0","_view_name":"LayoutView","align_content":null,"align_items":null,"align_self":null,"border":null,"bottom":null,"display":null,"flex":null,"flex_flow":null,"grid_area":null,"grid_auto_columns":null,"grid_auto_flow":null,"grid_auto_rows":null,"grid_column":null,"grid_gap":null,"grid_row":null,"grid_template_areas":null,"grid_template_columns":null,"grid_template_rows":null,"height":null,"justify_content":null,"justify_items":null,"left":null,"margin":null,"max_height":null,"max_width":null,"min_height":null,"min_width":null,"object_fit":null,"object_position":null,"order":null,"overflow":null,"overflow_x":null,"overflow_y":null,"padding":null,"right":null,"top":null,"visibility":null,"width":null}},"4002e920f4bf460ab006a4ee88d96a4e":{"model_module":"@jupyter-widgets/base","model_name":"LayoutModel","model_module_version":"1.2.0","state":{"_model_module":"@jupyter-widgets/base","_model_module_version":"1.2.0","_model_name":"LayoutModel","_view_count":null,"_view_module":"@jupyter-widgets/base","_view_module_version":"1.2.0","_view_name":"LayoutView","align_content":null,"align_items":null,"align_self":null,"border":null,"bottom":null,"display":null,"flex":null,"flex_flow":null,"grid_area":null,"grid_auto_columns":null,"grid_auto_flow":null,"grid_auto_rows":null,"grid_column":null,"grid_gap":null,"grid_row":null,"grid_template_areas":null,"grid_template_columns":null,"grid_template_rows":null,"height":null,"justify_content":null,"justify_items":null,"left":null,"margin":null,"max_height":null,"max_width":null,"min_height":null,"min_width":null,"object_fit":null,"object_position":null,"order":null,"overflow":null,"overflow_x":null,"overflow_y":null,"padding":null,"right":null,"top":null,"visibility":null,"width":null}},"e564290edfc449118b72a9c51e560ddc":{"model_module":"@jupyter-widgets/controls","model_name":"DescriptionStyleModel","model_module_version":"1.5.0","state":{"_model_module":"@jupyter-widgets/controls","_model_module_version":"1.5.0","_model_name":"DescriptionStyleModel","_view_count":null,"_view_module":"@jupyter-widgets/base","_view_module_version":"1.2.0","_view_name":"StyleView","description_width":""}},"5c38110b16f44210a9a0eb24df647e56":{"model_module":"@jupyter-widgets/base","model_name":"LayoutModel","model_module_version":"1.2.0","state":{"_model_module":"@jupyter-widgets/base","_model_module_version":"1.2.0","_model_name":"LayoutModel","_view_count":null,"_view_module":"@jupyter-widgets/base","_view_module_version":"1.2.0","_view_name":"LayoutView","align_content":null,"align_items":null,"align_self":null,"border":null,"bottom":null,"display":null,"flex":null,"flex_flow":null,"grid_area":null,"grid_auto_columns":null,"grid_auto_flow":null,"grid_auto_rows":null,"grid_column":null,"grid_gap":null,"grid_row":null,"grid_template_areas":null,"grid_template_columns":null,"grid_template_rows":null,"height":null,"justify_content":null,"justify_items":null,"left":null,"margin":null,"max_height":null,"max_width":null,"min_height":null,"min_width":null,"object_fit":null,"object_position":null,"order":null,"overflow":null,"overflow_x":null,"overflow_y":null,"padding":null,"right":null,"top":null,"visibility":null,"width":null}},"e532949be9c14c85bc20971c1028d28d":{"model_module":"@jupyter-widgets/controls","model_name":"ProgressStyleModel","model_module_version":"1.5.0","state":{"_model_module":"@jupyter-widgets/controls","_model_module_version":"1.5.0","_model_name":"ProgressStyleModel","_view_count":null,"_view_module":"@jupyter-widgets/base","_view_module_version":"1.2.0","_view_name":"StyleView","bar_color":null,"description_width":""}},"521952f0861443178e6d1071619561ff":{"model_module":"@jupyter-widgets/base","model_name":"LayoutModel","model_module_version":"1.2.0","state":{"_model_module":"@jupyter-widgets/base","_model_module_version":"1.2.0","_model_name":"LayoutModel","_view_count":null,"_view_module":"@jupyter-widgets/base","_view_module_version":"1.2.0","_view_name":"LayoutView","align_content":null,"align_items":null,"align_self":null,"border":null,"bottom":null,"display":null,"flex":null,"flex_flow":null,"grid_area":null,"grid_auto_columns":null,"grid_auto_flow":null,"grid_auto_rows":null,"grid_column":null,"grid_gap":null,"grid_row":null,"grid_template_areas":null,"grid_template_columns":null,"grid_template_rows":null,"height":null,"justify_content":null,"justify_items":null,"left":null,"margin":null,"max_height":null,"max_width":null,"min_height":null,"min_width":null,"object_fit":null,"object_position":null,"order":null,"overflow":null,"overflow_x":null,"overflow_y":null,"padding":null,"right":null,"top":null,"visibility":null,"width":null}},"b7a1d2abbe624168b10e2f6ed31a8bda":{"model_module":"@jupyter-widgets/controls","model_name":"DescriptionStyleModel","model_module_version":"1.5.0","state":{"_model_module":"@jupyter-widgets/controls","_model_module_version":"1.5.0","_model_name":"DescriptionStyleModel","_view_count":null,"_view_module":"@jupyter-widgets/base","_view_module_version":"1.2.0","_view_name":"StyleView","description_width":""}}}}},"nbformat":4,"nbformat_minor":5}
>>>>>>> 950d1ba37a0b0283ad443bc29eea2ef7e2f62042
